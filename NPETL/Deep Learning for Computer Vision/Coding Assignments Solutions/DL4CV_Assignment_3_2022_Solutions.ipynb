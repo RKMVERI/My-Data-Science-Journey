{
  "nbformat": 4,
  "nbformat_minor": 0,
  "metadata": {
    "colab": {
      "name": "DL4CV-Assignment-3-2022-Solutions.ipynb",
      "provenance": [],
      "collapsed_sections": []
    },
    "kernelspec": {
      "name": "python3",
      "display_name": "Python 3"
    },
    "language_info": {
      "name": "python"
    }
  },
  "cells": [
    {
      "cell_type": "code",
      "source": [
        "# Imports\n",
        "import cv2\n",
        "import numpy as np\n",
        "import matplotlib.pyplot as plt\n",
        "from PIL import Image\n",
        "from sklearn.cluster import KMeans\n",
        "from sklearn.neighbors import NearestNeighbors\n",
        "import glob\n",
        "import math\n",
        "from numpy.lib.shape_base import split\n",
        "# %matplotlib inline uncomment this line if you're running this notebook on your local PC"
      ],
      "metadata": {
        "id": "a5uAjD1-jJYI"
      },
      "execution_count": 1,
      "outputs": []
    },
    {
      "cell_type": "markdown",
      "source": [
        "### Question 1: Affine transformations\n",
        "\n",
        "Apply the following chain of transformations on the generated coordinates:\n",
        "\n",
        "1. Rotation by 135 degrees.\n",
        "2. Translation of x coordinate by -2 units and y coordinate by 2 units.\n",
        "3. Scaling by 2 units.\n",
        "4. Rotation by 135 degrees.\n",
        "\n",
        "\n",
        "![download.png](data:image/png;base64,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)\n",
        "\n",
        "The following figure represents 5 different set of points(each in different color) plotted on a cartesian plane. \\\\\n",
        "One of them is the correct output that will be produced when we apply the transformations mentioned above to the given input. \\\\\n",
        "Which of the following is the correct output which is produced after applying these transformations?\n",
        "\n",
        "1. A\n",
        "2. B\n",
        "3. C\n",
        "4. D\n",
        "5. E\n",
        "\n",
        "Answer (1)"
      ],
      "metadata": {
        "id": "Ib8dpEtS6xmU"
      }
    },
    {
      "cell_type": "code",
      "source": [
        "# DO NOT CHANGE THIS CODE\n",
        "np.random.seed(10)"
      ],
      "metadata": {
        "id": "hNzANd_rjfnh"
      },
      "execution_count": 2,
      "outputs": []
    },
    {
      "cell_type": "code",
      "source": [
        "#defining two functions to build a grid and display it in a plot\n",
        "def get_grid(x, y, homogenous=False):\n",
        "    coords = np.indices((x, y)).reshape(2, -1)\n",
        "    return np.vstack((coords, np.ones(coords.shape[1]))).astype(int) if homogenous else coords\n",
        "\n",
        "def grid_plotter(points, labels):\n",
        "    markers = ['o', 'x', 's', '^', 'p', 'v']\n",
        "    fig, ax = plt.subplots(figsize=(8,6))\n",
        "    for i, p in enumerate(points):\n",
        "        x, y = p[0], p[1]\n",
        "        ax.scatter(x, y, label=labels[i], marker=markers[i], alpha=0.8, s=100)\n",
        "    ax.legend(loc='lower right')\n",
        "    ax.set_xlim(-5, 5)\n",
        "    ax.set_ylim(-5, 5)\n",
        "\n",
        "    ax.grid(True)\n",
        "    plt.show()\n",
        "    \n",
        "#function to display the plotted graph\n",
        "def show_image(image):\n",
        "    fig, ax = plt.subplots(figsize=(8,6))\n",
        "    ax.imshow(image)\n",
        "    plt.show()\n",
        "\n",
        "#generated coordinates\n",
        "coords = get_grid(2, 2, homogenous=True)\n",
        "\n",
        "# The output of the grid plotter shows how the sample points are scattered in the cartesian plane\n",
        "grid_plotter([coords],\n",
        "             labels=['original'])"
      ],
      "metadata": {
        "colab": {
          "base_uri": "https://localhost:8080/",
          "height": 374
        },
        "id": "rWaxj45rjhNe",
        "outputId": "2667a754-f7be-425b-d344-9fd492a165c9"
      },
      "execution_count": 3,
      "outputs": [
        {
          "output_type": "display_data",
          "data": {
            "text/plain": [
              "<Figure size 576x432 with 1 Axes>"
            ],
            "image/png": "[encoded data removed]"
          },
          "metadata": {
            "needs_background": "light"
          }
        }
      ]
    },
    {
      "cell_type": "code",
      "source": [
        "### YOUR CODE STARTS HERE\n",
        "\n",
        "# Defining a function to rotate the given set of points\n",
        "def get_rotation(angle):\n",
        "    '''\n",
        "    Input arguments:\n",
        "    - angle : The angle with which the points should be rotated\n",
        "\n",
        "    Outputs:\n",
        "    - rotation matrix : A rotation matrix (numpy array) with the given input angle\n",
        "        \n",
        "    '''\n",
        "\n",
        "    #convert the angle input to radians\n",
        "    angle = np.radians(angle)\n",
        "\n",
        "    # construct a rotation matrix with the given angle in the form of a numpy array and return it\n",
        "    # Hint: recall lecture 1 of week 3 to construct the matrix\n",
        "    return np.array([\n",
        "        [np.cos(angle), -np.sin(angle), 0],\n",
        "        [np.sin(angle),  np.cos(angle), 0],\n",
        "        [0, 0, 1]\n",
        "    ])\n",
        "\n",
        "# Defining a function to translate the given set of points\n",
        "def get_translation(tx, ty):\n",
        "    '''\n",
        "    Input arguments:\n",
        "    - tx, ty : Units by which the x and y coordinates should be translated\n",
        "\n",
        "    Outputs:\n",
        "    - translation matrix : A translation matrix (numpy array) with the given inputs\n",
        "        \n",
        "    '''\n",
        "    # construct a translation matrix with the given input units in the form of a numpy array and return it\n",
        "    # Hint: recall lecture 1 of week 3 to construct the matrix\n",
        "    return np.array([\n",
        "        [1, 0, tx],\n",
        "        [0, 1, ty],\n",
        "        [0, 0, 1]\n",
        "    ])\n",
        "\n",
        "def get_scale(s):\n",
        "    '''\n",
        "    Input arguments:\n",
        "    - s : Amount by which the coordinates should be scaled by\n",
        "\n",
        "    Outputs:\n",
        "    - scaling matrix : A scaling matrix (numpy array) with the given inputs\n",
        "        \n",
        "    '''\n",
        "    # construct a scaling matrix with the given input units in the form of a numpy array and return it\n",
        "    # Hint: recall lecture 1 of week 3 to construct the matrix\n",
        "    return np.array([\n",
        "        [s, 0, 0],\n",
        "        [0, s, 0],\n",
        "        [0, 0, 1]\n",
        "    ])\n",
        "\n",
        "### YOUR CODE ENDS HERE\n"
      ],
      "metadata": {
        "id": "sF4w2cgPlfMb"
      },
      "execution_count": 4,
      "outputs": []
    },
    {
      "cell_type": "code",
      "source": [
        "# Creating sample rotation, translation and scaling matrices\n",
        "R1 = get_rotation(135)\n",
        "T1 = get_translation(-2, 2)\n",
        "S1 = get_scale(2)\n",
        "\n",
        "### YOUR CODE STARTS HERE\n",
        "\n",
        "# Apply the following transformation\n",
        "# Rotation -> Translation -> Scaling -> Rotation\n",
        "coords1 = R1 @ T1 @ S1 @ R1 @ coords\n",
        "\n",
        "### YOUR CODE ENDS HERE\n",
        "\n"
      ],
      "metadata": {
        "id": "VTXpg3g_xLWL"
      },
      "execution_count": 5,
      "outputs": []
    },
    {
      "cell_type": "code",
      "source": [
        "##code to generate the plot given in the image\n",
        "coords1 = R1 @ T1 @ S1 @ R1 @ coords    # Desired Output\n",
        "coords2 = R1 @ R1 @ S1 @ R1 @ coords\n",
        "coords3 = T1 @ R1 @ T1 @ coords\n",
        "coords4 = T1 @ T1 @ R1 @ R1 @ coords\n",
        "coords5 = T1 @ R1 @ S1 @ R1 @ coords\n",
        "\n",
        "grid_plotter([coords1, coords2, coords3, coords4, coords5],\n",
        "             labels=['A', 'B', 'C', 'D', 'E'])"
      ],
      "metadata": {
        "colab": {
          "base_uri": "https://localhost:8080/",
          "height": 374
        },
        "id": "mMeDUACspPD3",
        "outputId": "56dbaab9-da69-489b-f005-f98cd381dff0"
      },
      "execution_count": 6,
      "outputs": [
        {
          "output_type": "display_data",
          "data": {
            "text/plain": [
              "<Figure size 576x432 with 1 Axes>"
            ],
            "image/png": "[encoded data removed]"
          },
          "metadata": {
            "needs_background": "light"
          }
        }
      ]
    },
    {
      "cell_type": "markdown",
      "source": [
        "### Question 2: Distance between 2 transformed points\n",
        "Apply the transformations as mentioned in the comments of the next code block to coords and calculate the mean of the euclidean distances between the points.\n",
        "\n",
        "What is the floor value of the mean?\n",
        "\n",
        "1. 15\n",
        "2. 5\n",
        "3. 17\n",
        "4. 9\n",
        "\n",
        "Answer (2)"
      ],
      "metadata": {
        "id": "sYymcxlNU9hL"
      }
    },
    {
      "cell_type": "code",
      "source": [
        "### YOUR CODE STARTS HERE\n",
        "\n",
        "#apply the following chain of transformations R1 -> S1 -> T1 to coords and name it coords_1\n",
        "coords_1 = R1 @ S1 @ T1 @ coords\n",
        "\n",
        "#apply the following chain of transformations T1 -> R1 -> T1 to coords and name it coords_2\n",
        "coords_2 = T1 @ R1 @ T1 @ coords\n",
        "\n",
        "#split them to individual points, there are 4 different points in the form of (xi, yi, zi) in each of the\n",
        "#transformed coordinates as calculated above\n",
        "split_1 = np.split(coords_1, coords_1.shape[1], axis=1)\n",
        "split_2 = np.split(coords_2, coords_2.shape[1], axis=1)\n",
        "\n",
        "#calculate the euclidean distances between each of those points in coords_1 and coords_2\n",
        "# Hint: distance is d(point1 of coords_1, point1_coords2)\n",
        "# Take the mean of the distances and at last take the floor of the value and mark your answer\n",
        "\n",
        "#calculating the euclidean distances in a pair wise fashion\n",
        "dist = []\n",
        "for i in range(0, len(split_1)):\n",
        "  dist.append(np.linalg.norm(split_1[i] - split_2[i]))\n",
        "\n",
        "#calculating the mean and taking the floor value of it\n",
        "mean_value = np.mean(np.array(dist))\n",
        "np.floor(mean_value)\n",
        "\n",
        "### YOUR CODE ENDS HERE"
      ],
      "metadata": {
        "colab": {
          "base_uri": "https://localhost:8080/"
        },
        "id": "8ZQw4BYrQ96i",
        "outputId": "427551be-6254-42fc-c23a-b35da10bd8cb"
      },
      "execution_count": 7,
      "outputs": [
        {
          "output_type": "execute_result",
          "data": {
            "text/plain": [
              "5.0"
            ]
          },
          "metadata": {},
          "execution_count": 7
        }
      ]
    },
    {
      "cell_type": "markdown",
      "source": [
        "### Question 3: Bag of visual words (BOVW)\n",
        "\n",
        "Follow the below mentioned steps:\\\n",
        "Step 1. Given a folder of images, use SIFT to extract their feature descriptors.\\\n",
        "Step 2. Perform k-means clustering on the extracted descriptors.\\\n",
        "Step 3. Create histograms by taking help of the clusters calculated in the previous step.\\\n",
        "Step 4. Estimate 5 nearest neighbours to a given image and add the distances of those 5 neighbours.\n",
        "\n",
        "\n",
        "What is the range of the sum as calculated in step 4?\n",
        "\n",
        "1. 0 - 200\n",
        "2. 200 - 400\n",
        "3. 400 - 600\n",
        "4. 600 - 800\n",
        "\n",
        "Answer (2)"
      ],
      "metadata": {
        "id": "SSdSs3xo-a39"
      }
    },
    {
      "cell_type": "code",
      "source": [
        "# defining a feature extractor that we want to use\n",
        "# in this case, we will use SIFT\n",
        "extractor = cv2.xfeatures2d.SIFT_create()\n",
        "\n",
        "# defining a function to extract the keypoints and descriptors for a given image \n",
        "def features(image, extractor):\n",
        "    keypoints, descriptors = extractor.detectAndCompute(image, None)\n",
        "    return keypoints, descriptors\n",
        "\n",
        "# implementing a histogram building function which takens in the clustering algorithm \n",
        "# and returns a histogram\n",
        "def build_histogram(descriptor, cluster_alg):\n",
        "\n",
        "    # defining a place holder for the histogram, with the number of bins being \n",
        "    # equal to the number of cluster centres\n",
        "    histogram = np.zeros(len(cluster_alg.cluster_centers_))\n",
        "    cluster_result =  cluster_alg.predict(descriptor)\n",
        "\n",
        "    ### YOUR CODE STARTS HERE\n",
        "\n",
        "    # for all the centres that are returned in the above line,\n",
        "    # increase their bin value by 1 in the histogram array\n",
        "    for i in cluster_result:\n",
        "        histogram[i] += 1.0\n",
        "\n",
        "    ### YOUR CODE ENDS HERE\n",
        "    \n",
        "    return histogram\n",
        "\n",
        "def extract_descriptors(images, extractor):\n",
        "    #iterate over the list of images and extract descriptors\n",
        "    descriptor_list = []\n",
        "    for image in images:\n",
        "        \n",
        "        ### YOUR CODE STARTS HERE\n",
        "        # pass the image and the extractor to the features function\n",
        "        # defined in the above lines\n",
        "        keypoint, descriptor = features(image, extractor)\n",
        "\n",
        "        # append the descriptors to the descriptor_list\n",
        "        descriptor_list.append(descriptor)\n",
        "\n",
        "    # vertically stack all the elements of the list\n",
        "    # using np.vstack()\n",
        "    descriptors=descriptor_list[0]\n",
        "\n",
        "    for descriptor in descriptor_list[1:]:\n",
        "        descriptors=np.vstack((descriptors,descriptor))\n",
        "    \n",
        "        ### YOUR CODE ENDS HERE\n",
        "\n",
        "    descriptors_float = descriptors.astype(float)\n",
        "\n",
        "    return descriptors_float"
      ],
      "metadata": {
        "id": "qJEMNIiXgRWS"
      },
      "execution_count": 8,
      "outputs": []
    },
    {
      "cell_type": "code",
      "source": [
        "!unzip assignment3_content.zip"
      ],
      "metadata": {
        "colab": {
          "base_uri": "https://localhost:8080/"
        },
        "id": "d6EYyao9bJ_N",
        "outputId": "dd7711a5-f840-4b3e-f474-7b377163f6f5"
      },
      "execution_count": 9,
      "outputs": [
        {
          "output_type": "stream",
          "name": "stdout",
          "text": [
            "Archive:  assignment3_content.zip\n",
            "   creating: assignment3_content/\n",
            "   creating: assignment3_content/sample_images/\n",
            "  inflating: assignment3_content/sample_images/Black_Capped_Vireo_0020_797461.jpg  \n",
            "  inflating: assignment3_content/sample_images/Common_Tern_0027_150113.jpg  \n",
            "  inflating: assignment3_content/sample_images/Green_Tailed_Towhee_0027_154823.jpg  \n",
            "  inflating: assignment3_content/sample_images/Sage_Thrasher_0036_796444.jpg  \n",
            "  inflating: assignment3_content/sample_images/Song_Sparrow_0029_120989.jpg  \n",
            "  inflating: assignment3_content/sample_images/White_Pelican_0005_95916.jpg  \n",
            "  inflating: assignment3_content/sample_images/White_Pelican_0025_97604.jpg  \n",
            " extracting: assignment3_content/sample_images/White_Pelican_0053_96236.jpg  \n",
            "  inflating: assignment3_content/sample_images/Winter_Wren_0126_190342.jpg  \n",
            "  inflating: assignment3_content/sample_images/Worm_Eating_Warbler_0078_795532.jpg  \n",
            "  inflating: assignment3_content/White_Pelican_0072_96975.jpg  \n"
          ]
        }
      ]
    },
    {
      "cell_type": "code",
      "source": [
        "### YOUR CODE STARTS HERE\n",
        "\n",
        "#read all the images present in the sample images folder \n",
        "# and store them in an array\n",
        "#hint: read them using cv2.imread()\n",
        "filenames = [img for img in glob.glob(\"assignment3_content/sample_images/*.jpg\")]\n",
        "#filenames = [img for img in glob.glob(\"sample_images/*.jpg\")]\n",
        "\n",
        "print\n",
        "images = []\n",
        "for img in filenames:\n",
        "    n= cv2.imread(img)\n",
        "    # n = cv2.cvtColor(n, cv2.COLOR_BGR2GRAY)\n",
        "    images.append(n)\n",
        "\n",
        "### YOUR CODE ENDS HERE\n",
        "\n",
        "# extract all the descriptors using the extract_descriptors function\n",
        "descriptors_float = extract_descriptors(images, extractor)\n",
        "\n",
        "#use the kmeans clustering algorithm and cluster \n",
        "#the descriptors extracted in the above line\n",
        "kmeans = KMeans(n_clusters = 100, random_state=0)\n",
        "kmeans.fit(descriptors_float)\n",
        "\n",
        "\n",
        "histograms_images = []\n",
        "\n",
        "### YOUR CODE STARTS HERE\n",
        "\n",
        "# iterate over the images list and calculate\n",
        "# the histograms of the images and append to the\n",
        "# histograms_images list\n",
        "for image in images:\n",
        "    keypoint, descriptor = features(image, extractor)\n",
        "    descriptor = descriptor.astype(float)\n",
        "\n",
        "    if (descriptor is not None):\n",
        "        histogram = build_histogram(descriptor, kmeans)\n",
        "        \n",
        "        histograms_images.append(histogram)\n",
        "\n",
        "### YOUR CODE ENDS HERE\n"
      ],
      "metadata": {
        "id": "AY1rhZRPf9_7"
      },
      "execution_count": 10,
      "outputs": []
    },
    {
      "cell_type": "code",
      "source": [
        "# using the nearest neighbors algorithm \n",
        "neighbor = NearestNeighbors(n_neighbors = 5)\n",
        "neighbor.fit(histograms_images)\n",
        "\n",
        "\n",
        "data = cv2.imread('assignment3_content/White_Pelican_0072_96975.jpg')\n",
        "# data = cv2.imread('White_Pelican_0072_96975.jpg')\n",
        "\n",
        "\n",
        "# pass the data to the features function and \n",
        "# build the histogram for it using the build_histogram\n",
        "# function\n",
        "keypoint, descriptor = features(data, extractor)\n",
        "descriptor = descriptor.astype(float)\n",
        "histogram = build_histogram(descriptor, kmeans)\n",
        "\n",
        "# estimate the 5 nearest neighbors and get their distances\n",
        "dist, result = neighbor.kneighbors([histogram])\n",
        "\n",
        "### YOUR CODE STARTS HERE\n",
        "# sum the values in the dist array\n",
        "# mark the answer for the question 2 using the output\n",
        "np.sum(dist)\n",
        "\n",
        "### YOUR CODE ENDS HERE\n"
      ],
      "metadata": {
        "id": "OsOkTmGt20WI",
        "colab": {
          "base_uri": "https://localhost:8080/"
        },
        "outputId": "dfbb36b2-f296-4d6f-901a-3bf4f06b656b"
      },
      "execution_count": 11,
      "outputs": [
        {
          "output_type": "execute_result",
          "data": {
            "text/plain": [
              "341.8810812583283"
            ]
          },
          "metadata": {},
          "execution_count": 11
        }
      ]
    },
    {
      "cell_type": "markdown",
      "source": [
        "If you observe closely, the test image is a pelican but the nearest neighbors are not pelicans. Our method does not correctly identify the neighbors. This is the drawback of Bag of Visual Words. All the local features are encoded into a single code vector ignoring the position of the feature descriptors. This results in the loss of spatial information between words in the final code vector. Thus, to incorporate the spatial information into the final code vector, we can apply Spatial Pyramid Matching."
      ],
      "metadata": {
        "id": "8Q4z0JnvrRtT"
      }
    },
    {
      "cell_type": "markdown",
      "source": [
        "### Question 4: Spatial Pyramid Matching (optional)\n",
        "\n",
        "After completing the code blocks, answer the following question:\n",
        "\n",
        "\n",
        "What is the floor value of the mean of the result vector?\n"
      ],
      "metadata": {
        "id": "Y_VnVvAxwjlY"
      }
    },
    {
      "cell_type": "code",
      "source": [
        "#modifying the sift feature extractor \n",
        "def extract_denseSIFT(img):\n",
        "    #extracting the keypoints in the interval size of\n",
        "    # DSIFT_STEP_SIZE and computing the descriptors for those\n",
        "    # keypoints\n",
        "    DSIFT_STEP_SIZE = 2\n",
        "    sift = cv2.xfeatures2d.SIFT_create()\n",
        "    disft_step_size = DSIFT_STEP_SIZE\n",
        "    keypoints = [cv2.KeyPoint(x, y, disft_step_size)\n",
        "            for y in range(0, img.shape[0], disft_step_size)\n",
        "                for x in range(0, img.shape[1], disft_step_size)]\n",
        "\n",
        "    #computing the descriptors for the above extracted key points\n",
        "    descriptors = sift.compute(img, keypoints)[1]\n",
        "    return descriptors"
      ],
      "metadata": {
        "id": "g99xve04CPG7"
      },
      "execution_count": 12,
      "outputs": []
    },
    {
      "cell_type": "code",
      "source": [
        "# form histogram with Spatial Pyramid Matching upto level L with codebook kmeans and k codewords\n",
        "def getImageFeaturesSPM(L, img, kmeans):\n",
        "    W = img.shape[1]\n",
        "    H = img.shape[0]   \n",
        "    for l in range(L+1):\n",
        "        w_step = math.floor(W/(2**l))\n",
        "        h_step = math.floor(H/(2**l))\n",
        "        x, y = 0, 0\n",
        "        for i in range(1,2**l + 1):\n",
        "            x = 0\n",
        "            for j in range(1, 2**l + 1):  \n",
        "\n",
        "                ### YOUR CODE STARTS HERE\n",
        "                # Step 1. Select the region of y:y+h_step and x:x+w_step of the img\n",
        "                # Step 2. Extract descriptors for that region using the extract_denseSIFT funtion and convert it to float\n",
        "                # Step 3. Build histogram using the build_histogram function\n",
        "                # Step 4. Weigh the histogram using the 2**(l-L) value\n",
        "                # Step 5. increment x by x+w_step and y by y+h_step\n",
        "                image_scale = img[y:y+h_step, x:x+w_step]  \n",
        "                descriptor = extract_denseSIFT(img[y:y+h_step, x:x+w_step])                \n",
        "                descriptor = descriptor.astype(float)\n",
        "                histogram = build_histogram(descriptor, kmeans)\n",
        "                weight = 2**(l-L)\n",
        "                weighted_histogram = weight*histogram\n",
        "                x = x + w_step\n",
        "            y = y + h_step\n",
        "            ### YOUR CODE ENDS HERE\n",
        "            \n",
        "    return weighted_histogram\n",
        "\n",
        "\n",
        "#getting histograms of all the images in the \n",
        "# images list\n",
        "def getHistogramSPM(L, data, kmeans):    \n",
        "    x = []\n",
        "    for i in range(len(data)):        \n",
        "        hist = getImageFeaturesSPM(L, data[i], kmeans)        \n",
        "        x.append(hist)\n",
        "    return x\n",
        "\n",
        "#use the same trained kmeans algorithm that was used in the previous \n",
        "# question\n",
        "histograms_images_spm = getHistogramSPM(2, images, kmeans)\n",
        "\n",
        "# estimate the 5 nearest neighbors and get their distances\n",
        "neighbor = NearestNeighbors(n_neighbors = 5)\n",
        "neighbor.fit(histograms_images)\n",
        "\n",
        "data = cv2.imread('assignment3_content/White_Pelican_0072_96975.jpg')\n",
        "# pass the data to the features function and \n",
        "# build the histogram for it using the build_histogram\n",
        "# function\n",
        "keypoint, descriptor = features(data, extractor)\n",
        "descriptor = descriptor.astype(float)\n",
        "histogram = build_histogram(descriptor, kmeans)\n",
        "\n",
        "# estimate the 5 nearest neighbors and get their distances\n",
        "dist, result = neighbor.kneighbors([histogram])\n",
        "\n",
        "### YOUR CODE STARTS HERE\n",
        "# calculate the mean of the result array and take floor of it\n",
        "# mark the answer for the question 3 using the output\n",
        "np.floor(np.mean(result))\n",
        "### YOUR CODE ENDS HERE\n"
      ],
      "metadata": {
        "id": "lDZm8otlQAH3",
        "colab": {
          "base_uri": "https://localhost:8080/"
        },
        "outputId": "df336808-a38f-4c93-d159-6901e51564c3"
      },
      "execution_count": 13,
      "outputs": [
        {
          "output_type": "execute_result",
          "data": {
            "text/plain": [
              "4.0"
            ]
          },
          "metadata": {},
          "execution_count": 13
        }
      ]
    }
  ]
}