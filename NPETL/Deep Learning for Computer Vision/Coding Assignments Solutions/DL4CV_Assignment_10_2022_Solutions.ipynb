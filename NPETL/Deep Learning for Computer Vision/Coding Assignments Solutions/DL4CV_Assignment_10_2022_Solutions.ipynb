{
  "nbformat": 4,
  "nbformat_minor": 0,
  "metadata": {
    "accelerator": "GPU",
    "colab": {
      "provenance": [],
      "collapsed_sections": []
    },
    "kernelspec": {
      "display_name": "Python 3",
      "language": "python",
      "name": "python3"
    },
    "language_info": {
      "codemirror_mode": {
        "name": "ipython",
        "version": 3
      },
      "file_extension": ".py",
      "mimetype": "text/x-python",
      "name": "python",
      "nbconvert_exporter": "python",
      "pygments_lexer": "ipython3",
      "version": "3.8.10"
    },
    "widgets": {
      "application/vnd.jupyter.widget-state+json": {
        "62eb618b00204d9fa0c73cf111834ed3": {
          "model_module": "@jupyter-widgets/controls",
          "model_name": "HBoxModel",
          "model_module_version": "1.5.0",
          "state": {
            "_dom_classes": [],
            "_model_module": "@jupyter-widgets/controls",
            "_model_module_version": "1.5.0",
            "_model_name": "HBoxModel",
            "_view_count": null,
            "_view_module": "@jupyter-widgets/controls",
            "_view_module_version": "1.5.0",
            "_view_name": "HBoxView",
            "box_style": "",
            "children": [
              "IPY_MODEL_c02576238db2449d989da6edc974007d",
              "IPY_MODEL_2befd5d9865441c4b6f43c2102c1ef3c",
              "IPY_MODEL_1b51bb4c5b2e4da393fa6d38affb4cec"
            ],
            "layout": "IPY_MODEL_86b20a5e50134ba09baaade7e1972980"
          }
        },
        "c02576238db2449d989da6edc974007d": {
          "model_module": "@jupyter-widgets/controls",
          "model_name": "HTMLModel",
          "model_module_version": "1.5.0",
          "state": {
            "_dom_classes": [],
            "_model_module": "@jupyter-widgets/controls",
            "_model_module_version": "1.5.0",
            "_model_name": "HTMLModel",
            "_view_count": null,
            "_view_module": "@jupyter-widgets/controls",
            "_view_module_version": "1.5.0",
            "_view_name": "HTMLView",
            "description": "",
            "description_tooltip": null,
            "layout": "IPY_MODEL_f0984c869a0b49b4a17ac712d7233f29",
            "placeholder": "​",
            "style": "IPY_MODEL_1e1e5a1a600f46fba850f46ae81d24a3",
            "value": "100%"
          }
        },
        "2befd5d9865441c4b6f43c2102c1ef3c": {
          "model_module": "@jupyter-widgets/controls",
          "model_name": "FloatProgressModel",
          "model_module_version": "1.5.0",
          "state": {
            "_dom_classes": [],
            "_model_module": "@jupyter-widgets/controls",
            "_model_module_version": "1.5.0",
            "_model_name": "FloatProgressModel",
            "_view_count": null,
            "_view_module": "@jupyter-widgets/controls",
            "_view_module_version": "1.5.0",
            "_view_name": "ProgressView",
            "bar_style": "success",
            "description": "",
            "description_tooltip": null,
            "layout": "IPY_MODEL_8ab6268dc3f444a6b2c57f4a0fa3ab70",
            "max": 9912422,
            "min": 0,
            "orientation": "horizontal",
            "style": "IPY_MODEL_407ccfb824334b59920c1fa87423b9e2",
            "value": 9912422
          }
        },
        "1b51bb4c5b2e4da393fa6d38affb4cec": {
          "model_module": "@jupyter-widgets/controls",
          "model_name": "HTMLModel",
          "model_module_version": "1.5.0",
          "state": {
            "_dom_classes": [],
            "_model_module": "@jupyter-widgets/controls",
            "_model_module_version": "1.5.0",
            "_model_name": "HTMLModel",
            "_view_count": null,
            "_view_module": "@jupyter-widgets/controls",
            "_view_module_version": "1.5.0",
            "_view_name": "HTMLView",
            "description": "",
            "description_tooltip": null,
            "layout": "IPY_MODEL_3ec7e93752dc400d975bdfdf4ff7b5f8",
            "placeholder": "​",
            "style": "IPY_MODEL_f9646be20a0a44d391cdcb4db4ae3487",
            "value": " 9912422/9912422 [00:00&lt;00:00, 29632675.38it/s]"
          }
        },
        "86b20a5e50134ba09baaade7e1972980": {
          "model_module": "@jupyter-widgets/base",
          "model_name": "LayoutModel",
          "model_module_version": "1.2.0",
          "state": {
            "_model_module": "@jupyter-widgets/base",
            "_model_module_version": "1.2.0",
            "_model_name": "LayoutModel",
            "_view_count": null,
            "_view_module": "@jupyter-widgets/base",
            "_view_module_version": "1.2.0",
            "_view_name": "LayoutView",
            "align_content": null,
            "align_items": null,
            "align_self": null,
            "border": null,
            "bottom": null,
            "display": null,
            "flex": null,
            "flex_flow": null,
            "grid_area": null,
            "grid_auto_columns": null,
            "grid_auto_flow": null,
            "grid_auto_rows": null,
            "grid_column": null,
            "grid_gap": null,
            "grid_row": null,
            "grid_template_areas": null,
            "grid_template_columns": null,
            "grid_template_rows": null,
            "height": null,
            "justify_content": null,
            "justify_items": null,
            "left": null,
            "margin": null,
            "max_height": null,
            "max_width": null,
            "min_height": null,
            "min_width": null,
            "object_fit": null,
            "object_position": null,
            "order": null,
            "overflow": null,
            "overflow_x": null,
            "overflow_y": null,
            "padding": null,
            "right": null,
            "top": null,
            "visibility": null,
            "width": null
          }
        },
        "f0984c869a0b49b4a17ac712d7233f29": {
          "model_module": "@jupyter-widgets/base",
          "model_name": "LayoutModel",
          "model_module_version": "1.2.0",
          "state": {
            "_model_module": "@jupyter-widgets/base",
            "_model_module_version": "1.2.0",
            "_model_name": "LayoutModel",
            "_view_count": null,
            "_view_module": "@jupyter-widgets/base",
            "_view_module_version": "1.2.0",
            "_view_name": "LayoutView",
            "align_content": null,
            "align_items": null,
            "align_self": null,
            "border": null,
            "bottom": null,
            "display": null,
            "flex": null,
            "flex_flow": null,
            "grid_area": null,
            "grid_auto_columns": null,
            "grid_auto_flow": null,
            "grid_auto_rows": null,
            "grid_column": null,
            "grid_gap": null,
            "grid_row": null,
            "grid_template_areas": null,
            "grid_template_columns": null,
            "grid_template_rows": null,
            "height": null,
            "justify_content": null,
            "justify_items": null,
            "left": null,
            "margin": null,
            "max_height": null,
            "max_width": null,
            "min_height": null,
            "min_width": null,
            "object_fit": null,
            "object_position": null,
            "order": null,
            "overflow": null,
            "overflow_x": null,
            "overflow_y": null,
            "padding": null,
            "right": null,
            "top": null,
            "visibility": null,
            "width": null
          }
        },
        "1e1e5a1a600f46fba850f46ae81d24a3": {
          "model_module": "@jupyter-widgets/controls",
          "model_name": "DescriptionStyleModel",
          "model_module_version": "1.5.0",
          "state": {
            "_model_module": "@jupyter-widgets/controls",
            "_model_module_version": "1.5.0",
            "_model_name": "DescriptionStyleModel",
            "_view_count": null,
            "_view_module": "@jupyter-widgets/base",
            "_view_module_version": "1.2.0",
            "_view_name": "StyleView",
            "description_width": ""
          }
        },
        "8ab6268dc3f444a6b2c57f4a0fa3ab70": {
          "model_module": "@jupyter-widgets/base",
          "model_name": "LayoutModel",
          "model_module_version": "1.2.0",
          "state": {
            "_model_module": "@jupyter-widgets/base",
            "_model_module_version": "1.2.0",
            "_model_name": "LayoutModel",
            "_view_count": null,
            "_view_module": "@jupyter-widgets/base",
            "_view_module_version": "1.2.0",
            "_view_name": "LayoutView",
            "align_content": null,
            "align_items": null,
            "align_self": null,
            "border": null,
            "bottom": null,
            "display": null,
            "flex": null,
            "flex_flow": null,
            "grid_area": null,
            "grid_auto_columns": null,
            "grid_auto_flow": null,
            "grid_auto_rows": null,
            "grid_column": null,
            "grid_gap": null,
            "grid_row": null,
            "grid_template_areas": null,
            "grid_template_columns": null,
            "grid_template_rows": null,
            "height": null,
            "justify_content": null,
            "justify_items": null,
            "left": null,
            "margin": null,
            "max_height": null,
            "max_width": null,
            "min_height": null,
            "min_width": null,
            "object_fit": null,
            "object_position": null,
            "order": null,
            "overflow": null,
            "overflow_x": null,
            "overflow_y": null,
            "padding": null,
            "right": null,
            "top": null,
            "visibility": null,
            "width": null
          }
        },
        "407ccfb824334b59920c1fa87423b9e2": {
          "model_module": "@jupyter-widgets/controls",
          "model_name": "ProgressStyleModel",
          "model_module_version": "1.5.0",
          "state": {
            "_model_module": "@jupyter-widgets/controls",
            "_model_module_version": "1.5.0",
            "_model_name": "ProgressStyleModel",
            "_view_count": null,
            "_view_module": "@jupyter-widgets/base",
            "_view_module_version": "1.2.0",
            "_view_name": "StyleView",
            "bar_color": null,
            "description_width": ""
          }
        },
        "3ec7e93752dc400d975bdfdf4ff7b5f8": {
          "model_module": "@jupyter-widgets/base",
          "model_name": "LayoutModel",
          "model_module_version": "1.2.0",
          "state": {
            "_model_module": "@jupyter-widgets/base",
            "_model_module_version": "1.2.0",
            "_model_name": "LayoutModel",
            "_view_count": null,
            "_view_module": "@jupyter-widgets/base",
            "_view_module_version": "1.2.0",
            "_view_name": "LayoutView",
            "align_content": null,
            "align_items": null,
            "align_self": null,
            "border": null,
            "bottom": null,
            "display": null,
            "flex": null,
            "flex_flow": null,
            "grid_area": null,
            "grid_auto_columns": null,
            "grid_auto_flow": null,
            "grid_auto_rows": null,
            "grid_column": null,
            "grid_gap": null,
            "grid_row": null,
            "grid_template_areas": null,
            "grid_template_columns": null,
            "grid_template_rows": null,
            "height": null,
            "justify_content": null,
            "justify_items": null,
            "left": null,
            "margin": null,
            "max_height": null,
            "max_width": null,
            "min_height": null,
            "min_width": null,
            "object_fit": null,
            "object_position": null,
            "order": null,
            "overflow": null,
            "overflow_x": null,
            "overflow_y": null,
            "padding": null,
            "right": null,
            "top": null,
            "visibility": null,
            "width": null
          }
        },
        "f9646be20a0a44d391cdcb4db4ae3487": {
          "model_module": "@jupyter-widgets/controls",
          "model_name": "DescriptionStyleModel",
          "model_module_version": "1.5.0",
          "state": {
            "_model_module": "@jupyter-widgets/controls",
            "_model_module_version": "1.5.0",
            "_model_name": "DescriptionStyleModel",
            "_view_count": null,
            "_view_module": "@jupyter-widgets/base",
            "_view_module_version": "1.2.0",
            "_view_name": "StyleView",
            "description_width": ""
          }
        },
        "a39e77d036b24f9f85ef6432c4c5bac3": {
          "model_module": "@jupyter-widgets/controls",
          "model_name": "HBoxModel",
          "model_module_version": "1.5.0",
          "state": {
            "_dom_classes": [],
            "_model_module": "@jupyter-widgets/controls",
            "_model_module_version": "1.5.0",
            "_model_name": "HBoxModel",
            "_view_count": null,
            "_view_module": "@jupyter-widgets/controls",
            "_view_module_version": "1.5.0",
            "_view_name": "HBoxView",
            "box_style": "",
            "children": [
              "IPY_MODEL_5aa09e35240347649acab9b58bdf0e61",
              "IPY_MODEL_7bf27f96cad849d5b2cf16dd286a853b",
              "IPY_MODEL_46eb95fe5f4946f28859080b4dac60b6"
            ],
            "layout": "IPY_MODEL_eadf568e4e8f44d0866c6614cefd093d"
          }
        },
        "5aa09e35240347649acab9b58bdf0e61": {
          "model_module": "@jupyter-widgets/controls",
          "model_name": "HTMLModel",
          "model_module_version": "1.5.0",
          "state": {
            "_dom_classes": [],
            "_model_module": "@jupyter-widgets/controls",
            "_model_module_version": "1.5.0",
            "_model_name": "HTMLModel",
            "_view_count": null,
            "_view_module": "@jupyter-widgets/controls",
            "_view_module_version": "1.5.0",
            "_view_name": "HTMLView",
            "description": "",
            "description_tooltip": null,
            "layout": "IPY_MODEL_d4dcadec34664deb96b811dc60098172",
            "placeholder": "​",
            "style": "IPY_MODEL_304e7fcdcc3d4952bbb69d19d66a777b",
            "value": "100%"
          }
        },
        "7bf27f96cad849d5b2cf16dd286a853b": {
          "model_module": "@jupyter-widgets/controls",
          "model_name": "FloatProgressModel",
          "model_module_version": "1.5.0",
          "state": {
            "_dom_classes": [],
            "_model_module": "@jupyter-widgets/controls",
            "_model_module_version": "1.5.0",
            "_model_name": "FloatProgressModel",
            "_view_count": null,
            "_view_module": "@jupyter-widgets/controls",
            "_view_module_version": "1.5.0",
            "_view_name": "ProgressView",
            "bar_style": "success",
            "description": "",
            "description_tooltip": null,
            "layout": "IPY_MODEL_603ec0591806401fb130685ac16b080f",
            "max": 28881,
            "min": 0,
            "orientation": "horizontal",
            "style": "IPY_MODEL_9574da609d894c898808b76230864da1",
            "value": 28881
          }
        },
        "46eb95fe5f4946f28859080b4dac60b6": {
          "model_module": "@jupyter-widgets/controls",
          "model_name": "HTMLModel",
          "model_module_version": "1.5.0",
          "state": {
            "_dom_classes": [],
            "_model_module": "@jupyter-widgets/controls",
            "_model_module_version": "1.5.0",
            "_model_name": "HTMLModel",
            "_view_count": null,
            "_view_module": "@jupyter-widgets/controls",
            "_view_module_version": "1.5.0",
            "_view_name": "HTMLView",
            "description": "",
            "description_tooltip": null,
            "layout": "IPY_MODEL_3552397f8f944267a95fb2f42de22fb1",
            "placeholder": "​",
            "style": "IPY_MODEL_491da8db59834cc2a4f4b9487fdfdfe5",
            "value": " 28881/28881 [00:00&lt;00:00, 720488.28it/s]"
          }
        },
        "eadf568e4e8f44d0866c6614cefd093d": {
          "model_module": "@jupyter-widgets/base",
          "model_name": "LayoutModel",
          "model_module_version": "1.2.0",
          "state": {
            "_model_module": "@jupyter-widgets/base",
            "_model_module_version": "1.2.0",
            "_model_name": "LayoutModel",
            "_view_count": null,
            "_view_module": "@jupyter-widgets/base",
            "_view_module_version": "1.2.0",
            "_view_name": "LayoutView",
            "align_content": null,
            "align_items": null,
            "align_self": null,
            "border": null,
            "bottom": null,
            "display": null,
            "flex": null,
            "flex_flow": null,
            "grid_area": null,
            "grid_auto_columns": null,
            "grid_auto_flow": null,
            "grid_auto_rows": null,
            "grid_column": null,
            "grid_gap": null,
            "grid_row": null,
            "grid_template_areas": null,
            "grid_template_columns": null,
            "grid_template_rows": null,
            "height": null,
            "justify_content": null,
            "justify_items": null,
            "left": null,
            "margin": null,
            "max_height": null,
            "max_width": null,
            "min_height": null,
            "min_width": null,
            "object_fit": null,
            "object_position": null,
            "order": null,
            "overflow": null,
            "overflow_x": null,
            "overflow_y": null,
            "padding": null,
            "right": null,
            "top": null,
            "visibility": null,
            "width": null
          }
        },
        "d4dcadec34664deb96b811dc60098172": {
          "model_module": "@jupyter-widgets/base",
          "model_name": "LayoutModel",
          "model_module_version": "1.2.0",
          "state": {
            "_model_module": "@jupyter-widgets/base",
            "_model_module_version": "1.2.0",
            "_model_name": "LayoutModel",
            "_view_count": null,
            "_view_module": "@jupyter-widgets/base",
            "_view_module_version": "1.2.0",
            "_view_name": "LayoutView",
            "align_content": null,
            "align_items": null,
            "align_self": null,
            "border": null,
            "bottom": null,
            "display": null,
            "flex": null,
            "flex_flow": null,
            "grid_area": null,
            "grid_auto_columns": null,
            "grid_auto_flow": null,
            "grid_auto_rows": null,
            "grid_column": null,
            "grid_gap": null,
            "grid_row": null,
            "grid_template_areas": null,
            "grid_template_columns": null,
            "grid_template_rows": null,
            "height": null,
            "justify_content": null,
            "justify_items": null,
            "left": null,
            "margin": null,
            "max_height": null,
            "max_width": null,
            "min_height": null,
            "min_width": null,
            "object_fit": null,
            "object_position": null,
            "order": null,
            "overflow": null,
            "overflow_x": null,
            "overflow_y": null,
            "padding": null,
            "right": null,
            "top": null,
            "visibility": null,
            "width": null
          }
        },
        "304e7fcdcc3d4952bbb69d19d66a777b": {
          "model_module": "@jupyter-widgets/controls",
          "model_name": "DescriptionStyleModel",
          "model_module_version": "1.5.0",
          "state": {
            "_model_module": "@jupyter-widgets/controls",
            "_model_module_version": "1.5.0",
            "_model_name": "DescriptionStyleModel",
            "_view_count": null,
            "_view_module": "@jupyter-widgets/base",
            "_view_module_version": "1.2.0",
            "_view_name": "StyleView",
            "description_width": ""
          }
        },
        "603ec0591806401fb130685ac16b080f": {
          "model_module": "@jupyter-widgets/base",
          "model_name": "LayoutModel",
          "model_module_version": "1.2.0",
          "state": {
            "_model_module": "@jupyter-widgets/base",
            "_model_module_version": "1.2.0",
            "_model_name": "LayoutModel",
            "_view_count": null,
            "_view_module": "@jupyter-widgets/base",
            "_view_module_version": "1.2.0",
            "_view_name": "LayoutView",
            "align_content": null,
            "align_items": null,
            "align_self": null,
            "border": null,
            "bottom": null,
            "display": null,
            "flex": null,
            "flex_flow": null,
            "grid_area": null,
            "grid_auto_columns": null,
            "grid_auto_flow": null,
            "grid_auto_rows": null,
            "grid_column": null,
            "grid_gap": null,
            "grid_row": null,
            "grid_template_areas": null,
            "grid_template_columns": null,
            "grid_template_rows": null,
            "height": null,
            "justify_content": null,
            "justify_items": null,
            "left": null,
            "margin": null,
            "max_height": null,
            "max_width": null,
            "min_height": null,
            "min_width": null,
            "object_fit": null,
            "object_position": null,
            "order": null,
            "overflow": null,
            "overflow_x": null,
            "overflow_y": null,
            "padding": null,
            "right": null,
            "top": null,
            "visibility": null,
            "width": null
          }
        },
        "9574da609d894c898808b76230864da1": {
          "model_module": "@jupyter-widgets/controls",
          "model_name": "ProgressStyleModel",
          "model_module_version": "1.5.0",
          "state": {
            "_model_module": "@jupyter-widgets/controls",
            "_model_module_version": "1.5.0",
            "_model_name": "ProgressStyleModel",
            "_view_count": null,
            "_view_module": "@jupyter-widgets/base",
            "_view_module_version": "1.2.0",
            "_view_name": "StyleView",
            "bar_color": null,
            "description_width": ""
          }
        },
        "3552397f8f944267a95fb2f42de22fb1": {
          "model_module": "@jupyter-widgets/base",
          "model_name": "LayoutModel",
          "model_module_version": "1.2.0",
          "state": {
            "_model_module": "@jupyter-widgets/base",
            "_model_module_version": "1.2.0",
            "_model_name": "LayoutModel",
            "_view_count": null,
            "_view_module": "@jupyter-widgets/base",
            "_view_module_version": "1.2.0",
            "_view_name": "LayoutView",
            "align_content": null,
            "align_items": null,
            "align_self": null,
            "border": null,
            "bottom": null,
            "display": null,
            "flex": null,
            "flex_flow": null,
            "grid_area": null,
            "grid_auto_columns": null,
            "grid_auto_flow": null,
            "grid_auto_rows": null,
            "grid_column": null,
            "grid_gap": null,
            "grid_row": null,
            "grid_template_areas": null,
            "grid_template_columns": null,
            "grid_template_rows": null,
            "height": null,
            "justify_content": null,
            "justify_items": null,
            "left": null,
            "margin": null,
            "max_height": null,
            "max_width": null,
            "min_height": null,
            "min_width": null,
            "object_fit": null,
            "object_position": null,
            "order": null,
            "overflow": null,
            "overflow_x": null,
            "overflow_y": null,
            "padding": null,
            "right": null,
            "top": null,
            "visibility": null,
            "width": null
          }
        },
        "491da8db59834cc2a4f4b9487fdfdfe5": {
          "model_module": "@jupyter-widgets/controls",
          "model_name": "DescriptionStyleModel",
          "model_module_version": "1.5.0",
          "state": {
            "_model_module": "@jupyter-widgets/controls",
            "_model_module_version": "1.5.0",
            "_model_name": "DescriptionStyleModel",
            "_view_count": null,
            "_view_module": "@jupyter-widgets/base",
            "_view_module_version": "1.2.0",
            "_view_name": "StyleView",
            "description_width": ""
          }
        },
        "5f4a39194a9e48a0aba406f9c125262b": {
          "model_module": "@jupyter-widgets/controls",
          "model_name": "HBoxModel",
          "model_module_version": "1.5.0",
          "state": {
            "_dom_classes": [],
            "_model_module": "@jupyter-widgets/controls",
            "_model_module_version": "1.5.0",
            "_model_name": "HBoxModel",
            "_view_count": null,
            "_view_module": "@jupyter-widgets/controls",
            "_view_module_version": "1.5.0",
            "_view_name": "HBoxView",
            "box_style": "",
            "children": [
              "IPY_MODEL_d7afddfe4cd8474a80dbe6c5fc25274e",
              "IPY_MODEL_d429db09593643899d1329683e38fbd8",
              "IPY_MODEL_aa4c0dfc44084b55b3b654be4c2aadf1"
            ],
            "layout": "IPY_MODEL_24e7665105ca4638a484023938daa547"
          }
        },
        "d7afddfe4cd8474a80dbe6c5fc25274e": {
          "model_module": "@jupyter-widgets/controls",
          "model_name": "HTMLModel",
          "model_module_version": "1.5.0",
          "state": {
            "_dom_classes": [],
            "_model_module": "@jupyter-widgets/controls",
            "_model_module_version": "1.5.0",
            "_model_name": "HTMLModel",
            "_view_count": null,
            "_view_module": "@jupyter-widgets/controls",
            "_view_module_version": "1.5.0",
            "_view_name": "HTMLView",
            "description": "",
            "description_tooltip": null,
            "layout": "IPY_MODEL_627cf9df49834fcd94b8e8a5944f3dea",
            "placeholder": "​",
            "style": "IPY_MODEL_f5a4a786e6a146c8b8b615a96be2721a",
            "value": "100%"
          }
        },
        "d429db09593643899d1329683e38fbd8": {
          "model_module": "@jupyter-widgets/controls",
          "model_name": "FloatProgressModel",
          "model_module_version": "1.5.0",
          "state": {
            "_dom_classes": [],
            "_model_module": "@jupyter-widgets/controls",
            "_model_module_version": "1.5.0",
            "_model_name": "FloatProgressModel",
            "_view_count": null,
            "_view_module": "@jupyter-widgets/controls",
            "_view_module_version": "1.5.0",
            "_view_name": "ProgressView",
            "bar_style": "success",
            "description": "",
            "description_tooltip": null,
            "layout": "IPY_MODEL_152e17e9d3734542969b97cc43c2a235",
            "max": 1648877,
            "min": 0,
            "orientation": "horizontal",
            "style": "IPY_MODEL_a9a73a98c1804dc29e019e442eb0edbe",
            "value": 1648877
          }
        },
        "aa4c0dfc44084b55b3b654be4c2aadf1": {
          "model_module": "@jupyter-widgets/controls",
          "model_name": "HTMLModel",
          "model_module_version": "1.5.0",
          "state": {
            "_dom_classes": [],
            "_model_module": "@jupyter-widgets/controls",
            "_model_module_version": "1.5.0",
            "_model_name": "HTMLModel",
            "_view_count": null,
            "_view_module": "@jupyter-widgets/controls",
            "_view_module_version": "1.5.0",
            "_view_name": "HTMLView",
            "description": "",
            "description_tooltip": null,
            "layout": "IPY_MODEL_b75735320b0e472fbe9e188e66c3719b",
            "placeholder": "​",
            "style": "IPY_MODEL_60a83079f4834fcdad63acc739677666",
            "value": " 1648877/1648877 [00:00&lt;00:00, 19777659.12it/s]"
          }
        },
        "24e7665105ca4638a484023938daa547": {
          "model_module": "@jupyter-widgets/base",
          "model_name": "LayoutModel",
          "model_module_version": "1.2.0",
          "state": {
            "_model_module": "@jupyter-widgets/base",
            "_model_module_version": "1.2.0",
            "_model_name": "LayoutModel",
            "_view_count": null,
            "_view_module": "@jupyter-widgets/base",
            "_view_module_version": "1.2.0",
            "_view_name": "LayoutView",
            "align_content": null,
            "align_items": null,
            "align_self": null,
            "border": null,
            "bottom": null,
            "display": null,
            "flex": null,
            "flex_flow": null,
            "grid_area": null,
            "grid_auto_columns": null,
            "grid_auto_flow": null,
            "grid_auto_rows": null,
            "grid_column": null,
            "grid_gap": null,
            "grid_row": null,
            "grid_template_areas": null,
            "grid_template_columns": null,
            "grid_template_rows": null,
            "height": null,
            "justify_content": null,
            "justify_items": null,
            "left": null,
            "margin": null,
            "max_height": null,
            "max_width": null,
            "min_height": null,
            "min_width": null,
            "object_fit": null,
            "object_position": null,
            "order": null,
            "overflow": null,
            "overflow_x": null,
            "overflow_y": null,
            "padding": null,
            "right": null,
            "top": null,
            "visibility": null,
            "width": null
          }
        },
        "627cf9df49834fcd94b8e8a5944f3dea": {
          "model_module": "@jupyter-widgets/base",
          "model_name": "LayoutModel",
          "model_module_version": "1.2.0",
          "state": {
            "_model_module": "@jupyter-widgets/base",
            "_model_module_version": "1.2.0",
            "_model_name": "LayoutModel",
            "_view_count": null,
            "_view_module": "@jupyter-widgets/base",
            "_view_module_version": "1.2.0",
            "_view_name": "LayoutView",
            "align_content": null,
            "align_items": null,
            "align_self": null,
            "border": null,
            "bottom": null,
            "display": null,
            "flex": null,
            "flex_flow": null,
            "grid_area": null,
            "grid_auto_columns": null,
            "grid_auto_flow": null,
            "grid_auto_rows": null,
            "grid_column": null,
            "grid_gap": null,
            "grid_row": null,
            "grid_template_areas": null,
            "grid_template_columns": null,
            "grid_template_rows": null,
            "height": null,
            "justify_content": null,
            "justify_items": null,
            "left": null,
            "margin": null,
            "max_height": null,
            "max_width": null,
            "min_height": null,
            "min_width": null,
            "object_fit": null,
            "object_position": null,
            "order": null,
            "overflow": null,
            "overflow_x": null,
            "overflow_y": null,
            "padding": null,
            "right": null,
            "top": null,
            "visibility": null,
            "width": null
          }
        },
        "f5a4a786e6a146c8b8b615a96be2721a": {
          "model_module": "@jupyter-widgets/controls",
          "model_name": "DescriptionStyleModel",
          "model_module_version": "1.5.0",
          "state": {
            "_model_module": "@jupyter-widgets/controls",
            "_model_module_version": "1.5.0",
            "_model_name": "DescriptionStyleModel",
            "_view_count": null,
            "_view_module": "@jupyter-widgets/base",
            "_view_module_version": "1.2.0",
            "_view_name": "StyleView",
            "description_width": ""
          }
        },
        "152e17e9d3734542969b97cc43c2a235": {
          "model_module": "@jupyter-widgets/base",
          "model_name": "LayoutModel",
          "model_module_version": "1.2.0",
          "state": {
            "_model_module": "@jupyter-widgets/base",
            "_model_module_version": "1.2.0",
            "_model_name": "LayoutModel",
            "_view_count": null,
            "_view_module": "@jupyter-widgets/base",
            "_view_module_version": "1.2.0",
            "_view_name": "LayoutView",
            "align_content": null,
            "align_items": null,
            "align_self": null,
            "border": null,
            "bottom": null,
            "display": null,
            "flex": null,
            "flex_flow": null,
            "grid_area": null,
            "grid_auto_columns": null,
            "grid_auto_flow": null,
            "grid_auto_rows": null,
            "grid_column": null,
            "grid_gap": null,
            "grid_row": null,
            "grid_template_areas": null,
            "grid_template_columns": null,
            "grid_template_rows": null,
            "height": null,
            "justify_content": null,
            "justify_items": null,
            "left": null,
            "margin": null,
            "max_height": null,
            "max_width": null,
            "min_height": null,
            "min_width": null,
            "object_fit": null,
            "object_position": null,
            "order": null,
            "overflow": null,
            "overflow_x": null,
            "overflow_y": null,
            "padding": null,
            "right": null,
            "top": null,
            "visibility": null,
            "width": null
          }
        },
        "a9a73a98c1804dc29e019e442eb0edbe": {
          "model_module": "@jupyter-widgets/controls",
          "model_name": "ProgressStyleModel",
          "model_module_version": "1.5.0",
          "state": {
            "_model_module": "@jupyter-widgets/controls",
            "_model_module_version": "1.5.0",
            "_model_name": "ProgressStyleModel",
            "_view_count": null,
            "_view_module": "@jupyter-widgets/base",
            "_view_module_version": "1.2.0",
            "_view_name": "StyleView",
            "bar_color": null,
            "description_width": ""
          }
        },
        "b75735320b0e472fbe9e188e66c3719b": {
          "model_module": "@jupyter-widgets/base",
          "model_name": "LayoutModel",
          "model_module_version": "1.2.0",
          "state": {
            "_model_module": "@jupyter-widgets/base",
            "_model_module_version": "1.2.0",
            "_model_name": "LayoutModel",
            "_view_count": null,
            "_view_module": "@jupyter-widgets/base",
            "_view_module_version": "1.2.0",
            "_view_name": "LayoutView",
            "align_content": null,
            "align_items": null,
            "align_self": null,
            "border": null,
            "bottom": null,
            "display": null,
            "flex": null,
            "flex_flow": null,
            "grid_area": null,
            "grid_auto_columns": null,
            "grid_auto_flow": null,
            "grid_auto_rows": null,
            "grid_column": null,
            "grid_gap": null,
            "grid_row": null,
            "grid_template_areas": null,
            "grid_template_columns": null,
            "grid_template_rows": null,
            "height": null,
            "justify_content": null,
            "justify_items": null,
            "left": null,
            "margin": null,
            "max_height": null,
            "max_width": null,
            "min_height": null,
            "min_width": null,
            "object_fit": null,
            "object_position": null,
            "order": null,
            "overflow": null,
            "overflow_x": null,
            "overflow_y": null,
            "padding": null,
            "right": null,
            "top": null,
            "visibility": null,
            "width": null
          }
        },
        "60a83079f4834fcdad63acc739677666": {
          "model_module": "@jupyter-widgets/controls",
          "model_name": "DescriptionStyleModel",
          "model_module_version": "1.5.0",
          "state": {
            "_model_module": "@jupyter-widgets/controls",
            "_model_module_version": "1.5.0",
            "_model_name": "DescriptionStyleModel",
            "_view_count": null,
            "_view_module": "@jupyter-widgets/base",
            "_view_module_version": "1.2.0",
            "_view_name": "StyleView",
            "description_width": ""
          }
        },
        "8d86060ec88a45a9ba6131256d88a4ac": {
          "model_module": "@jupyter-widgets/controls",
          "model_name": "HBoxModel",
          "model_module_version": "1.5.0",
          "state": {
            "_dom_classes": [],
            "_model_module": "@jupyter-widgets/controls",
            "_model_module_version": "1.5.0",
            "_model_name": "HBoxModel",
            "_view_count": null,
            "_view_module": "@jupyter-widgets/controls",
            "_view_module_version": "1.5.0",
            "_view_name": "HBoxView",
            "box_style": "",
            "children": [
              "IPY_MODEL_2c52c51961044e5e858aa7a1266874d1",
              "IPY_MODEL_4836aaffa91a4d118e08827257cecec8",
              "IPY_MODEL_46c6450320ca4582b6c944797daebe0f"
            ],
            "layout": "IPY_MODEL_b54fbb060e4b47529cefb66bf847867e"
          }
        },
        "2c52c51961044e5e858aa7a1266874d1": {
          "model_module": "@jupyter-widgets/controls",
          "model_name": "HTMLModel",
          "model_module_version": "1.5.0",
          "state": {
            "_dom_classes": [],
            "_model_module": "@jupyter-widgets/controls",
            "_model_module_version": "1.5.0",
            "_model_name": "HTMLModel",
            "_view_count": null,
            "_view_module": "@jupyter-widgets/controls",
            "_view_module_version": "1.5.0",
            "_view_name": "HTMLView",
            "description": "",
            "description_tooltip": null,
            "layout": "IPY_MODEL_a4cac638cd7e4445a29b3b6da3add1bc",
            "placeholder": "​",
            "style": "IPY_MODEL_659a1bda628845cea732c7fe5e3150a0",
            "value": "100%"
          }
        },
        "4836aaffa91a4d118e08827257cecec8": {
          "model_module": "@jupyter-widgets/controls",
          "model_name": "FloatProgressModel",
          "model_module_version": "1.5.0",
          "state": {
            "_dom_classes": [],
            "_model_module": "@jupyter-widgets/controls",
            "_model_module_version": "1.5.0",
            "_model_name": "FloatProgressModel",
            "_view_count": null,
            "_view_module": "@jupyter-widgets/controls",
            "_view_module_version": "1.5.0",
            "_view_name": "ProgressView",
            "bar_style": "success",
            "description": "",
            "description_tooltip": null,
            "layout": "IPY_MODEL_dfa94169ae2a4682a3531efeca65605f",
            "max": 4542,
            "min": 0,
            "orientation": "horizontal",
            "style": "IPY_MODEL_563a2b0abceb4bd39d6404c4d3428b7d",
            "value": 4542
          }
        },
        "46c6450320ca4582b6c944797daebe0f": {
          "model_module": "@jupyter-widgets/controls",
          "model_name": "HTMLModel",
          "model_module_version": "1.5.0",
          "state": {
            "_dom_classes": [],
            "_model_module": "@jupyter-widgets/controls",
            "_model_module_version": "1.5.0",
            "_model_name": "HTMLModel",
            "_view_count": null,
            "_view_module": "@jupyter-widgets/controls",
            "_view_module_version": "1.5.0",
            "_view_name": "HTMLView",
            "description": "",
            "description_tooltip": null,
            "layout": "IPY_MODEL_b71e869694e44a228ccdb9e3b7f69664",
            "placeholder": "​",
            "style": "IPY_MODEL_dd078cc3a26f4c53a024063cbc245d10",
            "value": " 4542/4542 [00:00&lt;00:00, 162086.64it/s]"
          }
        },
        "b54fbb060e4b47529cefb66bf847867e": {
          "model_module": "@jupyter-widgets/base",
          "model_name": "LayoutModel",
          "model_module_version": "1.2.0",
          "state": {
            "_model_module": "@jupyter-widgets/base",
            "_model_module_version": "1.2.0",
            "_model_name": "LayoutModel",
            "_view_count": null,
            "_view_module": "@jupyter-widgets/base",
            "_view_module_version": "1.2.0",
            "_view_name": "LayoutView",
            "align_content": null,
            "align_items": null,
            "align_self": null,
            "border": null,
            "bottom": null,
            "display": null,
            "flex": null,
            "flex_flow": null,
            "grid_area": null,
            "grid_auto_columns": null,
            "grid_auto_flow": null,
            "grid_auto_rows": null,
            "grid_column": null,
            "grid_gap": null,
            "grid_row": null,
            "grid_template_areas": null,
            "grid_template_columns": null,
            "grid_template_rows": null,
            "height": null,
            "justify_content": null,
            "justify_items": null,
            "left": null,
            "margin": null,
            "max_height": null,
            "max_width": null,
            "min_height": null,
            "min_width": null,
            "object_fit": null,
            "object_position": null,
            "order": null,
            "overflow": null,
            "overflow_x": null,
            "overflow_y": null,
            "padding": null,
            "right": null,
            "top": null,
            "visibility": null,
            "width": null
          }
        },
        "a4cac638cd7e4445a29b3b6da3add1bc": {
          "model_module": "@jupyter-widgets/base",
          "model_name": "LayoutModel",
          "model_module_version": "1.2.0",
          "state": {
            "_model_module": "@jupyter-widgets/base",
            "_model_module_version": "1.2.0",
            "_model_name": "LayoutModel",
            "_view_count": null,
            "_view_module": "@jupyter-widgets/base",
            "_view_module_version": "1.2.0",
            "_view_name": "LayoutView",
            "align_content": null,
            "align_items": null,
            "align_self": null,
            "border": null,
            "bottom": null,
            "display": null,
            "flex": null,
            "flex_flow": null,
            "grid_area": null,
            "grid_auto_columns": null,
            "grid_auto_flow": null,
            "grid_auto_rows": null,
            "grid_column": null,
            "grid_gap": null,
            "grid_row": null,
            "grid_template_areas": null,
            "grid_template_columns": null,
            "grid_template_rows": null,
            "height": null,
            "justify_content": null,
            "justify_items": null,
            "left": null,
            "margin": null,
            "max_height": null,
            "max_width": null,
            "min_height": null,
            "min_width": null,
            "object_fit": null,
            "object_position": null,
            "order": null,
            "overflow": null,
            "overflow_x": null,
            "overflow_y": null,
            "padding": null,
            "right": null,
            "top": null,
            "visibility": null,
            "width": null
          }
        },
        "659a1bda628845cea732c7fe5e3150a0": {
          "model_module": "@jupyter-widgets/controls",
          "model_name": "DescriptionStyleModel",
          "model_module_version": "1.5.0",
          "state": {
            "_model_module": "@jupyter-widgets/controls",
            "_model_module_version": "1.5.0",
            "_model_name": "DescriptionStyleModel",
            "_view_count": null,
            "_view_module": "@jupyter-widgets/base",
            "_view_module_version": "1.2.0",
            "_view_name": "StyleView",
            "description_width": ""
          }
        },
        "dfa94169ae2a4682a3531efeca65605f": {
          "model_module": "@jupyter-widgets/base",
          "model_name": "LayoutModel",
          "model_module_version": "1.2.0",
          "state": {
            "_model_module": "@jupyter-widgets/base",
            "_model_module_version": "1.2.0",
            "_model_name": "LayoutModel",
            "_view_count": null,
            "_view_module": "@jupyter-widgets/base",
            "_view_module_version": "1.2.0",
            "_view_name": "LayoutView",
            "align_content": null,
            "align_items": null,
            "align_self": null,
            "border": null,
            "bottom": null,
            "display": null,
            "flex": null,
            "flex_flow": null,
            "grid_area": null,
            "grid_auto_columns": null,
            "grid_auto_flow": null,
            "grid_auto_rows": null,
            "grid_column": null,
            "grid_gap": null,
            "grid_row": null,
            "grid_template_areas": null,
            "grid_template_columns": null,
            "grid_template_rows": null,
            "height": null,
            "justify_content": null,
            "justify_items": null,
            "left": null,
            "margin": null,
            "max_height": null,
            "max_width": null,
            "min_height": null,
            "min_width": null,
            "object_fit": null,
            "object_position": null,
            "order": null,
            "overflow": null,
            "overflow_x": null,
            "overflow_y": null,
            "padding": null,
            "right": null,
            "top": null,
            "visibility": null,
            "width": null
          }
        },
        "563a2b0abceb4bd39d6404c4d3428b7d": {
          "model_module": "@jupyter-widgets/controls",
          "model_name": "ProgressStyleModel",
          "model_module_version": "1.5.0",
          "state": {
            "_model_module": "@jupyter-widgets/controls",
            "_model_module_version": "1.5.0",
            "_model_name": "ProgressStyleModel",
            "_view_count": null,
            "_view_module": "@jupyter-widgets/base",
            "_view_module_version": "1.2.0",
            "_view_name": "StyleView",
            "bar_color": null,
            "description_width": ""
          }
        },
        "b71e869694e44a228ccdb9e3b7f69664": {
          "model_module": "@jupyter-widgets/base",
          "model_name": "LayoutModel",
          "model_module_version": "1.2.0",
          "state": {
            "_model_module": "@jupyter-widgets/base",
            "_model_module_version": "1.2.0",
            "_model_name": "LayoutModel",
            "_view_count": null,
            "_view_module": "@jupyter-widgets/base",
            "_view_module_version": "1.2.0",
            "_view_name": "LayoutView",
            "align_content": null,
            "align_items": null,
            "align_self": null,
            "border": null,
            "bottom": null,
            "display": null,
            "flex": null,
            "flex_flow": null,
            "grid_area": null,
            "grid_auto_columns": null,
            "grid_auto_flow": null,
            "grid_auto_rows": null,
            "grid_column": null,
            "grid_gap": null,
            "grid_row": null,
            "grid_template_areas": null,
            "grid_template_columns": null,
            "grid_template_rows": null,
            "height": null,
            "justify_content": null,
            "justify_items": null,
            "left": null,
            "margin": null,
            "max_height": null,
            "max_width": null,
            "min_height": null,
            "min_width": null,
            "object_fit": null,
            "object_position": null,
            "order": null,
            "overflow": null,
            "overflow_x": null,
            "overflow_y": null,
            "padding": null,
            "right": null,
            "top": null,
            "visibility": null,
            "width": null
          }
        },
        "dd078cc3a26f4c53a024063cbc245d10": {
          "model_module": "@jupyter-widgets/controls",
          "model_name": "DescriptionStyleModel",
          "model_module_version": "1.5.0",
          "state": {
            "_model_module": "@jupyter-widgets/controls",
            "_model_module_version": "1.5.0",
            "_model_name": "DescriptionStyleModel",
            "_view_count": null,
            "_view_module": "@jupyter-widgets/base",
            "_view_module_version": "1.2.0",
            "_view_name": "StyleView",
            "description_width": ""
          }
        }
      }
    }
  },
  "cells": [
    {
      "cell_type": "markdown",
      "metadata": {
        "id": "7hJ5wX2Dh0la"
      },
      "source": [
        "# VAE\n",
        "\n",
        "Our VAE implementation will consist solely of fully connected layers. We'll take the `1 x 28 x 28` shape of our input and flatten the features to create an input dimension size of 784. \n",
        "\n",
        "In this section you'll define the Encoder and Decoder models, implement the reparametrization trick, forward pass, and loss function to train your first VAE."
      ]
    },
    {
      "cell_type": "code",
      "metadata": {
        "id": "BYVR3yEbdIEg"
      },
      "source": [
        "import matplotlib.pyplot as plt\n",
        "import matplotlib.gridspec as gridspec\n",
        "\n",
        "import numpy as np \n",
        "import random\n",
        "import argparse\n",
        "import pickle \n",
        "import os\n",
        "import math\n",
        "from PIL import Image\n",
        "\n",
        "import torch\n",
        "from torch.nn import init\n",
        "from torch import nn, optim\n",
        "from torch.autograd import Variable\n",
        "from torch.nn import functional as F\n",
        "import torch.utils.data\n",
        "from torch.utils.data import DataLoader\n",
        "from torch.utils.data import sampler\n",
        "\n",
        "from torchvision import transforms\n",
        "from torchvision.utils import save_image\n",
        "import torchvision.models as models\n",
        "import torchvision.transforms as T\n",
        "import torchvision.datasets as dset\n",
        "\n",
        "%matplotlib inline\n",
        "\n",
        "# for plotting\n",
        "plt.rcParams['figure.figsize'] = (10.0, 8.0) # set default size of plots\n",
        "plt.rcParams['font.size'] = 16\n",
        "plt.rcParams['image.interpolation'] = 'nearest'\n",
        "plt.rcParams['image.cmap'] = 'gray'"
      ],
      "execution_count": null,
      "outputs": []
    },
    {
      "cell_type": "code",
      "metadata": {
        "id": "hxmelEsIcdqU"
      },
      "source": [
        "def set_seed(seed):\n",
        "    random.seed(seed)\n",
        "    np.random.seed(seed)\n",
        "    torch.manual_seed(seed)\n",
        "    if torch.cuda.is_available():\n",
        "        torch.cuda.manual_seed(seed)\n",
        "        torch.cuda.manual_seed_all(seed)\n",
        "        torch.backends.cudnn.deterministic = True\n",
        "        torch.backends.cudnn.benchmark = False\n",
        "    os.environ[\"PYTHONHASHSEED\"] = str(seed)  \n",
        "\n",
        "set_seed(0)"
      ],
      "execution_count": null,
      "outputs": []
    },
    {
      "cell_type": "code",
      "metadata": {
        "id": "4ha8FNIPdUL7"
      },
      "source": [
        "############################################################################################\n",
        "#                                  BEGINNING OF YOUR CODE                                  #\n",
        "############################################################################################\n",
        "# TODO: Check availability of GPU and set the device accordingly                                 #\n",
        "device = None\n",
        "device = torch.device('cuda')\n",
        "############################################################################################\n",
        "#                                  END OF YOUR CODE                                  #\n",
        "############################################################################################"
      ],
      "execution_count": null,
      "outputs": []
    },
    {
      "cell_type": "code",
      "metadata": {
        "colab": {
          "base_uri": "https://localhost:8080/",
          "height": 423,
          "referenced_widgets": [
            "62eb618b00204d9fa0c73cf111834ed3",
            "c02576238db2449d989da6edc974007d",
            "2befd5d9865441c4b6f43c2102c1ef3c",
            "1b51bb4c5b2e4da393fa6d38affb4cec",
            "86b20a5e50134ba09baaade7e1972980",
            "f0984c869a0b49b4a17ac712d7233f29",
            "1e1e5a1a600f46fba850f46ae81d24a3",
            "8ab6268dc3f444a6b2c57f4a0fa3ab70",
            "407ccfb824334b59920c1fa87423b9e2",
            "3ec7e93752dc400d975bdfdf4ff7b5f8",
            "f9646be20a0a44d391cdcb4db4ae3487",
            "a39e77d036b24f9f85ef6432c4c5bac3",
            "5aa09e35240347649acab9b58bdf0e61",
            "7bf27f96cad849d5b2cf16dd286a853b",
            "46eb95fe5f4946f28859080b4dac60b6",
            "eadf568e4e8f44d0866c6614cefd093d",
            "d4dcadec34664deb96b811dc60098172",
            "304e7fcdcc3d4952bbb69d19d66a777b",
            "603ec0591806401fb130685ac16b080f",
            "9574da609d894c898808b76230864da1",
            "3552397f8f944267a95fb2f42de22fb1",
            "491da8db59834cc2a4f4b9487fdfdfe5",
            "5f4a39194a9e48a0aba406f9c125262b",
            "d7afddfe4cd8474a80dbe6c5fc25274e",
            "d429db09593643899d1329683e38fbd8",
            "aa4c0dfc44084b55b3b654be4c2aadf1",
            "24e7665105ca4638a484023938daa547",
            "627cf9df49834fcd94b8e8a5944f3dea",
            "f5a4a786e6a146c8b8b615a96be2721a",
            "152e17e9d3734542969b97cc43c2a235",
            "a9a73a98c1804dc29e019e442eb0edbe",
            "b75735320b0e472fbe9e188e66c3719b",
            "60a83079f4834fcdad63acc739677666",
            "8d86060ec88a45a9ba6131256d88a4ac",
            "2c52c51961044e5e858aa7a1266874d1",
            "4836aaffa91a4d118e08827257cecec8",
            "46c6450320ca4582b6c944797daebe0f",
            "b54fbb060e4b47529cefb66bf847867e",
            "a4cac638cd7e4445a29b3b6da3add1bc",
            "659a1bda628845cea732c7fe5e3150a0",
            "dfa94169ae2a4682a3531efeca65605f",
            "563a2b0abceb4bd39d6404c4d3428b7d",
            "b71e869694e44a228ccdb9e3b7f69664",
            "dd078cc3a26f4c53a024063cbc245d10"
          ]
        },
        "id": "lKl0wE6ZhyZU",
        "outputId": "77b6bb7e-0da8-4de6-bd1e-e1694f244f67"
      },
      "source": [
        "# Downloading the dataset\n",
        "\n",
        "batch_size = 128\n",
        "\n",
        "mnist_train = dset.MNIST('./MNIST_data', train=True, download=True,\n",
        "                           transform=T.ToTensor())\n",
        "loader_train = DataLoader(mnist_train, batch_size=batch_size,\n",
        "                          shuffle=True, drop_last=True, num_workers=2)"
      ],
      "execution_count": null,
      "outputs": [
        {
          "output_type": "stream",
          "name": "stdout",
          "text": [
            "Downloading http://yann.lecun.com/exdb/mnist/train-images-idx3-ubyte.gz\n",
            "Downloading http://yann.lecun.com/exdb/mnist/train-images-idx3-ubyte.gz to ./MNIST_data/MNIST/raw/train-images-idx3-ubyte.gz\n"
          ]
        },
        {
          "output_type": "display_data",
          "data": {
            "text/plain": [
              "  0%|          | 0/9912422 [00:00<?, ?it/s]"
            ],
            "application/vnd.jupyter.widget-view+json": {
              "version_major": 2,
              "version_minor": 0,
              "model_id": "62eb618b00204d9fa0c73cf111834ed3"
            }
          },
          "metadata": {}
        },
        {
          "output_type": "stream",
          "name": "stdout",
          "text": [
            "Extracting ./MNIST_data/MNIST/raw/train-images-idx3-ubyte.gz to ./MNIST_data/MNIST/raw\n",
            "\n",
            "Downloading http://yann.lecun.com/exdb/mnist/train-labels-idx1-ubyte.gz\n",
            "Downloading http://yann.lecun.com/exdb/mnist/train-labels-idx1-ubyte.gz to ./MNIST_data/MNIST/raw/train-labels-idx1-ubyte.gz\n"
          ]
        },
        {
          "output_type": "display_data",
          "data": {
            "text/plain": [
              "  0%|          | 0/28881 [00:00<?, ?it/s]"
            ],
            "application/vnd.jupyter.widget-view+json": {
              "version_major": 2,
              "version_minor": 0,
              "model_id": "a39e77d036b24f9f85ef6432c4c5bac3"
            }
          },
          "metadata": {}
        },
        {
          "output_type": "stream",
          "name": "stdout",
          "text": [
            "Extracting ./MNIST_data/MNIST/raw/train-labels-idx1-ubyte.gz to ./MNIST_data/MNIST/raw\n",
            "\n",
            "Downloading http://yann.lecun.com/exdb/mnist/t10k-images-idx3-ubyte.gz\n",
            "Downloading http://yann.lecun.com/exdb/mnist/t10k-images-idx3-ubyte.gz to ./MNIST_data/MNIST/raw/t10k-images-idx3-ubyte.gz\n"
          ]
        },
        {
          "output_type": "display_data",
          "data": {
            "text/plain": [
              "  0%|          | 0/1648877 [00:00<?, ?it/s]"
            ],
            "application/vnd.jupyter.widget-view+json": {
              "version_major": 2,
              "version_minor": 0,
              "model_id": "5f4a39194a9e48a0aba406f9c125262b"
            }
          },
          "metadata": {}
        },
        {
          "output_type": "stream",
          "name": "stdout",
          "text": [
            "Extracting ./MNIST_data/MNIST/raw/t10k-images-idx3-ubyte.gz to ./MNIST_data/MNIST/raw\n",
            "\n",
            "Downloading http://yann.lecun.com/exdb/mnist/t10k-labels-idx1-ubyte.gz\n",
            "Downloading http://yann.lecun.com/exdb/mnist/t10k-labels-idx1-ubyte.gz to ./MNIST_data/MNIST/raw/t10k-labels-idx1-ubyte.gz\n"
          ]
        },
        {
          "output_type": "display_data",
          "data": {
            "text/plain": [
              "  0%|          | 0/4542 [00:00<?, ?it/s]"
            ],
            "application/vnd.jupyter.widget-view+json": {
              "version_major": 2,
              "version_minor": 0,
              "model_id": "8d86060ec88a45a9ba6131256d88a4ac"
            }
          },
          "metadata": {}
        },
        {
          "output_type": "stream",
          "name": "stdout",
          "text": [
            "Extracting ./MNIST_data/MNIST/raw/t10k-labels-idx1-ubyte.gz to ./MNIST_data/MNIST/raw\n",
            "\n"
          ]
        }
      ]
    },
    {
      "cell_type": "code",
      "metadata": {
        "id": "Oz2h0lcXy03J"
      },
      "source": [
        "# Custom Function to show images\n",
        "\n",
        "def show_images(images):\n",
        "    images = torch.reshape(images, [images.shape[0], -1])  # images reshape to (batch_size, D)\n",
        "    sqrtn = int(math.ceil(math.sqrt(images.shape[0])))\n",
        "    sqrtimg = int(math.ceil(math.sqrt(images.shape[1])))\n",
        "\n",
        "    fig = plt.figure(figsize=(sqrtn, sqrtn))\n",
        "    gs = gridspec.GridSpec(sqrtn, sqrtn)\n",
        "    gs.update(wspace=0.05, hspace=0.05)\n",
        "\n",
        "    for i, img in enumerate(images):\n",
        "        ax = plt.subplot(gs[i])\n",
        "        plt.axis('off')\n",
        "        ax.set_xticklabels([])\n",
        "        ax.set_yticklabels([])\n",
        "        ax.set_aspect('equal')\n",
        "        plt.imshow(img.reshape([sqrtimg,sqrtimg]))\n",
        "    return "
      ],
      "execution_count": null,
      "outputs": []
    },
    {
      "cell_type": "markdown",
      "metadata": {
        "id": "KBQngPeQjLuM"
      },
      "source": [
        "## Define the model parameters\n",
        "\n",
        "1. Define the `encoder`, `decoder`, `mu_layer`, and `logvar_layer` in the initialization (`__init__` function) of the below class. Use nn.Sequential to define the encoder, and separate Linear layers for the mu and logvar layers. In all of these layers, H will be a hidden dimension you set and will be the same across all encoder and decoder layers. \n",
        "\n",
        "**Architecture for the encoder is described below:**\n",
        "\n",
        "\n",
        " * `Flatten` (Hint: nn.Flatten)\n",
        " * Fully connected layer with input size 784 (`input_size`) and output size H\n",
        " * `LeakyReLU` with negative slope of 0.01\n",
        " * Fully connected layer with input_size H and output size H\n",
        " * `LeakyReLU` with negative slope of 0.01\n",
        " \n",
        "We'll now define the decoder, which will take the latent space representation and generate a reconstructed image. The architecture is as follows: \n",
        "\n",
        "\n",
        " **Architecture for the decoder is described below:**\n",
        "\n",
        "\n",
        " * Fully connected layer with input size as the latent size (Z) and output size H\n",
        " * `LeakyReLU` with negative slope of 0.01\n",
        " * Fully connected layer with input_size H and output size H\n",
        " * `LeakyReLU` with negative slope of 0.01\n",
        " * Fully connected layer with input_size H and output size H\n",
        " * `LeakyReLU` with negative slope of 0.01\n",
        " * Fully connected layer with input_size H and output size H\n",
        " * `LeakyReLU` with negative slope of 0.01\n",
        " * Fully connected layer with input_size H and output size 784 (`input_size`)\n",
        " * `Sigmoid`\n",
        " * `Unflatten` (nn.Unflatten)\n",
        "\n",
        "\n",
        "Please do not touch the `forward` function for now. We will come back to it later."
      ]
    },
    {
      "cell_type": "code",
      "metadata": {
        "id": "zqsz8iHCi03O"
      },
      "source": [
        "class VAE(nn.Module):\n",
        "    def __init__(self, input_size, latent_size=15):\n",
        "        super(VAE, self).__init__()\n",
        "        self.input_size = input_size # H*W\n",
        "        self.latent_size = latent_size # Z\n",
        "        self.hidden_dim = 150\n",
        "\n",
        "        self.encoder = None\n",
        "        self.mu_layer = None\n",
        "        self.logvar_layer = None\n",
        "        self.decoder = None\n",
        "\n",
        "        ############################################################################################\n",
        "        #                                  BEGINNING OF YOUR CODE                                  #\n",
        "        ############################################################################################\n",
        "        ############################################################################################\n",
        "        # TODO: Implement the fully-connected encoder architecture described in the notebook.      #\n",
        "        # Specifically, self.encoder should be a network that inputs a batch of input images of    #\n",
        "        # shape (N, 1, H, W) into a batch of hidden features of shape (N, H_d). Set up             #\n",
        "        # self.mu_layer and self.logvar_layer to be a pair of linear layers that map the hidden    #\n",
        "        # features into estimates of the mean and log-variance of the posterior over the latent    #\n",
        "        # vectors; the mean and log-variance estimates will both be tensors of shape (N, Z).       #\n",
        "        ############################################################################################\n",
        "        \n",
        "\n",
        "        # Define the encoder: A two Linear+ReLU layers neural network.\n",
        "        self.encoder = nn.Sequential(\n",
        "          nn.Flatten(),\n",
        "          nn.Linear(self.input_size, self.hidden_dim),\n",
        "          nn.LeakyReLU(0.01),\n",
        "          nn.Linear(self.hidden_dim, self.hidden_dim),\n",
        "          nn.LeakyReLU(0.01),\n",
        "        )\n",
        "\n",
        "        # Define the mu_layer, with input (N, H_d) and output (N, Z)\n",
        "        self.mu_layer = nn.Linear(self.hidden_dim, self.latent_size)\n",
        "        # Define the logvar_layer, with input (N, H_d) and output (N, Z)\n",
        "        self.logvar_layer = nn.Linear(self.hidden_dim, self.latent_size)\n",
        "\n",
        "        ############################################################################################\n",
        "        # TODO: Implement the fully-connected decoder architecture described in the notebook.      #\n",
        "        # Specifically, self.decoder should be a network that inputs a batch of latent vectors of  #\n",
        "        # shape (N, Z) and outputs a tensor of estimated images of shape (N, 1, H, W).             #\n",
        "        ############################################################################################\n",
        "        \n",
        "\n",
        "        self.decoder = nn.Sequential(\n",
        "          nn.Linear(self.latent_size, self.hidden_dim),\n",
        "          nn.LeakyReLU(0.01),\n",
        "          nn.Linear(self.hidden_dim, self.hidden_dim),\n",
        "          nn.LeakyReLU(0.01),\n",
        "          nn.Linear(self.hidden_dim, self.hidden_dim),\n",
        "          nn.LeakyReLU(0.01),\n",
        "          nn.Linear(self.hidden_dim, self.hidden_dim),\n",
        "          nn.LeakyReLU(0.01),\n",
        "          nn.Linear(self.hidden_dim, self.input_size),\n",
        "          nn.Sigmoid(),\n",
        "          nn.Unflatten(dim=1, unflattened_size=(1, 28, 28))\n",
        "        )\n",
        "\n",
        "        ############################################################################################\n",
        "        #                                      END OF YOUR CODE                                    #\n",
        "        ############################################################################################\n",
        "\n",
        "\n",
        "    def forward(self, x):\n",
        "        \"\"\"\n",
        "        Performs forward pass through FC-VAE model by passing image through \n",
        "        encoder, reparametrize trick, and decoder models\n",
        "    \n",
        "        Inputs:\n",
        "        - x: Batch of input images of shape (N, 1, H, W)\n",
        "        \n",
        "        Returns:\n",
        "        - x_hat: Reconstruced input data of shape (N,1,H,W)\n",
        "        - mu: Matrix representing estimated posterior mu (N, Z), with Z latent space dimension\n",
        "        - logvar: Matrix representing estimataed variance in log-space (N, Z), with Z latent space dimension\n",
        "        \"\"\"\n",
        "        x_hat = None\n",
        "        mu = None\n",
        "        logvar = None\n",
        "\n",
        "        ############################################################################################\n",
        "        #                                  BEGINNING OF YOUR CODE                                  #\n",
        "        ############################################################################################\n",
        "        ############################################################################################\n",
        "        # TODO: Implement the forward pass by following these steps                                #\n",
        "        # (1) Pass the input batch through the encoder model, pass the output to mu_layer and      # \n",
        "        # logvar_layer to get the posterior mu and logvariance                                     #\n",
        "        # (2) Reparametrize to compute  the latent vector z                                        #\n",
        "        # (3) Pass z through the decoder to resconstruct x                                         #\n",
        "        ############################################################################################\n",
        "      \n",
        "        # Pass input images \"x\" to the encoder. Output shape is: (N, H_d)\n",
        "        encoder_out = self.encoder(x)\n",
        "\n",
        "        # Get the posterior mu from the encoder's output. Its shape is: (N, Z)\n",
        "        mu = self.mu_layer(encoder_out)\n",
        "        # Get the posterior logvariance from the encoder's output. Its shape is: (N, Z)\n",
        "        logvar = self.logvar_layer(encoder_out)\n",
        "\n",
        "        # Reparametrize to compute the latent vector \"z\", of shape (N, Z)\n",
        "        z = reparametrize(mu, logvar)\n",
        "\n",
        "        # Pass \"z\" through the decoder to resconstruct \"x\", the \"x_hat\".\n",
        "        x_hat = self.decoder(z)\n",
        "\n",
        "        ############################################################################################\n",
        "        #                                      END OF YOUR CODE                                    #\n",
        "        ############################################################################################\n",
        "        return x_hat, mu, logvar"
      ],
      "execution_count": null,
      "outputs": []
    },
    {
      "cell_type": "markdown",
      "metadata": {
        "id": "lzNMeW1Ym2F2"
      },
      "source": [
        "## Reparameterization Trick\n",
        "\n",
        "Now we'll apply a reparametrization trick in order to estimate the posterior $z$ during our forward pass, given the $\\mu$ and $\\sigma^2$ estimated by the encoder. A simple way to do this could be to simply generate a normal distribution centered at our  $\\mu$ and having a std corresponding to our $\\sigma^2$. However, we would have to backpropogate through this random sampling that is not differentiable. Instead, we sample initial random data $\\epsilon$ from a fixed distrubtion, and compute $z$ as a function of ($\\epsilon$, $\\sigma^2$, $\\mu$). Specifically:\n",
        "\n",
        "$z = \\mu + \\sigma\\epsilon$\n",
        "\n",
        "We can easily find the partial derivatives w.r.t $\\mu$ and $\\sigma^2$ and backpropagate through $z$. If $\\epsilon = \\mathcal{N} (0,1)$, then its easy to verify that the result of our forward pass calculation will be a distribution centered at $\\mu$ with variance $\\sigma^2$.\n",
        "\n",
        "Implement the `reparametrization` function."
      ]
    },
    {
      "cell_type": "code",
      "metadata": {
        "id": "8C_bFtNejgbr"
      },
      "source": [
        "def reparametrize(mu, logvar):\n",
        "    \"\"\"\n",
        "    Differentiably sample random Gaussian data with specified mean and variance using the\n",
        "    reparameterization trick.\n",
        "    Inputs:\n",
        "    - mu: Tensor of shape (N, Z) giving means\n",
        "    - logvar: Tensor of shape (N, Z) giving log-variances\n",
        "    Returns: \n",
        "    - z: Estimated latent vector of shape (N, Z), where z[i, j] is a random value sampled from a Gaussian with\n",
        "         mean mu[i, j] and log-variance logvar[i, j].\n",
        "    \"\"\"\n",
        "    z = None\n",
        "\n",
        "    ################################################################################################\n",
        "    #                                  BEGINNING OF YOUR CODE                                      #\n",
        "    ################################################################################################\n",
        "    ################################################################################################\n",
        "    # TODO: Reparametrize by initializing epsilon as a normal distribution and scaling by          #\n",
        "    # posterior mu and sigma to estimate z                                                         #\n",
        "    ################################################################################################\n",
        "    \n",
        "\n",
        "    # Convert the \"log of the variance\" to \"sigma\" (standard deviation).\n",
        "    sigma = torch.sqrt(torch.exp(logvar))\n",
        "\n",
        "    # Compute 'z'.\n",
        "    # Epsilon is a Tensor that contains random samples from a standard normal\n",
        "    # distribution (mu=0, std=1)\n",
        "    z = sigma * torch.randn_like(mu) + mu\n",
        "\n",
        "\n",
        "    ################################################################################################\n",
        "    #                              END OF YOUR CODE                                                #\n",
        "    ################################################################################################\n",
        "    return z"
      ],
      "execution_count": null,
      "outputs": []
    },
    {
      "cell_type": "markdown",
      "metadata": {
        "id": "z3RBCZL6nFWf"
      },
      "source": [
        "## Define the forward pass in the `VAE` class\n",
        "\n",
        "Go back to the cell above the Reparameterization trick header, which contains the definition of the `VAE` class.\n",
        "\n",
        "Implement the forward pass in the `forward` function, and run the cell."
      ]
    },
    {
      "cell_type": "markdown",
      "metadata": {
        "id": "FyMgNxsRnfH_"
      },
      "source": [
        "## Loss function\n",
        "\n",
        "The loss function for VAEs contains two terms: A reconstruction loss term (left) and KL divergence term (right). \n",
        "\n",
        "$-E_{Z~q_{\\phi}(z|x)}[log p_{\\theta}(x|z)] + D_{KL}(q_{\\phi}(z|x), p(z)))$\n",
        "\n",
        "Note that this is the negative of the variational lowerbound -this ensures that when we are minimizing this loss term, we're maximizing the variational lowerbound. The reconstruction loss term can be computed by simply using the binary cross entropy loss between the original input pixels and the output pixels of our decoder (Hint: `nn.functional.binary_cross_entropy`). The KL divergence term works to force the latent space distribution to be close to a prior distribution (we're using a standard normal gaussian as our prior).\n",
        "\n",
        "To help you out, we've derived an unvectorized form of the KL divergence term for you.\n",
        "Suppose that $q_\\phi(z|x)$ is a $Z$-dimensional diagonal Gaussian with mean $\\mu_{z|x}$ of shape $(Z,)$ and standard deviation $\\sigma_{z|x}$ of shape $(Z,)$, and that $p(z)$ is a $Z$-dimensional Gaussian with zero mean and unit variance. Then we can write the KL divergence term as:\n",
        "\n",
        "$D_{KL}(q_{\\phi}(z|x), p(z))) = -\\frac{1}{2} \\sum_{j=1}^{J} (1 + log(\\sigma_{z|x}^2)_{j} - (\\mu_{z|x})^2_{j} - (\\sigma_{z|x})^2_{j}$)\n",
        "\n",
        "Implement a vectorized version of this loss that operates on minibatches.\n",
        "You should average the loss across samples in the minibatch."
      ]
    },
    {
      "cell_type": "code",
      "metadata": {
        "id": "OiWEliJll3KM"
      },
      "source": [
        "def loss_function(x_hat, x, mu, logvar):\n",
        "    \"\"\"\n",
        "    Computes the negative variational lower bound loss term of the VAE (refer to formulation in notebook).\n",
        "    Inputs:\n",
        "    - x_hat: Reconstruced input data of shape (N, 1, H, W)\n",
        "    - x: Input data for this timestep of shape (N, 1, H, W)\n",
        "    - mu: Matrix representing estimated posterior mu (N, Z), with Z latent space dimension\n",
        "    - logvar: Matrix representing estimated variance in log-space (N, Z), with Z latent space dimension\n",
        "    \n",
        "    Returns:\n",
        "    - loss: Tensor containing the scalar loss for the negative variational lowerbound\n",
        "    \"\"\"\n",
        "    loss = None\n",
        "    \n",
        "    ################################################################################################\n",
        "    #                                  BEGINNING OF YOUR CODE                                      #\n",
        "    ################################################################################################\n",
        "    ################################################################################################\n",
        "    # TODO: Compute negative variational lowerbound loss as described in the notebook.             #\n",
        "    # Note that the log variance is provided as the input to your function. Interpret the hints    #\n",
        "    # above accordingly.\n",
        "    ################################################################################################\n",
        "    \n",
        "\n",
        "    # Get the minibatch size\n",
        "    N = mu.shape[0]\n",
        "\n",
        "    # Compute the reconstruction loss term, using Binary Cross Entropy (BCE) loss.\n",
        "    # The \"BCE loss\" have to be adapted to the \"reconstruction loss\" (Expectation) by:\n",
        "    # - Changing the reduction mode from 'mean' (default) to 'sum' (used in the Expectation).\n",
        "    # - The input to the BCE is 'x_hat' and the target is 'x'. This can be done because we are\n",
        "    # operating on MNIST dataset, where each pixel is either 0 or 1.\n",
        "    # Note that the minus sign is handled by the BCE loss itself.\n",
        "    rec_term = nn.functional.binary_cross_entropy(x_hat, x, reduction='sum')\n",
        "\n",
        "    # Compute the KL divergence term (kldiv_term).\n",
        "    kldiv_term = 1 + logvar - mu**2 - torch.exp(logvar)\n",
        "    kldiv_term = -0.5 * kldiv_term.sum()\n",
        "\n",
        "    # Final loss is the sum of \"reconstruction loss term\" and \"KL divergence term\".\n",
        "    loss = rec_term + kldiv_term\n",
        "\n",
        "    # Average the loss across samples in the minibatch.\n",
        "    loss /= N\n",
        "    \n",
        "    ################################################################################################\n",
        "    #                            END OF YOUR CODE                                                  #\n",
        "    ################################################################################################\n",
        "    return loss"
      ],
      "execution_count": null,
      "outputs": []
    },
    {
      "cell_type": "markdown",
      "metadata": {
        "id": "-2NahGjLwTWW"
      },
      "source": [
        "## Train the VAE"
      ]
    },
    {
      "cell_type": "code",
      "metadata": {
        "id": "8h0Qt5jVwr4L"
      },
      "source": [
        "# Leave this cell untouched\n",
        "def train_vae(epoch, model, train_loader):\n",
        "    \"\"\"\n",
        "    Train the VAE!\n",
        "\n",
        "    Inputs:\n",
        "    - epoch: Current epoch number \n",
        "    - model: VAE model object\n",
        "    - train_loader: PyTorch Dataloader object that contains our training data\n",
        "    \"\"\"\n",
        "    model.train()\n",
        "    train_loss = 0\n",
        "    num_classes = 10\n",
        "    loss = None\n",
        "    optimizer = optim.Adam(model.parameters(), lr=1e-3)\n",
        "    for batch_idx, (data, labels) in enumerate(train_loader):\n",
        "        data = data.to(device)\n",
        "        recon_batch, mu, logvar = model(data)\n",
        "        optimizer.zero_grad()\n",
        "        loss = loss_function(recon_batch, data, mu, logvar)\n",
        "        loss.backward()\n",
        "        train_loss += loss.data\n",
        "        optimizer.step()\n",
        "    print('Train Epoch: {} \\tLoss: {:.6f}'.format(\n",
        "        epoch, loss.data))"
      ],
      "execution_count": null,
      "outputs": []
    },
    {
      "cell_type": "code",
      "metadata": {
        "id": "slirT1GSwUXE",
        "colab": {
          "base_uri": "https://localhost:8080/"
        },
        "outputId": "92568856-87d2-483d-fad4-8e43aaa1f5a1"
      },
      "source": [
        "# Leave this cell untouched\n",
        "\n",
        "set_seed(0)\n",
        "\n",
        "num_epochs = 10\n",
        "latent_size = 15\n",
        "input_size = 28*28\n",
        "\n",
        "\n",
        "vae_model = VAE(input_size, latent_size=latent_size)\n",
        "vae_model.to(device)\n",
        "for epoch in range(0, num_epochs):\n",
        "  train_vae(epoch, vae_model, loader_train)"
      ],
      "execution_count": null,
      "outputs": [
        {
          "output_type": "stream",
          "name": "stdout",
          "text": [
            "Train Epoch: 0 \tLoss: 184.344604\n",
            "Train Epoch: 1 \tLoss: 140.348877\n",
            "Train Epoch: 2 \tLoss: 134.319748\n",
            "Train Epoch: 3 \tLoss: 132.025558\n",
            "Train Epoch: 4 \tLoss: 121.897018\n",
            "Train Epoch: 5 \tLoss: 127.866997\n",
            "Train Epoch: 6 \tLoss: 123.495796\n",
            "Train Epoch: 7 \tLoss: 123.404282\n",
            "Train Epoch: 8 \tLoss: 115.670624\n",
            "Train Epoch: 9 \tLoss: 116.173759\n"
          ]
        }
      ]
    },
    {
      "cell_type": "markdown",
      "metadata": {
        "id": "AhUx6MbPzXo-"
      },
      "source": [
        "## Question 1\n",
        "\n",
        "Report the final training loss displayed after training the VAE, as displayed in the cell.(Select the closest answer)\n",
        "\n",
        "1. 116 (Correct Answer)\n",
        "2. 103\n",
        "3. 128\n",
        "4. 90 "
      ]
    },
    {
      "cell_type": "markdown",
      "metadata": {
        "id": "nRU6mPsa3C05"
      },
      "source": [
        "# Adversarial Autoencoder(AAE)\n",
        "\n",
        "In the following problem we will implement an Adversarial Autoencoder(AAE) to map MNIST images into latent representations that follow a Gaussian distribution. Please refer to the lecture to understand the idea behind AAE.\n",
        "\n"
      ]
    },
    {
      "cell_type": "code",
      "metadata": {
        "id": "BY0BKYT13y8-"
      },
      "source": [
        "import math\n",
        "import torch\n",
        "import torch.nn as nn\n",
        "from torch.nn import init\n",
        "import torchvision\n",
        "import random\n",
        "import os\n",
        "import numpy as np\n",
        "import torchvision.transforms as T\n",
        "import torch.nn.functional as F\n",
        "import torch.optim as optim\n",
        "from torch.utils.data import DataLoader\n",
        "from torch.utils.data import sampler\n",
        "import torchvision.datasets as dset\n",
        "\n",
        "import matplotlib.pyplot as plt\n",
        "import matplotlib.gridspec as gridspec\n",
        "\n",
        "%matplotlib inline\n",
        "plt.rcParams['figure.figsize'] = (10.0, 8.0) # set default size of plots\n",
        "plt.rcParams['image.interpolation'] = 'nearest'\n",
        "plt.rcParams['image.cmap'] = 'gray'"
      ],
      "execution_count": null,
      "outputs": []
    },
    {
      "cell_type": "code",
      "metadata": {
        "id": "04BBosbH-ysQ"
      },
      "source": [
        "def set_seed(seed):\n",
        "    random.seed(seed)\n",
        "    np.random.seed(seed)\n",
        "    torch.manual_seed(seed)\n",
        "    if torch.cuda.is_available():\n",
        "        torch.cuda.manual_seed(seed)\n",
        "        torch.cuda.manual_seed_all(seed)\n",
        "        torch.backends.cudnn.deterministic = True\n",
        "        torch.backends.cudnn.benchmark = False\n",
        "    os.environ[\"PYTHONHASHSEED\"] = str(seed)  \n",
        "\n",
        "set_seed(0)"
      ],
      "execution_count": null,
      "outputs": []
    },
    {
      "cell_type": "code",
      "metadata": {
        "id": "RjNw0exp4RAu"
      },
      "source": [
        "def show_images(images):\n",
        "    images = torch.reshape(images, [images.shape[0], -1])  # images reshape to (batch_size, D)\n",
        "    sqrtn = int(math.ceil(math.sqrt(images.shape[0])))\n",
        "    sqrtimg = int(math.ceil(math.sqrt(images.shape[1])))\n",
        "\n",
        "    fig = plt.figure(figsize=(sqrtn, sqrtn))\n",
        "    gs = gridspec.GridSpec(sqrtn, sqrtn)\n",
        "    gs.update(wspace=0.05, hspace=0.05)\n",
        "\n",
        "    for i, img in enumerate(images):\n",
        "        ax = plt.subplot(gs[i])\n",
        "        plt.axis('off')\n",
        "        ax.set_xticklabels([])\n",
        "        ax.set_yticklabels([])\n",
        "        ax.set_aspect('equal')\n",
        "        plt.imshow(img.reshape([sqrtimg,sqrtimg]))\n",
        "    return "
      ],
      "execution_count": null,
      "outputs": []
    },
    {
      "cell_type": "code",
      "metadata": {
        "id": "TKCzWX2u36_5"
      },
      "source": [
        "dtype = torch.float\n",
        "\n",
        "# set device\n",
        "\n",
        "device = torch.device(\"cuda:0\")"
      ],
      "execution_count": null,
      "outputs": []
    },
    {
      "cell_type": "code",
      "metadata": {
        "colab": {
          "base_uri": "https://localhost:8080/",
          "height": 646
        },
        "id": "dIlAsdo74Dzm",
        "outputId": "f2b5f038-f4f1-4232-f1ff-86a33be80c08"
      },
      "source": [
        "# let us load the input images from the dataset and visualize some images!\n",
        "\n",
        "batch_size = 128\n",
        "NOISE_DIM = 96\n",
        "\n",
        "print('download MNIST if not exist')\n",
        "\n",
        "mnist_train = dset.MNIST('./MNIST_data', train=True, download=True,\n",
        "                           transform=T.ToTensor())\n",
        "loader_train = DataLoader(mnist_train, batch_size=batch_size,\n",
        "                          shuffle=True, drop_last=True, num_workers=2)\n",
        "\n",
        "\n",
        "imgs = loader_train.__iter__().next()[0].view(batch_size, 784)\n",
        "show_images(imgs)"
      ],
      "execution_count": null,
      "outputs": [
        {
          "output_type": "stream",
          "name": "stdout",
          "text": [
            "download MNIST if not exist\n"
          ]
        },
        {
          "output_type": "display_data",
          "data": {
            "text/plain": [
              "<Figure size 864x864 with 128 Axes>"
            ],
            "image/png": "[encoded data removed]"
          },
          "metadata": {
            "needs_background": "light"
          }
        }
      ]
    },
    {
      "cell_type": "markdown",
      "metadata": {
        "id": "KdjcIjLD4fhC"
      },
      "source": [
        "## Generating Random Noise\n",
        "\n",
        "The first step is to generate gaussian noise with mean 0 and variance 25 with shape `[batch_size, noise_dim]`. This noise will be used to draw samples of  vectors with the desired prior distribution to which we want to map our latent representations.\n",
        "\n",
        "Hint: use `torch.randn`.\n",
        "\n",
        "Implement `sample_gaussian_noise` below."
      ]
    },
    {
      "cell_type": "code",
      "metadata": {
        "id": "FEhLLyOZOExi"
      },
      "source": [
        "def sample_gaussian_noise(batch_size, noise_dim, dtype=torch.float, device='cpu'):\n",
        "  \"\"\"\n",
        "  Generate a PyTorch Tensor of uniform random noise.\n",
        "\n",
        "  Input:\n",
        "  - batch_size: Integer giving the batch size of noise to generate.\n",
        "  - noise_dim: Integer giving the dimension of noise to generate.\n",
        "  \n",
        "  Output:\n",
        "  - A PyTorch Tensor of shape (batch_size, noise_dim) containing gaussian noise with mean 0 and variance 25.\n",
        "  \"\"\"\n",
        "  noise = None\n",
        "  ##############################################################################\n",
        "  #                           BEGINNING OF YOUR CODE                           #\n",
        "  ##############################################################################\n",
        "  ##############################################################################\n",
        "  # TODO: Implement sample_noise.                                              #\n",
        "  ##############################################################################\n",
        " \n",
        "  # The generated noise values (from gaussian distribution) must have mean 0 \n",
        "  # and variance 25.\n",
        "  # However, \"torch.randn\" generates noise with variance 1.\n",
        "  # For that, we must multiply the noise with appropiate constant which is the \n",
        "  # square root of the desired variance.\n",
        " \n",
        "  noise = torch.randn((batch_size, noise_dim), device=device) * 5\n",
        "\n",
        "  ##############################################################################\n",
        "  #                              END OF YOUR CODE                              #\n",
        "  ##############################################################################\n",
        "\n",
        "  return noise"
      ],
      "execution_count": null,
      "outputs": []
    },
    {
      "cell_type": "markdown",
      "metadata": {
        "id": "dWvV_e6b5Aa_"
      },
      "source": [
        "## Encoder, Decoder and Discriminator\n",
        "\n",
        "**The definitions of these functions are provided to you.**\n",
        "\n",
        "They are explained below:\n",
        "\n",
        "### Encoder\n",
        "\n",
        "The architecture is:\n",
        " * Fully connected layer with input size 784 and output size 256\n",
        " * `LeakyReLU with alpha 0.01`\n",
        " * Fully connected layer with input size 256 and output size 256\n",
        " * `LeakyReLU with alpha 0.01`\n",
        " * Fully connected layer with input size 256 and output size is the `latent_size`.\n",
        "  \n",
        "The output of the discriminator is of shape `[batch_size, latent size]`, and contains the latent representations of each of the `batch_size` inputs.\n",
        "\n",
        "### Decoder\n",
        "\n",
        "The architecture is:\n",
        " * Fully connected layer from `latent_size` to 1024\n",
        " * `ReLU`\n",
        " * Fully connected layer with input size 1024 and output size 1024\n",
        " * `ReLU`\n",
        " * Fully connected layer with input size 1024 and output size 784\n",
        " * `Sigmoid` (to clip the image to be in the range of [0,1])\n",
        "\n",
        " This outputs a tensor of shape of `[batch_size, 784]` that is the   reconstructed images in the batch.\n",
        "\n",
        "### Discriminator\n",
        "\n",
        "The architecture is:\n",
        " * Fully connected layer from `latent_size` to 256\n",
        " * `LeakyReLU with alpha 0.01`\n",
        " * Fully connected layer with input size 256 and output size 256 \n",
        " * `LeakyReLU with alpha 0.01`\n",
        " * Fully connected layer with input size 256 and output size 1\n",
        "\n",
        " This outputs a tensor of shape of `[batch_size, 1]` that is indication whether the latent noise input is coming for the real prior distribuition or not."
      ]
    },
    {
      "cell_type": "code",
      "source": [
        "LATENT_SIZE = 24 # default noise dimension\n",
        "\n",
        "##############################################################################\n",
        "#                           BEGINNING OF YOUR CODE                           #\n",
        "##############################################################################\n",
        "##############################################################################\n",
        "\n",
        "def encoder(latent_size=LATENT_SIZE):\n",
        "  ##############################################################################\n",
        "  #TODO: Build and return a PyTorch nn.Sequential model implementing the architecture in the notebook.\n",
        "  ##############################################################################\n",
        "\n",
        "  model = nn.Sequential(\n",
        "    nn.Flatten(),\n",
        "    nn.Linear(784, 256),  # 1st Fully-Connected layer.\n",
        "    nn.LeakyReLU(0.01),\n",
        "    nn.Linear(256, 256),  # 2nd Fully-Connected layer.\n",
        "    nn.LeakyReLU(0.01),\n",
        "    nn.Linear(256, latent_size)     # 3rd Fully-Connected layer.\n",
        "  )\n",
        "\n",
        "  return model\n",
        "\n",
        "\n",
        "def decoder(latent_size=LATENT_SIZE):\n",
        "  ##############################################################################\n",
        "  #TODO: Build and return a PyTorch nn.Sequential model implementing the \n",
        "  # architecture in the notebook.\n",
        "  ##############################################################################\n",
        "  model = nn.Sequential(\n",
        "    nn.Linear(latent_size, 1024),  # 1st Fully-Connected layer.\n",
        "    nn.ReLU(),\n",
        "    nn.Linear(1024, 1024),       # 2nd Fully-Connected layer.\n",
        "    nn.ReLU(),\n",
        "    nn.Linear(1024, 784),        # 3rd Fully-Connected layer.\n",
        "    nn.Sigmoid()\n",
        "  )\n",
        "\n",
        "  return model  \n",
        "\n",
        "\n",
        "def discriminator(latent_size=LATENT_SIZE):\n",
        "  ##############################################################################\n",
        "  #TODO: Build and return a PyTorch nn.Sequential model implementing the \n",
        "  # architecture in the notebook.\n",
        "  ##############################################################################\n",
        "  model = nn.Sequential(\n",
        "    nn.Linear(latent_size, 256),  # 1st Fully-Connected layer.\n",
        "    nn.LeakyReLU(0.1),\n",
        "    nn.Linear(256, 256),       # 2nd Fully-Connected layer.\n",
        "    nn.LeakyReLU(0.1),\n",
        "    nn.Linear(256, 1)        # 3rd Fully-Connected layer.\n",
        "  )\n",
        "\n",
        "  return model  \n",
        "\n",
        "##############################################################################\n",
        "#                              END OF YOUR CODE                              #\n",
        "##############################################################################"
      ],
      "metadata": {
        "id": "-FcOfIwcS4CP"
      },
      "execution_count": null,
      "outputs": []
    },
    {
      "cell_type": "markdown",
      "metadata": {
        "id": "UkYTW6UF5oKQ"
      },
      "source": [
        "## Loss functions\n",
        "\n",
        "We will compute the generator and discriminator loss. \n",
        "\n",
        "The generator loss is:\n",
        "$$\\ell_G  =  -\\mathbb{E}_{z \\sim p(z)}\\left[\\log D(G(z))\\right]$$\n",
        "and the discriminator loss is:\n",
        "$$ \\ell_D = -\\mathbb{E}_{x \\sim p_\\text{data}}\\left[\\log D(x)\\right] - \\mathbb{E}_{z \\sim p(z)}\\left[\\log \\left(1-D(G(z))\\right)\\right]$$\n",
        "We will be *minimizing* these losses. We have already implemented the functions to compute these losses. Please go trhough them carefully.\n",
        "\n"
      ]
    },
    {
      "cell_type": "code",
      "metadata": {
        "id": "w_Jjl_Me5pnf"
      },
      "source": [
        "def discriminator_loss(logits_real, logits_fake):\n",
        "  \"\"\"\n",
        "  Computes the discriminator loss described above.\n",
        "  \n",
        "  Inputs:\n",
        "  - logits_real: PyTorch Tensor of shape (N,) giving scores for the real data.\n",
        "  - logits_fake: PyTorch Tensor of shape (N,) giving scores for the fake data.\n",
        "  \n",
        "  Returns:\n",
        "  - loss: PyTorch Tensor containing (scalar) the loss for the discriminator.\n",
        "  \"\"\"\n",
        "  loss = None\n",
        "  \n",
        "  # For the discriminator (D), the true target (y = 1) corresponds to \"real\" vectors.\n",
        "  # Thus, for the scores of real vectors, the target is always 1 (a vector).\n",
        "  real_labels = torch.ones_like(logits_real, device=device)\n",
        "  # Compute the BCE for the scores of the real vectors.\n",
        "  # Note that the BCE itself uses the Expectation formula (in addition, an average is\n",
        "  # taken throughout the losses, not a sum [as requested in this assignment]).\n",
        "  real_loss = F.binary_cross_entropy_with_logits(logits_real, real_labels)\n",
        "\n",
        "  # For D, the false target (y = 0) corresponds to \"fake\" vectors.\n",
        "  # Thus, for the scores of fake vectors, the target is always 0 (a vector).\n",
        "  fake_labels = torch.zeros_like(logits_fake, device=device)\n",
        "  # As for the real scores, compute the BCE loss for the fake vectors.\n",
        "  fake_loss = F.binary_cross_entropy_with_logits(logits_fake, fake_labels)\n",
        "\n",
        "  # Sum \"real\" and \"fake\" losses.\n",
        "  # That is, BCE has already taken into account the \"negated equation\" form,\n",
        "  # the \"log\" (in the Expectation) and the \"mean\" (insetead on the \"sum\").\n",
        "  loss = real_loss + fake_loss\n",
        "\n",
        "  return loss\n",
        "\n",
        "def generator_loss(logits_fake):\n",
        "  \"\"\"\n",
        "  Computes the generator loss described above.\n",
        "\n",
        "  Inputs:\n",
        "  - logits_fake: PyTorch Tensor of shape (N,) giving scores for the fake data.\n",
        "  \n",
        "  Returns:\n",
        "  - loss: PyTorch Tensor containing the (scalar) loss for the generator.\n",
        "  \"\"\"\n",
        "  loss = None\n",
        "  \n",
        "  # For the generator (G), the true target (y = 1) corresponds to \"fake\" vectors.\n",
        "  # Thus, for the scores of fake vectors, the target is always 1 (a vector).\n",
        "  fake_labels = torch.ones_like(logits_fake, device=device)\n",
        "  # Compute the BCE for the scores of the fake vectors.\n",
        "  fake_loss = F.binary_cross_entropy_with_logits(logits_fake, fake_labels)\n",
        "\n",
        "  # The generator loss is \"fake_loss\".\n",
        "  # That is, BCE has already taken into account the \"negated equation\" form,\n",
        "  # the \"log\" (in the Expectation) and the \"mean\" (insetead on the \"sum\").\n",
        "  loss = fake_loss\n",
        "\n",
        "  return loss"
      ],
      "execution_count": null,
      "outputs": []
    },
    {
      "cell_type": "markdown",
      "metadata": {
        "id": "L3zkv8Mp69Kx"
      },
      "source": [
        "## Training\n",
        "\n",
        "Complete the code below for the main training loop of the Adverserial Autoencoder."
      ]
    },
    {
      "cell_type": "code",
      "source": [
        "def run_aae(En, De, Ds, En_solver, De_solver, Ds_solver, Gn_solver, show_every=250, \n",
        "              batch_size=128, latent_size=LATENT_SIZE, num_epochs=5):\n",
        "  \"\"\"\n",
        "  Train an AAA!\n",
        "  \n",
        "  Inputs:\n",
        "  - En, De, Ds: PyTorch models for the encoder, decoder and discriminator\n",
        "  - En_solver, De_solver, Ds_solver, Gn_solver: torch.optim Optimizers to use for training the\n",
        "    Enoder, Decoder, Discriminator and Generator(ie the encoder when it is used as a generator).\n",
        "  - show_every: Show samples after every show_every iterations.\n",
        "  - batch_size: Batch size to use for training.\n",
        "  - latent_size: Dimension of the latent representation of the inputs.\n",
        "  - num_epochs: Number of epochs over the training dataset to use for training.\n",
        "  \"\"\"\n",
        "  iter_count = 0\n",
        "  for epoch in range(num_epochs):\n",
        "    for x, _ in loader_train:\n",
        "      if len(x) != batch_size:\n",
        "        continue\n",
        "\n",
        "      ##############################################################################\n",
        "      #                           BEGINNING OF YOUR CODE                           #\n",
        "      ##############################################################################\n",
        "      ##############################################################################\n",
        "\n",
        "      En_solver.zero_grad()\n",
        "      De_solver.zero_grad()\n",
        "      real_data = x.view(-1, 784).to(device)\n",
        "\n",
        "      ##############################################################################\n",
        "      #TODO: Compute the latent representations and the reconstructed images using \n",
        "      # the encoder, deocder\n",
        "      ##############################################################################\n",
        "\n",
        "      latent_sample = En(real_data)\n",
        "      recon_data = De(latent_sample)\n",
        "\n",
        "      ##############################################################################\n",
        "      #TODO: Compute the reconstruction loss between the real data and the \n",
        "      # reconsructed data using binary cross entropy with reduction as 'sum'\n",
        "      ##############################################################################      \n",
        "\n",
        "      recon_loss = F.binary_cross_entropy(recon_data, real_data, reduction='sum')\n",
        "\n",
        "      ##############################################################################\n",
        "      #TODO: Backpropagate the recon_loss and do an optimization step on the encoder \n",
        "      # and decoder solvers\n",
        "      ##############################################################################   \n",
        "\n",
        "      recon_loss.backward()\n",
        "      En_solver.step()\n",
        "      De_solver.step()\n",
        "\n",
        "      En.eval()\n",
        "\n",
        "      ##############################################################################\n",
        "      # Generating random latent samples with desired gaussian distribution\n",
        "      ##############################################################################  \n",
        "      real_latent = sample_gaussian_noise(batch_size, latent_size, dtype=real_data.dtype, device=real_data.device)\n",
        "\n",
        "      ##############################################################################\n",
        "      #TODO: Generate fake latent samples from the real data using the encoder\n",
        "      ############################################################################## \n",
        "      fake_latent = En(real_data)\n",
        "\n",
        "      ##############################################################################\n",
        "      #TODO: Compute the logits corresponding to the real latent vectors and the fake \n",
        "      # latent vectors using the discriminator\n",
        "      ############################################################################## \n",
        "      logits_real_latent = Ds(real_latent)\n",
        "      logits_fake_latent = Ds(fake_latent)\n",
        "\n",
        "      ##############################################################################\n",
        "      #TODO: Compute the discriminator loss between the logits corresponding to the \n",
        "      # real and fake latents using the discriminator loss function defined before\n",
        "      ############################################################################## \n",
        "\n",
        "      ds_total_loss = discriminator_loss(logits_real_latent, logits_fake_latent)\n",
        "\n",
        "      ##############################################################################\n",
        "      #TODO: Backpropagate the discriminator loss and do an optimization step on the \n",
        "      # discriminator solver      \n",
        "      ############################################################################## \n",
        "\n",
        "      ds_total_loss.backward()\n",
        "      Ds_solver.step()\n",
        "\n",
        "      ##############################################################################\n",
        "      #                              END OF YOUR CODE                              #\n",
        "      ##############################################################################\n",
        "\n",
        "      En.train()\n",
        "     \n",
        "      ##############################################################################\n",
        "      # Training the encoder based on the generator loss   \n",
        "      ############################################################################## \n",
        "\n",
        "      latent_sample_fake = En(real_data)\n",
        "      gen_logits_fake = Ds(latent_sample_fake)\n",
        "      g_loss = generator_loss(gen_logits_fake)\n",
        "\n",
        "      g_loss.backward()\n",
        "      Gn_solver.step()\n",
        "  \n",
        "      if (iter_count % show_every == 0):\n",
        "        print('Iter: {}, D: {:.4}, G:{:.4}'.format(iter_count,ds_total_loss.item(),g_loss.item()))\n",
        "        imgs_numpy = recon_data.data.cpu()#.numpy()\n",
        "        show_images(imgs_numpy[0:16])\n",
        "        plt.show()\n",
        "        print()\n",
        "      iter_count += 1\n",
        "    if epoch == num_epochs - 1:\n",
        "      show_images(imgs_numpy[0:16])\n"
      ],
      "metadata": {
        "id": "irphg16RYS3X"
      },
      "execution_count": null,
      "outputs": []
    },
    {
      "cell_type": "markdown",
      "metadata": {
        "id": "qo1ajReC7NA-"
      },
      "source": [
        "Now run the cell below to train the Adverserial Autoencoder! \n",
        "\n"
      ]
    },
    {
      "cell_type": "code",
      "source": [
        "# Leave this cell untouched\n",
        "\n",
        "set_seed(0)\n",
        "\n",
        "# Make the discriminator\n",
        "En = encoder().to(device)\n",
        "\n",
        "# Make the discriminator\n",
        "De = decoder().to(device)\n",
        "\n",
        "# Make the generator\n",
        "Ds = discriminator().to(device)\n",
        "\n",
        "# Use the function you wrote earlier to get optimizers for the Discriminator and the Generator\n",
        "En_solver = optim.Adam(En.parameters(), lr=1e-3, betas=(0.5, 0.999))\n",
        "De_solver = optim.Adam(De.parameters(), lr=1e-3, betas=(0.5, 0.999))\n",
        "Ds_solver = optim.Adam(Ds.parameters(), lr=1e-3, betas=(0.5, 0.999))\n",
        "Gn_solver = optim.Adam(En.parameters(), lr=1e-3, betas=(0.5, 0.999))\n",
        "\n",
        "# Run it!\n",
        "run_aae(En, De, Ds, En_solver, De_solver, Ds_solver, Gn_solver)"
      ],
      "metadata": {
        "id": "3VW2_Xjom2Id",
        "colab": {
          "base_uri": "https://localhost:8080/",
          "height": 1000
        },
        "outputId": "d28e01d0-da3b-459a-fa40-434c3442de60"
      },
      "execution_count": null,
      "outputs": [
        {
          "output_type": "stream",
          "name": "stdout",
          "text": [
            "Iter: 0, D: 1.339, G:0.6863\n"
          ]
        },
        {
          "output_type": "display_data",
          "data": {
            "text/plain": [
              "<Figure size 288x288 with 16 Axes>"
            ],
            "image/png": "[encoded data removed]"
          },
          "metadata": {
            "needs_background": "light"
          }
        },
        {
          "output_type": "stream",
          "name": "stdout",
          "text": [
            "\n",
            "Iter: 250, D: 0.7193, G:1.262\n"
          ]
        },
        {
          "output_type": "display_data",
          "data": {
            "text/plain": [
              "<Figure size 288x288 with 16 Axes>"
            ],
            "image/png": "[encoded data removed]"
          },
          "metadata": {
            "needs_background": "light"
          }
        },
        {
          "output_type": "stream",
          "name": "stdout",
          "text": [
            "\n",
            "Iter: 500, D: 3.753, G:0.5981\n"
          ]
        },
        {
          "output_type": "display_data",
          "data": {
            "text/plain": [
              "<Figure size 288x288 with 16 Axes>"
            ],
            "image/png": "[encoded data removed]"
          },
          "metadata": {
            "needs_background": "light"
          }
        },
        {
          "output_type": "stream",
          "name": "stdout",
          "text": [
            "\n",
            "Iter: 750, D: 2.533, G:2.607\n"
          ]
        },
        {
          "output_type": "display_data",
          "data": {
            "text/plain": [
              "<Figure size 288x288 with 16 Axes>"
            ],
            "image/png": "[encoded data removed]"
          },
          "metadata": {
            "needs_background": "light"
          }
        },
        {
          "output_type": "stream",
          "name": "stdout",
          "text": [
            "\n",
            "Iter: 1000, D: 6.346, G:3.262\n"
          ]
        },
        {
          "output_type": "display_data",
          "data": {
            "text/plain": [
              "<Figure size 288x288 with 16 Axes>"
            ],
            "image/png": "[encoded data removed]"
          },
          "metadata": {
            "needs_background": "light"
          }
        },
        {
          "output_type": "stream",
          "name": "stdout",
          "text": [
            "\n",
            "Iter: 1250, D: 19.36, G:1.236\n"
          ]
        },
        {
          "output_type": "display_data",
          "data": {
            "text/plain": [
              "<Figure size 288x288 with 16 Axes>"
            ],
            "image/png": "[encoded data removed]"
          },
          "metadata": {
            "needs_background": "light"
          }
        },
        {
          "output_type": "stream",
          "name": "stdout",
          "text": [
            "\n",
            "Iter: 1500, D: 0.5075, G:26.31\n"
          ]
        },
        {
          "output_type": "display_data",
          "data": {
            "text/plain": [
              "<Figure size 288x288 with 16 Axes>"
            ],
            "image/png": "[encoded data removed]"
          },
          "metadata": {
            "needs_background": "light"
          }
        },
        {
          "output_type": "stream",
          "name": "stdout",
          "text": [
            "\n",
            "Iter: 1750, D: 9.837, G:1.394\n"
          ]
        },
        {
          "output_type": "display_data",
          "data": {
            "text/plain": [
              "<Figure size 288x288 with 16 Axes>"
            ],
            "image/png": "[encoded data removed]"
          },
          "metadata": {
            "needs_background": "light"
          }
        },
        {
          "output_type": "stream",
          "name": "stdout",
          "text": [
            "\n",
            "Iter: 2000, D: 1.904, G:26.96\n"
          ]
        },
        {
          "output_type": "display_data",
          "data": {
            "text/plain": [
              "<Figure size 288x288 with 16 Axes>"
            ],
            "image/png": "[encoded data removed]"
          },
          "metadata": {
            "needs_background": "light"
          }
        },
        {
          "output_type": "stream",
          "name": "stdout",
          "text": [
            "\n",
            "Iter: 2250, D: 15.32, G:2.432\n"
          ]
        },
        {
          "output_type": "display_data",
          "data": {
            "text/plain": [
              "<Figure size 288x288 with 16 Axes>"
            ],
            "image/png": "[encoded data removed]"
          },
          "metadata": {
            "needs_background": "light"
          }
        },
        {
          "output_type": "stream",
          "name": "stdout",
          "text": [
            "\n"
          ]
        },
        {
          "output_type": "display_data",
          "data": {
            "text/plain": [
              "<Figure size 288x288 with 16 Axes>"
            ],
            "image/png": "[encoded data removed]"
          },
          "metadata": {
            "needs_background": "light"
          }
        }
      ]
    },
    {
      "cell_type": "markdown",
      "metadata": {
        "id": "X4K6u9Qu1IjD"
      },
      "source": [
        "## Question 2\n",
        "\n",
        "What is the discriminator error after 2250 iterations displayed in the cell?\n",
        "\n",
        "1. 0-10 \n",
        "2. 11-20 (Correct Answer)\n",
        "3. 21-30\n",
        "4. 31-40"
      ]
    },
    {
      "cell_type": "markdown",
      "metadata": {
        "id": "O72WWjjQ7gMP"
      },
      "source": [
        "## Question 3\n",
        "\n",
        "What is the generator error after 2250 iterations displayed in the cell? \n",
        "\n",
        "1. 0.5-0.99 \n",
        "2. 1-1.99\n",
        "3. 3-3.99\n",
        "4. 2-2.99  (Correct Answer)\n"
      ]
    },
    {
      "cell_type": "code",
      "source": [],
      "metadata": {
        "id": "nlOVCCG0zqhd"
      },
      "execution_count": null,
      "outputs": []
    }
  ]
}