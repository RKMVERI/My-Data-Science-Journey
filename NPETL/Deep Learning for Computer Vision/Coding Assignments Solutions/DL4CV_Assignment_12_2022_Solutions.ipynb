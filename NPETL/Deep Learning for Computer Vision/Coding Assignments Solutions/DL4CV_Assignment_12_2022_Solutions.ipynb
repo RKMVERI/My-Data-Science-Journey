{
  "nbformat": 4,
  "nbformat_minor": 0,
  "metadata": {
    "colab": {
      "provenance": [],
      "collapsed_sections": []
    },
    "kernelspec": {
      "name": "python3",
      "display_name": "Python 3"
    },
    "language_info": {
      "name": "python"
    },
    "accelerator": "GPU"
  },
  "cells": [
    {
      "cell_type": "code",
      "execution_count": null,
      "metadata": {
        "id": "1gt-2o6dUZZa"
      },
      "outputs": [],
      "source": [
        "# NOTE: Execute this cell in the beginning\n",
        "# Do not edit this cell\n",
        "\n",
        "from __future__ import print_function\n",
        "import torch\n",
        "import torch.nn as nn\n",
        "import torch.nn.functional as F\n",
        "import torch.optim as optim\n",
        "import torchvision\n",
        "from torchvision import datasets, transforms\n",
        "import numpy as np\n",
        "import matplotlib.pyplot as plt\n",
        "import random\n",
        "import math\n",
        "from scipy import ndimage\n",
        "import torch.backends.cudnn as cudnn\n",
        "import os\n",
        "import argparse\n",
        "\n",
        "def set_seed(seed):\n",
        "    \"\"\"Sets the global seed\"\"\"\n",
        "    random.seed(seed)\n",
        "    np.random.seed(seed)\n",
        "    torch.manual_seed(seed)\n",
        "    if torch.cuda.is_available():\n",
        "        torch.cuda.manual_seed(seed)\n",
        "        torch.cuda.manual_seed_all(seed)\n",
        "        torch.backends.cudnn.deterministic = True\n",
        "        torch.backends.cudnn.benchmark = False\n",
        "    os.environ[\"PYTHONHASHSEED\"] = str(seed) \n",
        "\n",
        "#setting the device\n",
        "device = 'cuda' if torch.cuda.is_available() else 'cpu'"
      ]
    },
    {
      "cell_type": "code",
      "source": [
        "# loading MNIST dataset\n",
        "print('==> Preparing data..')\n",
        "\n",
        "# We first download the train and test datasets\n",
        "mnist_train_dataset = datasets.MNIST(root='./data', train=True, transform=transforms.ToTensor(), download=True)\n",
        "mnist_test_dataset = datasets.MNIST(root='./data', train=False, transform=transforms.ToTensor(), download=True)\n",
        "\n",
        "# a dictionary to contain train and test sets\n",
        "mnist_dataset_sizes = {'train' : mnist_train_dataset.__len__(), 'test' : mnist_test_dataset.__len__()} \n",
        "\n",
        "#defining the train and test loader\n",
        "mnist_train_loader = torch.utils.data.DataLoader(\n",
        "                 dataset=mnist_train_dataset,\n",
        "                 batch_size=256,\n",
        "                 shuffle=True)\n",
        "mnist_test_loader = torch.utils.data.DataLoader(\n",
        "                dataset=mnist_test_dataset,\n",
        "                batch_size=1,\n",
        "                shuffle=True)\n",
        "\n",
        "# a dictionary to contain train and test loaders\n",
        "mnist_dataloaders = {'train' : mnist_train_loader ,'test' : mnist_test_loader} "
      ],
      "metadata": {
        "id": "jqoIb7GLVF2q",
        "colab": {
          "base_uri": "https://localhost:8080/"
        },
        "outputId": "35120abb-2131-4843-c833-dd33f7ab6fdf"
      },
      "execution_count": null,
      "outputs": [
        {
          "output_type": "stream",
          "name": "stdout",
          "text": [
            "==> Preparing data..\n"
          ]
        }
      ]
    },
    {
      "cell_type": "code",
      "source": [
        "#Defining LeNet Model\n",
        "#we can use this as MNIST not a very complex dataset to learn on\n",
        "# LeNet Model definition\n",
        "\n",
        "\"\"\"\"\n",
        "You should implement LeNet model with the below configuration. Consider that input images are having a single channel:\n",
        "\n",
        "1.   Conv layer with 10 output channels and filter size 5\n",
        "2.   Conv layer with 20 output channels and filter size 5\n",
        "3.   Dropout layer\n",
        "4.   Fully connected layer with output size 50\n",
        "5.   Takes input from step 4 and output 10 dimensions (main class labels) through a fully connected layer\n",
        "\"\"\"\n",
        "\n",
        "class LeNet(nn.Module):\n",
        "    def __init__(self):\n",
        "        super(LeNet, self).__init__()\n",
        "\n",
        "        \"\"\"YOUR CODE STARTS HERE\"\"\"\n",
        "        self.conv1 = nn.Conv2d(1, 10, kernel_size=5)\n",
        "        self.conv2 = nn.Conv2d(10, 20, kernel_size=5)\n",
        "        self.conv2_drop = nn.Dropout2d()\n",
        "        self.fc1 = nn.Linear(320, 50)\n",
        "        self.fc2 = nn.Linear(50, 10)\n",
        "        self.fc2_ssl = nn.Linear(50, 10)\n",
        "        \"\"\"YOUR CODE ENDS HERE\"\"\"\n",
        "\n",
        "    # network architecture for classification head: \n",
        "    # conv1 -> maxpool2D-> Relu->conv2->conv2_drop->maxpool2D->Relu->Reshape->fc1->Relu->dropout->fc2,log-sofmax\n",
        "    def forward(self, x):\n",
        "        \"\"\"YOUR CODE STARTS HERE\"\"\"\n",
        "        x = F.relu(F.max_pool2d(self.conv1(x), 2))\n",
        "        x = F.relu(F.max_pool2d(self.conv2_drop(self.conv2(x)), 2))\n",
        "        x = x.view(-1, 320)\n",
        "        x = F.relu(self.fc1(x))\n",
        "        x = F.dropout(x, training=self.training)\n",
        "        # classification head\n",
        "        out_cls = self.fc2(x)\n",
        "        #apply log_softmax on the output\n",
        "        return F.log_softmax(x, dim=1)\n",
        "        \"\"\"YOUR CODE ENDS HERE\"\"\""
      ],
      "metadata": {
        "id": "2j1ZmhduVlPL"
      },
      "execution_count": null,
      "outputs": []
    },
    {
      "cell_type": "code",
      "source": [
        "#building model\n",
        "print('==> Building the LeNet model')\n",
        "mnist_model = LeNet().to(device)\n",
        "#defining the loss function\n",
        "mnist_criterion = nn.CrossEntropyLoss()\n",
        "#setting the optimizer and number of training epochs\n",
        "mnist_optimizer = optim.Adam(mnist_model.parameters(), lr=0.001)\n",
        "mnist_num_epochs= 20"
      ],
      "metadata": {
        "colab": {
          "base_uri": "https://localhost:8080/"
        },
        "id": "Zo0X3-PFWNWT",
        "outputId": "a312787d-2adb-4a74-ec79-aa60c18b4f0b"
      },
      "execution_count": null,
      "outputs": [
        {
          "output_type": "stream",
          "name": "stdout",
          "text": [
            "==> Building the LeNet model\n"
          ]
        }
      ]
    },
    {
      "cell_type": "code",
      "source": [
        "#Training LeNet model\n",
        "def train_mnist_model(model, data_loaders, dataset_sizes, criterion, optimizer, num_epochs, device):\n",
        "    \n",
        "    model = model.to(device)\n",
        "    # set train mode\n",
        "    model.train()\n",
        "    \n",
        "    # for each epoch\n",
        "    for epoch in range(num_epochs):\n",
        "        print('Epoch {}/{}'.format(epoch+1, num_epochs))\n",
        "        \n",
        "        running_loss, running_corrects = 0.0, 0\n",
        "        \n",
        "        # for each batch\n",
        "        for inputs, labels in data_loaders['train']:\n",
        "            inputs = inputs.to(device)\n",
        "            labels =labels.to(device)  \n",
        "\n",
        "            \"\"\"YOUR CODE STARTS HERE\"\"\"\n",
        "\n",
        "            # set optimizer gradient as 0\n",
        "            optimizer.zero_grad() \n",
        "            \n",
        "            # get the model output\n",
        "            outputs = model(inputs)\n",
        "            \n",
        "            # get the prediction of model by using argmax or max\n",
        "            _, preds = torch.max(outputs, 1)\n",
        "            \n",
        "            # calculate loss of the output\n",
        "            loss = criterion(outputs, labels)\n",
        "            \n",
        "            # backpropagate the loss\n",
        "            loss.backward()\n",
        "            \n",
        "            # update model parameters using optimzier\n",
        "            optimizer.step()\n",
        "\n",
        "            \"\"\"YOUR CODE ENDS HERE\"\"\"\n",
        "            \n",
        "            # calculate total loss of the batch\n",
        "            batch_loss_total = loss.item() * inputs.size(0)\n",
        "\n",
        "            # cumluative sum of loss\n",
        "            running_loss += batch_loss_total \n",
        "\n",
        "            # cumulative sum of correct count\n",
        "            running_corrects += torch.sum(preds == labels.data) \n",
        "\n",
        "        \n",
        "        #calculating the loss and accuracy for the epoch   \n",
        "        epoch_loss = running_loss / dataset_sizes['train']\n",
        "        epoch_acc = running_corrects.double() / dataset_sizes['train']\n",
        "        print('Train Loss: {:.4f} Acc: {:.4f}'.format(epoch_loss, epoch_acc))\n",
        "        print('-' * 10)\n",
        "        \n",
        "    \n",
        "    # model evaluation\n",
        "    else:\n",
        "        model.eval() \n",
        "        running_loss, running_corrects = 0.0, 0\n",
        "        \n",
        "        # for each batch\n",
        "        for inputs, labels in data_loaders['test']:\n",
        "            inputs = inputs.to(device)\n",
        "            labels =labels.to(device)\n",
        "            outputs = model(inputs)\n",
        "            _, preds = torch.max(outputs, 1)\n",
        "            loss = criterion(outputs, labels)\n",
        "                    \n",
        "            \n",
        "            running_loss += loss.item() * inputs.size(0) \n",
        "            running_corrects += torch.sum(preds == labels.data) \n",
        "         \n",
        "        #calculating the loss and accuracy\n",
        "        test_loss = running_loss / dataset_sizes['test']\n",
        "        test_acc = (running_corrects.double() / dataset_sizes['test']).item()\n",
        "        print('<Test Loss: {:.4f} Acc: {:.4f}>'.format(test_loss, test_acc))\n",
        "\n",
        "#training LeNet on the MNIST dataset\n",
        "train_mnist_model(mnist_model, mnist_dataloaders, mnist_dataset_sizes, mnist_criterion, mnist_optimizer, mnist_num_epochs, device)"
      ],
      "metadata": {
        "id": "SLxoEoHwWRa0",
        "colab": {
          "base_uri": "https://localhost:8080/"
        },
        "outputId": "b53b5764-c2fb-48ff-bd03-b937b6bedcb3"
      },
      "execution_count": null,
      "outputs": [
        {
          "output_type": "stream",
          "name": "stdout",
          "text": [
            "Epoch 1/20\n",
            "Train Loss: 2.5899 Acc: 0.4215\n",
            "----------\n",
            "Epoch 2/20\n",
            "Train Loss: 2.2041 Acc: 0.5080\n",
            "----------\n",
            "Epoch 3/20\n",
            "Train Loss: 2.1450 Acc: 0.5182\n",
            "----------\n",
            "Epoch 4/20\n",
            "Train Loss: 2.1022 Acc: 0.5263\n",
            "----------\n",
            "Epoch 5/20\n",
            "Train Loss: 2.1004 Acc: 0.5260\n",
            "----------\n",
            "Epoch 6/20\n",
            "Train Loss: 2.0795 Acc: 0.5298\n",
            "----------\n",
            "Epoch 7/20\n",
            "Train Loss: 2.0682 Acc: 0.5312\n",
            "----------\n",
            "Epoch 8/20\n",
            "Train Loss: 2.0683 Acc: 0.5310\n",
            "----------\n",
            "Epoch 9/20\n",
            "Train Loss: 2.0747 Acc: 0.5287\n",
            "----------\n",
            "Epoch 10/20\n",
            "Train Loss: 2.0658 Acc: 0.5308\n",
            "----------\n",
            "Epoch 11/20\n",
            "Train Loss: 2.0474 Acc: 0.5334\n",
            "----------\n",
            "Epoch 12/20\n",
            "Train Loss: 2.0524 Acc: 0.5305\n",
            "----------\n",
            "Epoch 13/20\n",
            "Train Loss: 2.0474 Acc: 0.5317\n",
            "----------\n",
            "Epoch 14/20\n",
            "Train Loss: 2.0608 Acc: 0.5295\n",
            "----------\n",
            "Epoch 15/20\n",
            "Train Loss: 2.0408 Acc: 0.5338\n",
            "----------\n",
            "Epoch 16/20\n",
            "Train Loss: 2.0435 Acc: 0.5327\n",
            "----------\n",
            "Epoch 17/20\n",
            "Train Loss: 2.0402 Acc: 0.5341\n",
            "----------\n",
            "Epoch 18/20\n",
            "Train Loss: 2.0301 Acc: 0.5363\n",
            "----------\n",
            "Epoch 19/20\n",
            "Train Loss: 2.0139 Acc: 0.5404\n",
            "----------\n",
            "Epoch 20/20\n",
            "Train Loss: 2.0505 Acc: 0.5323\n",
            "----------\n",
            "<Test Loss: 0.2667 Acc: 0.9863>\n"
          ]
        }
      ]
    },
    {
      "cell_type": "code",
      "source": [
        "# Save the trained LeNet Model\n",
        "print('==> Saving model for MNIST..')\n",
        "torch.save(mnist_model.state_dict(), 'lenet_mnist_model.pth')\n",
        "\n",
        "#load your pretrained model\n",
        "print('==> Loading saved model for MNIST..')\n",
        "mnist_model = LeNet().to(device)\n",
        "mnist_model.load_state_dict(torch.load('lenet_mnist_model.pth'))\n",
        "mnist_model.eval()"
      ],
      "metadata": {
        "id": "OC2_G69iWXkE",
        "colab": {
          "base_uri": "https://localhost:8080/"
        },
        "outputId": "99a79544-2b63-461a-8f48-28ce20b2b81a"
      },
      "execution_count": null,
      "outputs": [
        {
          "output_type": "stream",
          "name": "stdout",
          "text": [
            "==> Saving model for MNIST..\n",
            "==> Loading saved model for MNIST..\n"
          ]
        },
        {
          "output_type": "execute_result",
          "data": {
            "text/plain": [
              "LeNet(\n",
              "  (conv1): Conv2d(1, 10, kernel_size=(5, 5), stride=(1, 1))\n",
              "  (conv2): Conv2d(10, 20, kernel_size=(5, 5), stride=(1, 1))\n",
              "  (conv2_drop): Dropout2d(p=0.5, inplace=False)\n",
              "  (fc1): Linear(in_features=320, out_features=50, bias=True)\n",
              "  (fc2): Linear(in_features=50, out_features=10, bias=True)\n",
              "  (fc2_ssl): Linear(in_features=50, out_features=10, bias=True)\n",
              ")"
            ]
          },
          "metadata": {},
          "execution_count": 23
        }
      ]
    },
    {
      "cell_type": "markdown",
      "source": [
        "# Fast Gradient Singed Method attack (FGSM)\n",
        "In this part, you will implement the FGSM attack, a white box attack. This concept was covered in the Adversarial Robustness lectures. "
      ],
      "metadata": {
        "id": "1BLyhxPP1AFM"
      }
    },
    {
      "cell_type": "code",
      "source": [
        "# Fast Gradient Singed Method attack (FGSM)\n",
        "\n",
        "#Inputs:\n",
        "# Model is the trained model for the target dataset\n",
        "# target is the ground truth label of the image\n",
        "# epsilon is the hyper parameter which shows the degree of perturbation\n",
        "\n",
        "def fgsm_attack(model, image, target, epsilon):\n",
        "\n",
        "    \"\"\"YOUR CODE STARTS HERE\"\"\"\n",
        "\n",
        "    # Set requires_grad attribute of tensor. \n",
        "    # This is necessary for the attack\n",
        "    image.requires_grad = True\n",
        "\n",
        "    # Forward pass the data through the model\n",
        "    output = model(image)\n",
        "\n",
        "    # get the index of the max log-probability which is basically the prediction of the model\n",
        "    init_pred = output.max(1, keepdim=True)[1] \n",
        "    \n",
        "    # If the initial prediction is wrong, an attack is not required\n",
        "    # return the image\n",
        "    if init_pred[0].item() != target[0].item():\n",
        "        return image\n",
        "    \n",
        "    # Calculate the nll loss\n",
        "    # Hint: you will find it in the pytorch library\n",
        "    loss = F.nll_loss(output, target)\n",
        "\n",
        "    # Zero all existing gradients\n",
        "    #i.e do model.zero_grad()\n",
        "    model.zero_grad()\n",
        "\n",
        "    # Calculate gradients of model in backward pass\n",
        "    loss.backward()\n",
        "\n",
        "    # Collect gradient data\n",
        "    data_grad = image.grad.data\n",
        "    \n",
        "    # Collect the element-wise sign of the data gradient\n",
        "    sign_data_grad = data_grad.sign()\n",
        "\n",
        "    # Create the perturbed image by adjusting each pixel of the input image\n",
        "    #recall the formula for FGSM attack\n",
        "    perturbed_image = image + epsilon*sign_data_grad\n",
        "\n",
        "    # Adding clipping to maintain [0,1] range\n",
        "    perturbed_image = torch.clamp(perturbed_image, 0, 1)\n",
        "\n",
        "    \"\"\"YOUR CODE ENDS HERE\"\"\"\n",
        "\n",
        "    \n",
        "    # Return the perturbed image\n",
        "    return perturbed_image"
      ],
      "metadata": {
        "id": "hdNobZoZWm-y"
      },
      "execution_count": null,
      "outputs": []
    },
    {
      "cell_type": "code",
      "source": [
        "## Please DONOT remove these lines. \n",
        "torch.manual_seed(0)\n",
        "torch.backends.cudnn.deterministic = True\n",
        "torch.backends.cudnn.benchmark = False\n",
        "np.random.seed(0)\n",
        "\n",
        "q = torch.rand(1, 28, 28).to(device)\n",
        "## Please DONOT remove these lines. \n",
        "\n",
        "### YOUR CODE STARTS HERE ###\n",
        "\n",
        "#set target=1\n",
        "target = torch.tensor([1]).to(device)\n",
        "\n",
        "#call the fgsm_attack function with mnist_model, q, target and epsilon=0.3 as input parameters\n",
        "perturbed_data = fgsm_attack(mnist_model, q, target, epsilon=0.3)\n",
        "\n",
        "#print the mean value of the above resultant tensor\n",
        "torch.mean(perturbed_data)\n",
        "\n",
        "### YOUR CODE ENDS HERE ###\n"
      ],
      "metadata": {
        "colab": {
          "base_uri": "https://localhost:8080/"
        },
        "id": "DTJQd73EC3l6",
        "outputId": "8da44e7c-d9f3-4e51-c987-387f36ceca7d"
      },
      "execution_count": null,
      "outputs": [
        {
          "output_type": "execute_result",
          "data": {
            "text/plain": [
              "tensor(0.4986, device='cuda:0', grad_fn=<MeanBackward0>)"
            ]
          },
          "metadata": {},
          "execution_count": 25
        }
      ]
    },
    {
      "cell_type": "markdown",
      "source": [
        "### Question 1: FGSM attack - part1\n",
        "\n",
        "What is the range of the mean value of the perturbed data?\n",
        "\n",
        "\n",
        "1.   0.05 - 0.1\n",
        "2.   0.15 - 0.25\n",
        "3.   0.3 - 0.5\n",
        "4.   0.7 - 0.9\n",
        "\n",
        "Answer (3)"
      ],
      "metadata": {
        "id": "GsLVWYkHGTe9"
      }
    },
    {
      "cell_type": "code",
      "source": [
        "# values for epsilon hyper-parameter for FGSM attack\n",
        "fgsm_epsilons = [0, .05, .1, .15, .2, .25, .3]\n",
        "\n",
        "#This is where we test the effect of the attack on the trained model\n",
        "\n",
        "#Inputs:\n",
        "# model is the pretrained model\n",
        "#test_loader contains the test dataset\n",
        "#other parameters are set based on the type of the attack\n",
        "\n",
        "def attack_test(model, device, test_loader, epsilon, iters, attack='fgsm', alpha=1 ):\n",
        "\n",
        "    # Accuracy counter. accumulates the number of correctly predicted exampels\n",
        "    correct = 0\n",
        "\n",
        "    # to store adversarial examples for visualisation purpose\n",
        "    adv_examples = []  \n",
        "\n",
        "    # to store original examples for visualisation purpose\n",
        "    orig_examples = []\n",
        "\n",
        "\n",
        "    # Loop over all examples in test set\n",
        "    for data, target in test_loader:\n",
        "\n",
        "        \"\"\"YOUR CODE STARTS HERE\"\"\"\n",
        "\n",
        "        # Send the data and label to the device\n",
        "        data, target = data.to(device), target.to(device)\n",
        "\n",
        "        # Forward pass the data through the model\n",
        "        output = model(data)\n",
        "        init_pred = output.max(1, keepdim=True)[1] # get the index of the max log-probability (model prediction of the image)\n",
        "        \n",
        "        # Call the Attack\n",
        "        if attack == 'fgsm':\n",
        "            perturbed_data = fgsm_attack(model, data, target, epsilon=epsilon )\n",
        "      \n",
        "        # Re-classify the perturbed image\n",
        "        output = model(perturbed_data)\n",
        "\n",
        "        # get the index of the max log-probability (model prediction of the perturbed image)\n",
        "        final_pred = output.max(1, keepdim=True)[1] \n",
        "\n",
        "        \"\"\"YOUR CODE ENDS HERE\"\"\"\n",
        "\n",
        "        #check if the perturbation hasn't affected the classification\n",
        "        #if not affected store them as they are 0 epsilon cases which is equivalent to no adversarial attack\n",
        "        if final_pred[0].item() == target[0].item():  \n",
        "            correct += 1\n",
        "            if (epsilon == 0) and (len(adv_examples) < 5):\n",
        "                adv_ex = perturbed_data.squeeze().detach().cpu().numpy()\n",
        "                orig_ex = data.squeeze().detach().cpu().numpy()\n",
        "\n",
        "\n",
        "                adv_examples.append((init_pred[0].item(), final_pred[0].item(), adv_ex))\n",
        "                orig_examples.append((target[0].item(), init_pred[0].item(), orig_ex))\n",
        "        else:\n",
        "            # Save some adv examples for visualization later\n",
        "            if len(adv_examples) < 5:\n",
        "                adv_ex = perturbed_data.squeeze().detach().cpu().numpy()\n",
        "                orig_ex = data.squeeze().detach().cpu().numpy()\n",
        "                adv_examples.append((init_pred[0].item(), final_pred[0].item(), adv_ex))\n",
        "                orig_examples.append((target[0].item(), init_pred[0].item(), orig_ex))\n",
        "\n",
        "    # Calculate final accuracy for this epsilon values\n",
        "    final_acc = correct/float(len(test_loader))\n",
        "    print(\"Epsilon: {}\\tTest Accuracy = {} / {} = {}\".format(epsilon, correct, len(test_loader), final_acc))\n",
        "\n",
        "    # Return the accuracy and an adversarial examples and their corresponding original images\n",
        "    return final_acc, adv_examples, orig_examples"
      ],
      "metadata": {
        "id": "UaGKp3xIhK_w"
      },
      "execution_count": null,
      "outputs": []
    },
    {
      "cell_type": "code",
      "source": [
        "#FGSM attack\n",
        "\n",
        "#list to store the model accuracy after attack for every epsilon value in the list\n",
        "mnist_fgsm_accuracies = []  \n",
        "\n",
        "# list to collect adversarial examples returned from the attack_test function for every epsilon value in the list\n",
        "mnist_fgsm_examples = []  \n",
        "\n",
        "#list to collect original images corresponding the collected adversarial examples\n",
        "mnist_fgsm_orig_examples = []  \n",
        "\n",
        "# Run test for each epsilon\n",
        "\"\"\"YOUR CODE STARTS HERE\"\"\"\n",
        "\n",
        "for eps in fgsm_epsilons:\n",
        "    acc, ex, orig = attack_test(mnist_model, device, mnist_test_loader, eps, attack='fgsm', alpha=1, iters=0)\n",
        "    mnist_fgsm_accuracies.append(acc)\n",
        "\n",
        "    #store attacked examples\n",
        "    mnist_fgsm_examples.append(ex)\n",
        "\n",
        "    #store original examples\n",
        "    mnist_fgsm_orig_examples.append(orig)\n",
        "\n",
        "\"\"\"YOUR CODE ENDS HERE\"\"\"\n"
      ],
      "metadata": {
        "colab": {
          "base_uri": "https://localhost:8080/",
          "height": 163
        },
        "id": "972A4n1_hXTY",
        "outputId": "5c3920c7-3661-4a20-ce76-65fa1d256147"
      },
      "execution_count": null,
      "outputs": [
        {
          "output_type": "stream",
          "name": "stdout",
          "text": [
            "Epsilon: 0\tTest Accuracy = 9863 / 10000 = 0.9863\n",
            "Epsilon: 0.05\tTest Accuracy = 9490 / 10000 = 0.949\n",
            "Epsilon: 0.1\tTest Accuracy = 8660 / 10000 = 0.866\n",
            "Epsilon: 0.15\tTest Accuracy = 6887 / 10000 = 0.6887\n",
            "Epsilon: 0.2\tTest Accuracy = 4351 / 10000 = 0.4351\n",
            "Epsilon: 0.25\tTest Accuracy = 2287 / 10000 = 0.2287\n",
            "Epsilon: 0.3\tTest Accuracy = 1180 / 10000 = 0.118\n"
          ]
        },
        {
          "output_type": "execute_result",
          "data": {
            "text/plain": [
              "'YOUR CODE ENDS HERE'"
            ],
            "application/vnd.google.colaboratory.intrinsic+json": {
              "type": "string"
            }
          },
          "metadata": {},
          "execution_count": 27
        }
      ]
    },
    {
      "cell_type": "code",
      "source": [
        "#Accuracy after attack vs epsilon\n",
        "#you will see a downwards trend\n",
        "plt.figure(figsize=(5,5))\n",
        "plt.plot(fgsm_epsilons, mnist_fgsm_accuracies, \"*-\")\n",
        "plt.yticks(np.arange(0, 1.1, step=0.1))\n",
        "plt.xticks(np.arange(0, .35, step=0.05))\n",
        "plt.title(\"FSGM Attack vs MNIST Model Accuracy vs Epsilon\")\n",
        "plt.xlabel(\"Epsilon\")\n",
        "plt.ylabel(\"Accuracy\")\n",
        "plt.show()"
      ],
      "metadata": {
        "colab": {
          "base_uri": "https://localhost:8080/",
          "height": 350
        },
        "id": "_btPqNIJhaye",
        "outputId": "76b88204-2e82-48bf-ad32-2c62f5813b99"
      },
      "execution_count": null,
      "outputs": [
        {
          "output_type": "display_data",
          "data": {
            "text/plain": [
              "<Figure size 360x360 with 1 Axes>"
            ],
            "image/png": "[encoded data removed]"
          },
          "metadata": {
            "needs_background": "light"
          }
        }
      ]
    },
    {
      "cell_type": "code",
      "source": [
        "# Plot several examples vs their adversarial samples at each epsilon for fgms attack\n",
        "cnt = 0\n",
        "plt.figure(figsize=(8,20))\n",
        "for i in range(len(fgsm_epsilons)):\n",
        "    for j in range(2):\n",
        "        cnt += 1\n",
        "        plt.subplot(len(fgsm_epsilons),2,cnt)\n",
        "        plt.xticks([], [])\n",
        "        plt.yticks([], [])\n",
        "        if j==0:\n",
        "            plt.ylabel(\"Eps: {}\".format(fgsm_epsilons[i]), fontsize=14)\n",
        "    \n",
        "            orig,adv,ex = mnist_fgsm_orig_examples[i][0]\n",
        "            plt.title(\"target \"+\"{} -> {}\".format(orig, adv)+ \" predicted\")\n",
        "            plt.imshow(ex, cmap=\"gray\")\n",
        "        else:\n",
        "            orig,adv,ex = mnist_fgsm_examples[i][0]\n",
        "            plt.title(\"previous \"+\"{} -> {}\".format(orig, adv)+ \" after attack\")\n",
        "            plt.imshow(ex, cmap=\"gray\")\n",
        "            \n",
        "plt.tight_layout()\n",
        "plt.show()"
      ],
      "metadata": {
        "colab": {
          "base_uri": "https://localhost:8080/",
          "height": 1000
        },
        "id": "H_V9NcwEhfJA",
        "outputId": "9f4ba833-05dd-4827-b948-04184288b4ea"
      },
      "execution_count": null,
      "outputs": [
        {
          "output_type": "display_data",
          "data": {
            "text/plain": [
              "<Figure size 576x1440 with 14 Axes>"
            ],
            "image/png": "[encoded data removed]"
          },
          "metadata": {}
        }
      ]
    },
    {
      "cell_type": "code",
      "source": [
        "print(math.floor(np.sum(np.array(mnist_fgsm_accuracies))))"
      ],
      "metadata": {
        "colab": {
          "base_uri": "https://localhost:8080/"
        },
        "id": "PACuHagY0vRm",
        "outputId": "1761d96b-e8fa-41da-ffaa-9760a60e2396"
      },
      "execution_count": null,
      "outputs": [
        {
          "output_type": "stream",
          "name": "stdout",
          "text": [
            "4\n"
          ]
        }
      ]
    },
    {
      "cell_type": "markdown",
      "source": [
        "### Question 2: FGSM attack - part2\n",
        "\n",
        "What is the range of the floor value of the sum of elements in the list containing accuracies corresponding to different epsilon values?\n",
        "\n",
        "\n",
        "1.   1 - 2\n",
        "2.   3 - 6\n",
        "3.   7 - 8\n",
        "4.   0 - 1\n",
        "\n",
        "Answer (2)"
      ],
      "metadata": {
        "id": "MCU63dZtxjFB"
      }
    },
    {
      "cell_type": "markdown",
      "source": [
        "# Self-supervised Learning\n",
        "\n",
        "\n",
        "In this section, the task is to implement the rotation-based self-supervised task. We will use the previously implemented LeNet model (with slight modification) and the MNIST dataset.\n",
        "\n",
        "In this specific case, our model has two heads - one head for the main classification (10 classes, in MNIST), and another head for the rotation prediction (4 rotations). The second head performs self-supervised learning here. \n",
        "\n",
        "You should implement a model with the below configuration. Consider that input images are having a single channel:\n",
        "\n",
        "1.   Conv layer with 10 output channels and filter size 5\n",
        "2.   Conv layer with 20 output channels and filter size 5\n",
        "3.   Dropout layer\n",
        "4.   Fully connected layer with output size 50\n",
        "5.   Branch out 2 heads, one for the main classification head and one for the   rotation classification heads.\n",
        "\n",
        "  *   Takes input from step 4 and output 10 dimensions (main class labels) through a fully connected layer\n",
        "  *   Takes input from step 4 and output 4 dimensions(rotation class labels) through a fully connected layer\n",
        "\n",
        "**Your task is to implement the above model**. In the implementation, you should **define** these layers, and then define the **forward pass** of the model. \n"
      ],
      "metadata": {
        "id": "kqgZp7ShS7GS"
      }
    },
    {
      "cell_type": "code",
      "source": [
        "import torch\n",
        "import torch.nn as nn\n",
        "import torch.nn.functional as F\n",
        "import torch.optim as optim\n",
        "from torchvision import datasets, transforms\n",
        "import numpy as np\n",
        "import torch.utils.data\n",
        "import numpy as np\n",
        "\n",
        "\n",
        "import torchvision\n",
        "import torchvision.transforms as transforms\n",
        "torch.manual_seed(1)\n",
        "\n",
        "# Assumes that tensor is (nchannels, height, width)\n",
        "def tensor_rot_90(x):\n",
        "\n",
        "    \"\"\"YOUR CODE STARTS HERE\"\"\"\n",
        "    return x.flip(2).transpose(1, 2)\n",
        "    \"\"\"YOUR CODE ENDS HERE\"\"\"\n",
        "\n",
        "\n",
        "def tensor_rot_180(x):\n",
        "\n",
        "    \"\"\"YOUR CODE STARTS HERE\"\"\"\n",
        "    return x.flip(2).flip(1)\n",
        "    \"\"\"YOUR CODE ENDS HERE\"\"\"\n",
        "\n",
        "\n",
        "def tensor_rot_270(x):\n",
        "\n",
        "    \"\"\"YOUR CODE STARTS HERE\"\"\"\n",
        "    return x.transpose(1, 2).flip(2)\n",
        "    \"\"\"YOUR CODE ENDS HERE\"\"\"\n",
        "\n",
        "\n",
        "def rotate_batch_with_labels(batch, labels):\n",
        "\timages = []\n",
        "\tfor img, label in zip(batch, labels):\n",
        "\t\tif label == 1:\n",
        "\t\t\timg = tensor_rot_90(img)\n",
        "\t\telif label == 2:\n",
        "\t\t\timg = tensor_rot_180(img)\n",
        "\t\telif label == 3:\n",
        "\t\t\timg = tensor_rot_270(img)\n",
        "\t\timages.append(img.unsqueeze(0))\n",
        "\treturn torch.cat(images)\n",
        " \n",
        "\n",
        "\n",
        "def rotate_batch(batch, label):\n",
        "\tif label == 'rand':\n",
        "\t\tlabels = torch.randint(4, (len(batch),), dtype=torch.long)\n",
        "\telif label == 'expand':\n",
        "\t\tlabels = torch.cat([torch.zeros(len(batch), dtype=torch.long),\n",
        "\t\t\t\t\ttorch.zeros(len(batch), dtype=torch.long) + 1,\n",
        "\t\t\t\t\ttorch.zeros(len(batch), dtype=torch.long) + 2,\n",
        "\t\t\t\t\ttorch.zeros(len(batch), dtype=torch.long) + 3])\n",
        "\t\tbatch = batch.repeat((4,1,1,1))\n",
        "\telse:\n",
        "\t\tassert isinstance(label, int)\n",
        "\t\tlabels = torch.zeros((len(batch),), dtype=torch.long) + label\n",
        "\treturn rotate_batch_with_labels(batch, labels), labels\n",
        "\n",
        "# LeNet Model definition\n",
        "class Net(nn.Module):\n",
        "    def __init__(self):\n",
        "        super(Net, self).__init__()\n",
        "\n",
        "        \"\"\"YOUR CODE STARTS HERE\"\"\"\n",
        "        self.conv1 = nn.Conv2d(1, 10, kernel_size=5)\n",
        "        self.conv2 = nn.Conv2d(10, 20, kernel_size=5)\n",
        "        self.conv2_drop = nn.Dropout2d()\n",
        "        self.fc1 = nn.Linear(320, 50)\n",
        "        self.fc2 = nn.Linear(50, 10)\n",
        "        self.fc2_ssl = nn.Linear(50, 4)\n",
        "        \"\"\"YOUR CODE ENDS HERE\"\"\"\n",
        "\n",
        "    # network architecture for classification head: \n",
        "    # conv1 -> maxpool2D-> Relu->conv2->conv2_drop->maxpool2D->Relu->Reshape->fc1->Relu->dropout->fc2,fc2_ssl\n",
        "    def forward(self, x):\n",
        "        \"\"\"YOUR CODE STARTS HERE\"\"\"\n",
        "        x = F.relu(F.max_pool2d(self.conv1(x), 2))\n",
        "        x = F.relu(F.max_pool2d(self.conv2_drop(self.conv2(x)), 2))\n",
        "        x = x.view(-1, 320)\n",
        "        x = F.relu(self.fc1(x))\n",
        "        x = F.dropout(x, training=self.training)\n",
        "        # classification head\n",
        "        out_cls = self.fc2(x)\n",
        "        # self supervised head                \n",
        "        out_ssl = self.fc2_ssl(x)\n",
        "        \"\"\"YOUR CODE ENDS HERE\"\"\"\n",
        "        return out_cls, out_ssl\n",
        "\n",
        "# MNIST Test dataset and dataloader declaration\n",
        "transform = transforms.Compose([\n",
        "   transforms.ToTensor(),\n",
        "   transforms.Normalize((0.1307,), (0.3081,))\n",
        "])\n",
        "\n",
        "# the datasets\n",
        "trainset = torchvision.datasets.MNIST(root='./data', train=True, download=True, transform=transform)\n",
        "trainloader = torch.utils.data.DataLoader(trainset, batch_size=128, shuffle=True, num_workers=4)\n",
        "\n",
        "testset = torchvision.datasets.MNIST(root='./data', train=False, download=True, transform=transform)\n",
        "testloader = torch.utils.data.DataLoader(testset, batch_size=128, shuffle=False, num_workers=4)\n",
        "\n",
        "# Define what device we are using\n",
        "print(\"CUDA Available: \",torch.cuda.is_available())\n",
        "device = torch.device(\"cuda\" if (torch.cuda.is_available()) else \"cpu\")\n",
        "\n",
        "# Initialize the network\n",
        "net = Net().to(device)\n",
        "\n",
        "parameters = list(net.parameters())\n",
        "optimizer = optim.SGD(parameters, lr=0.1, momentum=0.9, weight_decay=5e-4)\n",
        "\n",
        "criterion = nn.CrossEntropyLoss().to(device)\n",
        "print('Running...')\n",
        "\n",
        "def train(epoch):\n",
        "    net.train()    \n",
        "    \n",
        "    for batch_idx, (inputs, labels) in enumerate(trainloader):\n",
        "        optimizer.zero_grad()\n",
        "        \n",
        "        inputs, labels = inputs.to(device), labels.to(device)        \n",
        "        labels_full = labels.repeat(4)            \n",
        "        \n",
        "        ## Self supervised head\n",
        "        inputs_ssh, labels_ssh = rotate_batch(inputs, \"expand\")\n",
        "        inputs_ssh, labels_ssh = inputs_ssh.to(device), labels_ssh.to(device)\n",
        "        # outputs_clh , outputs_ssh denotes classification head output and self supervision head output respectively \n",
        "        outputs_clh, outputs_ssh = net(inputs_ssh) \n",
        "        loss = criterion(outputs_clh, labels_full)\n",
        "        loss_ssh = criterion(outputs_ssh, labels_ssh)\n",
        "        loss += loss_ssh\n",
        "\n",
        "        loss.backward()\n",
        "        optimizer.step()\n",
        "        if batch_idx % 50 == 0:\n",
        "          print(('Epoch: [%d]; Iter: [%d/%d]; Loss: %f' %(epoch,batch_idx, len(trainloader),loss.item())))\n",
        "\n",
        "\n",
        "## Funtion to compute test accuracy using model already trained with additional self-supervised head..\n",
        "def test():\n",
        "        net.eval()\n",
        "        net.to(device)\n",
        "        test_loss, correct, total = 0, 0, 0\n",
        "        with torch.no_grad():\n",
        "            for batch_idx, (inputs, targets) in enumerate(testloader):\n",
        "                inputs, targets = inputs.to(device), targets.to(device)\n",
        "                outputs,_ = net(inputs)\n",
        "                # loss = criterion(outputs, targets)\n",
        "\n",
        "                # test_loss += loss.item()\n",
        "                _, predicted = outputs.max(1)\n",
        "                total += targets.size(0)\n",
        "                correct += predicted.eq(targets).sum().item()\n",
        "\n",
        "        acc = 100.*correct/total\n",
        "        print('Test Accuracy: %f' %(acc))"
      ],
      "metadata": {
        "id": "kLJ62JMMxe6R",
        "colab": {
          "base_uri": "https://localhost:8080/"
        },
        "outputId": "3fb94d5d-8ce3-4656-ad05-53a71a70b6c7"
      },
      "execution_count": null,
      "outputs": [
        {
          "output_type": "stream",
          "name": "stdout",
          "text": [
            "CUDA Available:  True\n",
            "Running...\n"
          ]
        }
      ]
    },
    {
      "cell_type": "code",
      "source": [
        "# Let us train the network for 1 epoch\n",
        "\n",
        "set_seed(0)\n",
        "\n",
        "for epoch in range(0, 1):\n",
        "  train(epoch)"
      ],
      "metadata": {
        "colab": {
          "base_uri": "https://localhost:8080/"
        },
        "id": "xum_v7FWV0kI",
        "outputId": "cda7480c-8695-4cf3-fc7f-256ed032076c"
      },
      "execution_count": null,
      "outputs": [
        {
          "output_type": "stream",
          "name": "stdout",
          "text": [
            "Epoch: [0]; Iter: [0/469]; Loss: 3.755764\n",
            "Epoch: [0]; Iter: [50/469]; Loss: 2.273945\n",
            "Epoch: [0]; Iter: [100/469]; Loss: 1.933250\n",
            "Epoch: [0]; Iter: [150/469]; Loss: 2.122859\n",
            "Epoch: [0]; Iter: [200/469]; Loss: 1.643487\n",
            "Epoch: [0]; Iter: [250/469]; Loss: 1.424067\n",
            "Epoch: [0]; Iter: [300/469]; Loss: 1.472347\n",
            "Epoch: [0]; Iter: [350/469]; Loss: 1.481440\n",
            "Epoch: [0]; Iter: [400/469]; Loss: 1.301159\n",
            "Epoch: [0]; Iter: [450/469]; Loss: 1.510070\n"
          ]
        }
      ]
    },
    {
      "cell_type": "code",
      "source": [
        "test()"
      ],
      "metadata": {
        "colab": {
          "base_uri": "https://localhost:8080/"
        },
        "id": "fc1wzm0MYfNH",
        "outputId": "3aa47b01-758a-41ed-831e-17ee71dda75d"
      },
      "execution_count": null,
      "outputs": [
        {
          "output_type": "stream",
          "name": "stdout",
          "text": [
            "Test Accuracy: 91.020000\n"
          ]
        }
      ]
    },
    {
      "cell_type": "code",
      "source": [
        "# The below code will output the logits of the rotation head of the classifier.\n",
        "# Execute it and answer the question below\n",
        "\n",
        "net.eval()\n",
        "net.to(device)\n",
        "test_loss, correct, total = 0, 0, 0\n",
        "with torch.no_grad():\n",
        "    for batch_idx, (inputs, targets) in enumerate(testloader):\n",
        "        inputs, targets = inputs.to(device), targets.to(device)\n",
        "        break\n",
        "\n",
        "input = inputs[2:3]\n",
        "target = targets[2:3]\n",
        "\n",
        "outputs_cl,outputs_ssh = net(input)\n",
        "\n",
        "print(math.floor(int(torch.mean(torch.sum(outputs_ssh.data) + torch.sum(outputs_cl.data)))))"
      ],
      "metadata": {
        "colab": {
          "base_uri": "https://localhost:8080/"
        },
        "id": "LjdkJszHvFU3",
        "outputId": "79b9985c-7e13-42e2-e142-771e07a4dcc1"
      },
      "execution_count": null,
      "outputs": [
        {
          "output_type": "stream",
          "name": "stdout",
          "text": [
            "1\n"
          ]
        }
      ]
    },
    {
      "cell_type": "markdown",
      "source": [
        "### Question 3: Self-supervised learning\n",
        "\n",
        "Follow the steps and mark the answer: \\\\\n",
        "1) Add the values in the ssl output tensor. \\\\\n",
        "2) Add the values in the cl output tensor. \\\\\n",
        "3) Add the above two values. \\\\\n",
        "4) Report the closest number to the result as your answer. \\\\\n",
        "\n",
        "1.   0.15\n",
        "2.   1.35\n",
        "3.   3.43\n",
        "4.   2.34\n",
        "\n",
        "Answer (2)"
      ],
      "metadata": {
        "id": "ZNQssVFOxhrG"
      }
    },
    {
      "cell_type": "code",
      "source": [],
      "metadata": {
        "id": "iqQaDGylw_w7"
      },
      "execution_count": null,
      "outputs": []
    }
  ]
}