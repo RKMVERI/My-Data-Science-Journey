{
 "cells": [
  {
   "cell_type": "code",
   "execution_count": 2,
   "metadata": {
    "collapsed": true
   },
   "outputs": [],
   "source": [
    "import re"
   ]
  },
  {
   "cell_type": "code",
   "execution_count": 3,
   "metadata": {
    "collapsed": true
   },
   "outputs": [],
   "source": [
    "#basic methods - \n",
    "#re.match(patt,str) \n",
    "#re.search(patt,str)\n",
    "#re.findall(patt,str)\n",
    "#re.split(patt,str) \n",
    "#re.sub(patt,replace,str)\n",
    "#re.subn(patt,replace,str)"
   ]
  },
  {
   "cell_type": "code",
   "execution_count": 4,
   "metadata": {},
   "outputs": [
    {
     "name": "stdout",
     "output_type": "stream",
     "text": [
      "None\n",
      "<_sre.SRE_Match object; span=(0, 2), match='aa'>\n",
      "(0, 2)\n",
      "<_sre.SRE_Match object; span=(0, 2), match='aa'>\n",
      "(0, 2)\n"
     ]
    }
   ],
   "source": [
    "#match at the start of the string\n",
    "m1 = re.match('aa','this is aa match with aall'); print(m1)\n",
    "m2 = re.match('aa','aa this is aa match with aall'); print(m2)\n",
    "print(m2.span())\n",
    "m2 = re.match('aa','aaaa this is aa match with aall'); print(m2)\n",
    "print(m2.span())"
   ]
  },
  {
   "cell_type": "code",
   "execution_count": 5,
   "metadata": {},
   "outputs": [
    {
     "name": "stdout",
     "output_type": "stream",
     "text": [
      "<_sre.SRE_Match object; span=(8, 10), match='aa'>\n",
      "None\n",
      "None\n",
      "<_sre.SRE_Match object; span=(26, 28), match='aa'>\n",
      "None\n",
      "None\n",
      "<_sre.SRE_Match object; span=(11, 12), match='1'>\n",
      "<_sre.SRE_Match object; span=(8, 9), match='a'>\n",
      "<_sre.SRE_Match object; span=(8, 9), match='m'>\n",
      "<_sre.SRE_Match object; span=(8, 9), match='m'>\n",
      "<_sre.SRE_Match object; span=(10, 12), match='aa'>\n",
      "<_sre.SRE_Match object; span=(10, 13), match='aaa'>\n",
      "None\n",
      "----\n",
      "<_sre.SRE_Match object; span=(10, 14), match='aaaa'>\n",
      "<_sre.SRE_Match object; span=(10, 16), match='aaaaaa'>\n",
      "None\n",
      "<_sre.SRE_Match object; span=(15, 19), match='abab'>\n",
      "----\n",
      "<_sre.SRE_Match object; span=(12, 15), match='abb'>\n",
      "<_sre.SRE_Match object; span=(12, 21), match='abbbbbbbb'>\n",
      "<_sre.SRE_Match object; span=(13, 21), match='bbbbbbbb'>\n",
      "<_sre.SRE_Match object; span=(24, 29), match='ab we'>\n",
      "('ab', 'we')\n",
      "<_sre.SRE_Match object; span=(24, 32), match='ab    we'>\n",
      "('ab', 'we')\n"
     ]
    }
   ],
   "source": [
    "#first match anywhere\n",
    "s1 = re.search('aa','this is aa match with aall'); print(s1) #first match\n",
    "s2 = re.search(\"^aa\",'this is aa match with aall'); print(s2) #^ matches at start\n",
    "s3 = re.search(\"aa$\",'this is aa match with aall'); print(s3) #$ matches at end\n",
    "s4 = re.search(\"aa$\",'this is aa match with aallaa'); print(s4) #$ matches at end\n",
    "s5 = re.search(\"^\\d\",'this is aa match with aallaa'); print(s5) #^ matches digits at start\n",
    "s6 = re.search(\"\\d\",'this is aa match with aallaa'); print(s6) # matches digits anywhere\n",
    "s7 = re.search(\"\\d\",'this is aa 1match with 2 aallaa'); print(s7) # matches digits anywhere\n",
    "s8 = re.search(\"[amxyx]\",'this is aa match with aallaa'); print(s8) # matches any element from a set anywhere\n",
    "s9 = re.search(\"[am]\",'this is m aa match with aallaa'); print(s9) #  matches any from a set of characters anywhere\n",
    "s10 = re.search(\"[am]\",'this is m aa match with aallaa'); print(s10) #  matches any from a set of characters anywhere \n",
    "s11 = re.search(\"a{2}\",'this is m aa match with aallaa'); print(s11) #  matches an expression n no. of times \n",
    "s12 = re.search(\"a{3}\",'this is m aaa match with aallaa'); print(s12) #  matches an expression n no. of times \n",
    "s13 = re.search(\"a{3}\",'this is m aa match with aallaa'); print(s13) #  matches an expression n no. of times \n",
    "print(\"----\")\n",
    "s13_a = re.search(\"aa{3}\",'this is m aaaaaa match with aallaa'); print(s13_a) #  matches an expression n no. of times\n",
    "s13_b = re.search(\"(aa){3}\",'this is m aaaaaa match with aallaa'); print(s13_b) #  matches an expression n no. of times\n",
    "s14 = re.search(\"ab{2}\",'this is aba ab'); print(s14) #  matches an expression n no. of times \n",
    "s15 = re.search(\"(ab){2}\",'this is aba ab abab wewe'); print(s15) #  matches a group n no. of times contigously\n",
    "print(\"----\")\n",
    "s16 = re.search(\"ab{2}\",'this is aba abb abab wewe'); print(s16) #  CAREFUL here!!! note the match\n",
    "s17 = re.search(\"ab{2,}\",'this is aba abbbbbbbb abab wewe'); print(s17) #  CAREFUL here!!! note the match\n",
    "s18 = re.search(\"b{2,}\",'this is aba abbbbbbbb abab wewe'); print(s18) #  CAREFUL here!!! note the match\n",
    "s19 = re.search(\"(ab)\\W*(we)\",'this is aba abbbbbbbb abab wewe'); print(s19); print(s19.groups())\n",
    "s19 = re.search(\"(ab)\\W*(we)\",'this is aba abbbbbbbb abab    wewe'); print(s19); print(s19.groups())"
   ]
  },
  {
   "cell_type": "code",
   "execution_count": 6,
   "metadata": {},
   "outputs": [
    {
     "name": "stdout",
     "output_type": "stream",
     "text": [
      "['ab', 'ab', 'ab', 'ab']\n",
      "4\n",
      "['an', 'an']\n",
      "['an', 'an', 'a', 'an', 'a', 'a', 'an', 'a', 'a', 'a']\n",
      "['an', 'an', 'an', 'an']\n",
      "['an', 'an', 'a', 'an', 'a', 'a', 'an', 'a', 'a', 'a']\n",
      "['ann', 'an', 'an', 'an']\n",
      "['ann']\n",
      "['am n']\n"
     ]
    }
   ],
   "source": [
    "#Return a list of all non-overlapping matches in the string\n",
    "fa1 = re.findall(\"ab\",'this is aba abbbbbbbb abab wewe'); print(fa1) ; print(fa1.count('ab'))\n",
    "fa2 = re.findall(\"an\",'banana'); print(fa2)\n",
    "fa3 = re.findall(\"an*\",'banana panama panam name shame'); print(fa3) #matches 1 'a' and 0 or more 'n' together\n",
    "fa4 = re.findall(\"an+\",'banana panama panam name shame'); print(fa4) #matches 1 'a' and 1 or more 'n' together\n",
    "fa5 = re.findall(\"an?\",'bannana panama panam name shame'); print(fa5) #matches 1 'a' and 0 or 1 'n' together\n",
    "fa6 = re.findall(\"an+\",'bannana panama panam name shame'); print(fa6) #matches 1 'a' and 1 or more 'n' together\n",
    "fa7 = re.findall(\"a.n\",'bannana panama panam name shame'); print(fa7) #matches 1 'a' and 1 'n' with a single character in between\n",
    "fa8 = re.findall(\"a..n\",'bannana panama panam name shame'); print(fa8) #matches 1 'a' and 1 'n' with two characters in between"
   ]
  },
  {
   "cell_type": "code",
   "execution_count": 7,
   "metadata": {},
   "outputs": [
    {
     "data": {
      "text/plain": [
       "'as23\\n21'"
      ]
     },
     "execution_count": 7,
     "metadata": {},
     "output_type": "execute_result"
    }
   ],
   "source": [
    "#normal string vs raw string\n",
    "s1 = 'as23\\n21';s1"
   ]
  },
  {
   "cell_type": "code",
   "execution_count": 8,
   "metadata": {},
   "outputs": [
    {
     "name": "stdout",
     "output_type": "stream",
     "text": [
      "as23\n",
      "21\n"
     ]
    }
   ],
   "source": [
    "print(s1)"
   ]
  },
  {
   "cell_type": "code",
   "execution_count": 9,
   "metadata": {},
   "outputs": [
    {
     "data": {
      "text/plain": [
       "'as23\\\\n21'"
      ]
     },
     "execution_count": 9,
     "metadata": {},
     "output_type": "execute_result"
    }
   ],
   "source": [
    "#Usually patterns will be expressed in Python code using this raw string notation.\n",
    "s1 = r'as23\\n21'; s1"
   ]
  },
  {
   "cell_type": "code",
   "execution_count": 10,
   "metadata": {},
   "outputs": [
    {
     "name": "stdout",
     "output_type": "stream",
     "text": [
      "as23\\n21\n"
     ]
    }
   ],
   "source": [
    "print(s1)"
   ]
  },
  {
   "cell_type": "code",
   "execution_count": 51,
   "metadata": {},
   "outputs": [
    {
     "name": "stdout",
     "output_type": "stream",
     "text": [
      "[['foo'], ['foo'], ['foo'], ['foo'], [], []]\n",
      "['python']\n",
      "['python', 'python']\n",
      "['python', 'pythonic', 'pythonista']\n",
      "['pythonic', 'pythonista']\n"
     ]
    }
   ],
   "source": [
    "#\\b is defined as the boundary between a \\w and a \\W character (or vice versa) \n",
    "#\\w - Matches Unicode word characters; this includes most characters that can be part of a word\n",
    "#in any language, as well as numbers and the underscore ==> [a-zA-Z0-9_]\n",
    "#\\w is often useful for denoting word boundaries\n",
    "#\\W - opposite of \\w i.e. [^a-zA-Z0-9_]\n",
    "#notice the use of 'r' to denote the raw version of pattern string to be used to enable use of \\b\n",
    "l1 = ['foo', 'foo.', '(foo)', 'bar foo baz', 'foobar' ,'foo3']\n",
    "print([re.findall(r'\\bfoo\\b',i) for i in l1])\n",
    "fa9 = re.findall(r\"\\bpython\\b\",'learning python is easy but learing it in the pythonic way takes time'); print(fa9)\n",
    "fa10 = re.findall(r\"\\bpython\",'learning python is easy but learing it in the pythonic way takes time'); print(fa10)\n",
    "fa11 = re.findall(r\"\\bpython\\w*\",'learning python is easy but \\\n",
    "                  learing it in the pythonic way takes time in order to become pythonista !!!'); print(fa11)\n",
    "fa12 = re.findall(r\"\\bpython\\w+\",'learning python is easy but \\\n",
    "                  learing it in the pythonic way takes time in order to become pythonista !!!'); print(fa12)"
   ]
  },
  {
   "cell_type": "code",
   "execution_count": 12,
   "metadata": {},
   "outputs": [
    {
     "name": "stdout",
     "output_type": "stream",
     "text": [
      "no groups to be printed\n",
      "no groups to be printed\n",
      "no groups to be printed\n",
      "no groups to be printed\n",
      "<_sre.SRE_Match object; span=(1, 12), match='ello Hermit'>\n",
      "('ello', 'Hermit')\n",
      "<_sre.SRE_Match object; span=(1, 10), match='ell Heels'>\n",
      "('ell', 'Heels')\n",
      "None\n",
      "no groups to be printed\n",
      "None\n",
      "no groups to be printed\n"
     ]
    }
   ],
   "source": [
    "Hlist = ['Hello Hermit', 'Hell Heels', 'Heaven hat', 'Hollow fire']\n",
    "\n",
    "#following will give error as match searchs only the beginning of the word\n",
    "for element in Hlist:\n",
    "    g = re.match(\"(e\\w+)\\W(H\\w+)\", element)\n",
    "    try:\n",
    "        print(g.groups())\n",
    "    except(AttributeError):\n",
    "        print(\"no groups to be printed\")\n",
    "\n",
    "for element in Hlist:\n",
    "    g = re.search(\"(e\\w+)\\W(H\\w+)\", element)\n",
    "    print(g)\n",
    "    try:\n",
    "        print(g.groups())\n",
    "    except(AttributeError):\n",
    "        print(\"no groups to be printed\")"
   ]
  },
  {
   "cell_type": "code",
   "execution_count": 13,
   "metadata": {},
   "outputs": [
    {
     "name": "stdout",
     "output_type": "stream",
     "text": [
      "['this is ', ' string with ', 'n ex', 'mple']\n"
     ]
    }
   ],
   "source": [
    "spl1 = re.split(\"a\", 'this is a string with an example'); print(spl1)"
   ]
  },
  {
   "cell_type": "code",
   "execution_count": 14,
   "metadata": {},
   "outputs": [
    {
     "name": "stdout",
     "output_type": "stream",
     "text": [
      "this is  bb  string with  bb n ex bb mple\n"
     ]
    }
   ],
   "source": [
    "#Return the string obtained by replacing the leftmost\n",
    "#non-overlapping occurrences of the pattern in string by the\n",
    "#replacement repl\n",
    "sub1 = re.sub('a',' bb ','this is a string with an example'); print(sub1)"
   ]
  },
  {
   "cell_type": "code",
   "execution_count": 15,
   "metadata": {},
   "outputs": [
    {
     "name": "stdout",
     "output_type": "stream",
     "text": [
      "this is  bb  string with  bb n ex bb mple\n",
      "3\n"
     ]
    }
   ],
   "source": [
    "#substitutes and returns the no. of substitution\n",
    "sub2,count = re.subn('a',' bb ','this is a string with an example'); print(sub2); print(count)"
   ]
  },
  {
   "cell_type": "code",
   "execution_count": 53,
   "metadata": {},
   "outputs": [
    {
     "data": {
      "text/plain": [
       "'a_a_b_b_c a_a_nd ABC'"
      ]
     },
     "execution_count": 53,
     "metadata": {},
     "output_type": "execute_result"
    }
   ],
   "source": [
    "re.sub(\"([ab])\", \"\\\\1_\\\\1_\", \"abc and ABC\") #notice the group number"
   ]
  },
  {
   "cell_type": "code",
   "execution_count": 55,
   "metadata": {},
   "outputs": [
    {
     "data": {
      "text/plain": [
       "'a_a_b_b_c a_a_nd ABC'"
      ]
     },
     "execution_count": 55,
     "metadata": {},
     "output_type": "execute_result"
    }
   ],
   "source": [
    "re.sub(\"([ab])\", r\"\\1_\\1_\", \"abc and ABC\") #notice the group number"
   ]
  },
  {
   "cell_type": "code",
   "execution_count": 65,
   "metadata": {},
   "outputs": [
    {
     "name": "stdout",
     "output_type": "stream",
     "text": [
      "ay_ay_pe_ay_pe-bc and ABC\n",
      "ayxcpebc and ABC\n",
      "[[], ['an'], ['cu'], ['jo'], ['cu'], []]\n",
      "[[], ['an'], ['cu'], ['jo'], ['cu'], ['is']]\n",
      "['ng']\n",
      "1---\n",
      "[('ping', 'pong'), ('ping', 'pong'), ('ping', 'pong')]\n",
      "2---\n",
      "[('ping', 'pong')]\n",
      ">>>>\n",
      "[[('a', 'b')], [], [('b', 'a')]]\n",
      "[[('a', 'b', 'c')], [], [('c', 'b', 'a')]]\n",
      "3---\n",
      "[[('aa', 'b', 'c')], [], [('xc', 'b', 'a')]]\n",
      "['color', 'colour', 'colour', 'colour']\n",
      "['color colour colours colouring']\n",
      "['color colour colours colouring']\n",
      "4---\n",
      "[['com'], ['in'], [], ['com']]\n",
      "[['sm@gamil.com'], ['sm@gmail.in'], [], ['sm.gmail.com']]\n",
      "[['sm@gamil.com'], ['sm@gmail.in'], [], [], []]\n"
     ]
    }
   ],
   "source": [
    "print(re.sub(\"([ab]y)x(pe)\", r\"\\1_\\1_\\2_\\1_\\2-\", \"ayxpebc and ABC\")) #axpe or bxpe, notice the group number\n",
    "print(re.sub(\"([ab]y)x(pe)\", r\"\\1_\\1_\\2_\\1_\\2-\", \"ayxcpebc and ABC\")) #no matching string found so no substitution\n",
    "x = ['banama','banana','cucumber','jojoba','cucu','kismis']\n",
    "print([re.findall(r'(..)\\1',y) for y in x])\n",
    "x = ['banana','cucumber','jojoba','cucu','kismis']\n",
    "#notice the below works correctly with kismis which earlier one failed in\n",
    "x = ['banama','banana','cucumber','jojoba','cucu','kismis']\n",
    "\n",
    "print([re.findall(r'(..).?\\1',y) for y in x]) \n",
    "\n",
    "print(re.findall(r'(..)..\\1','pingpong'))\n",
    "print(\"1---\")\n",
    "\n",
    "print(re.findall(r'(p..g)(p..g)','pingpong is to be played like pingpong and \\\n",
    "it will not be pingpong otherwise')) #the groups are returned as tuple\n",
    "print(\"2---\")\n",
    "#the groups are returned as tuple and the .* matches unlimited characters so effectively only one pingpong is detected\n",
    "print(re.findall(r'(p..g)(p..g).*','pingpong is to be played like pingpong and \\\n",
    "it will not be pingpong otherwise')) \n",
    "#annagrams detected\n",
    "print(\">>>>\")\n",
    "print([re.findall(r'(.)(.)\\2\\1', y) for y in ['abba' ,'baba', 'baab']]) \n",
    "print([re.findall(r'(.)(.)(.)\\3\\2\\1', y) for y in ['abccba' ,'baba', 'cbaabc']]) \n",
    "print(\"3---\")\n",
    "print([re.findall(r'(..)(.)(.)\\3\\2\\1', y) for y in ['aabccbaa silly' ,'baba', 'xcbaabxc']]) #slightly different\n",
    "print(re.findall('colou?r','color colour colours colouring'))\n",
    "print(re.findall('colou?r.*','color colour colours colouring'))\n",
    "#we can create a compiled regular expression to be reused as below\n",
    "my_re = re.compile('colou?r.*')\n",
    "print(re.findall(my_re,'color colour colours colouring'))\n",
    "#use or | i.e. or of multiple regular expressions\n",
    "print(\"4---\")\n",
    "print([re.findall('com|in',y) for y in ['sm@gamil.com', 'sm@gmail.in', 'sm@yahoo.de','sm.gmail.com']])\n",
    "print([re.findall('.*com|.*in',y) for y in ['sm@gamil.com', 'sm@gmail.in', 'sm@yahoo.de','sm.gmail.com']])\n",
    "print([re.findall('.*@+.*com|.*@+.*in',y) for y in ['sm@gamil.com', 'sm@gmail.in', 'sm@yahoo.de',\n",
    "                                                    'sm.gmail.com','sm.gmail.in']])"
   ]
  },
  {
   "cell_type": "code",
   "execution_count": 19,
   "metadata": {},
   "outputs": [
    {
     "name": "stdout",
     "output_type": "stream",
     "text": [
      "3\n"
     ]
    },
    {
     "data": {
      "text/plain": [
       "20"
      ]
     },
     "execution_count": 19,
     "metadata": {},
     "output_type": "execute_result"
    }
   ],
   "source": [
    "def my_deco(f):\n",
    "    def my_wrapper(*args):\n",
    "        print(len(args))\n",
    "        return f(args[0],args[1])*args[2]\n",
    "    return my_wrapper\n",
    "\n",
    "@my_deco\n",
    "def f1(a,b):\n",
    "    return a+b\n",
    "#here i can call f1 with more number of arguments than was originally intended after it has been decorated / wrapped\n",
    "f1(2,3,4)"
   ]
  },
  {
   "cell_type": "code",
   "execution_count": 20,
   "metadata": {
    "collapsed": true
   },
   "outputs": [],
   "source": [
    "import sys"
   ]
  },
  {
   "cell_type": "code",
   "execution_count": 21,
   "metadata": {},
   "outputs": [
    {
     "data": {
      "text/plain": [
       "'3.6.3 |Anaconda, Inc.| (default, Oct  6 2017, 12:04:38) \\n[GCC 4.2.1 Compatible Clang 4.0.1 (tags/RELEASE_401/final)]'"
      ]
     },
     "execution_count": 21,
     "metadata": {},
     "output_type": "execute_result"
    }
   ],
   "source": [
    "sys.version"
   ]
  },
  {
   "cell_type": "code",
   "execution_count": 66,
   "metadata": {},
   "outputs": [
    {
     "name": "stdout",
     "output_type": "stream",
     "text": [
      "3\n",
      "/Users/sudeepmallick/anaconda3/lib/python3.6/site-packages/ipykernel_launcher.py\n",
      "-f\n",
      "/Users/sudeepmallick/Library/Jupyter/runtime/kernel-00cbe173-1edb-4b92-b2bb-29c090f31895.json\n"
     ]
    }
   ],
   "source": [
    "#put the following in a python script and pass 2 arguments while executing the script from a terminal like:\n",
    "#python my_script.py ab 12\n",
    "import sys\n",
    "print(len(sys.argv))\n",
    "print(sys.argv[0])\n",
    "print(sys.argv[1])\n",
    "print(sys.argv[2])"
   ]
  },
  {
   "cell_type": "code",
   "execution_count": 23,
   "metadata": {},
   "outputs": [
    {
     "name": "stdout",
     "output_type": "stream",
     "text": [
      "['', '/Users/sudeepmallick/anaconda3/lib/python36.zip', '/Users/sudeepmallick/anaconda3/lib/python3.6', '/Users/sudeepmallick/anaconda3/lib/python3.6/lib-dynload', '/Users/sudeepmallick/.local/lib/python3.6/site-packages', '/Users/sudeepmallick/anaconda3/lib/python3.6/site-packages', '/Users/sudeepmallick/anaconda3/lib/python3.6/site-packages/aeosa', '/Users/sudeepmallick/anaconda3/lib/python3.6/site-packages/IPython/extensions', '/Users/sudeepmallick/.ipython']\n"
     ]
    }
   ],
   "source": [
    "print(sys.path)"
   ]
  },
  {
   "cell_type": "code",
   "execution_count": 67,
   "metadata": {},
   "outputs": [
    {
     "name": "stdout",
     "output_type": "stream",
     "text": [
      "<class 'dict'>\n",
      "{'builtins': <module 'builtins' (built-in)>, 'sys': <module 'sys' (built-in)>, '_frozen_importlib': <module 'importlib._bootstrap' (frozen)>, '_imp': <module '_imp' (built-in)>, '_warnings': <module '_warnings' (built-in)>, '_thread': <module '_thread' (built-in)>, '_weakref': <module '_weakref' (built-in)>, '_frozen_importlib_external': <module 'importlib._bootstrap_external' (frozen)>, '_io': <module 'io' (built-in)>, 'marshal': <module 'marshal' (built-in)>, 'posix': <module 'posix' (built-in)>, 'zipimport': <module 'zipimport' (built-in)>, 'encodings': <module 'encodings' from '/Users/sudeepmallick/anaconda3/lib/python3.6/encodings/__init__.py'>, 'codecs': <module 'codecs' from '/Users/sudeepmallick/anaconda3/lib/python3.6/codecs.py'>, '_codecs': <module '_codecs' (built-in)>, 'encodings.aliases': <module 'encodings.aliases' from '/Users/sudeepmallick/anaconda3/lib/python3.6/encodings/aliases.py'>, 'encodings.utf_8': <module 'encodings.utf_8' from '/Users/sudeepmallick/anaconda3/lib/python3.6/encodings/utf_8.py'>, '_signal': <module '_signal' (built-in)>, '__main__': <module '__main__'>, 'encodings.latin_1': <module 'encodings.latin_1' from '/Users/sudeepmallick/anaconda3/lib/python3.6/encodings/latin_1.py'>, 'io': <module 'io' from '/Users/sudeepmallick/anaconda3/lib/python3.6/io.py'>, 'abc': <module 'abc' from '/Users/sudeepmallick/anaconda3/lib/python3.6/abc.py'>, '_weakrefset': <module '_weakrefset' from '/Users/sudeepmallick/anaconda3/lib/python3.6/_weakrefset.py'>, '_bootlocale': <module '_bootlocale' from '/Users/sudeepmallick/anaconda3/lib/python3.6/_bootlocale.py'>, '_locale': <module '_locale' (built-in)>, 'site': <module 'site' from '/Users/sudeepmallick/anaconda3/lib/python3.6/site.py'>, 'os': <module 'os' from '/Users/sudeepmallick/anaconda3/lib/python3.6/os.py'>, 'errno': <module 'errno' (built-in)>, 'stat': <module 'stat' from '/Users/sudeepmallick/anaconda3/lib/python3.6/stat.py'>, '_stat': <module '_stat' (built-in)>, 'posixpath': <module 'posixpath' from '/Users/sudeepmallick/anaconda3/lib/python3.6/posixpath.py'>, 'genericpath': <module 'genericpath' from '/Users/sudeepmallick/anaconda3/lib/python3.6/genericpath.py'>, 'os.path': <module 'posixpath' from '/Users/sudeepmallick/anaconda3/lib/python3.6/posixpath.py'>, '_collections_abc': <module '_collections_abc' from '/Users/sudeepmallick/anaconda3/lib/python3.6/_collections_abc.py'>, '_sitebuiltins': <module '_sitebuiltins' from '/Users/sudeepmallick/anaconda3/lib/python3.6/_sitebuiltins.py'>, 'sysconfig': <module 'sysconfig' from '/Users/sudeepmallick/anaconda3/lib/python3.6/sysconfig.py'>, '_sysconfigdata_m_darwin_darwin': <module '_sysconfigdata_m_darwin_darwin' from '/Users/sudeepmallick/anaconda3/lib/python3.6/_sysconfigdata_m_darwin_darwin.py'>, '_osx_support': <module '_osx_support' from '/Users/sudeepmallick/anaconda3/lib/python3.6/_osx_support.py'>, 're': <module 're' from '/Users/sudeepmallick/anaconda3/lib/python3.6/re.py'>, 'enum': <module 'enum' from '/Users/sudeepmallick/anaconda3/lib/python3.6/enum.py'>, 'types': <module 'types' from '/Users/sudeepmallick/anaconda3/lib/python3.6/types.py'>, 'functools': <module 'functools' from '/Users/sudeepmallick/anaconda3/lib/python3.6/functools.py'>, '_functools': <module '_functools' (built-in)>, 'collections': <module 'collections' from '/Users/sudeepmallick/anaconda3/lib/python3.6/collections/__init__.py'>, 'operator': <module 'operator' from '/Users/sudeepmallick/anaconda3/lib/python3.6/operator.py'>, '_operator': <module '_operator' (built-in)>, 'keyword': <module 'keyword' from '/Users/sudeepmallick/anaconda3/lib/python3.6/keyword.py'>, 'heapq': <module 'heapq' from '/Users/sudeepmallick/anaconda3/lib/python3.6/heapq.py'>, '_heapq': <module '_heapq' from '/Users/sudeepmallick/anaconda3/lib/python3.6/lib-dynload/_heapq.cpython-36m-darwin.so'>, 'itertools': <module 'itertools' (built-in)>, 'reprlib': <module 'reprlib' from '/Users/sudeepmallick/anaconda3/lib/python3.6/reprlib.py'>, '_collections': <module '_collections' (built-in)>, 'weakref': <module 'weakref' from '/Users/sudeepmallick/anaconda3/lib/python3.6/weakref.py'>, 'collections.abc': <module 'collections.abc' from '/Users/sudeepmallick/anaconda3/lib/python3.6/collections/abc.py'>, 'sre_compile': <module 'sre_compile' from '/Users/sudeepmallick/anaconda3/lib/python3.6/sre_compile.py'>, '_sre': <module '_sre' (built-in)>, 'sre_parse': <module 'sre_parse' from '/Users/sudeepmallick/anaconda3/lib/python3.6/sre_parse.py'>, 'sre_constants': <module 'sre_constants' from '/Users/sudeepmallick/anaconda3/lib/python3.6/sre_constants.py'>, 'copyreg': <module 'copyreg' from '/Users/sudeepmallick/anaconda3/lib/python3.6/copyreg.py'>, 'importlib': <module 'importlib' from '/Users/sudeepmallick/anaconda3/lib/python3.6/importlib/__init__.py'>, 'importlib._bootstrap': <module 'importlib._bootstrap' (frozen)>, 'importlib._bootstrap_external': <module 'importlib._bootstrap_external' (frozen)>, 'warnings': <module 'warnings' from '/Users/sudeepmallick/anaconda3/lib/python3.6/warnings.py'>, 'importlib.util': <module 'importlib.util' from '/Users/sudeepmallick/anaconda3/lib/python3.6/importlib/util.py'>, 'importlib.abc': <module 'importlib.abc' from '/Users/sudeepmallick/anaconda3/lib/python3.6/importlib/abc.py'>, 'importlib.machinery': <module 'importlib.machinery' from '/Users/sudeepmallick/anaconda3/lib/python3.6/importlib/machinery.py'>, 'contextlib': <module 'contextlib' from '/Users/sudeepmallick/anaconda3/lib/python3.6/contextlib.py'>, 'google': <module 'google' (namespace)>, 'mpl_toolkits': <module 'mpl_toolkits' (namespace)>, 'google.cloud': <module 'google.cloud' (namespace)>, 'google.cloud.gapic': <module 'google.cloud.gapic' (namespace)>, 'google.cloud.gapic.datastore': <module 'google.cloud.gapic.datastore' (namespace)>, 'google.cloud.gapic.errorreporting': <module 'google.cloud.gapic.errorreporting' (namespace)>, 'google.cloud.gapic.logging': <module 'google.cloud.gapic.logging' (namespace)>, 'google.logging': <module 'google.logging' (namespace)>, 'google.iam': <module 'google.iam' (namespace)>, 'google.cloud.proto': <module 'google.cloud.proto' (namespace)>, 'google.cloud.proto.datastore': <module 'google.cloud.proto.datastore' (namespace)>, 'google.cloud.proto.devtools': <module 'google.cloud.proto.devtools' (namespace)>, 'google.cloud.proto.devtools.clouderrorreporting': <module 'google.cloud.proto.devtools.clouderrorreporting' (namespace)>, 'google.cloud.proto.logging': <module 'google.cloud.proto.logging' (namespace)>, 'sphinxcontrib': <module 'sphinxcontrib' from '/Users/sudeepmallick/anaconda3/lib/python3.6/site-packages/sphinxcontrib/__init__.py'>, 'runpy': <module 'runpy' from '/Users/sudeepmallick/anaconda3/lib/python3.6/runpy.py'>, 'pkgutil': <module 'pkgutil' from '/Users/sudeepmallick/anaconda3/lib/python3.6/pkgutil.py'>, 'ipykernel': <module 'ipykernel' from '/Users/sudeepmallick/anaconda3/lib/python3.6/site-packages/ipykernel/__init__.py'>, 'ipykernel._version': <module 'ipykernel._version' from '/Users/sudeepmallick/anaconda3/lib/python3.6/site-packages/ipykernel/_version.py'>, 'ipykernel.connect': <module 'ipykernel.connect' from '/Users/sudeepmallick/anaconda3/lib/python3.6/site-packages/ipykernel/connect.py'>, '__future__': <module '__future__' from '/Users/sudeepmallick/anaconda3/lib/python3.6/__future__.py'>, 'json': <module 'json' from '/Users/sudeepmallick/anaconda3/lib/python3.6/json/__init__.py'>, 'json.decoder': <module 'json.decoder' from '/Users/sudeepmallick/anaconda3/lib/python3.6/json/decoder.py'>, 'json.scanner': <module 'json.scanner' from '/Users/sudeepmallick/anaconda3/lib/python3.6/json/scanner.py'>, '_json': <module '_json' from '/Users/sudeepmallick/anaconda3/lib/python3.6/lib-dynload/_json.cpython-36m-darwin.so'>, 'json.encoder': <module 'json.encoder' from '/Users/sudeepmallick/anaconda3/lib/python3.6/json/encoder.py'>, 'subprocess': <module 'subprocess' from '/Users/sudeepmallick/anaconda3/lib/python3.6/subprocess.py'>, 'time': <module 'time' (built-in)>, 'signal': <module 'signal' from '/Users/sudeepmallick/anaconda3/lib/python3.6/signal.py'>, '_posixsubprocess': <module '_posixsubprocess' from '/Users/sudeepmallick/anaconda3/lib/python3.6/lib-dynload/_posixsubprocess.cpython-36m-darwin.so'>, 'select': <module 'select' from '/Users/sudeepmallick/anaconda3/lib/python3.6/lib-dynload/select.cpython-36m-darwin.so'>, 'selectors': <module 'selectors' from '/Users/sudeepmallick/anaconda3/lib/python3.6/selectors.py'>, 'math': <module 'math' from '/Users/sudeepmallick/anaconda3/lib/python3.6/lib-dynload/math.cpython-36m-darwin.so'>, 'threading': <module 'threading' from '/Users/sudeepmallick/anaconda3/lib/python3.6/threading.py'>, 'traceback': <module 'traceback' from '/Users/sudeepmallick/anaconda3/lib/python3.6/traceback.py'>, 'linecache': <module 'linecache' from '/Users/sudeepmallick/anaconda3/lib/python3.6/linecache.py'>, 'tokenize': <module 'tokenize' from '/Users/sudeepmallick/anaconda3/lib/python3.6/tokenize.py'>, 'token': <module 'token' from '/Users/sudeepmallick/anaconda3/lib/python3.6/token.py'>, 'IPython': <module 'IPython' from '/Users/sudeepmallick/anaconda3/lib/python3.6/site-packages/IPython/__init__.py'>, 'IPython.core': <module 'IPython.core' from '/Users/sudeepmallick/anaconda3/lib/python3.6/site-packages/IPython/core/__init__.py'>, 'IPython.core.getipython': <module 'IPython.core.getipython' from '/Users/sudeepmallick/anaconda3/lib/python3.6/site-packages/IPython/core/getipython.py'>, 'IPython.core.release': <module 'IPython.core.release' from '/Users/sudeepmallick/anaconda3/lib/python3.6/site-packages/IPython/core/release.py'>, 'IPython.core.application': <module 'IPython.core.application' from '/Users/sudeepmallick/anaconda3/lib/python3.6/site-packages/IPython/core/application.py'>, 'atexit': <module 'atexit' (built-in)>, 'copy': <module 'copy' from '/Users/sudeepmallick/anaconda3/lib/python3.6/copy.py'>, 'glob': <module 'glob' from '/Users/sudeepmallick/anaconda3/lib/python3.6/glob.py'>, 'fnmatch': <module 'fnmatch' from '/Users/sudeepmallick/anaconda3/lib/python3.6/fnmatch.py'>, 'logging': <module 'logging' from '/Users/sudeepmallick/anaconda3/lib/python3.6/logging/__init__.py'>, 'string': <module 'string' from '/Users/sudeepmallick/anaconda3/lib/python3.6/string.py'>, '_string': <module '_string' (built-in)>, 'shutil': <module 'shutil' from '/Users/sudeepmallick/anaconda3/lib/python3.6/shutil.py'>, 'zlib': <module 'zlib' from '/Users/sudeepmallick/anaconda3/lib/python3.6/lib-dynload/zlib.cpython-36m-darwin.so'>, 'bz2': <module 'bz2' from '/Users/sudeepmallick/anaconda3/lib/python3.6/bz2.py'>, '_compression': <module '_compression' from '/Users/sudeepmallick/anaconda3/lib/python3.6/_compression.py'>, '_bz2': <module '_bz2' from '/Users/sudeepmallick/anaconda3/lib/python3.6/lib-dynload/_bz2.cpython-36m-darwin.so'>, 'lzma': <module 'lzma' from '/Users/sudeepmallick/anaconda3/lib/python3.6/lzma.py'>, '_lzma': <module '_lzma' from '/Users/sudeepmallick/anaconda3/lib/python3.6/lib-dynload/_lzma.cpython-36m-darwin.so'>, 'pwd': <module 'pwd' (built-in)>, 'grp': <module 'grp' from '/Users/sudeepmallick/anaconda3/lib/python3.6/lib-dynload/grp.cpython-36m-darwin.so'>, 'traitlets': <module 'traitlets' from '/Users/sudeepmallick/anaconda3/lib/python3.6/site-packages/traitlets/__init__.py'>, 'traitlets.traitlets': <module 'traitlets.traitlets' from '/Users/sudeepmallick/anaconda3/lib/python3.6/site-packages/traitlets/traitlets.py'>, 'inspect': <module 'inspect' from '/Users/sudeepmallick/anaconda3/lib/python3.6/inspect.py'>, 'ast': <module 'ast' from '/Users/sudeepmallick/anaconda3/lib/python3.6/ast.py'>, '_ast': <module '_ast' (built-in)>, 'dis': <module 'dis' from '/Users/sudeepmallick/anaconda3/lib/python3.6/dis.py'>, 'opcode': <module 'opcode' from '/Users/sudeepmallick/anaconda3/lib/python3.6/opcode.py'>, '_opcode': <module '_opcode' from '/Users/sudeepmallick/anaconda3/lib/python3.6/lib-dynload/_opcode.cpython-36m-darwin.so'>, 'six': <module 'six' from '/Users/sudeepmallick/anaconda3/lib/python3.6/site-packages/six.py'>, 'struct': <module 'struct' from '/Users/sudeepmallick/anaconda3/lib/python3.6/struct.py'>, '_struct': <module '_struct' from '/Users/sudeepmallick/anaconda3/lib/python3.6/lib-dynload/_struct.cpython-36m-darwin.so'>, 'traitlets.utils': <module 'traitlets.utils' from '/Users/sudeepmallick/anaconda3/lib/python3.6/site-packages/traitlets/utils/__init__.py'>, 'traitlets.utils.getargspec': <module 'traitlets.utils.getargspec' from '/Users/sudeepmallick/anaconda3/lib/python3.6/site-packages/traitlets/utils/getargspec.py'>, 'traitlets.utils.importstring': <module 'traitlets.utils.importstring' from '/Users/sudeepmallick/anaconda3/lib/python3.6/site-packages/traitlets/utils/importstring.py'>, 'ipython_genutils': <module 'ipython_genutils' from '/Users/sudeepmallick/anaconda3/lib/python3.6/site-packages/ipython_genutils/__init__.py'>, 'ipython_genutils._version': <module 'ipython_genutils._version' from '/Users/sudeepmallick/anaconda3/lib/python3.6/site-packages/ipython_genutils/_version.py'>, 'ipython_genutils.py3compat': <module 'ipython_genutils.py3compat' from '/Users/sudeepmallick/anaconda3/lib/python3.6/site-packages/ipython_genutils/py3compat.py'>, 'ipython_genutils.encoding': <module 'ipython_genutils.encoding' from '/Users/sudeepmallick/anaconda3/lib/python3.6/site-packages/ipython_genutils/encoding.py'>, 'locale': <module 'locale' from '/Users/sudeepmallick/anaconda3/lib/python3.6/locale.py'>, 'platform': <module 'platform' from '/Users/sudeepmallick/anaconda3/lib/python3.6/platform.py'>, 'traitlets.utils.sentinel': <module 'traitlets.utils.sentinel' from '/Users/sudeepmallick/anaconda3/lib/python3.6/site-packages/traitlets/utils/sentinel.py'>, 'traitlets.utils.bunch': <module 'traitlets.utils.bunch' from '/Users/sudeepmallick/anaconda3/lib/python3.6/site-packages/traitlets/utils/bunch.py'>, 'traitlets._version': <module 'traitlets._version' from '/Users/sudeepmallick/anaconda3/lib/python3.6/site-packages/traitlets/_version.py'>, 'traitlets.config': <module 'traitlets.config' from '/Users/sudeepmallick/anaconda3/lib/python3.6/site-packages/traitlets/config/__init__.py'>, 'traitlets.config.application': <module 'traitlets.config.application' from '/Users/sudeepmallick/anaconda3/lib/python3.6/site-packages/traitlets/config/application.py'>, 'decorator': <module 'decorator' from '/Users/sudeepmallick/anaconda3/lib/python3.6/site-packages/decorator.py'>, 'traitlets.config.configurable': <module 'traitlets.config.configurable' from '/Users/sudeepmallick/anaconda3/lib/python3.6/site-packages/traitlets/config/configurable.py'>, 'traitlets.config.loader': <module 'traitlets.config.loader' from '/Users/sudeepmallick/anaconda3/lib/python3.6/site-packages/traitlets/config/loader.py'>, 'argparse': <module 'argparse' from '/Users/sudeepmallick/anaconda3/lib/python3.6/argparse.py'>, 'textwrap': <module 'textwrap' from '/Users/sudeepmallick/anaconda3/lib/python3.6/textwrap.py'>, 'gettext': <module 'gettext' from '/Users/sudeepmallick/anaconda3/lib/python3.6/gettext.py'>, 'ipython_genutils.path': <module 'ipython_genutils.path' from '/Users/sudeepmallick/anaconda3/lib/python3.6/site-packages/ipython_genutils/path.py'>, 'random': <module 'random' from '/Users/sudeepmallick/anaconda3/lib/python3.6/random.py'>, 'hashlib': <module 'hashlib' from '/Users/sudeepmallick/anaconda3/lib/python3.6/hashlib.py'>, '_hashlib': <module '_hashlib' from '/Users/sudeepmallick/anaconda3/lib/python3.6/lib-dynload/_hashlib.cpython-36m-darwin.so'>, '_blake2': <module '_blake2' from '/Users/sudeepmallick/anaconda3/lib/python3.6/lib-dynload/_blake2.cpython-36m-darwin.so'>, '_sha3': <module '_sha3' from '/Users/sudeepmallick/anaconda3/lib/python3.6/lib-dynload/_sha3.cpython-36m-darwin.so'>, 'bisect': <module 'bisect' from '/Users/sudeepmallick/anaconda3/lib/python3.6/bisect.py'>, '_bisect': <module '_bisect' from '/Users/sudeepmallick/anaconda3/lib/python3.6/lib-dynload/_bisect.cpython-36m-darwin.so'>, '_random': <module '_random' from '/Users/sudeepmallick/anaconda3/lib/python3.6/lib-dynload/_random.cpython-36m-darwin.so'>, 'ipython_genutils.text': <module 'ipython_genutils.text' from '/Users/sudeepmallick/anaconda3/lib/python3.6/site-packages/ipython_genutils/text.py'>, 'ipython_genutils.importstring': <module 'ipython_genutils.importstring' from '/Users/sudeepmallick/anaconda3/lib/python3.6/site-packages/ipython_genutils/importstring.py'>, 'IPython.core.crashhandler': <module 'IPython.core.crashhandler' from '/Users/sudeepmallick/anaconda3/lib/python3.6/site-packages/IPython/core/crashhandler.py'>, 'pprint': <module 'pprint' from '/Users/sudeepmallick/anaconda3/lib/python3.6/pprint.py'>, 'IPython.core.ultratb': <module 'IPython.core.ultratb' from '/Users/sudeepmallick/anaconda3/lib/python3.6/site-packages/IPython/core/ultratb.py'>, 'pydoc': <module 'pydoc' from '/Users/sudeepmallick/anaconda3/lib/python3.6/pydoc.py'>, 'urllib': <module 'urllib' from '/Users/sudeepmallick/anaconda3/lib/python3.6/urllib/__init__.py'>, 'urllib.parse': <module 'urllib.parse' from '/Users/sudeepmallick/anaconda3/lib/python3.6/urllib/parse.py'>, 'IPython.core.debugger': <module 'IPython.core.debugger' from '/Users/sudeepmallick/anaconda3/lib/python3.6/site-packages/IPython/core/debugger.py'>, 'bdb': <module 'bdb' from '/Users/sudeepmallick/anaconda3/lib/python3.6/bdb.py'>, 'IPython.utils': <module 'IPython.utils' from '/Users/sudeepmallick/anaconda3/lib/python3.6/site-packages/IPython/utils/__init__.py'>, 'IPython.utils.PyColorize': <module 'IPython.utils.PyColorize' from '/Users/sudeepmallick/anaconda3/lib/python3.6/site-packages/IPython/utils/PyColorize.py'>, 'IPython.utils.coloransi': <module 'IPython.utils.coloransi' from '/Users/sudeepmallick/anaconda3/lib/python3.6/site-packages/IPython/utils/coloransi.py'>, 'IPython.utils.ipstruct': <module 'IPython.utils.ipstruct' from '/Users/sudeepmallick/anaconda3/lib/python3.6/site-packages/IPython/utils/ipstruct.py'>, 'IPython.utils.colorable': <module 'IPython.utils.colorable' from '/Users/sudeepmallick/anaconda3/lib/python3.6/site-packages/IPython/utils/colorable.py'>, 'pygments': <module 'pygments' from '/Users/sudeepmallick/anaconda3/lib/python3.6/site-packages/pygments/__init__.py'>, 'pygments.util': <module 'pygments.util' from '/Users/sudeepmallick/anaconda3/lib/python3.6/site-packages/pygments/util.py'>, 'IPython.utils.py3compat': <module 'IPython.utils.py3compat' from '/Users/sudeepmallick/anaconda3/lib/python3.6/site-packages/IPython/utils/py3compat.py'>, 'IPython.utils.encoding': <module 'IPython.utils.encoding' from '/Users/sudeepmallick/anaconda3/lib/python3.6/site-packages/IPython/utils/encoding.py'>, 'IPython.core.excolors': <module 'IPython.core.excolors' from '/Users/sudeepmallick/anaconda3/lib/python3.6/site-packages/IPython/core/excolors.py'>, 'IPython.testing': <module 'IPython.testing' from '/Users/sudeepmallick/anaconda3/lib/python3.6/site-packages/IPython/testing/__init__.py'>, 'IPython.testing.skipdoctest': <module 'IPython.testing.skipdoctest' from '/Users/sudeepmallick/anaconda3/lib/python3.6/site-packages/IPython/testing/skipdoctest.py'>, 'pdb': <module 'pdb' from '/Users/sudeepmallick/anaconda3/lib/python3.6/pdb.py'>, 'cmd': <module 'cmd' from '/Users/sudeepmallick/anaconda3/lib/python3.6/cmd.py'>, 'code': <module 'code' from '/Users/sudeepmallick/anaconda3/lib/python3.6/code.py'>, 'codeop': <module 'codeop' from '/Users/sudeepmallick/anaconda3/lib/python3.6/codeop.py'>, 'IPython.core.display_trap': <module 'IPython.core.display_trap' from '/Users/sudeepmallick/anaconda3/lib/python3.6/site-packages/IPython/core/display_trap.py'>, 'IPython.utils.openpy': <module 'IPython.utils.openpy' from '/Users/sudeepmallick/anaconda3/lib/python3.6/site-packages/IPython/utils/openpy.py'>, 'IPython.utils.path': <module 'IPython.utils.path' from '/Users/sudeepmallick/anaconda3/lib/python3.6/site-packages/IPython/utils/path.py'>, 'IPython.utils.process': <module 'IPython.utils.process' from '/Users/sudeepmallick/anaconda3/lib/python3.6/site-packages/IPython/utils/process.py'>, 'IPython.utils._process_posix': <module 'IPython.utils._process_posix' from '/Users/sudeepmallick/anaconda3/lib/python3.6/site-packages/IPython/utils/_process_posix.py'>, 'pexpect': <module 'pexpect' from '/Users/sudeepmallick/anaconda3/lib/python3.6/site-packages/pexpect/__init__.py'>, 'pexpect.exceptions': <module 'pexpect.exceptions' from '/Users/sudeepmallick/anaconda3/lib/python3.6/site-packages/pexpect/exceptions.py'>, 'pexpect.utils': <module 'pexpect.utils' from '/Users/sudeepmallick/anaconda3/lib/python3.6/site-packages/pexpect/utils.py'>, 'pexpect.expect': <module 'pexpect.expect' from '/Users/sudeepmallick/anaconda3/lib/python3.6/site-packages/pexpect/expect.py'>, 'pexpect.pty_spawn': <module 'pexpect.pty_spawn' from '/Users/sudeepmallick/anaconda3/lib/python3.6/site-packages/pexpect/pty_spawn.py'>, 'pty': <module 'pty' from '/Users/sudeepmallick/anaconda3/lib/python3.6/pty.py'>, 'tty': <module 'tty' from '/Users/sudeepmallick/anaconda3/lib/python3.6/tty.py'>, 'termios': <module 'termios' from '/Users/sudeepmallick/anaconda3/lib/python3.6/lib-dynload/termios.cpython-36m-darwin.so'>, 'ptyprocess': <module 'ptyprocess' from '/Users/sudeepmallick/anaconda3/lib/python3.6/site-packages/ptyprocess/__init__.py'>, 'ptyprocess.ptyprocess': <module 'ptyprocess.ptyprocess' from '/Users/sudeepmallick/anaconda3/lib/python3.6/site-packages/ptyprocess/ptyprocess.py'>, 'fcntl': <module 'fcntl' from '/Users/sudeepmallick/anaconda3/lib/python3.6/lib-dynload/fcntl.cpython-36m-darwin.so'>, 'resource': <module 'resource' from '/Users/sudeepmallick/anaconda3/lib/python3.6/lib-dynload/resource.cpython-36m-darwin.so'>, 'ptyprocess.util': <module 'ptyprocess.util' from '/Users/sudeepmallick/anaconda3/lib/python3.6/site-packages/ptyprocess/util.py'>, 'pexpect.spawnbase': <module 'pexpect.spawnbase' from '/Users/sudeepmallick/anaconda3/lib/python3.6/site-packages/pexpect/spawnbase.py'>, 'pexpect.run': <module 'pexpect.run' from '/Users/sudeepmallick/anaconda3/lib/python3.6/site-packages/pexpect/run.py'>, 'IPython.utils._process_common': <module 'IPython.utils._process_common' from '/Users/sudeepmallick/anaconda3/lib/python3.6/site-packages/IPython/utils/_process_common.py'>, 'shlex': <module 'shlex' from '/Users/sudeepmallick/anaconda3/lib/python3.6/shlex.py'>, 'IPython.utils.decorators': <module 'IPython.utils.decorators' from '/Users/sudeepmallick/anaconda3/lib/python3.6/site-packages/IPython/utils/decorators.py'>, 'IPython.utils.data': <module 'IPython.utils.data' from '/Users/sudeepmallick/anaconda3/lib/python3.6/site-packages/IPython/utils/data.py'>, 'IPython.utils.terminal': <module 'IPython.utils.terminal' from '/Users/sudeepmallick/anaconda3/lib/python3.6/site-packages/IPython/utils/terminal.py'>, 'IPython.utils.sysinfo': <module 'IPython.utils.sysinfo' from '/Users/sudeepmallick/anaconda3/lib/python3.6/site-packages/IPython/utils/sysinfo.py'>, 'IPython.utils._sysinfo': <module 'IPython.utils._sysinfo' from '/Users/sudeepmallick/anaconda3/lib/python3.6/site-packages/IPython/utils/_sysinfo.py'>, 'IPython.core.profiledir': <module 'IPython.core.profiledir' from '/Users/sudeepmallick/anaconda3/lib/python3.6/site-packages/IPython/core/profiledir.py'>, 'IPython.paths': <module 'IPython.paths' from '/Users/sudeepmallick/anaconda3/lib/python3.6/site-packages/IPython/paths.py'>, 'tempfile': <module 'tempfile' from '/Users/sudeepmallick/anaconda3/lib/python3.6/tempfile.py'>, 'IPython.utils.importstring': <module 'IPython.utils.importstring' from '/Users/sudeepmallick/anaconda3/lib/python3.6/site-packages/IPython/utils/importstring.py'>, 'IPython.terminal': <module 'IPython.terminal' from '/Users/sudeepmallick/anaconda3/lib/python3.6/site-packages/IPython/terminal/__init__.py'>, 'IPython.terminal.embed': <module 'IPython.terminal.embed' from '/Users/sudeepmallick/anaconda3/lib/python3.6/site-packages/IPython/terminal/embed.py'>, 'IPython.core.compilerop': <module 'IPython.core.compilerop' from '/Users/sudeepmallick/anaconda3/lib/python3.6/site-packages/IPython/core/compilerop.py'>, 'IPython.core.magic_arguments': <module 'IPython.core.magic_arguments' from '/Users/sudeepmallick/anaconda3/lib/python3.6/site-packages/IPython/core/magic_arguments.py'>, 'IPython.core.error': <module 'IPython.core.error' from '/Users/sudeepmallick/anaconda3/lib/python3.6/site-packages/IPython/core/error.py'>, 'IPython.utils.text': <module 'IPython.utils.text' from '/Users/sudeepmallick/anaconda3/lib/python3.6/site-packages/IPython/utils/text.py'>, 'pathlib': <module 'pathlib' from '/Users/sudeepmallick/anaconda3/lib/python3.6/pathlib.py'>, 'ntpath': <module 'ntpath' from '/Users/sudeepmallick/anaconda3/lib/python3.6/ntpath.py'>, 'IPython.core.magic': <module 'IPython.core.magic' from '/Users/sudeepmallick/anaconda3/lib/python3.6/site-packages/IPython/core/magic.py'>, 'getopt': <module 'getopt' from '/Users/sudeepmallick/anaconda3/lib/python3.6/getopt.py'>, 'IPython.core.oinspect': <module 'IPython.core.oinspect' from '/Users/sudeepmallick/anaconda3/lib/python3.6/site-packages/IPython/core/oinspect.py'>, 'IPython.core.page': <module 'IPython.core.page' from '/Users/sudeepmallick/anaconda3/lib/python3.6/site-packages/IPython/core/page.py'>, 'IPython.core.display': <module 'IPython.core.display' from '/Users/sudeepmallick/anaconda3/lib/python3.6/site-packages/IPython/core/display.py'>, 'base64': <module 'base64' from '/Users/sudeepmallick/anaconda3/lib/python3.6/base64.py'>, 'binascii': <module 'binascii' from '/Users/sudeepmallick/anaconda3/lib/python3.6/lib-dynload/binascii.cpython-36m-darwin.so'>, 'mimetypes': <module 'mimetypes' from '/Users/sudeepmallick/anaconda3/lib/python3.6/mimetypes.py'>, 'IPython.lib': <module 'IPython.lib' from '/Users/sudeepmallick/anaconda3/lib/python3.6/site-packages/IPython/lib/__init__.py'>, 'IPython.lib.security': <module 'IPython.lib.security' from '/Users/sudeepmallick/anaconda3/lib/python3.6/site-packages/IPython/lib/security.py'>, 'getpass': <module 'getpass' from '/Users/sudeepmallick/anaconda3/lib/python3.6/getpass.py'>, 'IPython.lib.pretty': <module 'IPython.lib.pretty' from '/Users/sudeepmallick/anaconda3/lib/python3.6/site-packages/IPython/lib/pretty.py'>, 'datetime': <module 'datetime' from '/Users/sudeepmallick/anaconda3/lib/python3.6/datetime.py'>, '_datetime': <module '_datetime' from '/Users/sudeepmallick/anaconda3/lib/python3.6/lib-dynload/_datetime.cpython-36m-darwin.so'>, 'IPython.utils.dir2': <module 'IPython.utils.dir2' from '/Users/sudeepmallick/anaconda3/lib/python3.6/site-packages/IPython/utils/dir2.py'>, 'IPython.utils.wildcard': <module 'IPython.utils.wildcard' from '/Users/sudeepmallick/anaconda3/lib/python3.6/site-packages/IPython/utils/wildcard.py'>, 'pygments.lexers': <module 'pygments.lexers' from '/Users/sudeepmallick/anaconda3/lib/python3.6/site-packages/pygments/lexers/__init__.py'>, 'pygments.lexers._mapping': <module 'pygments.lexers._mapping' from '/Users/sudeepmallick/anaconda3/lib/python3.6/site-packages/pygments/lexers/_mapping.py'>, 'pygments.modeline': <module 'pygments.modeline' from '/Users/sudeepmallick/anaconda3/lib/python3.6/site-packages/pygments/modeline.py'>, 'pygments.plugin': <module 'pygments.plugin' from '/Users/sudeepmallick/anaconda3/lib/python3.6/site-packages/pygments/plugin.py'>, 'pygments.lexers.python': <module 'pygments.lexers.python' from '/Users/sudeepmallick/anaconda3/lib/python3.6/site-packages/pygments/lexers/python.py'>, 'pygments.lexer': <module 'pygments.lexer' from '/Users/sudeepmallick/anaconda3/lib/python3.6/site-packages/pygments/lexer.py'>, 'pygments.filter': <module 'pygments.filter' from '/Users/sudeepmallick/anaconda3/lib/python3.6/site-packages/pygments/filter.py'>, 'pygments.filters': <module 'pygments.filters' from '/Users/sudeepmallick/anaconda3/lib/python3.6/site-packages/pygments/filters/__init__.py'>, 'pygments.token': <module 'pygments.token' from '/Users/sudeepmallick/anaconda3/lib/python3.6/site-packages/pygments/token.py'>, 'pygments.regexopt': <module 'pygments.regexopt' from '/Users/sudeepmallick/anaconda3/lib/python3.6/site-packages/pygments/regexopt.py'>, 'pygments.unistring': <module 'pygments.unistring' from '/Users/sudeepmallick/anaconda3/lib/python3.6/site-packages/pygments/unistring.py'>, 'pygments.formatters': <module 'pygments.formatters' from '/Users/sudeepmallick/anaconda3/lib/python3.6/site-packages/pygments/formatters/__init__.py'>, 'pygments.formatters._mapping': <module 'pygments.formatters._mapping' from '/Users/sudeepmallick/anaconda3/lib/python3.6/site-packages/pygments/formatters/_mapping.py'>, 'pygments.formatters.html': <module 'pygments.formatters.html' from '/Users/sudeepmallick/anaconda3/lib/python3.6/site-packages/pygments/formatters/html.py'>, 'pygments.formatter': <module 'pygments.formatter' from '/Users/sudeepmallick/anaconda3/lib/python3.6/site-packages/pygments/formatter.py'>, 'pygments.styles': <module 'pygments.styles' from '/Users/sudeepmallick/anaconda3/lib/python3.6/site-packages/pygments/styles/__init__.py'>, 'IPython.core.inputsplitter': <module 'IPython.core.inputsplitter' from '/Users/sudeepmallick/anaconda3/lib/python3.6/site-packages/IPython/core/inputsplitter.py'>, 'IPython.core.inputtransformer': <module 'IPython.core.inputtransformer' from '/Users/sudeepmallick/anaconda3/lib/python3.6/site-packages/IPython/core/inputtransformer.py'>, 'IPython.core.splitinput': <module 'IPython.core.splitinput' from '/Users/sudeepmallick/anaconda3/lib/python3.6/site-packages/IPython/core/splitinput.py'>, 'IPython.utils.tokenize2': <module 'IPython.utils.tokenize2' from '/Users/sudeepmallick/anaconda3/lib/python3.6/site-packages/IPython/utils/tokenize2.py'>, 'IPython.core.interactiveshell': <module 'IPython.core.interactiveshell' from '/Users/sudeepmallick/anaconda3/lib/python3.6/site-packages/IPython/core/interactiveshell.py'>, 'pickleshare': <module 'pickleshare' from '/Users/sudeepmallick/anaconda3/lib/python3.6/site-packages/pickleshare.py'>, 'pickle': <module 'pickle' from '/Users/sudeepmallick/anaconda3/lib/python3.6/pickle.py'>, '_compat_pickle': <module '_compat_pickle' from '/Users/sudeepmallick/anaconda3/lib/python3.6/_compat_pickle.py'>, '_pickle': <module '_pickle' from '/Users/sudeepmallick/anaconda3/lib/python3.6/lib-dynload/_pickle.cpython-36m-darwin.so'>, 'IPython.core.prefilter': <module 'IPython.core.prefilter' from '/Users/sudeepmallick/anaconda3/lib/python3.6/site-packages/IPython/core/prefilter.py'>, 'IPython.core.autocall': <module 'IPython.core.autocall' from '/Users/sudeepmallick/anaconda3/lib/python3.6/site-packages/IPython/core/autocall.py'>, 'IPython.core.macro': <module 'IPython.core.macro' from '/Users/sudeepmallick/anaconda3/lib/python3.6/site-packages/IPython/core/macro.py'>, 'IPython.core.alias': <module 'IPython.core.alias' from '/Users/sudeepmallick/anaconda3/lib/python3.6/site-packages/IPython/core/alias.py'>, 'IPython.core.builtin_trap': <module 'IPython.core.builtin_trap' from '/Users/sudeepmallick/anaconda3/lib/python3.6/site-packages/IPython/core/builtin_trap.py'>, 'IPython.core.events': <module 'IPython.core.events' from '/Users/sudeepmallick/anaconda3/lib/python3.6/site-packages/IPython/core/events.py'>, 'IPython.core.displayhook': <module 'IPython.core.displayhook' from '/Users/sudeepmallick/anaconda3/lib/python3.6/site-packages/IPython/core/displayhook.py'>, 'IPython.core.displaypub': <module 'IPython.core.displaypub' from '/Users/sudeepmallick/anaconda3/lib/python3.6/site-packages/IPython/core/displaypub.py'>, 'IPython.core.extensions': <module 'IPython.core.extensions' from '/Users/sudeepmallick/anaconda3/lib/python3.6/site-packages/IPython/core/extensions.py'>, 'IPython.core.formatters': <module 'IPython.core.formatters' from '/Users/sudeepmallick/anaconda3/lib/python3.6/site-packages/IPython/core/formatters.py'>, 'IPython.utils.sentinel': <module 'IPython.utils.sentinel' from '/Users/sudeepmallick/anaconda3/lib/python3.6/site-packages/IPython/utils/sentinel.py'>, 'IPython.core.history': <module 'IPython.core.history' from '/Users/sudeepmallick/anaconda3/lib/python3.6/site-packages/IPython/core/history.py'>, 'sqlite3': <module 'sqlite3' from '/Users/sudeepmallick/anaconda3/lib/python3.6/sqlite3/__init__.py'>, 'sqlite3.dbapi2': <module 'sqlite3.dbapi2' from '/Users/sudeepmallick/anaconda3/lib/python3.6/sqlite3/dbapi2.py'>, '_sqlite3': <module '_sqlite3' from '/Users/sudeepmallick/anaconda3/lib/python3.6/lib-dynload/_sqlite3.cpython-36m-darwin.so'>, 'IPython.core.logger': <module 'IPython.core.logger' from '/Users/sudeepmallick/anaconda3/lib/python3.6/site-packages/IPython/core/logger.py'>, 'IPython.core.payload': <module 'IPython.core.payload' from '/Users/sudeepmallick/anaconda3/lib/python3.6/site-packages/IPython/core/payload.py'>, 'IPython.core.usage': <module 'IPython.core.usage' from '/Users/sudeepmallick/anaconda3/lib/python3.6/site-packages/IPython/core/usage.py'>, 'IPython.display': <module 'IPython.display' from '/Users/sudeepmallick/anaconda3/lib/python3.6/site-packages/IPython/display.py'>, 'IPython.lib.display': <module 'IPython.lib.display' from '/Users/sudeepmallick/anaconda3/lib/python3.6/site-packages/IPython/lib/display.py'>, 'IPython.utils.io': <module 'IPython.utils.io' from '/Users/sudeepmallick/anaconda3/lib/python3.6/site-packages/IPython/utils/io.py'>, 'IPython.utils.capture': <module 'IPython.utils.capture' from '/Users/sudeepmallick/anaconda3/lib/python3.6/site-packages/IPython/utils/capture.py'>, 'IPython.utils.strdispatch': <module 'IPython.utils.strdispatch' from '/Users/sudeepmallick/anaconda3/lib/python3.6/site-packages/IPython/utils/strdispatch.py'>, 'IPython.core.hooks': <module 'IPython.core.hooks' from '/Users/sudeepmallick/anaconda3/lib/python3.6/site-packages/IPython/core/hooks.py'>, 'IPython.utils.syspathcontext': <module 'IPython.utils.syspathcontext' from '/Users/sudeepmallick/anaconda3/lib/python3.6/site-packages/IPython/utils/syspathcontext.py'>, 'IPython.utils.tempdir': <module 'IPython.utils.tempdir' from '/Users/sudeepmallick/anaconda3/lib/python3.6/site-packages/IPython/utils/tempdir.py'>, 'IPython.utils.contexts': <module 'IPython.utils.contexts' from '/Users/sudeepmallick/anaconda3/lib/python3.6/site-packages/IPython/utils/contexts.py'>, 'IPython.terminal.interactiveshell': <module 'IPython.terminal.interactiveshell' from '/Users/sudeepmallick/anaconda3/lib/python3.6/site-packages/IPython/terminal/interactiveshell.py'>, 'prompt_toolkit': <module 'prompt_toolkit' from '/Users/sudeepmallick/anaconda3/lib/python3.6/site-packages/prompt_toolkit/__init__.py'>, 'prompt_toolkit.interface': <module 'prompt_toolkit.interface' from '/Users/sudeepmallick/anaconda3/lib/python3.6/site-packages/prompt_toolkit/interface.py'>, 'prompt_toolkit.application': <module 'prompt_toolkit.application' from '/Users/sudeepmallick/anaconda3/lib/python3.6/site-packages/prompt_toolkit/application.py'>, 'prompt_toolkit.buffer': <module 'prompt_toolkit.buffer' from '/Users/sudeepmallick/anaconda3/lib/python3.6/site-packages/prompt_toolkit/buffer.py'>, 'prompt_toolkit.auto_suggest': <module 'prompt_toolkit.auto_suggest' from '/Users/sudeepmallick/anaconda3/lib/python3.6/site-packages/prompt_toolkit/auto_suggest.py'>, 'prompt_toolkit.filters': <module 'prompt_toolkit.filters' from '/Users/sudeepmallick/anaconda3/lib/python3.6/site-packages/prompt_toolkit/filters/__init__.py'>, 'prompt_toolkit.filters.base': <module 'prompt_toolkit.filters.base' from '/Users/sudeepmallick/anaconda3/lib/python3.6/site-packages/prompt_toolkit/filters/base.py'>, 'prompt_toolkit.utils': <module 'prompt_toolkit.utils' from '/Users/sudeepmallick/anaconda3/lib/python3.6/site-packages/prompt_toolkit/utils.py'>, 'wcwidth': <module 'wcwidth' from '/Users/sudeepmallick/anaconda3/lib/python3.6/site-packages/wcwidth/__init__.py'>, 'wcwidth.wcwidth': <module 'wcwidth.wcwidth' from '/Users/sudeepmallick/anaconda3/lib/python3.6/site-packages/wcwidth/wcwidth.py'>, 'wcwidth.table_wide': <module 'wcwidth.table_wide' from '/Users/sudeepmallick/anaconda3/lib/python3.6/site-packages/wcwidth/table_wide.py'>, 'wcwidth.table_zero': <module 'wcwidth.table_zero' from '/Users/sudeepmallick/anaconda3/lib/python3.6/site-packages/wcwidth/table_zero.py'>, 'six.moves': <module 'six.moves' (<six._SixMetaPathImporter object at 0x7f90155772e8>)>, 'prompt_toolkit.filters.cli': <module 'prompt_toolkit.filters.cli' from '/Users/sudeepmallick/anaconda3/lib/python3.6/site-packages/prompt_toolkit/filters/cli.py'>, 'prompt_toolkit.enums': <module 'prompt_toolkit.enums' from '/Users/sudeepmallick/anaconda3/lib/python3.6/site-packages/prompt_toolkit/enums.py'>, 'prompt_toolkit.key_binding': <module 'prompt_toolkit.key_binding' from '/Users/sudeepmallick/anaconda3/lib/python3.6/site-packages/prompt_toolkit/key_binding/__init__.py'>, 'prompt_toolkit.key_binding.vi_state': <module 'prompt_toolkit.key_binding.vi_state' from '/Users/sudeepmallick/anaconda3/lib/python3.6/site-packages/prompt_toolkit/key_binding/vi_state.py'>, 'prompt_toolkit.cache': <module 'prompt_toolkit.cache' from '/Users/sudeepmallick/anaconda3/lib/python3.6/site-packages/prompt_toolkit/cache.py'>, 'prompt_toolkit.filters.types': <module 'prompt_toolkit.filters.types' from '/Users/sudeepmallick/anaconda3/lib/python3.6/site-packages/prompt_toolkit/filters/types.py'>, 'prompt_toolkit.filters.utils': <module 'prompt_toolkit.filters.utils' from '/Users/sudeepmallick/anaconda3/lib/python3.6/site-packages/prompt_toolkit/filters/utils.py'>, 'prompt_toolkit.clipboard': <module 'prompt_toolkit.clipboard' from '/Users/sudeepmallick/anaconda3/lib/python3.6/site-packages/prompt_toolkit/clipboard/__init__.py'>, 'prompt_toolkit.clipboard.base': <module 'prompt_toolkit.clipboard.base' from '/Users/sudeepmallick/anaconda3/lib/python3.6/site-packages/prompt_toolkit/clipboard/base.py'>, 'prompt_toolkit.selection': <module 'prompt_toolkit.selection' from '/Users/sudeepmallick/anaconda3/lib/python3.6/site-packages/prompt_toolkit/selection.py'>, 'prompt_toolkit.clipboard.in_memory': <module 'prompt_toolkit.clipboard.in_memory' from '/Users/sudeepmallick/anaconda3/lib/python3.6/site-packages/prompt_toolkit/clipboard/in_memory.py'>, 'prompt_toolkit.completion': <module 'prompt_toolkit.completion' from '/Users/sudeepmallick/anaconda3/lib/python3.6/site-packages/prompt_toolkit/completion.py'>, 'prompt_toolkit.document': <module 'prompt_toolkit.document' from '/Users/sudeepmallick/anaconda3/lib/python3.6/site-packages/prompt_toolkit/document.py'>, 'prompt_toolkit.history': <module 'prompt_toolkit.history' from '/Users/sudeepmallick/anaconda3/lib/python3.6/site-packages/prompt_toolkit/history.py'>, 'prompt_toolkit.search_state': <module 'prompt_toolkit.search_state' from '/Users/sudeepmallick/anaconda3/lib/python3.6/site-packages/prompt_toolkit/search_state.py'>, 'prompt_toolkit.validation': <module 'prompt_toolkit.validation' from '/Users/sudeepmallick/anaconda3/lib/python3.6/site-packages/prompt_toolkit/validation.py'>, 'prompt_toolkit.buffer_mapping': <module 'prompt_toolkit.buffer_mapping' from '/Users/sudeepmallick/anaconda3/lib/python3.6/site-packages/prompt_toolkit/buffer_mapping.py'>, 'prompt_toolkit.key_binding.bindings': <module 'prompt_toolkit.key_binding.bindings' from '/Users/sudeepmallick/anaconda3/lib/python3.6/site-packages/prompt_toolkit/key_binding/bindings/__init__.py'>, 'prompt_toolkit.key_binding.bindings.basic': <module 'prompt_toolkit.key_binding.bindings.basic' from '/Users/sudeepmallick/anaconda3/lib/python3.6/site-packages/prompt_toolkit/key_binding/bindings/basic.py'>, 'prompt_toolkit.keys': <module 'prompt_toolkit.keys' from '/Users/sudeepmallick/anaconda3/lib/python3.6/site-packages/prompt_toolkit/keys.py'>, 'prompt_toolkit.layout': <module 'prompt_toolkit.layout' from '/Users/sudeepmallick/anaconda3/lib/python3.6/site-packages/prompt_toolkit/layout/__init__.py'>, 'prompt_toolkit.layout.containers': <module 'prompt_toolkit.layout.containers' from '/Users/sudeepmallick/anaconda3/lib/python3.6/site-packages/prompt_toolkit/layout/containers.py'>, 'prompt_toolkit.layout.controls': <module 'prompt_toolkit.layout.controls' from '/Users/sudeepmallick/anaconda3/lib/python3.6/site-packages/prompt_toolkit/layout/controls.py'>, 'prompt_toolkit.mouse_events': <module 'prompt_toolkit.mouse_events' from '/Users/sudeepmallick/anaconda3/lib/python3.6/site-packages/prompt_toolkit/mouse_events.py'>, 'prompt_toolkit.token': <module 'prompt_toolkit.token' from '/Users/sudeepmallick/anaconda3/lib/python3.6/site-packages/prompt_toolkit/token.py'>, 'prompt_toolkit.layout.lexers': <module 'prompt_toolkit.layout.lexers' from '/Users/sudeepmallick/anaconda3/lib/python3.6/site-packages/prompt_toolkit/layout/lexers.py'>, 'prompt_toolkit.layout.utils': <module 'prompt_toolkit.layout.utils' from '/Users/sudeepmallick/anaconda3/lib/python3.6/site-packages/prompt_toolkit/layout/utils.py'>, 'prompt_toolkit.layout.processors': <module 'prompt_toolkit.layout.processors' from '/Users/sudeepmallick/anaconda3/lib/python3.6/site-packages/prompt_toolkit/layout/processors.py'>, 'prompt_toolkit.reactive': <module 'prompt_toolkit.reactive' from '/Users/sudeepmallick/anaconda3/lib/python3.6/site-packages/prompt_toolkit/reactive.py'>, 'prompt_toolkit.layout.screen': <module 'prompt_toolkit.layout.screen' from '/Users/sudeepmallick/anaconda3/lib/python3.6/site-packages/prompt_toolkit/layout/screen.py'>, 'prompt_toolkit.layout.dimension': <module 'prompt_toolkit.layout.dimension' from '/Users/sudeepmallick/anaconda3/lib/python3.6/site-packages/prompt_toolkit/layout/dimension.py'>, 'prompt_toolkit.layout.margins': <module 'prompt_toolkit.layout.margins' from '/Users/sudeepmallick/anaconda3/lib/python3.6/site-packages/prompt_toolkit/layout/margins.py'>, 'prompt_toolkit.renderer': <module 'prompt_toolkit.renderer' from '/Users/sudeepmallick/anaconda3/lib/python3.6/site-packages/prompt_toolkit/renderer.py'>, 'prompt_toolkit.layout.mouse_handlers': <module 'prompt_toolkit.layout.mouse_handlers' from '/Users/sudeepmallick/anaconda3/lib/python3.6/site-packages/prompt_toolkit/layout/mouse_handlers.py'>, 'prompt_toolkit.output': <module 'prompt_toolkit.output' from '/Users/sudeepmallick/anaconda3/lib/python3.6/site-packages/prompt_toolkit/output.py'>, 'prompt_toolkit.styles': <module 'prompt_toolkit.styles' from '/Users/sudeepmallick/anaconda3/lib/python3.6/site-packages/prompt_toolkit/styles/__init__.py'>, 'prompt_toolkit.styles.base': <module 'prompt_toolkit.styles.base' from '/Users/sudeepmallick/anaconda3/lib/python3.6/site-packages/prompt_toolkit/styles/base.py'>, 'prompt_toolkit.styles.defaults': <module 'prompt_toolkit.styles.defaults' from '/Users/sudeepmallick/anaconda3/lib/python3.6/site-packages/prompt_toolkit/styles/defaults.py'>, 'prompt_toolkit.styles.from_dict': <module 'prompt_toolkit.styles.from_dict' from '/Users/sudeepmallick/anaconda3/lib/python3.6/site-packages/prompt_toolkit/styles/from_dict.py'>, 'prompt_toolkit.styles.utils': <module 'prompt_toolkit.styles.utils' from '/Users/sudeepmallick/anaconda3/lib/python3.6/site-packages/prompt_toolkit/styles/utils.py'>, 'prompt_toolkit.styles.from_pygments': <module 'prompt_toolkit.styles.from_pygments' from '/Users/sudeepmallick/anaconda3/lib/python3.6/site-packages/prompt_toolkit/styles/from_pygments.py'>, 'pygments.style': <module 'pygments.style' from '/Users/sudeepmallick/anaconda3/lib/python3.6/site-packages/pygments/style.py'>, 'pygments.styles.default': <module 'pygments.styles.default' from '/Users/sudeepmallick/anaconda3/lib/python3.6/site-packages/pygments/styles/default.py'>, 'prompt_toolkit.key_binding.bindings.named_commands': <module 'prompt_toolkit.key_binding.bindings.named_commands' from '/Users/sudeepmallick/anaconda3/lib/python3.6/site-packages/prompt_toolkit/key_binding/bindings/named_commands.py'>, 'prompt_toolkit.key_binding.bindings.completion': <module 'prompt_toolkit.key_binding.bindings.completion' from '/Users/sudeepmallick/anaconda3/lib/python3.6/site-packages/prompt_toolkit/key_binding/bindings/completion.py'>, 'prompt_toolkit.key_binding.registry': <module 'prompt_toolkit.key_binding.registry' from '/Users/sudeepmallick/anaconda3/lib/python3.6/site-packages/prompt_toolkit/key_binding/registry.py'>, 'prompt_toolkit.key_binding.input_processor': <module 'prompt_toolkit.key_binding.input_processor' from '/Users/sudeepmallick/anaconda3/lib/python3.6/site-packages/prompt_toolkit/key_binding/input_processor.py'>, 'prompt_toolkit.key_binding.bindings.emacs': <module 'prompt_toolkit.key_binding.bindings.emacs' from '/Users/sudeepmallick/anaconda3/lib/python3.6/site-packages/prompt_toolkit/key_binding/bindings/emacs.py'>, 'prompt_toolkit.key_binding.bindings.scroll': <module 'prompt_toolkit.key_binding.bindings.scroll' from '/Users/sudeepmallick/anaconda3/lib/python3.6/site-packages/prompt_toolkit/key_binding/bindings/scroll.py'>, 'prompt_toolkit.key_binding.bindings.vi': <module 'prompt_toolkit.key_binding.bindings.vi' from '/Users/sudeepmallick/anaconda3/lib/python3.6/site-packages/prompt_toolkit/key_binding/bindings/vi.py'>, 'prompt_toolkit.key_binding.digraphs': <module 'prompt_toolkit.key_binding.digraphs' from '/Users/sudeepmallick/anaconda3/lib/python3.6/site-packages/prompt_toolkit/key_binding/digraphs.py'>, 'prompt_toolkit.key_binding.defaults': <module 'prompt_toolkit.key_binding.defaults' from '/Users/sudeepmallick/anaconda3/lib/python3.6/site-packages/prompt_toolkit/key_binding/defaults.py'>, 'prompt_toolkit.eventloop': <module 'prompt_toolkit.eventloop' from '/Users/sudeepmallick/anaconda3/lib/python3.6/site-packages/prompt_toolkit/eventloop/__init__.py'>, 'prompt_toolkit.eventloop.base': <module 'prompt_toolkit.eventloop.base' from '/Users/sudeepmallick/anaconda3/lib/python3.6/site-packages/prompt_toolkit/eventloop/base.py'>, 'prompt_toolkit.eventloop.callbacks': <module 'prompt_toolkit.eventloop.callbacks' from '/Users/sudeepmallick/anaconda3/lib/python3.6/site-packages/prompt_toolkit/eventloop/callbacks.py'>, 'prompt_toolkit.input': <module 'prompt_toolkit.input' from '/Users/sudeepmallick/anaconda3/lib/python3.6/site-packages/prompt_toolkit/input.py'>, 'prompt_toolkit.terminal': <module 'prompt_toolkit.terminal' from '/Users/sudeepmallick/anaconda3/lib/python3.6/site-packages/prompt_toolkit/terminal/__init__.py'>, 'prompt_toolkit.terminal.vt100_input': <module 'prompt_toolkit.terminal.vt100_input' from '/Users/sudeepmallick/anaconda3/lib/python3.6/site-packages/prompt_toolkit/terminal/vt100_input.py'>, 'prompt_toolkit.shortcuts': <module 'prompt_toolkit.shortcuts' from '/Users/sudeepmallick/anaconda3/lib/python3.6/site-packages/prompt_toolkit/shortcuts.py'>, 'prompt_toolkit.layout.menus': <module 'prompt_toolkit.layout.menus' from '/Users/sudeepmallick/anaconda3/lib/python3.6/site-packages/prompt_toolkit/layout/menus.py'>, 'prompt_toolkit.layout.prompt': <module 'prompt_toolkit.layout.prompt' from '/Users/sudeepmallick/anaconda3/lib/python3.6/site-packages/prompt_toolkit/layout/prompt.py'>, 'prompt_toolkit.layout.toolbars': <module 'prompt_toolkit.layout.toolbars' from '/Users/sudeepmallick/anaconda3/lib/python3.6/site-packages/prompt_toolkit/layout/toolbars.py'>, 'prompt_toolkit.terminal.vt100_output': <module 'prompt_toolkit.terminal.vt100_output' from '/Users/sudeepmallick/anaconda3/lib/python3.6/site-packages/prompt_toolkit/terminal/vt100_output.py'>, 'array': <module 'array' from '/Users/sudeepmallick/anaconda3/lib/python3.6/lib-dynload/array.cpython-36m-darwin.so'>, 'prompt_toolkit.key_binding.manager': <module 'prompt_toolkit.key_binding.manager' from '/Users/sudeepmallick/anaconda3/lib/python3.6/site-packages/prompt_toolkit/key_binding/manager.py'>, 'IPython.terminal.debugger': <module 'IPython.terminal.debugger' from '/Users/sudeepmallick/anaconda3/lib/python3.6/site-packages/IPython/terminal/debugger.py'>, 'IPython.core.completer': <module 'IPython.core.completer' from '/Users/sudeepmallick/anaconda3/lib/python3.6/site-packages/IPython/core/completer.py'>, 'unicodedata': <module 'unicodedata' from '/Users/sudeepmallick/anaconda3/lib/python3.6/lib-dynload/unicodedata.cpython-36m-darwin.so'>, 'typing': <module 'typing' from '/Users/sudeepmallick/anaconda3/lib/python3.6/typing.py'>, 'typing.io': <class 'typing.io'>, 'typing.re': <class 'typing.re'>, 'IPython.core.latex_symbols': <module 'IPython.core.latex_symbols' from '/Users/sudeepmallick/anaconda3/lib/python3.6/site-packages/IPython/core/latex_symbols.py'>, 'IPython.utils.generics': <module 'IPython.utils.generics' from '/Users/sudeepmallick/anaconda3/lib/python3.6/site-packages/IPython/utils/generics.py'>, 'simplegeneric': <module 'simplegeneric' from '/Users/sudeepmallick/anaconda3/lib/python3.6/site-packages/simplegeneric.py'>, 'jedi': <module 'jedi' from '/Users/sudeepmallick/anaconda3/lib/python3.6/site-packages/jedi/__init__.py'>, 'jedi.api': <module 'jedi.api' from '/Users/sudeepmallick/anaconda3/lib/python3.6/site-packages/jedi/api/__init__.py'>, 'jedi.parser': <module 'jedi.parser' from '/Users/sudeepmallick/anaconda3/lib/python3.6/site-packages/jedi/parser/__init__.py'>, 'jedi.parser.parser': <module 'jedi.parser.parser' from '/Users/sudeepmallick/anaconda3/lib/python3.6/site-packages/jedi/parser/parser.py'>, 'jedi.parser.tree': <module 'jedi.parser.tree' from '/Users/sudeepmallick/anaconda3/lib/python3.6/site-packages/jedi/parser/tree.py'>, 'jedi._compatibility': <module 'jedi._compatibility' from '/Users/sudeepmallick/anaconda3/lib/python3.6/site-packages/jedi/_compatibility.py'>, 'imp': <module 'imp' from '/Users/sudeepmallick/anaconda3/lib/python3.6/imp.py'>, 'jedi.parser.pgen2': <module 'jedi.parser.pgen2' from '/Users/sudeepmallick/anaconda3/lib/python3.6/site-packages/jedi/parser/pgen2/__init__.py'>, 'jedi.parser.pgen2.parse': <module 'jedi.parser.pgen2.parse' from '/Users/sudeepmallick/anaconda3/lib/python3.6/site-packages/jedi/parser/pgen2/parse.py'>, 'jedi.parser.tokenize': <module 'jedi.parser.tokenize' from '/Users/sudeepmallick/anaconda3/lib/python3.6/site-packages/jedi/parser/tokenize.py'>, 'jedi.parser.token': <module 'jedi.parser.token' from '/Users/sudeepmallick/anaconda3/lib/python3.6/site-packages/jedi/parser/token.py'>, 'jedi.common': <module 'jedi.common' from '/Users/sudeepmallick/anaconda3/lib/python3.6/site-packages/jedi/common.py'>, 'jedi.settings': <module 'jedi.settings' from '/Users/sudeepmallick/anaconda3/lib/python3.6/site-packages/jedi/settings.py'>, 'jedi.parser.pgen2.pgen': <module 'jedi.parser.pgen2.pgen' from '/Users/sudeepmallick/anaconda3/lib/python3.6/site-packages/jedi/parser/pgen2/pgen.py'>, 'jedi.parser.pgen2.grammar': <module 'jedi.parser.pgen2.grammar' from '/Users/sudeepmallick/anaconda3/lib/python3.6/site-packages/jedi/parser/pgen2/grammar.py'>, 'jedi.parser.python': <module 'jedi.parser.python' from '/Users/sudeepmallick/anaconda3/lib/python3.6/site-packages/jedi/parser/python/__init__.py'>, 'jedi.parser.python.parser': <module 'jedi.parser.python.parser' from '/Users/sudeepmallick/anaconda3/lib/python3.6/site-packages/jedi/parser/python/parser.py'>, 'jedi.parser.python.tree': <module 'jedi.parser.python.tree' from '/Users/sudeepmallick/anaconda3/lib/python3.6/site-packages/jedi/parser/python/tree.py'>, 'jedi.parser.python.diff': <module 'jedi.parser.python.diff' from '/Users/sudeepmallick/anaconda3/lib/python3.6/site-packages/jedi/parser/python/diff.py'>, 'difflib': <module 'difflib' from '/Users/sudeepmallick/anaconda3/lib/python3.6/difflib.py'>, 'jedi.debug': <module 'jedi.debug' from '/Users/sudeepmallick/anaconda3/lib/python3.6/site-packages/jedi/debug.py'>, 'colorama': <module 'colorama' from '/Users/sudeepmallick/anaconda3/lib/python3.6/site-packages/colorama/__init__.py'>, 'colorama.initialise': <module 'colorama.initialise' from '/Users/sudeepmallick/anaconda3/lib/python3.6/site-packages/colorama/initialise.py'>, 'colorama.ansitowin32': <module 'colorama.ansitowin32' from '/Users/sudeepmallick/anaconda3/lib/python3.6/site-packages/colorama/ansitowin32.py'>, 'colorama.ansi': <module 'colorama.ansi' from '/Users/sudeepmallick/anaconda3/lib/python3.6/site-packages/colorama/ansi.py'>, 'colorama.winterm': <module 'colorama.winterm' from '/Users/sudeepmallick/anaconda3/lib/python3.6/site-packages/colorama/winterm.py'>, 'colorama.win32': <module 'colorama.win32' from '/Users/sudeepmallick/anaconda3/lib/python3.6/site-packages/colorama/win32.py'>, 'ctypes': <module 'ctypes' from '/Users/sudeepmallick/anaconda3/lib/python3.6/ctypes/__init__.py'>, '_ctypes': <module '_ctypes' from '/Users/sudeepmallick/anaconda3/lib/python3.6/lib-dynload/_ctypes.cpython-36m-darwin.so'>, 'ctypes._endian': <module 'ctypes._endian' from '/Users/sudeepmallick/anaconda3/lib/python3.6/ctypes/_endian.py'>, 'jedi.parser.cache': <module 'jedi.parser.cache' from '/Users/sudeepmallick/anaconda3/lib/python3.6/site-packages/jedi/parser/cache.py'>, 'gc': <module 'gc' (built-in)>, 'jedi.cache': <module 'jedi.cache' from '/Users/sudeepmallick/anaconda3/lib/python3.6/site-packages/jedi/cache.py'>, 'jedi.api.classes': <module 'jedi.api.classes' from '/Users/sudeepmallick/anaconda3/lib/python3.6/site-packages/jedi/api/classes.py'>, 'jedi.evaluate': <module 'jedi.evaluate' from '/Users/sudeepmallick/anaconda3/lib/python3.6/site-packages/jedi/evaluate/__init__.py'>, 'jedi.evaluate.representation': <module 'jedi.evaluate.representation' from '/Users/sudeepmallick/anaconda3/lib/python3.6/site-packages/jedi/evaluate/representation.py'>, 'jedi.evaluate.cache': <module 'jedi.evaluate.cache' from '/Users/sudeepmallick/anaconda3/lib/python3.6/site-packages/jedi/evaluate/cache.py'>, 'jedi.evaluate.compiled': <module 'jedi.evaluate.compiled' from '/Users/sudeepmallick/anaconda3/lib/python3.6/site-packages/jedi/evaluate/compiled/__init__.py'>, 'jedi.evaluate.helpers': <module 'jedi.evaluate.helpers' from '/Users/sudeepmallick/anaconda3/lib/python3.6/site-packages/jedi/evaluate/helpers.py'>, 'jedi.evaluate.filters': <module 'jedi.evaluate.filters' from '/Users/sudeepmallick/anaconda3/lib/python3.6/site-packages/jedi/evaluate/filters.py'>, 'jedi.evaluate.flow_analysis': <module 'jedi.evaluate.flow_analysis' from '/Users/sudeepmallick/anaconda3/lib/python3.6/site-packages/jedi/evaluate/flow_analysis.py'>, 'jedi.evaluate.context': <module 'jedi.evaluate.context' from '/Users/sudeepmallick/anaconda3/lib/python3.6/site-packages/jedi/evaluate/context.py'>, 'jedi.evaluate.compiled.fake': <module 'jedi.evaluate.compiled.fake' from '/Users/sudeepmallick/anaconda3/lib/python3.6/site-packages/jedi/evaluate/compiled/fake.py'>, 'jedi.evaluate.recursion': <module 'jedi.evaluate.recursion' from '/Users/sudeepmallick/anaconda3/lib/python3.6/site-packages/jedi/evaluate/recursion.py'>, 'jedi.evaluate.iterable': <module 'jedi.evaluate.iterable' from '/Users/sudeepmallick/anaconda3/lib/python3.6/site-packages/jedi/evaluate/iterable.py'>, 'jedi.evaluate.analysis': <module 'jedi.evaluate.analysis' from '/Users/sudeepmallick/anaconda3/lib/python3.6/site-packages/jedi/evaluate/analysis.py'>, 'jedi.evaluate.pep0484': <module 'jedi.evaluate.pep0484' from '/Users/sudeepmallick/anaconda3/lib/python3.6/site-packages/jedi/evaluate/pep0484.py'>, 'jedi.evaluate.precedence': <module 'jedi.evaluate.precedence' from '/Users/sudeepmallick/anaconda3/lib/python3.6/site-packages/jedi/evaluate/precedence.py'>, 'jedi.evaluate.docstrings': <module 'jedi.evaluate.docstrings' from '/Users/sudeepmallick/anaconda3/lib/python3.6/site-packages/jedi/evaluate/docstrings.py'>, 'numpydoc': <module 'numpydoc' from '/Users/sudeepmallick/anaconda3/lib/python3.6/site-packages/numpydoc/__init__.py'>, 'numpydoc.numpydoc': <module 'numpydoc.numpydoc' from '/Users/sudeepmallick/anaconda3/lib/python3.6/site-packages/numpydoc/numpydoc.py'>, 'sphinx': <module 'sphinx' from '/Users/sudeepmallick/anaconda3/lib/python3.6/site-packages/sphinx/__init__.py'>, 'sphinx.deprecation': <module 'sphinx.deprecation' from '/Users/sudeepmallick/anaconda3/lib/python3.6/site-packages/sphinx/deprecation.py'>, 'numpydoc.docscrape_sphinx': <module 'numpydoc.docscrape_sphinx' from '/Users/sudeepmallick/anaconda3/lib/python3.6/site-packages/numpydoc/docscrape_sphinx.py'>, 'jinja2': <module 'jinja2' from '/Users/sudeepmallick/anaconda3/lib/python3.6/site-packages/jinja2/__init__.py'>, 'jinja2.environment': <module 'jinja2.environment' from '/Users/sudeepmallick/anaconda3/lib/python3.6/site-packages/jinja2/environment.py'>, 'jinja2.nodes': <module 'jinja2.nodes' from '/Users/sudeepmallick/anaconda3/lib/python3.6/site-packages/jinja2/nodes.py'>, 'jinja2.utils': <module 'jinja2.utils' from '/Users/sudeepmallick/anaconda3/lib/python3.6/site-packages/jinja2/utils.py'>, 'jinja2._compat': <module 'jinja2._compat' from '/Users/sudeepmallick/anaconda3/lib/python3.6/site-packages/jinja2/_compat.py'>, 'markupsafe': <module 'markupsafe' from '/Users/sudeepmallick/anaconda3/lib/python3.6/site-packages/markupsafe/__init__.py'>, 'markupsafe._compat': <module 'markupsafe._compat' from '/Users/sudeepmallick/anaconda3/lib/python3.6/site-packages/markupsafe/_compat.py'>, 'markupsafe._speedups': <module 'markupsafe._speedups' from '/Users/sudeepmallick/anaconda3/lib/python3.6/site-packages/markupsafe/_speedups.cpython-36m-darwin.so'>, 'jinja2.defaults': <module 'jinja2.defaults' from '/Users/sudeepmallick/anaconda3/lib/python3.6/site-packages/jinja2/defaults.py'>, 'jinja2.filters': <module 'jinja2.filters' from '/Users/sudeepmallick/anaconda3/lib/python3.6/site-packages/jinja2/filters.py'>, 'jinja2.runtime': <module 'jinja2.runtime' from '/Users/sudeepmallick/anaconda3/lib/python3.6/site-packages/jinja2/runtime.py'>, 'jinja2.exceptions': <module 'jinja2.exceptions' from '/Users/sudeepmallick/anaconda3/lib/python3.6/site-packages/jinja2/exceptions.py'>, 'jinja2.tests': <module 'jinja2.tests' from '/Users/sudeepmallick/anaconda3/lib/python3.6/site-packages/jinja2/tests.py'>, 'decimal': <module 'decimal' from '/Users/sudeepmallick/anaconda3/lib/python3.6/decimal.py'>, 'numbers': <module 'numbers' from '/Users/sudeepmallick/anaconda3/lib/python3.6/numbers.py'>, '_decimal': <module '_decimal' from '/Users/sudeepmallick/anaconda3/lib/python3.6/lib-dynload/_decimal.cpython-36m-darwin.so'>, 'jinja2.lexer': <module 'jinja2.lexer' from '/Users/sudeepmallick/anaconda3/lib/python3.6/site-packages/jinja2/lexer.py'>, 'jinja2.parser': <module 'jinja2.parser' from '/Users/sudeepmallick/anaconda3/lib/python3.6/site-packages/jinja2/parser.py'>, 'jinja2.compiler': <module 'jinja2.compiler' from '/Users/sudeepmallick/anaconda3/lib/python3.6/site-packages/jinja2/compiler.py'>, 'jinja2.visitor': <module 'jinja2.visitor' from '/Users/sudeepmallick/anaconda3/lib/python3.6/site-packages/jinja2/visitor.py'>, 'jinja2.optimizer': <module 'jinja2.optimizer' from '/Users/sudeepmallick/anaconda3/lib/python3.6/site-packages/jinja2/optimizer.py'>, 'jinja2.idtracking': <module 'jinja2.idtracking' from '/Users/sudeepmallick/anaconda3/lib/python3.6/site-packages/jinja2/idtracking.py'>, 'jinja2.loaders': <module 'jinja2.loaders' from '/Users/sudeepmallick/anaconda3/lib/python3.6/site-packages/jinja2/loaders.py'>, 'jinja2.bccache': <module 'jinja2.bccache' from '/Users/sudeepmallick/anaconda3/lib/python3.6/site-packages/jinja2/bccache.py'>, 'jinja2.asyncsupport': <module 'jinja2.asyncsupport' from '/Users/sudeepmallick/anaconda3/lib/python3.6/site-packages/jinja2/asyncsupport.py'>, 'asyncio': <module 'asyncio' from '/Users/sudeepmallick/anaconda3/lib/python3.6/asyncio/__init__.py'>, 'asyncio.base_events': <module 'asyncio.base_events' from '/Users/sudeepmallick/anaconda3/lib/python3.6/asyncio/base_events.py'>, 'concurrent': <module 'concurrent' from '/Users/sudeepmallick/anaconda3/lib/python3.6/concurrent/__init__.py'>, 'concurrent.futures': <module 'concurrent.futures' from '/Users/sudeepmallick/anaconda3/lib/python3.6/concurrent/futures/__init__.py'>, 'concurrent.futures._base': <module 'concurrent.futures._base' from '/Users/sudeepmallick/anaconda3/lib/python3.6/concurrent/futures/_base.py'>, 'concurrent.futures.process': <module 'concurrent.futures.process' from '/Users/sudeepmallick/anaconda3/lib/python3.6/concurrent/futures/process.py'>, 'queue': <module 'queue' from '/Users/sudeepmallick/anaconda3/lib/python3.6/queue.py'>, 'multiprocessing': <module 'multiprocessing' from '/Users/sudeepmallick/anaconda3/lib/python3.6/multiprocessing/__init__.py'>, 'multiprocessing.context': <module 'multiprocessing.context' from '/Users/sudeepmallick/anaconda3/lib/python3.6/multiprocessing/context.py'>, 'multiprocessing.process': <module 'multiprocessing.process' from '/Users/sudeepmallick/anaconda3/lib/python3.6/multiprocessing/process.py'>, 'multiprocessing.reduction': <module 'multiprocessing.reduction' from '/Users/sudeepmallick/anaconda3/lib/python3.6/multiprocessing/reduction.py'>, 'socket': <module 'socket' from '/Users/sudeepmallick/anaconda3/lib/python3.6/socket.py'>, '_socket': <module '_socket' from '/Users/sudeepmallick/anaconda3/lib/python3.6/lib-dynload/_socket.cpython-36m-darwin.so'>, '__mp_main__': <module 'ipykernel_launcher' from '/Users/sudeepmallick/anaconda3/lib/python3.6/site-packages/ipykernel_launcher.py'>, 'multiprocessing.connection': <module 'multiprocessing.connection' from '/Users/sudeepmallick/anaconda3/lib/python3.6/multiprocessing/connection.py'>, '_multiprocessing': <module '_multiprocessing' from '/Users/sudeepmallick/anaconda3/lib/python3.6/lib-dynload/_multiprocessing.cpython-36m-darwin.so'>, 'multiprocessing.util': <module 'multiprocessing.util' from '/Users/sudeepmallick/anaconda3/lib/python3.6/multiprocessing/util.py'>, 'concurrent.futures.thread': <module 'concurrent.futures.thread' from '/Users/sudeepmallick/anaconda3/lib/python3.6/concurrent/futures/thread.py'>, 'asyncio.compat': <module 'asyncio.compat' from '/Users/sudeepmallick/anaconda3/lib/python3.6/asyncio/compat.py'>, 'asyncio.coroutines': <module 'asyncio.coroutines' from '/Users/sudeepmallick/anaconda3/lib/python3.6/asyncio/coroutines.py'>, 'asyncio.events': <module 'asyncio.events' from '/Users/sudeepmallick/anaconda3/lib/python3.6/asyncio/events.py'>, 'asyncio.base_futures': <module 'asyncio.base_futures' from '/Users/sudeepmallick/anaconda3/lib/python3.6/asyncio/base_futures.py'>, 'asyncio.log': <module 'asyncio.log' from '/Users/sudeepmallick/anaconda3/lib/python3.6/asyncio/log.py'>, 'asyncio.futures': <module 'asyncio.futures' from '/Users/sudeepmallick/anaconda3/lib/python3.6/asyncio/futures.py'>, 'asyncio.base_tasks': <module 'asyncio.base_tasks' from '/Users/sudeepmallick/anaconda3/lib/python3.6/asyncio/base_tasks.py'>, '_asyncio': <module '_asyncio' from '/Users/sudeepmallick/anaconda3/lib/python3.6/lib-dynload/_asyncio.cpython-36m-darwin.so'>, 'asyncio.tasks': <module 'asyncio.tasks' from '/Users/sudeepmallick/anaconda3/lib/python3.6/asyncio/tasks.py'>, 'asyncio.locks': <module 'asyncio.locks' from '/Users/sudeepmallick/anaconda3/lib/python3.6/asyncio/locks.py'>, 'asyncio.protocols': <module 'asyncio.protocols' from '/Users/sudeepmallick/anaconda3/lib/python3.6/asyncio/protocols.py'>, 'asyncio.queues': <module 'asyncio.queues' from '/Users/sudeepmallick/anaconda3/lib/python3.6/asyncio/queues.py'>, 'asyncio.streams': <module 'asyncio.streams' from '/Users/sudeepmallick/anaconda3/lib/python3.6/asyncio/streams.py'>, 'asyncio.subprocess': <module 'asyncio.subprocess' from '/Users/sudeepmallick/anaconda3/lib/python3.6/asyncio/subprocess.py'>, 'asyncio.transports': <module 'asyncio.transports' from '/Users/sudeepmallick/anaconda3/lib/python3.6/asyncio/transports.py'>, 'asyncio.unix_events': <module 'asyncio.unix_events' from '/Users/sudeepmallick/anaconda3/lib/python3.6/asyncio/unix_events.py'>, 'asyncio.base_subprocess': <module 'asyncio.base_subprocess' from '/Users/sudeepmallick/anaconda3/lib/python3.6/asyncio/base_subprocess.py'>, 'asyncio.constants': <module 'asyncio.constants' from '/Users/sudeepmallick/anaconda3/lib/python3.6/asyncio/constants.py'>, 'asyncio.selector_events': <module 'asyncio.selector_events' from '/Users/sudeepmallick/anaconda3/lib/python3.6/asyncio/selector_events.py'>, 'ssl': <module 'ssl' from '/Users/sudeepmallick/anaconda3/lib/python3.6/ssl.py'>, 'ipaddress': <module 'ipaddress' from '/Users/sudeepmallick/anaconda3/lib/python3.6/ipaddress.py'>, '_ssl': <module '_ssl' from '/Users/sudeepmallick/anaconda3/lib/python3.6/lib-dynload/_ssl.cpython-36m-darwin.so'>, 'asyncio.sslproto': <module 'asyncio.sslproto' from '/Users/sudeepmallick/anaconda3/lib/python3.6/asyncio/sslproto.py'>, 'jinja2.asyncfilters': <module 'jinja2.asyncfilters' from '/Users/sudeepmallick/anaconda3/lib/python3.6/site-packages/jinja2/asyncfilters.py'>, 'jinja2.sandbox': <module 'jinja2.sandbox' from '/Users/sudeepmallick/anaconda3/lib/python3.6/site-packages/jinja2/sandbox.py'>, 'sphinx.jinja2glue': <module 'sphinx.jinja2glue' from '/Users/sudeepmallick/anaconda3/lib/python3.6/site-packages/sphinx/jinja2glue.py'>, 'sphinx.application': <module 'sphinx.application' from '/Users/sudeepmallick/anaconda3/lib/python3.6/site-packages/sphinx/application.py'>, 'docutils': <module 'docutils' from '/Users/sudeepmallick/anaconda3/lib/python3.6/site-packages/docutils/__init__.py'>, 'docutils.nodes': <module 'docutils.nodes' from '/Users/sudeepmallick/anaconda3/lib/python3.6/site-packages/docutils/nodes.py'>, 'docutils.parsers': <module 'docutils.parsers' from '/Users/sudeepmallick/anaconda3/lib/python3.6/site-packages/docutils/parsers/__init__.py'>, 'docutils.parsers.rst': <module 'docutils.parsers.rst' from '/Users/sudeepmallick/anaconda3/lib/python3.6/site-packages/docutils/parsers/rst/__init__.py'>, 'docutils.statemachine': <module 'docutils.statemachine' from '/Users/sudeepmallick/anaconda3/lib/python3.6/site-packages/docutils/statemachine.py'>, 'docutils.utils': <module 'docutils.utils' from '/Users/sudeepmallick/anaconda3/lib/python3.6/site-packages/docutils/utils/__init__.py'>, 'docutils.io': <module 'docutils.io' from '/Users/sudeepmallick/anaconda3/lib/python3.6/site-packages/docutils/io.py'>, 'docutils._compat': <module 'docutils._compat' from '/Users/sudeepmallick/anaconda3/lib/python3.6/site-packages/docutils/_compat.py'>, 'docutils.utils.error_reporting': <module 'docutils.utils.error_reporting' from '/Users/sudeepmallick/anaconda3/lib/python3.6/site-packages/docutils/utils/error_reporting.py'>, 'docutils.parsers.rst.states': <module 'docutils.parsers.rst.states' from '/Users/sudeepmallick/anaconda3/lib/python3.6/site-packages/docutils/parsers/rst/states.py'>, 'docutils.parsers.rst.directives': <module 'docutils.parsers.rst.directives' from '/Users/sudeepmallick/anaconda3/lib/python3.6/site-packages/docutils/parsers/rst/directives/__init__.py'>, 'docutils.parsers.rst.languages': <module 'docutils.parsers.rst.languages' from '/Users/sudeepmallick/anaconda3/lib/python3.6/site-packages/docutils/parsers/rst/languages/__init__.py'>, 'docutils.parsers.rst.languages.en': <module 'docutils.parsers.rst.languages.en' from '/Users/sudeepmallick/anaconda3/lib/python3.6/site-packages/docutils/parsers/rst/languages/en.py'>, 'docutils.parsers.rst.tableparser': <module 'docutils.parsers.rst.tableparser' from '/Users/sudeepmallick/anaconda3/lib/python3.6/site-packages/docutils/parsers/rst/tableparser.py'>, 'docutils.parsers.rst.roles': <module 'docutils.parsers.rst.roles' from '/Users/sudeepmallick/anaconda3/lib/python3.6/site-packages/docutils/parsers/rst/roles.py'>, 'docutils.utils.code_analyzer': <module 'docutils.utils.code_analyzer' from '/Users/sudeepmallick/anaconda3/lib/python3.6/site-packages/docutils/utils/code_analyzer.py'>, 'docutils.utils.punctuation_chars': <module 'docutils.utils.punctuation_chars' from '/Users/sudeepmallick/anaconda3/lib/python3.6/site-packages/docutils/utils/punctuation_chars.py'>, 'docutils.utils.roman': <module 'docutils.utils.roman' from '/Users/sudeepmallick/anaconda3/lib/python3.6/site-packages/docutils/utils/roman.py'>, 'docutils.utils.urischemes': <module 'docutils.utils.urischemes' from '/Users/sudeepmallick/anaconda3/lib/python3.6/site-packages/docutils/utils/urischemes.py'>, 'docutils.frontend': <module 'docutils.frontend' from '/Users/sudeepmallick/anaconda3/lib/python3.6/site-packages/docutils/frontend.py'>, 'configparser': <module 'configparser' from '/Users/sudeepmallick/anaconda3/lib/python3.6/configparser.py'>, 'optparse': <module 'optparse' from '/Users/sudeepmallick/anaconda3/lib/python3.6/optparse.py'>, 'docutils.transforms': <module 'docutils.transforms' from '/Users/sudeepmallick/anaconda3/lib/python3.6/site-packages/docutils/transforms/__init__.py'>, 'docutils.languages': <module 'docutils.languages' from '/Users/sudeepmallick/anaconda3/lib/python3.6/site-packages/docutils/languages/__init__.py'>, 'docutils.transforms.universal': <module 'docutils.transforms.universal' from '/Users/sudeepmallick/anaconda3/lib/python3.6/site-packages/docutils/transforms/universal.py'>, 'docutils.utils.smartquotes': <module 'docutils.utils.smartquotes' from '/Users/sudeepmallick/anaconda3/lib/python3.6/site-packages/docutils/utils/smartquotes.py'>, 'sphinx.locale': <module 'sphinx.locale' from '/Users/sudeepmallick/anaconda3/lib/python3.6/site-packages/sphinx/locale/__init__.py'>, 'sphinx.config': <module 'sphinx.config' from '/Users/sudeepmallick/anaconda3/lib/python3.6/site-packages/sphinx/config.py'>, 'sphinx.errors': <module 'sphinx.errors' from '/Users/sudeepmallick/anaconda3/lib/python3.6/site-packages/sphinx/errors.py'>, 'sphinx.util': <module 'sphinx.util' from '/Users/sudeepmallick/anaconda3/lib/python3.6/site-packages/sphinx/util/__init__.py'>, 'six.moves.urllib': <module 'six.moves.urllib' (<six._SixMetaPathImporter object at 0x7f90155772e8>)>, 'six.moves.urllib.parse': <module 'six.moves.urllib.parse' (<six._SixMetaPathImporter object at 0x7f90155772e8>)>, 'sphinx.util.logging': <module 'sphinx.util.logging' from '/Users/sudeepmallick/anaconda3/lib/python3.6/site-packages/sphinx/util/logging.py'>, 'logging.handlers': <module 'logging.handlers' from '/Users/sudeepmallick/anaconda3/lib/python3.6/logging/handlers.py'>, 'sphinx.util.console': <module 'sphinx.util.console' from '/Users/sudeepmallick/anaconda3/lib/python3.6/site-packages/sphinx/util/console.py'>, 'sphinx.util.fileutil': <module 'sphinx.util.fileutil' from '/Users/sudeepmallick/anaconda3/lib/python3.6/site-packages/sphinx/util/fileutil.py'>, 'sphinx.util.osutil': <module 'sphinx.util.osutil' from '/Users/sudeepmallick/anaconda3/lib/python3.6/site-packages/sphinx/util/osutil.py'>, 'filecmp': <module 'filecmp' from '/Users/sudeepmallick/anaconda3/lib/python3.6/filecmp.py'>, 'sphinx.util.smartypants': <module 'sphinx.util.smartypants' from '/Users/sudeepmallick/anaconda3/lib/python3.6/site-packages/sphinx/util/smartypants.py'>, 'sphinx.util.docutils': <module 'sphinx.util.docutils' from '/Users/sudeepmallick/anaconda3/lib/python3.6/site-packages/sphinx/util/docutils.py'>, 'distutils': <module 'distutils' from '/Users/sudeepmallick/anaconda3/lib/python3.6/distutils/__init__.py'>, 'distutils.version': <module 'distutils.version' from '/Users/sudeepmallick/anaconda3/lib/python3.6/distutils/version.py'>, 'sphinx.util.nodes': <module 'sphinx.util.nodes' from '/Users/sudeepmallick/anaconda3/lib/python3.6/site-packages/sphinx/util/nodes.py'>, 'sphinx.addnodes': <module 'sphinx.addnodes' from '/Users/sudeepmallick/anaconda3/lib/python3.6/site-packages/sphinx/addnodes.py'>, 'sphinx.util.matching': <module 'sphinx.util.matching' from '/Users/sudeepmallick/anaconda3/lib/python3.6/site-packages/sphinx/util/matching.py'>, 'sphinx.util.i18n': <module 'sphinx.util.i18n' from '/Users/sudeepmallick/anaconda3/lib/python3.6/site-packages/sphinx/util/i18n.py'>, 'babel': <module 'babel' from '/Users/sudeepmallick/anaconda3/lib/python3.6/site-packages/babel/__init__.py'>, 'babel.core': <module 'babel.core' from '/Users/sudeepmallick/anaconda3/lib/python3.6/site-packages/babel/core.py'>, 'babel.localedata': <module 'babel.localedata' from '/Users/sudeepmallick/anaconda3/lib/python3.6/site-packages/babel/localedata.py'>, 'babel._compat': <module 'babel._compat' from '/Users/sudeepmallick/anaconda3/lib/python3.6/site-packages/babel/_compat.py'>, 'babel.plural': <module 'babel.plural' from '/Users/sudeepmallick/anaconda3/lib/python3.6/site-packages/babel/plural.py'>, 'babel.dates': <module 'babel.dates' from '/Users/sudeepmallick/anaconda3/lib/python3.6/site-packages/babel/dates.py'>, 'pytz': <module 'pytz' from '/Users/sudeepmallick/anaconda3/lib/python3.6/site-packages/pytz/__init__.py'>, 'pytz.exceptions': <module 'pytz.exceptions' from '/Users/sudeepmallick/anaconda3/lib/python3.6/site-packages/pytz/exceptions.py'>, 'pytz.lazy': <module 'pytz.lazy' from '/Users/sudeepmallick/anaconda3/lib/python3.6/site-packages/pytz/lazy.py'>, 'pytz.tzinfo': <module 'pytz.tzinfo' from '/Users/sudeepmallick/anaconda3/lib/python3.6/site-packages/pytz/tzinfo.py'>, 'pytz.tzfile': <module 'pytz.tzfile' from '/Users/sudeepmallick/anaconda3/lib/python3.6/site-packages/pytz/tzfile.py'>, 'babel.util': <module 'babel.util' from '/Users/sudeepmallick/anaconda3/lib/python3.6/site-packages/babel/util.py'>, 'babel.localtime': <module 'babel.localtime' from '/Users/sudeepmallick/anaconda3/lib/python3.6/site-packages/babel/localtime/__init__.py'>, 'babel.localtime._unix': <module 'babel.localtime._unix' from '/Users/sudeepmallick/anaconda3/lib/python3.6/site-packages/babel/localtime/_unix.py'>, 'babel.messages': <module 'babel.messages' from '/Users/sudeepmallick/anaconda3/lib/python3.6/site-packages/babel/messages/__init__.py'>, 'babel.messages.catalog': <module 'babel.messages.catalog' from '/Users/sudeepmallick/anaconda3/lib/python3.6/site-packages/babel/messages/catalog.py'>, 'cgi': <module 'cgi' from '/Users/sudeepmallick/anaconda3/lib/python3.6/cgi.py'>, 'email': <module 'email' from '/Users/sudeepmallick/anaconda3/lib/python3.6/email/__init__.py'>, 'email.parser': <module 'email.parser' from '/Users/sudeepmallick/anaconda3/lib/python3.6/email/parser.py'>, 'email.feedparser': <module 'email.feedparser' from '/Users/sudeepmallick/anaconda3/lib/python3.6/email/feedparser.py'>, 'email.errors': <module 'email.errors' from '/Users/sudeepmallick/anaconda3/lib/python3.6/email/errors.py'>, 'email._policybase': <module 'email._policybase' from '/Users/sudeepmallick/anaconda3/lib/python3.6/email/_policybase.py'>, 'email.header': <module 'email.header' from '/Users/sudeepmallick/anaconda3/lib/python3.6/email/header.py'>, 'email.quoprimime': <module 'email.quoprimime' from '/Users/sudeepmallick/anaconda3/lib/python3.6/email/quoprimime.py'>, 'email.base64mime': <module 'email.base64mime' from '/Users/sudeepmallick/anaconda3/lib/python3.6/email/base64mime.py'>, 'email.charset': <module 'email.charset' from '/Users/sudeepmallick/anaconda3/lib/python3.6/email/charset.py'>, 'email.encoders': <module 'email.encoders' from '/Users/sudeepmallick/anaconda3/lib/python3.6/email/encoders.py'>, 'quopri': <module 'quopri' from '/Users/sudeepmallick/anaconda3/lib/python3.6/quopri.py'>, 'email.utils': <module 'email.utils' from '/Users/sudeepmallick/anaconda3/lib/python3.6/email/utils.py'>, 'email._parseaddr': <module 'email._parseaddr' from '/Users/sudeepmallick/anaconda3/lib/python3.6/email/_parseaddr.py'>, 'calendar': <module 'calendar' from '/Users/sudeepmallick/anaconda3/lib/python3.6/calendar.py'>, 'email.message': <module 'email.message' from '/Users/sudeepmallick/anaconda3/lib/python3.6/email/message.py'>, 'uu': <module 'uu' from '/Users/sudeepmallick/anaconda3/lib/python3.6/uu.py'>, 'email._encoded_words': <module 'email._encoded_words' from '/Users/sudeepmallick/anaconda3/lib/python3.6/email/_encoded_words.py'>, 'email.iterators': <module 'email.iterators' from '/Users/sudeepmallick/anaconda3/lib/python3.6/email/iterators.py'>, 'html': <module 'html' from '/Users/sudeepmallick/anaconda3/lib/python3.6/html/__init__.py'>, 'html.entities': <module 'html.entities' from '/Users/sudeepmallick/anaconda3/lib/python3.6/html/entities.py'>, 'babel.messages.plurals': <module 'babel.messages.plurals' from '/Users/sudeepmallick/anaconda3/lib/python3.6/site-packages/babel/messages/plurals.py'>, 'babel.messages.pofile': <module 'babel.messages.pofile' from '/Users/sudeepmallick/anaconda3/lib/python3.6/site-packages/babel/messages/pofile.py'>, 'babel.messages.mofile': <module 'babel.messages.mofile' from '/Users/sudeepmallick/anaconda3/lib/python3.6/site-packages/babel/messages/mofile.py'>, 'sphinx.util.pycompat': <module 'sphinx.util.pycompat' from '/Users/sudeepmallick/anaconda3/lib/python3.6/site-packages/sphinx/util/pycompat.py'>, 'sphinx.environment': <module 'sphinx.environment' from '/Users/sudeepmallick/anaconda3/lib/python3.6/site-packages/sphinx/environment/__init__.py'>, 'docutils.core': <module 'docutils.core' from '/Users/sudeepmallick/anaconda3/lib/python3.6/site-packages/docutils/core.py'>, 'docutils.readers': <module 'docutils.readers' from '/Users/sudeepmallick/anaconda3/lib/python3.6/site-packages/docutils/readers/__init__.py'>, 'docutils.writers': <module 'docutils.writers' from '/Users/sudeepmallick/anaconda3/lib/python3.6/site-packages/docutils/writers/__init__.py'>, 'docutils.readers.doctree': <module 'docutils.readers.doctree' from '/Users/sudeepmallick/anaconda3/lib/python3.6/site-packages/docutils/readers/doctree.py'>, 'sphinx.io': <module 'sphinx.io' from '/Users/sudeepmallick/anaconda3/lib/python3.6/site-packages/sphinx/io.py'>, 'docutils.readers.standalone': <module 'docutils.readers.standalone' from '/Users/sudeepmallick/anaconda3/lib/python3.6/site-packages/docutils/readers/standalone.py'>, 'docutils.transforms.frontmatter': <module 'docutils.transforms.frontmatter' from '/Users/sudeepmallick/anaconda3/lib/python3.6/site-packages/docutils/transforms/frontmatter.py'>, 'docutils.transforms.references': <module 'docutils.transforms.references' from '/Users/sudeepmallick/anaconda3/lib/python3.6/site-packages/docutils/transforms/references.py'>, 'docutils.transforms.misc': <module 'docutils.transforms.misc' from '/Users/sudeepmallick/anaconda3/lib/python3.6/site-packages/docutils/transforms/misc.py'>, 'sphinx.transforms': <module 'sphinx.transforms' from '/Users/sudeepmallick/anaconda3/lib/python3.6/site-packages/sphinx/transforms/__init__.py'>, 'docutils.transforms.parts': <module 'docutils.transforms.parts' from '/Users/sudeepmallick/anaconda3/lib/python3.6/site-packages/docutils/transforms/parts.py'>, 'sphinx.transforms.compact_bullet_list': <module 'sphinx.transforms.compact_bullet_list' from '/Users/sudeepmallick/anaconda3/lib/python3.6/site-packages/sphinx/transforms/compact_bullet_list.py'>, 'sphinx.transforms.i18n': <module 'sphinx.transforms.i18n' from '/Users/sudeepmallick/anaconda3/lib/python3.6/site-packages/sphinx/transforms/i18n.py'>, 'sphinx.domains': <module 'sphinx.domains' from '/Users/sudeepmallick/anaconda3/lib/python3.6/site-packages/sphinx/domains/__init__.py'>, 'sphinx.domains.std': <module 'sphinx.domains.std' from '/Users/sudeepmallick/anaconda3/lib/python3.6/site-packages/sphinx/domains/std.py'>, 'sphinx.roles': <module 'sphinx.roles' from '/Users/sudeepmallick/anaconda3/lib/python3.6/site-packages/sphinx/roles.py'>, 'sphinx.directives': <module 'sphinx.directives' from '/Users/sudeepmallick/anaconda3/lib/python3.6/site-packages/sphinx/directives/__init__.py'>, 'sphinx.util.docfields': <module 'sphinx.util.docfields' from '/Users/sudeepmallick/anaconda3/lib/python3.6/site-packages/sphinx/util/docfields.py'>, 'sphinx.directives.code': <module 'sphinx.directives.code' from '/Users/sudeepmallick/anaconda3/lib/python3.6/site-packages/sphinx/directives/code.py'>, 'sphinx.directives.other': <module 'sphinx.directives.other' from '/Users/sudeepmallick/anaconda3/lib/python3.6/site-packages/sphinx/directives/other.py'>, 'docutils.parsers.rst.directives.admonitions': <module 'docutils.parsers.rst.directives.admonitions' from '/Users/sudeepmallick/anaconda3/lib/python3.6/site-packages/docutils/parsers/rst/directives/admonitions.py'>, 'docutils.parsers.rst.directives.misc': <module 'docutils.parsers.rst.directives.misc' from '/Users/sudeepmallick/anaconda3/lib/python3.6/site-packages/docutils/parsers/rst/directives/misc.py'>, 'docutils.parsers.rst.directives.body': <module 'docutils.parsers.rst.directives.body' from '/Users/sudeepmallick/anaconda3/lib/python3.6/site-packages/docutils/parsers/rst/directives/body.py'>, 'sphinx.directives.patches': <module 'sphinx.directives.patches' from '/Users/sudeepmallick/anaconda3/lib/python3.6/site-packages/sphinx/directives/patches.py'>, 'docutils.parsers.rst.directives.images': <module 'docutils.parsers.rst.directives.images' from '/Users/sudeepmallick/anaconda3/lib/python3.6/site-packages/docutils/parsers/rst/directives/images.py'>, 'urllib.request': <module 'urllib.request' from '/Users/sudeepmallick/anaconda3/lib/python3.6/urllib/request.py'>, 'http': <module 'http' from '/Users/sudeepmallick/anaconda3/lib/python3.6/http/__init__.py'>, 'http.client': <module 'http.client' from '/Users/sudeepmallick/anaconda3/lib/python3.6/http/client.py'>, 'urllib.error': <module 'urllib.error' from '/Users/sudeepmallick/anaconda3/lib/python3.6/urllib/error.py'>, 'urllib.response': <module 'urllib.response' from '/Users/sudeepmallick/anaconda3/lib/python3.6/urllib/response.py'>, '_scproxy': <module '_scproxy' from '/Users/sudeepmallick/anaconda3/lib/python3.6/lib-dynload/_scproxy.cpython-36m-darwin.so'>, 'PIL': <module 'PIL' from '/Users/sudeepmallick/anaconda3/lib/python3.6/site-packages/PIL/__init__.py'>, 'PIL.version': <module 'PIL.version' from '/Users/sudeepmallick/anaconda3/lib/python3.6/site-packages/PIL/version.py'>, 'PIL.Image': <module 'PIL.Image' from '/Users/sudeepmallick/anaconda3/lib/python3.6/site-packages/PIL/Image.py'>, 'PIL._imaging': <module 'PIL._imaging' from '/Users/sudeepmallick/anaconda3/lib/python3.6/site-packages/PIL/_imaging.cpython-36m-darwin.so'>, 'PIL.ImageMode': <module 'PIL.ImageMode' from '/Users/sudeepmallick/anaconda3/lib/python3.6/site-packages/PIL/ImageMode.py'>, 'PIL._binary': <module 'PIL._binary' from '/Users/sudeepmallick/anaconda3/lib/python3.6/site-packages/PIL/_binary.py'>, 'PIL._util': <module 'PIL._util' from '/Users/sudeepmallick/anaconda3/lib/python3.6/site-packages/PIL/_util.py'>, 'cffi': <module 'cffi' from '/Users/sudeepmallick/anaconda3/lib/python3.6/site-packages/cffi/__init__.py'>, 'cffi.api': <module 'cffi.api' from '/Users/sudeepmallick/anaconda3/lib/python3.6/site-packages/cffi/api.py'>, 'cffi.lock': <module 'cffi.lock' from '/Users/sudeepmallick/anaconda3/lib/python3.6/site-packages/cffi/lock.py'>, 'cffi.error': <module 'cffi.error' from '/Users/sudeepmallick/anaconda3/lib/python3.6/site-packages/cffi/error.py'>, 'cffi.model': <module 'cffi.model' from '/Users/sudeepmallick/anaconda3/lib/python3.6/site-packages/cffi/model.py'>, 'docutils.parsers.rst.directives.html': <module 'docutils.parsers.rst.directives.html' from '/Users/sudeepmallick/anaconda3/lib/python3.6/site-packages/docutils/parsers/rst/directives/html.py'>, 'docutils.transforms.components': <module 'docutils.transforms.components' from '/Users/sudeepmallick/anaconda3/lib/python3.6/site-packages/docutils/transforms/components.py'>, 'docutils.parsers.rst.directives.tables': <module 'docutils.parsers.rst.directives.tables' from '/Users/sudeepmallick/anaconda3/lib/python3.6/site-packages/docutils/parsers/rst/directives/tables.py'>, 'csv': <module 'csv' from '/Users/sudeepmallick/anaconda3/lib/python3.6/csv.py'>, '_csv': <module '_csv' from '/Users/sudeepmallick/anaconda3/lib/python3.6/lib-dynload/_csv.cpython-36m-darwin.so'>, 'sphinx.util.parallel': <module 'sphinx.util.parallel' from '/Users/sudeepmallick/anaconda3/lib/python3.6/site-packages/sphinx/util/parallel.py'>, 'sphinx.util.websupport': <module 'sphinx.util.websupport' from '/Users/sudeepmallick/anaconda3/lib/python3.6/site-packages/sphinx/util/websupport.py'>, 'sphinxcontrib.websupport': <module 'sphinxcontrib.websupport' from '/Users/sudeepmallick/anaconda3/lib/python3.6/site-packages/sphinxcontrib/websupport/__init__.py'>, 'pkg_resources': <module 'pkg_resources' from '/Users/sudeepmallick/.local/lib/python3.6/site-packages/pkg_resources/__init__.py'>, 'zipfile': <module 'zipfile' from '/Users/sudeepmallick/anaconda3/lib/python3.6/zipfile.py'>, 'plistlib': <module 'plistlib' from '/Users/sudeepmallick/anaconda3/lib/python3.6/plistlib.py'>, 'xml': <module 'xml' from '/Users/sudeepmallick/anaconda3/lib/python3.6/xml/__init__.py'>, 'xml.parsers': <module 'xml.parsers' from '/Users/sudeepmallick/anaconda3/lib/python3.6/xml/parsers/__init__.py'>, 'xml.parsers.expat': <module 'xml.parsers.expat' from '/Users/sudeepmallick/anaconda3/lib/python3.6/xml/parsers/expat.py'>, 'pyexpat.errors': <module 'pyexpat.errors'>, 'pyexpat.model': <module 'pyexpat.model'>, 'pyexpat': <module 'pyexpat' from '/Users/sudeepmallick/anaconda3/lib/python3.6/lib-dynload/pyexpat.cpython-36m-darwin.so'>, 'xml.parsers.expat.model': <module 'pyexpat.model'>, 'xml.parsers.expat.errors': <module 'pyexpat.errors'>, 'pkg_resources.extern': <module 'pkg_resources.extern' from '/Users/sudeepmallick/.local/lib/python3.6/site-packages/pkg_resources/extern/__init__.py'>, 'pkg_resources._vendor': <module 'pkg_resources._vendor' from '/Users/sudeepmallick/.local/lib/python3.6/site-packages/pkg_resources/_vendor/__init__.py'>, 'pkg_resources.extern.six': <module 'pkg_resources._vendor.six' from '/Users/sudeepmallick/.local/lib/python3.6/site-packages/pkg_resources/_vendor/six.py'>, 'pkg_resources._vendor.six': <module 'pkg_resources._vendor.six' from '/Users/sudeepmallick/.local/lib/python3.6/site-packages/pkg_resources/_vendor/six.py'>, 'pkg_resources.extern.six.moves': <module 'pkg_resources._vendor.six.moves' (<pkg_resources._vendor.six._SixMetaPathImporter object at 0x7f9017ade7f0>)>, 'pkg_resources._vendor.six.moves': <module 'pkg_resources._vendor.six.moves' (<pkg_resources._vendor.six._SixMetaPathImporter object at 0x7f9017ade7f0>)>, 'pkg_resources.py31compat': <module 'pkg_resources.py31compat' from '/Users/sudeepmallick/.local/lib/python3.6/site-packages/pkg_resources/py31compat.py'>, 'pkg_resources.extern.appdirs': <module 'pkg_resources._vendor.appdirs' from '/Users/sudeepmallick/.local/lib/python3.6/site-packages/pkg_resources/_vendor/appdirs.py'>, 'pkg_resources._vendor.packaging.__about__': <module 'pkg_resources._vendor.packaging.__about__' from '/Users/sudeepmallick/.local/lib/python3.6/site-packages/pkg_resources/_vendor/packaging/__about__.py'>, 'pkg_resources.extern.packaging': <module 'pkg_resources._vendor.packaging' from '/Users/sudeepmallick/.local/lib/python3.6/site-packages/pkg_resources/_vendor/packaging/__init__.py'>, 'pkg_resources.extern.packaging.version': <module 'pkg_resources.extern.packaging.version' from '/Users/sudeepmallick/.local/lib/python3.6/site-packages/pkg_resources/_vendor/packaging/version.py'>, 'pkg_resources.extern.packaging._structures': <module 'pkg_resources.extern.packaging._structures' from '/Users/sudeepmallick/.local/lib/python3.6/site-packages/pkg_resources/_vendor/packaging/_structures.py'>, 'pkg_resources.extern.packaging.specifiers': <module 'pkg_resources.extern.packaging.specifiers' from '/Users/sudeepmallick/.local/lib/python3.6/site-packages/pkg_resources/_vendor/packaging/specifiers.py'>, 'pkg_resources.extern.packaging._compat': <module 'pkg_resources.extern.packaging._compat' from '/Users/sudeepmallick/.local/lib/python3.6/site-packages/pkg_resources/_vendor/packaging/_compat.py'>, 'pkg_resources.extern.packaging.requirements': <module 'pkg_resources.extern.packaging.requirements' from '/Users/sudeepmallick/.local/lib/python3.6/site-packages/pkg_resources/_vendor/packaging/requirements.py'>, 'pkg_resources.extern.pyparsing': <module 'pkg_resources._vendor.pyparsing' from '/Users/sudeepmallick/.local/lib/python3.6/site-packages/pkg_resources/_vendor/pyparsing.py'>, 'pkg_resources.extern.six.moves.urllib': <module 'pkg_resources._vendor.six.moves.urllib' (<pkg_resources._vendor.six._SixMetaPathImporter object at 0x7f9017ade7f0>)>, 'pkg_resources.extern.packaging.markers': <module 'pkg_resources.extern.packaging.markers' from '/Users/sudeepmallick/.local/lib/python3.6/site-packages/pkg_resources/_vendor/packaging/markers.py'>, 'sphinxcontrib.websupport.core': <module 'sphinxcontrib.websupport.core' from '/Users/sudeepmallick/anaconda3/lib/python3.6/site-packages/sphinxcontrib/websupport/core.py'>, 'sphinx.util.jsonimpl': <module 'sphinx.util.jsonimpl' from '/Users/sudeepmallick/anaconda3/lib/python3.6/site-packages/sphinx/util/jsonimpl.py'>, 'sphinxcontrib.websupport.errors': <module 'sphinxcontrib.websupport.errors' from '/Users/sudeepmallick/anaconda3/lib/python3.6/site-packages/sphinxcontrib/websupport/errors.py'>, 'sphinxcontrib.websupport.search': <module 'sphinxcontrib.websupport.search' from '/Users/sudeepmallick/anaconda3/lib/python3.6/site-packages/sphinxcontrib/websupport/search/__init__.py'>, 'sphinxcontrib.websupport.storage': <module 'sphinxcontrib.websupport.storage' from '/Users/sudeepmallick/anaconda3/lib/python3.6/site-packages/sphinxcontrib/websupport/storage/__init__.py'>, 'sphinxcontrib.websupport.version': <module 'sphinxcontrib.websupport.version' from '/Users/sudeepmallick/anaconda3/lib/python3.6/site-packages/sphinxcontrib/websupport/version.py'>, 'sphinxcontrib.websupport.utils': <module 'sphinxcontrib.websupport.utils' from '/Users/sudeepmallick/anaconda3/lib/python3.6/site-packages/sphinxcontrib/websupport/utils.py'>, 'sphinx.versioning': <module 'sphinx.versioning' from '/Users/sudeepmallick/anaconda3/lib/python3.6/site-packages/sphinx/versioning.py'>, 'uuid': <module 'uuid' from '/Users/sudeepmallick/anaconda3/lib/python3.6/uuid.py'>, 'ctypes.util': <module 'ctypes.util' from '/Users/sudeepmallick/anaconda3/lib/python3.6/ctypes/util.py'>, 'ctypes.macholib': <module 'ctypes.macholib' from '/Users/sudeepmallick/anaconda3/lib/python3.6/ctypes/macholib/__init__.py'>, 'ctypes.macholib.dyld': <module 'ctypes.macholib.dyld' from '/Users/sudeepmallick/anaconda3/lib/python3.6/ctypes/macholib/dyld.py'>, 'ctypes.macholib.framework': <module 'ctypes.macholib.framework' from '/Users/sudeepmallick/anaconda3/lib/python3.6/ctypes/macholib/framework.py'>, 'ctypes.macholib.dylib': <module 'ctypes.macholib.dylib' from '/Users/sudeepmallick/anaconda3/lib/python3.6/ctypes/macholib/dylib.py'>, 'sphinx.environment.adapters': <module 'sphinx.environment.adapters' from '/Users/sudeepmallick/anaconda3/lib/python3.6/site-packages/sphinx/environment/adapters/__init__.py'>, 'sphinx.environment.adapters.indexentries': <module 'sphinx.environment.adapters.indexentries' from '/Users/sudeepmallick/anaconda3/lib/python3.6/site-packages/sphinx/environment/adapters/indexentries.py'>, 'sphinx.environment.adapters.toctree': <module 'sphinx.environment.adapters.toctree' from '/Users/sudeepmallick/anaconda3/lib/python3.6/site-packages/sphinx/environment/adapters/toctree.py'>, 'sphinx.events': <module 'sphinx.events' from '/Users/sudeepmallick/anaconda3/lib/python3.6/site-packages/sphinx/events.py'>, 'sphinx.extension': <module 'sphinx.extension' from '/Users/sudeepmallick/anaconda3/lib/python3.6/site-packages/sphinx/extension.py'>, 'sphinx.registry': <module 'sphinx.registry' from '/Users/sudeepmallick/anaconda3/lib/python3.6/site-packages/sphinx/registry.py'>, 'sphinx.util.tags': <module 'sphinx.util.tags' from '/Users/sudeepmallick/anaconda3/lib/python3.6/site-packages/sphinx/util/tags.py'>, 'numpydoc.docscrape': <module 'numpydoc.docscrape' from '/Users/sudeepmallick/anaconda3/lib/python3.6/site-packages/numpydoc/docscrape.py'>, 'sphinx.domains.c': <module 'sphinx.domains.c' from '/Users/sudeepmallick/anaconda3/lib/python3.6/site-packages/sphinx/domains/c.py'>, 'sphinx.domains.python': <module 'sphinx.domains.python' from '/Users/sudeepmallick/anaconda3/lib/python3.6/site-packages/sphinx/domains/python.py'>, 'jedi.evaluate.param': <module 'jedi.evaluate.param' from '/Users/sudeepmallick/anaconda3/lib/python3.6/site-packages/jedi/evaluate/param.py'>, 'jedi.evaluate.imports': <module 'jedi.evaluate.imports' from '/Users/sudeepmallick/anaconda3/lib/python3.6/site-packages/jedi/evaluate/imports.py'>, 'jedi.evaluate.sys_path': <module 'jedi.evaluate.sys_path' from '/Users/sudeepmallick/anaconda3/lib/python3.6/site-packages/jedi/evaluate/sys_path.py'>, 'jedi.evaluate.site': <module 'jedi.evaluate.site' from '/Users/sudeepmallick/anaconda3/lib/python3.6/site-packages/jedi/evaluate/site.py'>, 'jedi.evaluate.dynamic': <module 'jedi.evaluate.dynamic' from '/Users/sudeepmallick/anaconda3/lib/python3.6/site-packages/jedi/evaluate/dynamic.py'>, 'jedi.evaluate.stdlib': <module 'jedi.evaluate.stdlib' from '/Users/sudeepmallick/anaconda3/lib/python3.6/site-packages/jedi/evaluate/stdlib.py'>, 'jedi.evaluate.instance': <module 'jedi.evaluate.instance' from '/Users/sudeepmallick/anaconda3/lib/python3.6/site-packages/jedi/evaluate/instance.py'>, 'jedi.evaluate.finder': <module 'jedi.evaluate.finder' from '/Users/sudeepmallick/anaconda3/lib/python3.6/site-packages/jedi/evaluate/finder.py'>, 'jedi.api.keywords': <module 'jedi.api.keywords' from '/Users/sudeepmallick/anaconda3/lib/python3.6/site-packages/jedi/api/keywords.py'>, 'pydoc_data': <module 'pydoc_data' from '/Users/sudeepmallick/anaconda3/lib/python3.6/pydoc_data/__init__.py'>, 'pydoc_data.topics': <module 'pydoc_data.topics' from '/Users/sudeepmallick/anaconda3/lib/python3.6/pydoc_data/topics.py'>, 'jedi.api.interpreter': <module 'jedi.api.interpreter' from '/Users/sudeepmallick/anaconda3/lib/python3.6/site-packages/jedi/api/interpreter.py'>, 'jedi.evaluate.compiled.mixed': <module 'jedi.evaluate.compiled.mixed' from '/Users/sudeepmallick/anaconda3/lib/python3.6/site-packages/jedi/evaluate/compiled/mixed.py'>, 'jedi.api.usages': <module 'jedi.api.usages' from '/Users/sudeepmallick/anaconda3/lib/python3.6/site-packages/jedi/api/usages.py'>, 'jedi.api.helpers': <module 'jedi.api.helpers' from '/Users/sudeepmallick/anaconda3/lib/python3.6/site-packages/jedi/api/helpers.py'>, 'jedi.api.completion': <module 'jedi.api.completion' from '/Users/sudeepmallick/anaconda3/lib/python3.6/site-packages/jedi/api/completion.py'>, 'IPython.terminal.ptutils': <module 'IPython.terminal.ptutils' from '/Users/sudeepmallick/anaconda3/lib/python3.6/site-packages/IPython/terminal/ptutils.py'>, 'IPython.terminal.shortcuts': <module 'IPython.terminal.shortcuts' from '/Users/sudeepmallick/anaconda3/lib/python3.6/site-packages/IPython/terminal/shortcuts.py'>, 'IPython.terminal.magics': <module 'IPython.terminal.magics' from '/Users/sudeepmallick/anaconda3/lib/python3.6/site-packages/IPython/terminal/magics.py'>, 'IPython.lib.clipboard': <module 'IPython.lib.clipboard' from '/Users/sudeepmallick/anaconda3/lib/python3.6/site-packages/IPython/lib/clipboard.py'>, 'IPython.terminal.pt_inputhooks': <module 'IPython.terminal.pt_inputhooks' from '/Users/sudeepmallick/anaconda3/lib/python3.6/site-packages/IPython/terminal/pt_inputhooks/__init__.py'>, 'IPython.terminal.prompts': <module 'IPython.terminal.prompts' from '/Users/sudeepmallick/anaconda3/lib/python3.6/site-packages/IPython/terminal/prompts.py'>, 'IPython.terminal.ipapp': <module 'IPython.terminal.ipapp' from '/Users/sudeepmallick/anaconda3/lib/python3.6/site-packages/IPython/terminal/ipapp.py'>, 'IPython.core.magics': <module 'IPython.core.magics' from '/Users/sudeepmallick/anaconda3/lib/python3.6/site-packages/IPython/core/magics/__init__.py'>, 'IPython.core.magics.auto': <module 'IPython.core.magics.auto' from '/Users/sudeepmallick/anaconda3/lib/python3.6/site-packages/IPython/core/magics/auto.py'>, 'IPython.core.magics.basic': <module 'IPython.core.magics.basic' from '/Users/sudeepmallick/anaconda3/lib/python3.6/site-packages/IPython/core/magics/basic.py'>, 'IPython.core.magics.code': <module 'IPython.core.magics.code' from '/Users/sudeepmallick/anaconda3/lib/python3.6/site-packages/IPython/core/magics/code.py'>, 'IPython.core.magics.config': <module 'IPython.core.magics.config' from '/Users/sudeepmallick/anaconda3/lib/python3.6/site-packages/IPython/core/magics/config.py'>, 'IPython.core.magics.display': <module 'IPython.core.magics.display' from '/Users/sudeepmallick/anaconda3/lib/python3.6/site-packages/IPython/core/magics/display.py'>, 'IPython.core.magics.execution': <module 'IPython.core.magics.execution' from '/Users/sudeepmallick/anaconda3/lib/python3.6/site-packages/IPython/core/magics/execution.py'>, 'timeit': <module 'timeit' from '/Users/sudeepmallick/anaconda3/lib/python3.6/timeit.py'>, 'cProfile': <module 'cProfile' from '/Users/sudeepmallick/anaconda3/lib/python3.6/cProfile.py'>, '_lsprof': <module '_lsprof' from '/Users/sudeepmallick/anaconda3/lib/python3.6/lib-dynload/_lsprof.cpython-36m-darwin.so'>, 'profile': <module 'profile' from '/Users/sudeepmallick/anaconda3/lib/python3.6/profile.py'>, 'pstats': <module 'pstats' from '/Users/sudeepmallick/anaconda3/lib/python3.6/pstats.py'>, 'IPython.utils.module_paths': <module 'IPython.utils.module_paths' from '/Users/sudeepmallick/anaconda3/lib/python3.6/site-packages/IPython/utils/module_paths.py'>, 'IPython.utils.timing': <module 'IPython.utils.timing' from '/Users/sudeepmallick/anaconda3/lib/python3.6/site-packages/IPython/utils/timing.py'>, 'IPython.core.magics.extension': <module 'IPython.core.magics.extension' from '/Users/sudeepmallick/anaconda3/lib/python3.6/site-packages/IPython/core/magics/extension.py'>, 'IPython.core.magics.history': <module 'IPython.core.magics.history' from '/Users/sudeepmallick/anaconda3/lib/python3.6/site-packages/IPython/core/magics/history.py'>, 'IPython.core.magics.logging': <module 'IPython.core.magics.logging' from '/Users/sudeepmallick/anaconda3/lib/python3.6/site-packages/IPython/core/magics/logging.py'>, 'IPython.core.magics.namespace': <module 'IPython.core.magics.namespace' from '/Users/sudeepmallick/anaconda3/lib/python3.6/site-packages/IPython/core/magics/namespace.py'>, 'IPython.core.magics.osm': <module 'IPython.core.magics.osm' from '/Users/sudeepmallick/anaconda3/lib/python3.6/site-packages/IPython/core/magics/osm.py'>, 'IPython.core.magics.pylab': <module 'IPython.core.magics.pylab' from '/Users/sudeepmallick/anaconda3/lib/python3.6/site-packages/IPython/core/magics/pylab.py'>, 'IPython.core.pylabtools': <module 'IPython.core.pylabtools' from '/Users/sudeepmallick/anaconda3/lib/python3.6/site-packages/IPython/core/pylabtools.py'>, 'IPython.core.magics.script': <module 'IPython.core.magics.script' from '/Users/sudeepmallick/anaconda3/lib/python3.6/site-packages/IPython/core/magics/script.py'>, 'IPython.lib.backgroundjobs': <module 'IPython.lib.backgroundjobs' from '/Users/sudeepmallick/anaconda3/lib/python3.6/site-packages/IPython/lib/backgroundjobs.py'>, 'IPython.core.shellapp': <module 'IPython.core.shellapp' from '/Users/sudeepmallick/anaconda3/lib/python3.6/site-packages/IPython/core/shellapp.py'>, 'IPython.extensions': <module 'IPython.extensions' from '/Users/sudeepmallick/anaconda3/lib/python3.6/site-packages/IPython/extensions/__init__.py'>, 'IPython.extensions.storemagic': <module 'IPython.extensions.storemagic' from '/Users/sudeepmallick/anaconda3/lib/python3.6/site-packages/IPython/extensions/storemagic.py'>, 'IPython.utils.frame': <module 'IPython.utils.frame' from '/Users/sudeepmallick/anaconda3/lib/python3.6/site-packages/IPython/utils/frame.py'>, 'jupyter_client': <module 'jupyter_client' from '/Users/sudeepmallick/anaconda3/lib/python3.6/site-packages/jupyter_client/__init__.py'>, 'jupyter_client._version': <module 'jupyter_client._version' from '/Users/sudeepmallick/anaconda3/lib/python3.6/site-packages/jupyter_client/_version.py'>, 'jupyter_client.connect': <module 'jupyter_client.connect' from '/Users/sudeepmallick/anaconda3/lib/python3.6/site-packages/jupyter_client/connect.py'>, 'zmq': <module 'zmq' from '/Users/sudeepmallick/anaconda3/lib/python3.6/site-packages/zmq/__init__.py'>, 'zmq.backend': <module 'zmq.backend' from '/Users/sudeepmallick/anaconda3/lib/python3.6/site-packages/zmq/backend/__init__.py'>, 'zmq.backend.select': <module 'zmq.backend.select' from '/Users/sudeepmallick/anaconda3/lib/python3.6/site-packages/zmq/backend/select.py'>, 'zmq.backend.cython': <module 'zmq.backend.cython' from '/Users/sudeepmallick/anaconda3/lib/python3.6/site-packages/zmq/backend/cython/__init__.py'>, 'zmq.backend.cython.constants': <module 'zmq.backend.cython.constants' from '/Users/sudeepmallick/anaconda3/lib/python3.6/site-packages/zmq/backend/cython/constants.cpython-36m-darwin.so'>, '_cython_0_25_1': <module '_cython_0_25_1'>, 'zmq.backend.cython.error': <module 'zmq.backend.cython.error' from '/Users/sudeepmallick/anaconda3/lib/python3.6/site-packages/zmq/backend/cython/error.cpython-36m-darwin.so'>, 'zmq.utils': <module 'zmq.utils' from '/Users/sudeepmallick/anaconda3/lib/python3.6/site-packages/zmq/utils/__init__.py'>, 'zmq.utils.strtypes': <module 'zmq.utils.strtypes' from '/Users/sudeepmallick/anaconda3/lib/python3.6/site-packages/zmq/utils/strtypes.py'>, 'zmq.backend.cython.message': <module 'zmq.backend.cython.message' from '/Users/sudeepmallick/anaconda3/lib/python3.6/site-packages/zmq/backend/cython/message.cpython-36m-darwin.so'>, 'zmq.error': <module 'zmq.error' from '/Users/sudeepmallick/anaconda3/lib/python3.6/site-packages/zmq/error.py'>, 'zmq.backend.cython.context': <module 'zmq.backend.cython.context' from '/Users/sudeepmallick/anaconda3/lib/python3.6/site-packages/zmq/backend/cython/context.cpython-36m-darwin.so'>, 'zmq.backend.cython.socket': <module 'zmq.backend.cython.socket' from '/Users/sudeepmallick/anaconda3/lib/python3.6/site-packages/zmq/backend/cython/socket.cpython-36m-darwin.so'>, 'zmq.backend.cython.utils': <module 'zmq.backend.cython.utils' from '/Users/sudeepmallick/anaconda3/lib/python3.6/site-packages/zmq/backend/cython/utils.cpython-36m-darwin.so'>, 'zmq.backend.cython._poll': <module 'zmq.backend.cython._poll' from '/Users/sudeepmallick/anaconda3/lib/python3.6/site-packages/zmq/backend/cython/_poll.cpython-36m-darwin.so'>, 'zmq.backend.cython._version': <module 'zmq.backend.cython._version' from '/Users/sudeepmallick/anaconda3/lib/python3.6/site-packages/zmq/backend/cython/_version.cpython-36m-darwin.so'>, 'zmq.backend.cython._device': <module 'zmq.backend.cython._device' from '/Users/sudeepmallick/anaconda3/lib/python3.6/site-packages/zmq/backend/cython/_device.cpython-36m-darwin.so'>, 'zmq.sugar': <module 'zmq.sugar' from '/Users/sudeepmallick/anaconda3/lib/python3.6/site-packages/zmq/sugar/__init__.py'>, 'zmq.sugar.constants': <module 'zmq.sugar.constants' from '/Users/sudeepmallick/anaconda3/lib/python3.6/site-packages/zmq/sugar/constants.py'>, 'zmq.utils.constant_names': <module 'zmq.utils.constant_names' from '/Users/sudeepmallick/anaconda3/lib/python3.6/site-packages/zmq/utils/constant_names.py'>, 'zmq.sugar.context': <module 'zmq.sugar.context' from '/Users/sudeepmallick/anaconda3/lib/python3.6/site-packages/zmq/sugar/context.py'>, 'zmq.sugar.attrsettr': <module 'zmq.sugar.attrsettr' from '/Users/sudeepmallick/anaconda3/lib/python3.6/site-packages/zmq/sugar/attrsettr.py'>, 'zmq.sugar.socket': <module 'zmq.sugar.socket' from '/Users/sudeepmallick/anaconda3/lib/python3.6/site-packages/zmq/sugar/socket.py'>, 'zmq.sugar.poll': <module 'zmq.sugar.poll' from '/Users/sudeepmallick/anaconda3/lib/python3.6/site-packages/zmq/sugar/poll.py'>, 'zmq.sugar.frame': <module 'zmq.sugar.frame' from '/Users/sudeepmallick/anaconda3/lib/python3.6/site-packages/zmq/sugar/frame.py'>, 'zmq.sugar.tracker': <module 'zmq.sugar.tracker' from '/Users/sudeepmallick/anaconda3/lib/python3.6/site-packages/zmq/sugar/tracker.py'>, 'zmq.sugar.version': <module 'zmq.sugar.version' from '/Users/sudeepmallick/anaconda3/lib/python3.6/site-packages/zmq/sugar/version.py'>, 'zmq.sugar.stopwatch': <module 'zmq.sugar.stopwatch' from '/Users/sudeepmallick/anaconda3/lib/python3.6/site-packages/zmq/sugar/stopwatch.py'>, 'jupyter_client.localinterfaces': <module 'jupyter_client.localinterfaces' from '/Users/sudeepmallick/anaconda3/lib/python3.6/site-packages/jupyter_client/localinterfaces.py'>, 'jupyter_core': <module 'jupyter_core' from '/Users/sudeepmallick/anaconda3/lib/python3.6/site-packages/jupyter_core/__init__.py'>, 'jupyter_core.version': <module 'jupyter_core.version' from '/Users/sudeepmallick/anaconda3/lib/python3.6/site-packages/jupyter_core/version.py'>, 'jupyter_core.paths': <module 'jupyter_core.paths' from '/Users/sudeepmallick/anaconda3/lib/python3.6/site-packages/jupyter_core/paths.py'>, 'jupyter_client.launcher': <module 'jupyter_client.launcher' from '/Users/sudeepmallick/anaconda3/lib/python3.6/site-packages/jupyter_client/launcher.py'>, 'traitlets.log': <module 'traitlets.log' from '/Users/sudeepmallick/anaconda3/lib/python3.6/site-packages/traitlets/log.py'>, 'jupyter_client.client': <module 'jupyter_client.client' from '/Users/sudeepmallick/anaconda3/lib/python3.6/site-packages/jupyter_client/client.py'>, 'jupyter_client.channels': <module 'jupyter_client.channels' from '/Users/sudeepmallick/anaconda3/lib/python3.6/site-packages/jupyter_client/channels.py'>, 'jupyter_client.channelsabc': <module 'jupyter_client.channelsabc' from '/Users/sudeepmallick/anaconda3/lib/python3.6/site-packages/jupyter_client/channelsabc.py'>, 'jupyter_client.clientabc': <module 'jupyter_client.clientabc' from '/Users/sudeepmallick/anaconda3/lib/python3.6/site-packages/jupyter_client/clientabc.py'>, 'jupyter_client.manager': <module 'jupyter_client.manager' from '/Users/sudeepmallick/anaconda3/lib/python3.6/site-packages/jupyter_client/manager.py'>, 'jupyter_client.kernelspec': <module 'jupyter_client.kernelspec' from '/Users/sudeepmallick/anaconda3/lib/python3.6/site-packages/jupyter_client/kernelspec.py'>, 'jupyter_client.session': <module 'jupyter_client.session' from '/Users/sudeepmallick/anaconda3/lib/python3.6/site-packages/jupyter_client/session.py'>, 'hmac': <module 'hmac' from '/Users/sudeepmallick/anaconda3/lib/python3.6/hmac.py'>, 'zmq.utils.jsonapi': <module 'zmq.utils.jsonapi' from '/Users/sudeepmallick/anaconda3/lib/python3.6/site-packages/zmq/utils/jsonapi.py'>, 'zmq.eventloop': <module 'zmq.eventloop' from '/Users/sudeepmallick/anaconda3/lib/python3.6/site-packages/zmq/eventloop/__init__.py'>, 'zmq.eventloop.ioloop': <module 'zmq.eventloop.ioloop' from '/Users/sudeepmallick/anaconda3/lib/python3.6/site-packages/zmq/eventloop/ioloop.py'>, 'tornado': <module 'tornado' from '/Users/sudeepmallick/anaconda3/lib/python3.6/site-packages/tornado/__init__.py'>, 'tornado.ioloop': <module 'tornado.ioloop' from '/Users/sudeepmallick/anaconda3/lib/python3.6/site-packages/tornado/ioloop.py'>, 'tornado.concurrent': <module 'tornado.concurrent' from '/Users/sudeepmallick/anaconda3/lib/python3.6/site-packages/tornado/concurrent.py'>, 'tornado.log': <module 'tornado.log' from '/Users/sudeepmallick/anaconda3/lib/python3.6/site-packages/tornado/log.py'>, 'tornado.escape': <module 'tornado.escape' from '/Users/sudeepmallick/anaconda3/lib/python3.6/site-packages/tornado/escape.py'>, 'tornado.util': <module 'tornado.util' from '/Users/sudeepmallick/anaconda3/lib/python3.6/site-packages/tornado/util.py'>, 'curses': <module 'curses' from '/Users/sudeepmallick/anaconda3/lib/python3.6/curses/__init__.py'>, '_curses': <module '_curses' from '/Users/sudeepmallick/anaconda3/lib/python3.6/lib-dynload/_curses.cpython-36m-darwin.so'>, 'tornado.stack_context': <module 'tornado.stack_context' from '/Users/sudeepmallick/anaconda3/lib/python3.6/site-packages/tornado/stack_context.py'>, 'tornado.platform': <module 'tornado.platform' from '/Users/sudeepmallick/anaconda3/lib/python3.6/site-packages/tornado/platform/__init__.py'>, 'tornado.platform.auto': <module 'tornado.platform.auto' from '/Users/sudeepmallick/anaconda3/lib/python3.6/site-packages/tornado/platform/auto.py'>, 'tornado.platform.posix': <module 'tornado.platform.posix' from '/Users/sudeepmallick/anaconda3/lib/python3.6/site-packages/tornado/platform/posix.py'>, 'tornado.platform.common': <module 'tornado.platform.common' from '/Users/sudeepmallick/anaconda3/lib/python3.6/site-packages/tornado/platform/common.py'>, 'tornado.platform.interface': <module 'tornado.platform.interface' from '/Users/sudeepmallick/anaconda3/lib/python3.6/site-packages/tornado/platform/interface.py'>, 'zmq.eventloop.zmqstream': <module 'zmq.eventloop.zmqstream' from '/Users/sudeepmallick/anaconda3/lib/python3.6/site-packages/zmq/eventloop/zmqstream.py'>, 'jupyter_client.jsonutil': <module 'jupyter_client.jsonutil' from '/Users/sudeepmallick/anaconda3/lib/python3.6/site-packages/jupyter_client/jsonutil.py'>, 'dateutil': <module 'dateutil' from '/Users/sudeepmallick/anaconda3/lib/python3.6/site-packages/dateutil/__init__.py'>, 'dateutil._version': <module 'dateutil._version' from '/Users/sudeepmallick/anaconda3/lib/python3.6/site-packages/dateutil/_version.py'>, 'dateutil.parser': <module 'dateutil.parser' from '/Users/sudeepmallick/anaconda3/lib/python3.6/site-packages/dateutil/parser.py'>, 'dateutil.relativedelta': <module 'dateutil.relativedelta' from '/Users/sudeepmallick/anaconda3/lib/python3.6/site-packages/dateutil/relativedelta.py'>, 'dateutil._common': <module 'dateutil._common' from '/Users/sudeepmallick/anaconda3/lib/python3.6/site-packages/dateutil/_common.py'>, 'dateutil.tz': <module 'dateutil.tz' from '/Users/sudeepmallick/anaconda3/lib/python3.6/site-packages/dateutil/tz/__init__.py'>, 'dateutil.tz.tz': <module 'dateutil.tz.tz' from '/Users/sudeepmallick/anaconda3/lib/python3.6/site-packages/dateutil/tz/tz.py'>, 'dateutil.tz._common': <module 'dateutil.tz._common' from '/Users/sudeepmallick/anaconda3/lib/python3.6/site-packages/dateutil/tz/_common.py'>, '_strptime': <module '_strptime' from '/Users/sudeepmallick/anaconda3/lib/python3.6/_strptime.py'>, 'jupyter_client.adapter': <module 'jupyter_client.adapter' from '/Users/sudeepmallick/anaconda3/lib/python3.6/site-packages/jupyter_client/adapter.py'>, 'jupyter_client.managerabc': <module 'jupyter_client.managerabc' from '/Users/sudeepmallick/anaconda3/lib/python3.6/site-packages/jupyter_client/managerabc.py'>, 'jupyter_client.blocking': <module 'jupyter_client.blocking' from '/Users/sudeepmallick/anaconda3/lib/python3.6/site-packages/jupyter_client/blocking/__init__.py'>, 'jupyter_client.blocking.client': <module 'jupyter_client.blocking.client' from '/Users/sudeepmallick/anaconda3/lib/python3.6/site-packages/jupyter_client/blocking/client.py'>, 'jupyter_client.blocking.channels': <module 'jupyter_client.blocking.channels' from '/Users/sudeepmallick/anaconda3/lib/python3.6/site-packages/jupyter_client/blocking/channels.py'>, 'jupyter_client.multikernelmanager': <module 'jupyter_client.multikernelmanager' from '/Users/sudeepmallick/anaconda3/lib/python3.6/site-packages/jupyter_client/multikernelmanager.py'>, 'ipykernel.kernelapp': <module 'ipykernel.kernelapp' from '/Users/sudeepmallick/anaconda3/lib/python3.6/site-packages/ipykernel/kernelapp.py'>, 'ipykernel.iostream': <module 'ipykernel.iostream' from '/Users/sudeepmallick/anaconda3/lib/python3.6/site-packages/ipykernel/iostream.py'>, 'ipykernel.heartbeat': <module 'ipykernel.heartbeat' from '/Users/sudeepmallick/anaconda3/lib/python3.6/site-packages/ipykernel/heartbeat.py'>, 'ipykernel.ipkernel': <module 'ipykernel.ipkernel' from '/Users/sudeepmallick/anaconda3/lib/python3.6/site-packages/ipykernel/ipkernel.py'>, 'IPython.utils.tokenutil': <module 'IPython.utils.tokenutil' from '/Users/sudeepmallick/anaconda3/lib/python3.6/site-packages/IPython/utils/tokenutil.py'>, 'ipykernel.comm': <module 'ipykernel.comm' from '/Users/sudeepmallick/anaconda3/lib/python3.6/site-packages/ipykernel/comm/__init__.py'>, 'ipykernel.comm.manager': <module 'ipykernel.comm.manager' from '/Users/sudeepmallick/anaconda3/lib/python3.6/site-packages/ipykernel/comm/manager.py'>, 'ipykernel.comm.comm': <module 'ipykernel.comm.comm' from '/Users/sudeepmallick/anaconda3/lib/python3.6/site-packages/ipykernel/comm/comm.py'>, 'ipykernel.kernelbase': <module 'ipykernel.kernelbase' from '/Users/sudeepmallick/anaconda3/lib/python3.6/site-packages/ipykernel/kernelbase.py'>, 'ipykernel.jsonutil': <module 'ipykernel.jsonutil' from '/Users/sudeepmallick/anaconda3/lib/python3.6/site-packages/ipykernel/jsonutil.py'>, 'ipykernel.zmqshell': <module 'ipykernel.zmqshell' from '/Users/sudeepmallick/anaconda3/lib/python3.6/site-packages/ipykernel/zmqshell.py'>, 'IPython.core.payloadpage': <module 'IPython.core.payloadpage' from '/Users/sudeepmallick/anaconda3/lib/python3.6/site-packages/IPython/core/payloadpage.py'>, 'ipykernel.displayhook': <module 'ipykernel.displayhook' from '/Users/sudeepmallick/anaconda3/lib/python3.6/site-packages/ipykernel/displayhook.py'>, 'ipykernel.parentpoller': <module 'ipykernel.parentpoller' from '/Users/sudeepmallick/anaconda3/lib/python3.6/site-packages/ipykernel/parentpoller.py'>, 'faulthandler': <module 'faulthandler' (built-in)>, 'ipykernel.datapub': <module 'ipykernel.datapub' from '/Users/sudeepmallick/anaconda3/lib/python3.6/site-packages/ipykernel/datapub.py'>, 'ipykernel.serialize': <module 'ipykernel.serialize' from '/Users/sudeepmallick/anaconda3/lib/python3.6/site-packages/ipykernel/serialize.py'>, 'ipykernel.pickleutil': <module 'ipykernel.pickleutil' from '/Users/sudeepmallick/anaconda3/lib/python3.6/site-packages/ipykernel/pickleutil.py'>, 'ipykernel.codeutil': <module 'ipykernel.codeutil' from '/Users/sudeepmallick/anaconda3/lib/python3.6/site-packages/ipykernel/codeutil.py'>, 'IPython.core.completerlib': <module 'IPython.core.completerlib' from '/Users/sudeepmallick/anaconda3/lib/python3.6/site-packages/IPython/core/completerlib.py'>, 'storemagic': <module 'storemagic' from '/Users/sudeepmallick/anaconda3/lib/python3.6/site-packages/IPython/extensions/storemagic.py'>, 'ipywidgets': <module 'ipywidgets' from '/Users/sudeepmallick/anaconda3/lib/python3.6/site-packages/ipywidgets/__init__.py'>, 'ipywidgets._version': <module 'ipywidgets._version' from '/Users/sudeepmallick/anaconda3/lib/python3.6/site-packages/ipywidgets/_version.py'>, 'ipywidgets.widgets': <module 'ipywidgets.widgets' from '/Users/sudeepmallick/anaconda3/lib/python3.6/site-packages/ipywidgets/widgets/__init__.py'>, 'ipywidgets.widgets.widget': <module 'ipywidgets.widgets.widget' from '/Users/sudeepmallick/anaconda3/lib/python3.6/site-packages/ipywidgets/widgets/widget.py'>, 'ipywidgets.widgets.domwidget': <module 'ipywidgets.widgets.domwidget' from '/Users/sudeepmallick/anaconda3/lib/python3.6/site-packages/ipywidgets/widgets/domwidget.py'>, 'ipywidgets.widgets.trait_types': <module 'ipywidgets.widgets.trait_types' from '/Users/sudeepmallick/anaconda3/lib/python3.6/site-packages/ipywidgets/widgets/trait_types.py'>, 'ipywidgets.widgets.widget_layout': <module 'ipywidgets.widgets.widget_layout' from '/Users/sudeepmallick/anaconda3/lib/python3.6/site-packages/ipywidgets/widgets/widget_layout.py'>, 'ipywidgets.widgets.widget_style': <module 'ipywidgets.widgets.widget_style' from '/Users/sudeepmallick/anaconda3/lib/python3.6/site-packages/ipywidgets/widgets/widget_style.py'>, 'ipywidgets.widgets.valuewidget': <module 'ipywidgets.widgets.valuewidget' from '/Users/sudeepmallick/anaconda3/lib/python3.6/site-packages/ipywidgets/widgets/valuewidget.py'>, 'ipywidgets.widgets.widget_core': <module 'ipywidgets.widgets.widget_core' from '/Users/sudeepmallick/anaconda3/lib/python3.6/site-packages/ipywidgets/widgets/widget_core.py'>, 'ipywidgets.widgets.widget_bool': <module 'ipywidgets.widgets.widget_bool' from '/Users/sudeepmallick/anaconda3/lib/python3.6/site-packages/ipywidgets/widgets/widget_bool.py'>, 'ipywidgets.widgets.widget_description': <module 'ipywidgets.widgets.widget_description' from '/Users/sudeepmallick/anaconda3/lib/python3.6/site-packages/ipywidgets/widgets/widget_description.py'>, 'ipywidgets.widgets.widget_button': <module 'ipywidgets.widgets.widget_button' from '/Users/sudeepmallick/anaconda3/lib/python3.6/site-packages/ipywidgets/widgets/widget_button.py'>, 'ipywidgets.widgets.widget_box': <module 'ipywidgets.widgets.widget_box' from '/Users/sudeepmallick/anaconda3/lib/python3.6/site-packages/ipywidgets/widgets/widget_box.py'>, 'ipywidgets.widgets.widget_float': <module 'ipywidgets.widgets.widget_float' from '/Users/sudeepmallick/anaconda3/lib/python3.6/site-packages/ipywidgets/widgets/widget_float.py'>, 'ipywidgets.widgets.widget_int': <module 'ipywidgets.widgets.widget_int' from '/Users/sudeepmallick/anaconda3/lib/python3.6/site-packages/ipywidgets/widgets/widget_int.py'>, 'ipywidgets.widgets.widget_image': <module 'ipywidgets.widgets.widget_image' from '/Users/sudeepmallick/anaconda3/lib/python3.6/site-packages/ipywidgets/widgets/widget_image.py'>, 'ipywidgets.widgets.widget_color': <module 'ipywidgets.widgets.widget_color' from '/Users/sudeepmallick/anaconda3/lib/python3.6/site-packages/ipywidgets/widgets/widget_color.py'>, 'ipywidgets.widgets.widget_date': <module 'ipywidgets.widgets.widget_date' from '/Users/sudeepmallick/anaconda3/lib/python3.6/site-packages/ipywidgets/widgets/widget_date.py'>, 'ipywidgets.widgets.widget_output': <module 'ipywidgets.widgets.widget_output' from '/Users/sudeepmallick/anaconda3/lib/python3.6/site-packages/ipywidgets/widgets/widget_output.py'>, 'ipywidgets.widgets.widget_selection': <module 'ipywidgets.widgets.widget_selection' from '/Users/sudeepmallick/anaconda3/lib/python3.6/site-packages/ipywidgets/widgets/widget_selection.py'>, 'ipywidgets.widgets.widget_selectioncontainer': <module 'ipywidgets.widgets.widget_selectioncontainer' from '/Users/sudeepmallick/anaconda3/lib/python3.6/site-packages/ipywidgets/widgets/widget_selectioncontainer.py'>, 'ipywidgets.widgets.widget_string': <module 'ipywidgets.widgets.widget_string' from '/Users/sudeepmallick/anaconda3/lib/python3.6/site-packages/ipywidgets/widgets/widget_string.py'>, 'ipywidgets.widgets.widget_controller': <module 'ipywidgets.widgets.widget_controller' from '/Users/sudeepmallick/anaconda3/lib/python3.6/site-packages/ipywidgets/widgets/widget_controller.py'>, 'ipywidgets.widgets.interaction': <module 'ipywidgets.widgets.interaction' from '/Users/sudeepmallick/anaconda3/lib/python3.6/site-packages/ipywidgets/widgets/interaction.py'>, 'ipywidgets.widgets.widget_link': <module 'ipywidgets.widgets.widget_link' from '/Users/sudeepmallick/anaconda3/lib/python3.6/site-packages/ipywidgets/widgets/widget_link.py'>}\n",
      "True\n"
     ]
    }
   ],
   "source": [
    "#print(sys.modules)\n",
    "print(type(sys.modules))\n",
    "print(sys.modules)\n",
    "print('re' in sys.modules.keys())"
   ]
  },
  {
   "cell_type": "code",
   "execution_count": 25,
   "metadata": {
    "collapsed": true
   },
   "outputs": [],
   "source": [
    "import os"
   ]
  },
  {
   "cell_type": "code",
   "execution_count": 26,
   "metadata": {},
   "outputs": [
    {
     "name": "stdout",
     "output_type": "stream",
     "text": [
      "/Users/sudeepmallick/Documents/BDA21-23/PDS2021/Python\n"
     ]
    }
   ],
   "source": [
    "print(os.getcwd())"
   ]
  },
  {
   "cell_type": "code",
   "execution_count": 27,
   "metadata": {},
   "outputs": [
    {
     "name": "stdout",
     "output_type": "stream",
     "text": [
      "/Users/sudeepmallick/Documents/BDA21-23/PDS2021\n"
     ]
    }
   ],
   "source": [
    "os.chdir('..')\n",
    "print(os.getcwd())"
   ]
  },
  {
   "cell_type": "code",
   "execution_count": 28,
   "metadata": {},
   "outputs": [
    {
     "data": {
      "text/plain": [
       "'/Users/sudeepmallick/Documents/BDA21-23/PDS2021/..'"
      ]
     },
     "execution_count": 28,
     "metadata": {},
     "output_type": "execute_result"
    }
   ],
   "source": [
    "os.path.join(os.getcwd(),'..')"
   ]
  },
  {
   "cell_type": "code",
   "execution_count": 29,
   "metadata": {},
   "outputs": [
    {
     "name": "stdout",
     "output_type": "stream",
     "text": [
      "/Users/sudeepmallick/Documents/BDA21-23/PDS2021/Python\n"
     ]
    }
   ],
   "source": [
    "os.chdir(os.path.join(os.getcwd(),'Python'))\n",
    "print(os.getcwd())"
   ]
  },
  {
   "cell_type": "code",
   "execution_count": 30,
   "metadata": {
    "collapsed": true
   },
   "outputs": [],
   "source": [
    "#CHECK other functions of os module - os.makedirs, os.rmdir, os.rename"
   ]
  },
  {
   "cell_type": "code",
   "execution_count": 31,
   "metadata": {},
   "outputs": [
    {
     "data": {
      "text/plain": [
       "'/Users/sudeepmallick/Documents/BDA21-23/PDS2021/Python/../..'"
      ]
     },
     "execution_count": 31,
     "metadata": {},
     "output_type": "execute_result"
    }
   ],
   "source": [
    "os.path.join(os.getcwd(),'..','..')"
   ]
  },
  {
   "cell_type": "code",
   "execution_count": 32,
   "metadata": {},
   "outputs": [
    {
     "data": {
      "text/plain": [
       "['PDS2021', '.DS_Store', 'xCDS 2020']"
      ]
     },
     "execution_count": 32,
     "metadata": {},
     "output_type": "execute_result"
    }
   ],
   "source": [
    "os.listdir(os.path.join(os.getcwd(),'..','..'))"
   ]
  },
  {
   "cell_type": "code",
   "execution_count": 33,
   "metadata": {},
   "outputs": [
    {
     "name": "stdout",
     "output_type": "stream",
     "text": [
      "some_filename.txt does not exist\n"
     ]
    }
   ],
   "source": [
    "try:\n",
    "    name = 'some_filename.txt'\n",
    "    f = open(name)\n",
    "    text = f.read()\n",
    "    f.close()   \n",
    "except IOError:\n",
    "    print(name + ' does not exist')"
   ]
  },
  {
   "cell_type": "code",
   "execution_count": 68,
   "metadata": {},
   "outputs": [
    {
     "ename": "FileNotFoundError",
     "evalue": "[Errno 2] No such file or directory: 'some_filename.txt'",
     "output_type": "error",
     "traceback": [
      "\u001b[0;31m---------------------------------------------------------------------------\u001b[0m",
      "\u001b[0;31mFileNotFoundError\u001b[0m                         Traceback (most recent call last)",
      "\u001b[0;32m<ipython-input-68-995947104f54>\u001b[0m in \u001b[0;36m<module>\u001b[0;34m()\u001b[0m\n\u001b[1;32m      1\u001b[0m \u001b[0mname\u001b[0m \u001b[0;34m=\u001b[0m \u001b[0;34m'some_filename.txt'\u001b[0m\u001b[0;34m\u001b[0m\u001b[0m\n\u001b[0;32m----> 2\u001b[0;31m \u001b[0mf\u001b[0m \u001b[0;34m=\u001b[0m \u001b[0mopen\u001b[0m\u001b[0;34m(\u001b[0m\u001b[0mname\u001b[0m\u001b[0;34m)\u001b[0m\u001b[0;34m\u001b[0m\u001b[0m\n\u001b[0m\u001b[1;32m      3\u001b[0m \u001b[0mtext\u001b[0m \u001b[0;34m=\u001b[0m \u001b[0mf\u001b[0m\u001b[0;34m.\u001b[0m\u001b[0mread\u001b[0m\u001b[0;34m(\u001b[0m\u001b[0;34m)\u001b[0m\u001b[0;34m\u001b[0m\u001b[0m\n\u001b[1;32m      4\u001b[0m \u001b[0mf\u001b[0m\u001b[0;34m.\u001b[0m\u001b[0mclose\u001b[0m\u001b[0;34m(\u001b[0m\u001b[0;34m)\u001b[0m\u001b[0;34m\u001b[0m\u001b[0m\n",
      "\u001b[0;31mFileNotFoundError\u001b[0m: [Errno 2] No such file or directory: 'some_filename.txt'"
     ]
    }
   ],
   "source": [
    "name = 'some_filename.txt'\n",
    "f = open(name)\n",
    "text = f.read()\n",
    "f.close()  "
   ]
  },
  {
   "cell_type": "code",
   "execution_count": 34,
   "metadata": {
    "collapsed": true
   },
   "outputs": [],
   "source": [
    "os.rename?"
   ]
  },
  {
   "cell_type": "code",
   "execution_count": 35,
   "metadata": {},
   "outputs": [
    {
     "data": {
      "text/plain": [
       "False"
      ]
     },
     "execution_count": 35,
     "metadata": {},
     "output_type": "execute_result"
    }
   ],
   "source": [
    "os.path.exists('somedir')"
   ]
  },
  {
   "cell_type": "code",
   "execution_count": 36,
   "metadata": {},
   "outputs": [
    {
     "name": "stdout",
     "output_type": "stream",
     "text": [
      "True\n",
      "Python\n"
     ]
    }
   ],
   "source": [
    "print(os.path.exists('/Users/sudeepmallick/Documents/BDA21-23/PDS2021/Python'))\n",
    "print(os.path.basename('/Users/sudeepmallick/Documents/BDA21-23/PDS2021/Python'))"
   ]
  },
  {
   "cell_type": "code",
   "execution_count": 37,
   "metadata": {},
   "outputs": [
    {
     "data": {
      "text/plain": [
       "191020"
      ]
     },
     "execution_count": 37,
     "metadata": {},
     "output_type": "execute_result"
    }
   ],
   "source": [
    "os.path.getsize('/Users/sudeepmallick/Documents/BDA21-23/PDS2021/Python/Assign 4.pdf')"
   ]
  },
  {
   "cell_type": "code",
   "execution_count": 38,
   "metadata": {
    "collapsed": true
   },
   "outputs": [],
   "source": [
    "import json"
   ]
  },
  {
   "cell_type": "code",
   "execution_count": 39,
   "metadata": {},
   "outputs": [
    {
     "name": "stdout",
     "output_type": "stream",
     "text": [
      "{\r\n",
      "    \"quiz\": {\r\n",
      "        \"sport\": {\r\n",
      "            \"q1\": {\r\n",
      "                \"question\": \"Which one is correct team name in NBA?\",\r\n",
      "                \"options\": [\r\n",
      "                    \"New York Bulls\",\r\n",
      "                    \"Los Angeles Kings\",\r\n",
      "                    \"Golden State Warriros\",\r\n",
      "                    \"Huston Rocket\"\r\n",
      "                ],\r\n",
      "                \"answer\": \"Huston Rocket\"\r\n",
      "            }\r\n",
      "        },\r\n",
      "        \"maths\": {\r\n",
      "            \"q1\": {\r\n",
      "                \"question\": \"5 + 7 = ?\",\r\n",
      "                \"options\": [\r\n",
      "                    \"10\",\r\n",
      "                    \"11\",\r\n",
      "                    \"12\",\r\n",
      "                    \"13\"\r\n",
      "                ],\r\n",
      "                \"answer\": \"12\"\r\n",
      "            },\r\n",
      "            \"q2\": {\r\n",
      "                \"question\": \"12 - 8 = ?\",\r\n",
      "                \"options\": [\r\n",
      "                    \"1\",\r\n",
      "                    \"2\",\r\n",
      "                    \"3\",\r\n",
      "                    \"4\"\r\n",
      "                ],\r\n",
      "                \"answer\": \"4\"\r\n",
      "            }\r\n",
      "        }\r\n",
      "    }\r\n",
      "}"
     ]
    }
   ],
   "source": [
    "!cat example_2.json"
   ]
  },
  {
   "cell_type": "code",
   "execution_count": 40,
   "metadata": {},
   "outputs": [
    {
     "name": "stdout",
     "output_type": "stream",
     "text": [
      "<class 'dict'>\n",
      "{'quiz': {'sport': {'q1': {'question': 'Which one is correct team name in NBA?', 'options': ['New York Bulls', 'Los Angeles Kings', 'Golden State Warriros', 'Huston Rocket'], 'answer': 'Huston Rocket'}}, 'maths': {'q1': {'question': '5 + 7 = ?', 'options': ['10', '11', '12', '13'], 'answer': '12'}, 'q2': {'question': '12 - 8 = ?', 'options': ['1', '2', '3', '4'], 'answer': '4'}}}}\n"
     ]
    }
   ],
   "source": [
    "json_file = open('example_2.json')\n",
    "json_data = json.load(json_file)\n",
    "print(type(json_data))\n",
    "print(json_data)"
   ]
  },
  {
   "cell_type": "code",
   "execution_count": 41,
   "metadata": {},
   "outputs": [
    {
     "data": {
      "text/plain": [
       "'Which one is correct team name in NBA?'"
      ]
     },
     "execution_count": 41,
     "metadata": {},
     "output_type": "execute_result"
    }
   ],
   "source": [
    "json_data['quiz']['sport']['q1']['question']"
   ]
  },
  {
   "cell_type": "code",
   "execution_count": 42,
   "metadata": {},
   "outputs": [
    {
     "data": {
      "text/plain": [
       "['Los Angeles Kings', 'Golden State Warriros', 'Huston Rocket']"
      ]
     },
     "execution_count": 42,
     "metadata": {},
     "output_type": "execute_result"
    }
   ],
   "source": [
    "json_data['quiz']['sport']['q1']['options'][1:]"
   ]
  },
  {
   "cell_type": "code",
   "execution_count": 43,
   "metadata": {
    "collapsed": true
   },
   "outputs": [],
   "source": [
    "d1 = {'name':'ravi','state':'bengal','age': 21}\n",
    "with open('json_dump_file.txt','w') as to_file:\n",
    "    json.dump(d1,to_file)"
   ]
  },
  {
   "cell_type": "code",
   "execution_count": 44,
   "metadata": {},
   "outputs": [
    {
     "name": "stdout",
     "output_type": "stream",
     "text": [
      "{\"name\": \"ravi\", \"state\": \"bengal\", \"age\": 21}"
     ]
    }
   ],
   "source": [
    "!cat 'json_dump_file.txt'"
   ]
  },
  {
   "cell_type": "code",
   "execution_count": 45,
   "metadata": {
    "collapsed": true
   },
   "outputs": [],
   "source": [
    "data = {}\n",
    "data['people'] = []\n",
    "data['people'].append({\n",
    "    'name': 'Scott',\n",
    "    'website': 'stackabuse.com',\n",
    "    'from': 'Nebraska'\n",
    "})\n",
    "data['people'].append({\n",
    "    'name': 'Larry',\n",
    "    'website': 'google.com',\n",
    "    'from': 'Michigan'\n",
    "})\n",
    "data['people'].append({\n",
    "    'name': 'Tim',\n",
    "    'website': 'apple.com',\n",
    "    'from': 'Alabama'\n",
    "})\n",
    "\n",
    "with open('data.txt', 'w') as outfile:\n",
    "    json.dump(data, outfile)"
   ]
  },
  {
   "cell_type": "code",
   "execution_count": 46,
   "metadata": {},
   "outputs": [
    {
     "name": "stdout",
     "output_type": "stream",
     "text": [
      "{\"people\": [{\"name\": \"Scott\", \"website\": \"stackabuse.com\", \"from\": \"Nebraska\"}, {\"name\": \"Larry\", \"website\": \"google.com\", \"from\": \"Michigan\"}, {\"name\": \"Tim\", \"website\": \"apple.com\", \"from\": \"Alabama\"}]}"
     ]
    }
   ],
   "source": [
    "!cat data.txt"
   ]
  },
  {
   "cell_type": "code",
   "execution_count": 47,
   "metadata": {},
   "outputs": [
    {
     "name": "stdout",
     "output_type": "stream",
     "text": [
      "{'people': [{'name': 'Scott', 'website': 'stackabuse.com', 'from': 'Nebraska'}, {'name': 'Larry', 'website': 'google.com', 'from': 'Michigan'}, {'name': 'Tim', 'website': 'apple.com', 'from': 'Alabama'}]}\n"
     ]
    }
   ],
   "source": [
    "json_file = open('data.txt')\n",
    "json_data = json.load(json_file)\n",
    "print(json_data)"
   ]
  },
  {
   "cell_type": "code",
   "execution_count": 48,
   "metadata": {},
   "outputs": [
    {
     "name": "stdout",
     "output_type": "stream",
     "text": [
      "[{\"name\": \"Scott\", \"website\": \"stackabuse.com\", \"from\": \"Nebraska\"}, {\"name\": \"Larry\", \"website\": \"google.com\", \"from\": \"Michigan\"}, {\"name\": \"Tim\", \"website\": \"apple.com\", \"from\": \"Alabama\"}]"
     ]
    }
   ],
   "source": [
    "l1 = [{\"name\": \"Scott\", \"website\": \"stackabuse.com\", \"from\": \"Nebraska\"}, {\"name\": \"Larry\", \"website\": \"google.com\", \"from\": \"Michigan\"}, {\"name\": \"Tim\", \"website\": \"apple.com\", \"from\": \"Alabama\"}]\n",
    "with open('data.txt', 'w') as outfile:\n",
    "    json.dump(l1, outfile)\n",
    "!cat data.txt"
   ]
  },
  {
   "cell_type": "code",
   "execution_count": 49,
   "metadata": {},
   "outputs": [
    {
     "name": "stdout",
     "output_type": "stream",
     "text": [
      "{'name': 'Larry', 'website': 'google.com', 'from': 'Michigan'}\n"
     ]
    }
   ],
   "source": [
    "json_file = open('data.txt')\n",
    "json_data = json.load(json_file)\n",
    "print(json_data[1])"
   ]
  },
  {
   "cell_type": "code",
   "execution_count": null,
   "metadata": {
    "collapsed": true
   },
   "outputs": [],
   "source": []
  }
 ],
 "metadata": {
  "kernelspec": {
   "display_name": "Python 3",
   "language": "python",
   "name": "python3"
  },
  "language_info": {
   "codemirror_mode": {
    "name": "ipython",
    "version": 3
   },
   "file_extension": ".py",
   "mimetype": "text/x-python",
   "name": "python",
   "nbconvert_exporter": "python",
   "pygments_lexer": "ipython3",
   "version": "3.6.3"
  }
 },
 "nbformat": 4,
 "nbformat_minor": 2
}
