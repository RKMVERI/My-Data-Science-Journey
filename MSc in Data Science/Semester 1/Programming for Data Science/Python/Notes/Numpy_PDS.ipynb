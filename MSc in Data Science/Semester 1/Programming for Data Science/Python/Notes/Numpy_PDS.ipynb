{
 "cells": [
  {
   "cell_type": "code",
   "execution_count": 1,
   "id": "d760e0f5",
   "metadata": {},
   "outputs": [],
   "source": [
    "import numpy as np"
   ]
  },
  {
   "cell_type": "code",
   "execution_count": 1,
   "id": "d02d4faf",
   "metadata": {},
   "outputs": [
    {
     "data": {
      "text/plain": [
       "[bool, str, float, int]"
      ]
     },
     "execution_count": 1,
     "metadata": {},
     "output_type": "execute_result"
    }
   ],
   "source": [
    "#python lists are heterogeneous\n",
    "L3 = [True, \"2\", 3.0, 4]\n",
    "[type(item) for item in L3]"
   ]
  },
  {
   "cell_type": "code",
   "execution_count": 2,
   "id": "48314635",
   "metadata": {},
   "outputs": [
    {
     "data": {
      "text/plain": [
       "array('i', [0, 1, 2, 3, 4, 5, 6, 7, 8, 9])"
      ]
     },
     "execution_count": 2,
     "metadata": {},
     "output_type": "execute_result"
    }
   ],
   "source": [
    "#python arrays little better - provides more efficient storage but not efficient operations on them\n",
    "import array\n",
    "L = list(range(10))\n",
    "A = array.array('i', L); A\n"
   ]
  },
  {
   "cell_type": "code",
   "execution_count": 4,
   "id": "4d7ec1d0",
   "metadata": {},
   "outputs": [
    {
     "name": "stdout",
     "output_type": "stream",
     "text": [
      "[ 0  1  2  3  4  5  6  7  8  9 10 11 12 13 14 15 16 17 18 19 20 21 22 23\n",
      " 24 25 26 27 28 29 30 31 32 33 34 35 36 37 38 39 40 41 42 43 44 45 46 47\n",
      " 48 49 50 51 52 53 54 55 56 57 58 59 60 61 62 63 64 65 66 67 68 69 70 71\n",
      " 72 73 74 75 76 77 78 79 80 81 82 83 84 85 86 87 88 89 90 91 92 93 94 95\n",
      " 96 97 98 99]\n",
      "[0, 1, 2, 3, 4, 5, 6, 7, 8, 9, 10, 11, 12, 13, 14, 15, 16, 17, 18, 19, 20, 21, 22, 23, 24, 25, 26, 27, 28, 29, 30, 31, 32, 33, 34, 35, 36, 37, 38, 39, 40, 41, 42, 43, 44, 45, 46, 47, 48, 49, 50, 51, 52, 53, 54, 55, 56, 57, 58, 59, 60, 61, 62, 63, 64, 65, 66, 67, 68, 69, 70, 71, 72, 73, 74, 75, 76, 77, 78, 79, 80, 81, 82, 83, 84, 85, 86, 87, 88, 89, 90, 91, 92, 93, 94, 95, 96, 97, 98, 99]\n"
     ]
    }
   ],
   "source": [
    "#numpy arrays provide efficient array based storage as well as efficient operations - ufuncs, etc.\n",
    "import numpy as np\n",
    "my_arr = np.arange(100)\n",
    "my_list = list(range(100))\n",
    "print(my_arr)\n",
    "print(my_list)"
   ]
  },
  {
   "cell_type": "code",
   "execution_count": 5,
   "id": "078447d3",
   "metadata": {},
   "outputs": [
    {
     "data": {
      "text/plain": [
       "0.0"
      ]
     },
     "execution_count": 5,
     "metadata": {},
     "output_type": "execute_result"
    }
   ],
   "source": [
    "#BAD---->>>>>using list.append\n",
    "import time\n",
    "start = time.time()\n",
    "for _ in range(10):\n",
    "    my_list2=[]\n",
    "    for e in my_list:\n",
    "        my_list2.append(e*2)\n",
    "elapsed_time = (time.time() - start)\n",
    "#my_list2\n",
    "elapsed_time"
   ]
  },
  {
   "cell_type": "code",
   "execution_count": 6,
   "id": "12ee98ff",
   "metadata": {},
   "outputs": [
    {
     "data": {
      "text/plain": [
       "0.0"
      ]
     },
     "execution_count": 6,
     "metadata": {},
     "output_type": "execute_result"
    }
   ],
   "source": [
    "#BETTER----->>>>>>using list comprehension\n",
    "import time\n",
    "start = time.time()\n",
    "for _ in range(10): my_list2 = [x * 2 for x in my_list]\n",
    "elapsed_time = (time.time() - start)\n",
    "#my_list2\n",
    "elapsed_time"
   ]
  },
  {
   "cell_type": "code",
   "execution_count": 10,
   "id": "917678f3",
   "metadata": {},
   "outputs": [
    {
     "data": {
      "text/plain": [
       "0.0"
      ]
     },
     "execution_count": 10,
     "metadata": {},
     "output_type": "execute_result"
    }
   ],
   "source": [
    "#BEST--------->>>>>>>>>>>>>>using numpy array\n",
    "import time\n",
    "start = time.time()\n",
    "for _ in range(10): my_arr2 = my_arr * 2\n",
    "elapsed_time = (time.time() - start)\n",
    "#my_arr2\n",
    "elapsed_time"
   ]
  },
  {
   "cell_type": "code",
   "execution_count": 12,
   "id": "e621fbae",
   "metadata": {},
   "outputs": [
    {
     "data": {
      "text/plain": [
       "array([1, 4, 2, 5, 3])"
      ]
     },
     "execution_count": 12,
     "metadata": {},
     "output_type": "execute_result"
    }
   ],
   "source": [
    "arr = np.array([1, 4, 2, 5, 3]); arr"
   ]
  },
  {
   "cell_type": "code",
   "execution_count": 13,
   "id": "c78aa7c2",
   "metadata": {},
   "outputs": [
    {
     "data": {
      "text/plain": [
       "array([6. , 7.5, 8. , 0. , 1. ])"
      ]
     },
     "execution_count": 13,
     "metadata": {},
     "output_type": "execute_result"
    }
   ],
   "source": [
    "#list to ndarray\n",
    "data1 = [6, 7.5, 8, 0, 1]\n",
    "arr1 = np.array(data1); arr1"
   ]
  },
  {
   "cell_type": "code",
   "execution_count": 15,
   "id": "7cb70ab7",
   "metadata": {},
   "outputs": [
    {
     "name": "stdout",
     "output_type": "stream",
     "text": [
      "8\n"
     ]
    },
    {
     "data": {
      "text/plain": [
       "array([6. , 7.5, 8. , 0. , 1. ])"
      ]
     },
     "execution_count": 15,
     "metadata": {},
     "output_type": "execute_result"
    }
   ],
   "source": [
    "data1 = [6, 7.5, 8, 0, 1]\n",
    "arr1 = np.array(data1,dtype=np.float64) \n",
    "print(arr1.itemsize)\n",
    "arr1"
   ]
  },
  {
   "cell_type": "code",
   "execution_count": 57,
   "id": "a97fd255",
   "metadata": {},
   "outputs": [
    {
     "name": "stdout",
     "output_type": "stream",
     "text": [
      "[6.  7.5 8.  0.  1. ]\n"
     ]
    },
    {
     "data": {
      "text/plain": [
       "2"
      ]
     },
     "execution_count": 57,
     "metadata": {},
     "output_type": "execute_result"
    }
   ],
   "source": [
    "data11 = [6, 7.5, 8, 0, 1]\n",
    "arr11 = np.array(data11,dtype='float16')\n",
    "print(arr11)\n",
    "arr11.itemsize #  bit = 1 byte so 16 bit = 16/8 = 2 byte ** Hence itemsize = 2"
   ]
  },
  {
   "cell_type": "code",
   "execution_count": 21,
   "id": "56c76943",
   "metadata": {},
   "outputs": [
    {
     "data": {
      "text/plain": [
       "array([[1, 2, 3, 4],\n",
       "       [5, 6, 7, 8]])"
      ]
     },
     "execution_count": 21,
     "metadata": {},
     "output_type": "execute_result"
    }
   ],
   "source": [
    "#nested list to multidimensional ndarray\n",
    "data2 = [[1, 2, 3, 4], [5, 6, 7, 8]]\n",
    "arr2 = np.array(data2); arr2"
   ]
  },
  {
   "cell_type": "code",
   "execution_count": 22,
   "id": "a6f22ae1",
   "metadata": {},
   "outputs": [
    {
     "name": "stdout",
     "output_type": "stream",
     "text": [
      "[[ 0.3128756   0.30628172 -0.59174622]\n",
      " [-0.52274975  0.22512711 -0.30372888]]\n",
      "(2, 3) 2 float64 8 6 48\n"
     ]
    }
   ],
   "source": [
    "data = np.random.randn(2, 3)\n",
    "print(data)\n",
    "print(data.shape    ,data.ndim   ,data.dtype   ,data.itemsize   ,data.size   ,data.nbytes)"
   ]
  },
  {
   "cell_type": "code",
   "execution_count": 24,
   "id": "6368559c",
   "metadata": {},
   "outputs": [
    {
     "data": {
      "text/plain": [
       "array([0, 1, 2, 3, 4, 5, 6, 7, 8, 9])"
      ]
     },
     "execution_count": 24,
     "metadata": {},
     "output_type": "execute_result"
    }
   ],
   "source": [
    "np.arange(10)\n"
   ]
  },
  {
   "cell_type": "code",
   "execution_count": 25,
   "id": "93bef6d8",
   "metadata": {},
   "outputs": [
    {
     "data": {
      "text/plain": [
       "array([2., 3., 4., 5., 6., 7., 8., 9.])"
      ]
     },
     "execution_count": 25,
     "metadata": {},
     "output_type": "execute_result"
    }
   ],
   "source": [
    "np.arange(2, 10, dtype=float)"
   ]
  },
  {
   "cell_type": "code",
   "execution_count": 26,
   "id": "9bcc5916",
   "metadata": {},
   "outputs": [
    {
     "name": "stdout",
     "output_type": "stream",
     "text": [
      "10000000000000000\n",
      "1874919424\n",
      "0\n",
      "1e+200\n"
     ]
    }
   ],
   "source": [
    "#overflow and trucation errors\n",
    "print(np.power(100, 8, dtype=np.int64))\n",
    "print(np.power(100, 8, dtype=np.int32))\n",
    "print(np.power(100, 100, dtype=np.int64))\n",
    "print(np.power(100, 100, dtype=np.float64))"
   ]
  },
  {
   "cell_type": "code",
   "execution_count": 27,
   "id": "f55c39d9",
   "metadata": {},
   "outputs": [
    {
     "data": {
      "text/plain": [
       "array([1, 2], dtype=int16)"
      ]
     },
     "execution_count": 27,
     "metadata": {},
     "output_type": "execute_result"
    }
   ],
   "source": [
    "arr11 = np.array([1.3,2.5], dtype=np.int16)\n",
    "arr11"
   ]
  },
  {
   "cell_type": "code",
   "execution_count": 28,
   "id": "69047e71",
   "metadata": {},
   "outputs": [
    {
     "name": "stdout",
     "output_type": "stream",
     "text": [
      "[10  9  8  7  6  5  4  3  2]\n",
      "[7 7 9 2]\n"
     ]
    }
   ],
   "source": [
    "x = np.arange(10,1,-1); print(x)\n",
    "print(x[[3, 3, 1, 8]])\n"
   ]
  },
  {
   "cell_type": "code",
   "execution_count": 42,
   "id": "1c4d6c18",
   "metadata": {},
   "outputs": [
    {
     "data": {
      "text/plain": [
       "array([7, 7, 9, 2])"
      ]
     },
     "execution_count": 42,
     "metadata": {},
     "output_type": "execute_result"
    }
   ],
   "source": [
    "x[[3,3,-8,8]] # - 8 means counting from right side"
   ]
  },
  {
   "cell_type": "code",
   "execution_count": 44,
   "id": "b5255f87",
   "metadata": {},
   "outputs": [
    {
     "name": "stdout",
     "output_type": "stream",
     "text": [
      "[0. 0. 0. 0. 0. 0. 0. 0. 0. 0.]\n"
     ]
    },
    {
     "data": {
      "text/plain": [
       "array([[0., 0., 0., 0., 0., 0.],\n",
       "       [0., 0., 0., 0., 0., 0.],\n",
       "       [0., 0., 0., 0., 0., 0.]])"
      ]
     },
     "execution_count": 44,
     "metadata": {},
     "output_type": "execute_result"
    }
   ],
   "source": [
    "#use of standard numpy functions to create arrays\n",
    "print(np.zeros(10))\n",
    "np.zeros((3, 6))\n"
   ]
  },
  {
   "cell_type": "code",
   "execution_count": 51,
   "id": "57a64959",
   "metadata": {},
   "outputs": [
    {
     "data": {
      "text/plain": [
       "array([1.90979621e-313])"
      ]
     },
     "execution_count": 51,
     "metadata": {},
     "output_type": "execute_result"
    }
   ],
   "source": [
    "#uninitialized garbage values\n",
    "np.empty(1)\n"
   ]
  },
  {
   "cell_type": "code",
   "execution_count": 53,
   "id": "5121fb78",
   "metadata": {},
   "outputs": [
    {
     "name": "stdout",
     "output_type": "stream",
     "text": [
      "[ 0  1  2  3  4  5  6  7  8  9 10 11 12 13 14]\n",
      "[3 5 7 9]\n",
      "[3. 5. 7. 9.]\n",
      "[3. 5. 7. 9.]\n"
     ]
    }
   ],
   "source": [
    "print(np.arange(15))\n",
    "print(np.arange(3,10,2))\n",
    "print(np.arange(3,10,2,dtype='float'))\n",
    "print(np.arange(3,10,2,dtype=np.float64))\n"
   ]
  },
  {
   "cell_type": "code",
   "execution_count": 58,
   "id": "9476bcfa",
   "metadata": {},
   "outputs": [
    {
     "name": "stdout",
     "output_type": "stream",
     "text": [
      "[[1. 0. 0.]\n",
      " [0. 1. 0.]\n",
      " [0. 0. 1.]]\n",
      "[  3.          11.81818182  20.63636364  29.45454545  38.27272727\n",
      "  47.09090909  55.90909091  64.72727273  73.54545455  82.36363636\n",
      "  91.18181818 100.        ]\n"
     ]
    },
    {
     "data": {
      "text/plain": [
       "array([[1., 0., 0.],\n",
       "       [0., 1., 0.],\n",
       "       [0., 0., 1.]])"
      ]
     },
     "execution_count": 58,
     "metadata": {},
     "output_type": "execute_result"
    }
   ],
   "source": [
    "arr14 = np.eye(3); print(arr14)\n",
    "arr22 = np.linspace(3,100,12); print(arr22)\n",
    "np.eye(3)"
   ]
  },
  {
   "cell_type": "code",
   "execution_count": 64,
   "id": "abed476a",
   "metadata": {},
   "outputs": [
    {
     "name": "stdout",
     "output_type": "stream",
     "text": [
      "arr12 = np.array([[2,3,4],[3,5,3]]) \n",
      "[[2 3 4]\n",
      " [3 5 3]]\n",
      "(arr12[1,1])\n",
      "5\n",
      "(arr12[1,1:])\n",
      "[5 3]\n",
      "(arr12[:1, :2])\n",
      "[[2 3]]\n",
      "(arr12[:,:2])\n",
      "[[2 3]\n",
      " [3 5]]\n",
      "(arr12[:1,:])\n",
      "[[2 3 4]]\n",
      "(arr1[2:-1])\n",
      "[8. 0.]\n",
      "[8. 0.]\n"
     ]
    }
   ],
   "source": [
    "#indexing of arrays - single index, slicing, boolean indexing, fancy indexing, multi-dimensional subarrays\n",
    "arr12 = np.array([[2,3,4],[3,5,3]]) \n",
    "print(\"arr12 = np.array([[2,3,4],[3,5,3]]) \")\n",
    "print(arr12)\n",
    "#for multidimensional, dimensions are separated by commas\n",
    "print(\"(arr12[1,1])\")\n",
    "print(arr12[1,1])\n",
    "print(\"(arr12[1,1:])\")\n",
    "print(arr12[1,1:])\n",
    "print(\"(arr12[:1, :2])\")\n",
    "print(arr12[:1, :2])\n",
    "print(\"(arr12[:,:2])\")\n",
    "print(arr12[:,:2])\n",
    "print(\"(arr12[:1,:])\")\n",
    "print(arr12[:1,:])    #alternatively arr12[:1]\n",
    "data1 = [6, 7.5, 8, 0, 1]; arr1 = np.array(data1)\n",
    "print(\"(arr1[2:-1])\")\n",
    "print(arr1[2:-1])\n",
    "arr16 = arr1[2:4]; print(arr16)\n"
   ]
  },
  {
   "cell_type": "code",
   "execution_count": 66,
   "id": "5545f138",
   "metadata": {},
   "outputs": [
    {
     "data": {
      "text/plain": [
       "array([[2, 3, 4],\n",
       "       [9, 8, 7]])"
      ]
     },
     "execution_count": 66,
     "metadata": {},
     "output_type": "execute_result"
    }
   ],
   "source": [
    "arr112 = np.array([[2,3,4],[9,8,7]]) \n",
    "arr112\n"
   ]
  },
  {
   "cell_type": "code",
   "execution_count": 68,
   "id": "cbbc095d",
   "metadata": {},
   "outputs": [
    {
     "name": "stdout",
     "output_type": "stream",
     "text": [
      "8\n"
     ]
    }
   ],
   "source": [
    "\n",
    "#for multidimensional, dimensions are separated by commas\n",
    "print(arr112[1,1])\n"
   ]
  },
  {
   "cell_type": "code",
   "execution_count": 69,
   "id": "b677a8a0",
   "metadata": {},
   "outputs": [
    {
     "name": "stdout",
     "output_type": "stream",
     "text": [
      "[8 7]\n"
     ]
    }
   ],
   "source": [
    "\n",
    "print(arr112[1,1:])\n"
   ]
  },
  {
   "cell_type": "code",
   "execution_count": 97,
   "id": "da65f010",
   "metadata": {},
   "outputs": [
    {
     "name": "stdout",
     "output_type": "stream",
     "text": [
      "[[2]]\n"
     ]
    }
   ],
   "source": [
    "\n",
    "print(arr112[:1,:1])\n"
   ]
  },
  {
   "cell_type": "code",
   "execution_count": null,
   "id": "7434ddb4",
   "metadata": {},
   "outputs": [],
   "source": [
    "print(\"(arr12[:,:2])\")\n",
    "print(arr12[:,:2])\n",
    "print(\"(arr12[:1,:])\")\n",
    "print(arr12[:1,:]) "
   ]
  },
  {
   "cell_type": "code",
   "execution_count": 112,
   "id": "c303851a",
   "metadata": {},
   "outputs": [
    {
     "name": "stdout",
     "output_type": "stream",
     "text": [
      "(arr111[2:-1])\n",
      "[8. 0.]\n",
      "[8. 0.]\n"
     ]
    }
   ],
   "source": [
    "data111 = [6, 7.5, 8, 0, 1]; arr111 = np.array(data1)\n",
    "print(\"(arr111[2:-1])\")\n",
    "print(arr111[2:-1])\n",
    "arr1116 = arr111[2:4]; print(arr1116)"
   ]
  },
  {
   "cell_type": "code",
   "execution_count": null,
   "id": "7ac33666",
   "metadata": {},
   "outputs": [],
   "source": [
    "###################################################3"
   ]
  },
  {
   "cell_type": "code",
   "execution_count": 115,
   "id": "de0a8b6b",
   "metadata": {},
   "outputs": [
    {
     "name": "stdout",
     "output_type": "stream",
     "text": [
      "[100.   0.]\n"
     ]
    },
    {
     "data": {
      "text/plain": [
       "array([100.,   0.])"
      ]
     },
     "execution_count": 115,
     "metadata": {},
     "output_type": "execute_result"
    }
   ],
   "source": [
    "#array indexing is a no copy operation\n",
    "arr16 = arr1[2:4]; print(arr16)\n",
    "arr16[0]=100; arr16\n"
   ]
  },
  {
   "cell_type": "code",
   "execution_count": 119,
   "id": "4ae4ee15",
   "metadata": {},
   "outputs": [
    {
     "data": {
      "text/plain": [
       "array([1000.,    0.])"
      ]
     },
     "execution_count": 119,
     "metadata": {},
     "output_type": "execute_result"
    }
   ],
   "source": [
    "#getting a copy\n",
    "arr16 = arr1[2:4].copy(); arr16\n"
   ]
  },
  {
   "cell_type": "code",
   "execution_count": 121,
   "id": "980eb50e",
   "metadata": {},
   "outputs": [
    {
     "name": "stdout",
     "output_type": "stream",
     "text": [
      "[1000.    0.]\n"
     ]
    },
    {
     "data": {
      "text/plain": [
       "array([   6. ,    7.5, 1000. ,    0. ,    1. ])"
      ]
     },
     "execution_count": 121,
     "metadata": {},
     "output_type": "execute_result"
    }
   ],
   "source": [
    "arr16[0]=1000; print(arr16)\n",
    "arr1"
   ]
  },
  {
   "cell_type": "code",
   "execution_count": 122,
   "id": "5548f35e",
   "metadata": {},
   "outputs": [
    {
     "name": "stdout",
     "output_type": "stream",
     "text": [
      "[  3.          11.81818182  20.63636364  29.45454545  38.27272727\n",
      "  47.09090909  55.90909091  64.72727273  73.54545455  82.36363636\n",
      "  91.18181818 100.        ]\n"
     ]
    },
    {
     "data": {
      "text/plain": [
       "array([[  3.        ,  11.81818182],\n",
       "       [ 20.63636364,  29.45454545],\n",
       "       [ 38.27272727,  47.09090909],\n",
       "       [ 55.90909091,  64.72727273],\n",
       "       [ 73.54545455,  82.36363636],\n",
       "       [ 91.18181818, 100.        ]])"
      ]
     },
     "execution_count": 122,
     "metadata": {},
     "output_type": "execute_result"
    }
   ],
   "source": [
    "#array reshaping\n",
    "#row major arrangement (C-style)\n",
    "arr22 = np.linspace(3,100,12); print(arr22)\n",
    "arr22_reshaped = arr22.reshape(6,2); arr22_reshaped"
   ]
  },
  {
   "cell_type": "code",
   "execution_count": 123,
   "id": "12d524e3",
   "metadata": {},
   "outputs": [
    {
     "data": {
      "text/plain": [
       "array([[  3.        ,  55.90909091],\n",
       "       [ 11.81818182,  64.72727273],\n",
       "       [ 20.63636364,  73.54545455],\n",
       "       [ 29.45454545,  82.36363636],\n",
       "       [ 38.27272727,  91.18181818],\n",
       "       [ 47.09090909, 100.        ]])"
      ]
     },
     "execution_count": 123,
     "metadata": {},
     "output_type": "execute_result"
    }
   ],
   "source": [
    "#column major arrangement (Fortran style)\n",
    "arr22_reshaped = arr22.reshape(6,2,order='F'); arr22_reshaped"
   ]
  },
  {
   "cell_type": "code",
   "execution_count": 134,
   "id": "bcf2c76d",
   "metadata": {},
   "outputs": [
    {
     "data": {
      "text/plain": [
       "array([[11.81818182],\n",
       "       [29.45454545],\n",
       "       [47.09090909]])"
      ]
     },
     "execution_count": 134,
     "metadata": {},
     "output_type": "execute_result"
    }
   ],
   "source": [
    "arr22_reshaped[1:6:2,:1]"
   ]
  },
  {
   "cell_type": "code",
   "execution_count": 137,
   "id": "25bf470e",
   "metadata": {},
   "outputs": [
    {
     "data": {
      "text/plain": [
       "array([[1, 2, 3]])"
      ]
     },
     "execution_count": 137,
     "metadata": {},
     "output_type": "execute_result"
    }
   ],
   "source": [
    "x = np.array([1, 2, 3])\n",
    "y = x.reshape((1, 3));y\n"
   ]
  },
  {
   "cell_type": "code",
   "execution_count": 138,
   "id": "9815511b",
   "metadata": {},
   "outputs": [
    {
     "name": "stdout",
     "output_type": "stream",
     "text": [
      "(1, 3) (3,)\n"
     ]
    }
   ],
   "source": [
    "print(y.shape,x.shape)\n"
   ]
  },
  {
   "cell_type": "code",
   "execution_count": 139,
   "id": "3d1885a8",
   "metadata": {},
   "outputs": [
    {
     "name": "stdout",
     "output_type": "stream",
     "text": [
      "[[1 2 3]]\n"
     ]
    },
    {
     "data": {
      "text/plain": [
       "(1, 3)"
      ]
     },
     "execution_count": 139,
     "metadata": {},
     "output_type": "execute_result"
    }
   ],
   "source": [
    "y = x[np.newaxis, :];print(y)\n",
    "y.shape\n"
   ]
  },
  {
   "cell_type": "code",
   "execution_count": 140,
   "id": "dbaefc0d",
   "metadata": {},
   "outputs": [
    {
     "name": "stdout",
     "output_type": "stream",
     "text": [
      "[[1]\n",
      " [2]\n",
      " [3]]\n"
     ]
    },
    {
     "data": {
      "text/plain": [
       "(3, 1)"
      ]
     },
     "execution_count": 140,
     "metadata": {},
     "output_type": "execute_result"
    }
   ],
   "source": [
    "y = x[:, np.newaxis];print(y)\n",
    "y.shape"
   ]
  },
  {
   "cell_type": "code",
   "execution_count": 141,
   "id": "8364f0ee",
   "metadata": {},
   "outputs": [
    {
     "data": {
      "text/plain": [
       "array([1, 2, 3, 3, 2, 1])"
      ]
     },
     "execution_count": 141,
     "metadata": {},
     "output_type": "execute_result"
    }
   ],
   "source": [
    "#array concatenation & splitting\n",
    "x = np.array([1, 2, 3])\n",
    "y = np.array([3, 2, 1])\n",
    "np.concatenate([x, y],axis=0)\n"
   ]
  },
  {
   "cell_type": "code",
   "execution_count": 142,
   "id": "3c8cc448",
   "metadata": {},
   "outputs": [
    {
     "data": {
      "text/plain": [
       "array([[1],\n",
       "       [2],\n",
       "       [3],\n",
       "       [3],\n",
       "       [2],\n",
       "       [1]])"
      ]
     },
     "execution_count": 142,
     "metadata": {},
     "output_type": "execute_result"
    }
   ],
   "source": [
    "np.concatenate([x[:,np.newaxis],y[:,np.newaxis]])\n"
   ]
  },
  {
   "cell_type": "code",
   "execution_count": 143,
   "id": "2cc88d0c",
   "metadata": {},
   "outputs": [
    {
     "data": {
      "text/plain": [
       "array([[1, 3],\n",
       "       [2, 2],\n",
       "       [3, 1]])"
      ]
     },
     "execution_count": 143,
     "metadata": {},
     "output_type": "execute_result"
    }
   ],
   "source": [
    "np.concatenate([x[:,np.newaxis],y[:,np.newaxis]],axis=1)\n"
   ]
  },
  {
   "cell_type": "code",
   "execution_count": 145,
   "id": "b4aac00d",
   "metadata": {},
   "outputs": [
    {
     "data": {
      "text/plain": [
       "array([1, 2, 3, 3, 2, 1])"
      ]
     },
     "execution_count": 145,
     "metadata": {},
     "output_type": "execute_result"
    }
   ],
   "source": [
    "np.hstack([x,y])\n"
   ]
  },
  {
   "cell_type": "code",
   "execution_count": 146,
   "id": "d6094a97",
   "metadata": {},
   "outputs": [
    {
     "data": {
      "text/plain": [
       "array([[1, 2, 3],\n",
       "       [3, 2, 1]])"
      ]
     },
     "execution_count": 146,
     "metadata": {},
     "output_type": "execute_result"
    }
   ],
   "source": [
    "np.vstack([x,y])"
   ]
  },
  {
   "cell_type": "code",
   "execution_count": 4,
   "id": "af392615",
   "metadata": {},
   "outputs": [
    {
     "name": "stdout",
     "output_type": "stream",
     "text": [
      "[1 2 3] [5] [99  3  2  1]\n"
     ]
    }
   ],
   "source": [
    "x=[1,2,3,5,99,3,2,1]\n",
    "x1, x2, x3 = np.split(x, [3,4])\n",
    "print(x1, x2, x3) #also explore np.hsplit, np.vsplit"
   ]
  },
  {
   "cell_type": "code",
   "execution_count": 148,
   "id": "7b3bb1a9",
   "metadata": {},
   "outputs": [],
   "source": [
    "np.split?"
   ]
  },
  {
   "cell_type": "code",
   "execution_count": 161,
   "id": "94d52f37",
   "metadata": {},
   "outputs": [],
   "source": [
    "###################################"
   ]
  },
  {
   "cell_type": "code",
   "execution_count": 11,
   "id": "4aef61eb",
   "metadata": {},
   "outputs": [
    {
     "name": "stdout",
     "output_type": "stream",
     "text": [
      "[0. 1. 2. 3. 4. 5. 6. 7. 8. 9.]\n"
     ]
    },
    {
     "data": {
      "text/plain": [
       "[array([0., 1., 2.]),\n",
       " array([3.]),\n",
       " array([4., 5.]),\n",
       " array([6., 7., 8., 9.]),\n",
       " array([], dtype=float64)]"
      ]
     },
     "execution_count": 11,
     "metadata": {},
     "output_type": "execute_result"
    }
   ],
   "source": [
    "x = np.arange(10.0) ; print(x)\n",
    "np.split(x, [3, 4, 6, 10])"
   ]
  },
  {
   "cell_type": "code",
   "execution_count": 13,
   "id": "5ff7d9f5",
   "metadata": {},
   "outputs": [
    {
     "data": {
      "text/plain": [
       "array([[1, 2, 3],\n",
       "       [4, 5, 6],\n",
       "       [7, 8, 9]])"
      ]
     },
     "execution_count": 13,
     "metadata": {},
     "output_type": "execute_result"
    }
   ],
   "source": [
    "#boolean masks and boolean indexing\n",
    "arr14 = np.array([[1, 2, 3], [4, 5, 6], [7, 8, 9]])\n",
    "arr14"
   ]
  },
  {
   "cell_type": "code",
   "execution_count": 14,
   "id": "de89f6c3",
   "metadata": {},
   "outputs": [
    {
     "data": {
      "text/plain": [
       "array([[False,  True, False],\n",
       "       [ True, False,  True],\n",
       "       [False,  True, False]])"
      ]
     },
     "execution_count": 14,
     "metadata": {},
     "output_type": "execute_result"
    }
   ],
   "source": [
    "arr14%2==0\n"
   ]
  },
  {
   "cell_type": "code",
   "execution_count": 20,
   "id": "7b202dd7",
   "metadata": {},
   "outputs": [
    {
     "data": {
      "text/plain": [
       "array([[2],\n",
       "       [4],\n",
       "       [6],\n",
       "       [8]])"
      ]
     },
     "execution_count": 20,
     "metadata": {},
     "output_type": "execute_result"
    }
   ],
   "source": [
    "arr14[arr14%2==0].reshape(4,1)\n"
   ]
  },
  {
   "cell_type": "code",
   "execution_count": 21,
   "id": "6cfafa85",
   "metadata": {},
   "outputs": [
    {
     "data": {
      "text/plain": [
       "array([ True, False,  True])"
      ]
     },
     "execution_count": 21,
     "metadata": {},
     "output_type": "execute_result"
    }
   ],
   "source": [
    "arr15 = np.array([True,False,True]); arr15\n"
   ]
  },
  {
   "cell_type": "code",
   "execution_count": 22,
   "id": "48a12ff8",
   "metadata": {},
   "outputs": [
    {
     "data": {
      "text/plain": [
       "array([[1, 2, 3],\n",
       "       [7, 8, 9]])"
      ]
     },
     "execution_count": 22,
     "metadata": {},
     "output_type": "execute_result"
    }
   ],
   "source": [
    "arr14[arr15]\n"
   ]
  },
  {
   "cell_type": "code",
   "execution_count": 23,
   "id": "9faec914",
   "metadata": {},
   "outputs": [],
   "source": [
    "arr16 = np.array([[True,False,True],[True, True,False],[False,False,True]])\n"
   ]
  },
  {
   "cell_type": "code",
   "execution_count": 24,
   "id": "1cc3638a",
   "metadata": {},
   "outputs": [
    {
     "data": {
      "text/plain": [
       "array([1, 3, 4, 5, 9])"
      ]
     },
     "execution_count": 24,
     "metadata": {},
     "output_type": "execute_result"
    }
   ],
   "source": [
    "arr14[arr16]\n"
   ]
  },
  {
   "cell_type": "code",
   "execution_count": 25,
   "id": "f6de78da",
   "metadata": {},
   "outputs": [
    {
     "data": {
      "text/plain": [
       "array([1, 3, 5, 7, 9])"
      ]
     },
     "execution_count": 25,
     "metadata": {},
     "output_type": "execute_result"
    }
   ],
   "source": [
    "arr14[~arr14%2==0]\n"
   ]
  },
  {
   "cell_type": "code",
   "execution_count": 26,
   "id": "7f208cb9",
   "metadata": {},
   "outputs": [
    {
     "data": {
      "text/plain": [
       "array([2, 4, 6, 8, 9])"
      ]
     },
     "execution_count": 26,
     "metadata": {},
     "output_type": "execute_result"
    }
   ],
   "source": [
    "arr14[(arr14%2==0) | (arr14%9==0)]"
   ]
  },
  {
   "cell_type": "code",
   "execution_count": 28,
   "id": "25de4eb2",
   "metadata": {},
   "outputs": [
    {
     "name": "stdout",
     "output_type": "stream",
     "text": [
      "[10  9  8  7  6  5  4  3  2]\n",
      "[7 7 9 2]\n",
      "[7 7 4 2]\n"
     ]
    },
    {
     "data": {
      "text/plain": [
       "array([[0., 0., 0., 0.],\n",
       "       [1., 1., 1., 1.],\n",
       "       [2., 2., 2., 2.],\n",
       "       [3., 3., 3., 3.],\n",
       "       [4., 4., 4., 4.],\n",
       "       [5., 5., 5., 5.],\n",
       "       [6., 6., 6., 6.],\n",
       "       [7., 7., 7., 7.]])"
      ]
     },
     "execution_count": 28,
     "metadata": {},
     "output_type": "execute_result"
    }
   ],
   "source": [
    "#fancy indexing (index arrays using lists)\n",
    "#fancy indexing results into COPYING\n",
    "x = np.arange(10,1,-1); print(x)\n",
    "print(x[[3, 3, 1, 8]])\n",
    "print(x[[3,3,-3,8]])\n",
    "\n",
    "arr = np.empty((8, 4))\n",
    "for i in range(8):\n",
    "    arr[i] = i\n",
    "arr"
   ]
  },
  {
   "cell_type": "code",
   "execution_count": 29,
   "id": "31e6772c",
   "metadata": {},
   "outputs": [
    {
     "data": {
      "text/plain": [
       "array([[4., 4., 4., 4.],\n",
       "       [3., 3., 3., 3.],\n",
       "       [0., 0., 0., 0.],\n",
       "       [6., 6., 6., 6.]])"
      ]
     },
     "execution_count": 29,
     "metadata": {},
     "output_type": "execute_result"
    }
   ],
   "source": [
    "#pass the array index as a list\n",
    "arr[[4, 3, 0, 6]]\n",
    "\n",
    "\n"
   ]
  },
  {
   "cell_type": "code",
   "execution_count": 31,
   "id": "f5df182f",
   "metadata": {},
   "outputs": [
    {
     "data": {
      "text/plain": [
       "array([[ 0,  1,  2,  3],\n",
       "       [ 4,  5,  6,  7],\n",
       "       [ 8,  9, 10, 11],\n",
       "       [12, 13, 14, 15],\n",
       "       [16, 17, 18, 19],\n",
       "       [20, 21, 22, 23],\n",
       "       [24, 25, 26, 27],\n",
       "       [28, 29, 30, 31]])"
      ]
     },
     "execution_count": 31,
     "metadata": {},
     "output_type": "execute_result"
    }
   ],
   "source": [
    "arr = np.arange(32).reshape((8, 4))\n",
    "arr\n"
   ]
  },
  {
   "cell_type": "code",
   "execution_count": 32,
   "id": "48da6290",
   "metadata": {},
   "outputs": [
    {
     "data": {
      "text/plain": [
       "array([ 4, 23, 29, 10])"
      ]
     },
     "execution_count": 32,
     "metadata": {},
     "output_type": "execute_result"
    }
   ],
   "source": [
    "\n",
    "#here the 1st, 5th, 7th and 2nd rows' 0th, 3rd, 1st and 2nd elements are selected respectively. \n",
    "#The result is an one-dimensional array\n",
    "arr[[1, 5, 7, 2], [0, 3, 1, 2]]\n"
   ]
  },
  {
   "cell_type": "code",
   "execution_count": 33,
   "id": "b163bc63",
   "metadata": {},
   "outputs": [
    {
     "data": {
      "text/plain": [
       "array([[ 0,  1,  2,  3],\n",
       "       [ 0,  5,  6,  7],\n",
       "       [ 8,  9,  0, 11],\n",
       "       [12, 13, 14, 15],\n",
       "       [16, 17, 18, 19],\n",
       "       [20, 21, 22,  0],\n",
       "       [24, 25, 26, 27],\n",
       "       [28,  0, 30, 31]])"
      ]
     },
     "execution_count": 33,
     "metadata": {},
     "output_type": "execute_result"
    }
   ],
   "source": [
    "arr[[1, 5, 7, 2], [0, 3, 1, 2]]=0\n",
    "arr\n",
    "\n"
   ]
  },
  {
   "cell_type": "code",
   "execution_count": 34,
   "id": "6228afa0",
   "metadata": {},
   "outputs": [
    {
     "data": {
      "text/plain": [
       "6"
      ]
     },
     "execution_count": 34,
     "metadata": {},
     "output_type": "execute_result"
    }
   ],
   "source": [
    "#important note the differences and similarities\n",
    "arr[1,2]\n"
   ]
  },
  {
   "cell_type": "code",
   "execution_count": 35,
   "id": "6097eff4",
   "metadata": {},
   "outputs": [
    {
     "data": {
      "text/plain": [
       "6"
      ]
     },
     "execution_count": 35,
     "metadata": {},
     "output_type": "execute_result"
    }
   ],
   "source": [
    "arr[(1,2)] #same as previous\n"
   ]
  },
  {
   "cell_type": "code",
   "execution_count": 36,
   "id": "54715cb2",
   "metadata": {},
   "outputs": [
    {
     "data": {
      "text/plain": [
       "array([[ 0,  5,  6,  7],\n",
       "       [ 8,  9,  0, 11]])"
      ]
     },
     "execution_count": 36,
     "metadata": {},
     "output_type": "execute_result"
    }
   ],
   "source": [
    "arr[[1,2]] #not same as previous but example of fancy indexing"
   ]
  },
  {
   "cell_type": "code",
   "execution_count": 38,
   "id": "31db03d2",
   "metadata": {},
   "outputs": [
    {
     "data": {
      "text/plain": [
       "array([[2, 3, 4],\n",
       "       [3, 5, 3]])"
      ]
     },
     "execution_count": 38,
     "metadata": {},
     "output_type": "execute_result"
    }
   ],
   "source": [
    "#UFUNCS\n",
    "arr12 = np.array([[2,3,4],[3,5,3]]); arr12\n"
   ]
  },
  {
   "cell_type": "code",
   "execution_count": 39,
   "id": "87a7b6ba",
   "metadata": {},
   "outputs": [
    {
     "data": {
      "text/plain": [
       "array([[ 4,  6,  8],\n",
       "       [ 6, 10,  6]])"
      ]
     },
     "execution_count": 39,
     "metadata": {},
     "output_type": "execute_result"
    }
   ],
   "source": [
    "arr12 + arr12 #  (Like matrix addition)\n"
   ]
  },
  {
   "cell_type": "code",
   "execution_count": 40,
   "id": "1387819e",
   "metadata": {},
   "outputs": [
    {
     "data": {
      "text/plain": [
       "array([[ 4,  9, 16],\n",
       "       [ 9, 25,  9]])"
      ]
     },
     "execution_count": 40,
     "metadata": {},
     "output_type": "execute_result"
    }
   ],
   "source": [
    "arr12 * arr12 # Multilpuig each elements (Unlike Matrix multiplication)\n"
   ]
  },
  {
   "cell_type": "code",
   "execution_count": 41,
   "id": "11e9c3d2",
   "metadata": {},
   "outputs": [
    {
     "data": {
      "text/plain": [
       "array([[ 6,  9, 12],\n",
       "       [ 9, 15,  9]])"
      ]
     },
     "execution_count": 41,
     "metadata": {},
     "output_type": "execute_result"
    }
   ],
   "source": [
    "arr12 * 3 # Multiplin each element with 3\n"
   ]
  },
  {
   "cell_type": "code",
   "execution_count": 42,
   "id": "aa96d3e8",
   "metadata": {},
   "outputs": [
    {
     "data": {
      "text/plain": [
       "array([[ 4,  9, 16],\n",
       "       [ 9, 25,  9]], dtype=int32)"
      ]
     },
     "execution_count": 42,
     "metadata": {},
     "output_type": "execute_result"
    }
   ],
   "source": [
    "arr12 ** 2   # powerng each element ^2\n"
   ]
  },
  {
   "cell_type": "code",
   "execution_count": 43,
   "id": "d6ca76a7",
   "metadata": {},
   "outputs": [
    {
     "data": {
      "text/plain": [
       "array([[1., 0., 0.],\n",
       "       [0., 1., 0.],\n",
       "       [0., 0., 1.]])"
      ]
     },
     "execution_count": 43,
     "metadata": {},
     "output_type": "execute_result"
    }
   ],
   "source": [
    "arr14 = np.eye(3); arr14 # Identity matrix\n"
   ]
  },
  {
   "cell_type": "code",
   "execution_count": 44,
   "id": "08d9140b",
   "metadata": {},
   "outputs": [
    {
     "data": {
      "text/plain": [
       "array([[False, False, False],\n",
       "       [False, False, False]])"
      ]
     },
     "execution_count": 44,
     "metadata": {},
     "output_type": "execute_result"
    }
   ],
   "source": [
    "arr12 > arr12 * 2\n"
   ]
  },
  {
   "cell_type": "code",
   "execution_count": 45,
   "id": "ade3fa07",
   "metadata": {},
   "outputs": [
    {
     "data": {
      "text/plain": [
       "array([[False,  True,  True],\n",
       "       [ True, False,  True]])"
      ]
     },
     "execution_count": 45,
     "metadata": {},
     "output_type": "execute_result"
    }
   ],
   "source": [
    "arr15 = np.array([[1,3,4],[3,4,3]])\n",
    "arr12<=arr15\n"
   ]
  },
  {
   "cell_type": "code",
   "execution_count": 46,
   "id": "fb2db5e7",
   "metadata": {},
   "outputs": [
    {
     "data": {
      "text/plain": [
       "array([[ 0,  1,  2,  3,  4],\n",
       "       [ 5,  6,  7,  8,  9],\n",
       "       [10, 11, 12, 13, 14]])"
      ]
     },
     "execution_count": 46,
     "metadata": {},
     "output_type": "execute_result"
    }
   ],
   "source": [
    "arr16 = np.arange(15).reshape(3,5); arr16\n"
   ]
  },
  {
   "cell_type": "code",
   "execution_count": 47,
   "id": "8721e79b",
   "metadata": {},
   "outputs": [
    {
     "data": {
      "text/plain": [
       "array([[0.        , 1.        , 1.41421356, 1.73205081, 2.        ],\n",
       "       [2.23606798, 2.44948974, 2.64575131, 2.82842712, 3.        ],\n",
       "       [3.16227766, 3.31662479, 3.46410162, 3.60555128, 3.74165739]])"
      ]
     },
     "execution_count": 47,
     "metadata": {},
     "output_type": "execute_result"
    }
   ],
   "source": [
    "np.sqrt(arr16)\n"
   ]
  },
  {
   "cell_type": "code",
   "execution_count": 48,
   "id": "49bbbba1",
   "metadata": {},
   "outputs": [
    {
     "name": "stdout",
     "output_type": "stream",
     "text": [
      "[ 0.41012284 -0.38561191 -0.63428384  0.89318469  1.03361324  0.23981679\n",
      " -0.63407509 -0.27503748]\n",
      "[ 0.63798111  0.18512536 -1.19610774  0.70228024 -0.14699192 -0.16030458\n",
      "  1.45368102 -1.0357119 ]\n"
     ]
    }
   ],
   "source": [
    "x = np.random.randn(8); print(x)\n",
    "y = np.random.randn(8); print(y)\n"
   ]
  },
  {
   "cell_type": "code",
   "execution_count": 49,
   "id": "89bac3ae",
   "metadata": {},
   "outputs": [
    {
     "data": {
      "text/plain": [
       "array([ 0.63798111,  0.18512536, -0.63428384,  0.89318469,  1.03361324,\n",
       "        0.23981679,  1.45368102, -0.27503748])"
      ]
     },
     "execution_count": 49,
     "metadata": {},
     "output_type": "execute_result"
    }
   ],
   "source": [
    "np.maximum(x, y) # Element wise Max\n"
   ]
  },
  {
   "cell_type": "code",
   "execution_count": 50,
   "id": "4991732b",
   "metadata": {},
   "outputs": [
    {
     "data": {
      "text/plain": [
       "array([ 1.04810395, -0.20048654, -1.83039158,  1.59546493,  0.88662132,\n",
       "        0.07951221,  0.81960593, -1.31074938])"
      ]
     },
     "execution_count": 50,
     "metadata": {},
     "output_type": "execute_result"
    }
   ],
   "source": [
    "np.add(x,y)\n"
   ]
  },
  {
   "cell_type": "code",
   "execution_count": 51,
   "id": "6751e9d8",
   "metadata": {},
   "outputs": [
    {
     "data": {
      "text/plain": [
       "array([-7.87709053,  9.64591214,  3.3436855 , -3.08801816, -2.4513541 ,\n",
       "        5.34916412,  2.21514069])"
      ]
     },
     "execution_count": 51,
     "metadata": {},
     "output_type": "execute_result"
    }
   ],
   "source": [
    "arr17 = np.random.randn(7) * 5; arr17\n"
   ]
  },
  {
   "cell_type": "code",
   "execution_count": 54,
   "id": "a48814bb",
   "metadata": {},
   "outputs": [
    {
     "name": "stdout",
     "output_type": "stream",
     "text": [
      "[-0.87709053  0.64591214  0.3436855  -0.08801816 -0.4513541   0.34916412\n",
      "  0.21514069]\n",
      "[-7.  9.  3. -3. -2.  5.  2.]\n",
      "(array([-0.87709053,  0.64591214,  0.3436855 , -0.08801816, -0.4513541 ,\n",
      "        0.34916412,  0.21514069]), array([-7.,  9.,  3., -3., -2.,  5.,  2.]))\n"
     ]
    }
   ],
   "source": [
    "remainder, whole_part = np.modf(arr17)\n",
    "print(remainder)\n",
    "print(whole_part)\n",
    "print(np.modf(arr17))"
   ]
  },
  {
   "cell_type": "code",
   "execution_count": 55,
   "id": "18092c03",
   "metadata": {},
   "outputs": [
    {
     "data": {
      "text/plain": [
       "array([-8.,  9.,  3., -4., -3.,  5.,  2.])"
      ]
     },
     "execution_count": 55,
     "metadata": {},
     "output_type": "execute_result"
    }
   ],
   "source": [
    "#largest integer smaller than...\n",
    "np.floor(arr17)\n"
   ]
  },
  {
   "cell_type": "code",
   "execution_count": 56,
   "id": "c576703c",
   "metadata": {},
   "outputs": [
    {
     "data": {
      "text/plain": [
       "array([ nan, 23. ,  2.3])"
      ]
     },
     "execution_count": 56,
     "metadata": {},
     "output_type": "execute_result"
    }
   ],
   "source": [
    "arr18 =np.array([np.nan,23,2.3]); arr18\n"
   ]
  },
  {
   "cell_type": "code",
   "execution_count": 60,
   "id": "12e7bb72",
   "metadata": {},
   "outputs": [
    {
     "name": "stdout",
     "output_type": "stream",
     "text": [
      "nan\n"
     ]
    },
    {
     "data": {
      "text/plain": [
       "True"
      ]
     },
     "execution_count": 60,
     "metadata": {},
     "output_type": "execute_result"
    }
   ],
   "source": [
    "print(np.nan)\n",
    "np.isnan(np.nan)\n",
    "\n"
   ]
  },
  {
   "cell_type": "code",
   "execution_count": 61,
   "id": "84f86d46",
   "metadata": {},
   "outputs": [
    {
     "name": "stdout",
     "output_type": "stream",
     "text": [
      "inf\n"
     ]
    },
    {
     "data": {
      "text/plain": [
       "False"
      ]
     },
     "execution_count": 61,
     "metadata": {},
     "output_type": "execute_result"
    }
   ],
   "source": [
    "print(np.inf)\n",
    "np.isnan(np.inf)\n"
   ]
  },
  {
   "cell_type": "code",
   "execution_count": 59,
   "id": "4d7d1e9c",
   "metadata": {},
   "outputs": [
    {
     "data": {
      "text/plain": [
       "True"
      ]
     },
     "execution_count": 59,
     "metadata": {},
     "output_type": "execute_result"
    }
   ],
   "source": [
    "np.isinf(np.inf)\n"
   ]
  },
  {
   "cell_type": "code",
   "execution_count": 62,
   "id": "2427006d",
   "metadata": {},
   "outputs": [
    {
     "data": {
      "text/plain": [
       "array([ True, False, False])"
      ]
     },
     "execution_count": 62,
     "metadata": {},
     "output_type": "execute_result"
    }
   ],
   "source": [
    "np.isnan(arr18)\n"
   ]
  },
  {
   "cell_type": "code",
   "execution_count": 63,
   "id": "282eaaa5",
   "metadata": {},
   "outputs": [
    {
     "name": "stderr",
     "output_type": "stream",
     "text": [
      "C:\\Users\\Ujjwa\\AppData\\Local\\Temp/ipykernel_13428/1770903552.py:1: RuntimeWarning: divide by zero encountered in true_divide\n",
      "  np.array([1])/0\n"
     ]
    },
    {
     "data": {
      "text/plain": [
       "array([inf])"
      ]
     },
     "execution_count": 63,
     "metadata": {},
     "output_type": "execute_result"
    }
   ],
   "source": [
    "np.array([1])/0\n"
   ]
  },
  {
   "cell_type": "code",
   "execution_count": 65,
   "id": "0168a89e",
   "metadata": {},
   "outputs": [
    {
     "data": {
      "text/plain": [
       "array([[ 0,  1,  2,  3,  4],\n",
       "       [ 5,  6,  7,  8,  9],\n",
       "       [10, 11, 12, 13, 14]])"
      ]
     },
     "execution_count": 65,
     "metadata": {},
     "output_type": "execute_result"
    }
   ],
   "source": [
    "arr16"
   ]
  },
  {
   "cell_type": "code",
   "execution_count": 64,
   "id": "1ff70700",
   "metadata": {},
   "outputs": [
    {
     "data": {
      "text/plain": [
       "array([[ 30,  80, 130],\n",
       "       [ 80, 255, 430],\n",
       "       [130, 430, 730]])"
      ]
     },
     "execution_count": 64,
     "metadata": {},
     "output_type": "execute_result"
    }
   ],
   "source": [
    "np.dot(arr16,arr16.T)\n"
   ]
  },
  {
   "cell_type": "code",
   "execution_count": 67,
   "id": "eced4157",
   "metadata": {},
   "outputs": [
    {
     "name": "stderr",
     "output_type": "stream",
     "text": [
      "C:\\Users\\Ujjwa\\AppData\\Local\\Temp/ipykernel_13428/2871910562.py:1: RuntimeWarning: invalid value encountered in log\n",
      "  np.log([-1, 1, 2])\n"
     ]
    },
    {
     "data": {
      "text/plain": [
       "array([       nan, 0.        , 0.69314718])"
      ]
     },
     "execution_count": 67,
     "metadata": {},
     "output_type": "execute_result"
    }
   ],
   "source": [
    "np.log([-1, 1, 2])\n"
   ]
  },
  {
   "cell_type": "code",
   "execution_count": 68,
   "id": "3763deaf",
   "metadata": {},
   "outputs": [
    {
     "data": {
      "text/plain": [
       "3.3333333333333335"
      ]
     },
     "execution_count": 68,
     "metadata": {},
     "output_type": "execute_result"
    }
   ],
   "source": [
    "np.mean(arr12) # alternatively arr12.mean()\n"
   ]
  },
  {
   "cell_type": "code",
   "execution_count": 71,
   "id": "ccbc5674",
   "metadata": {},
   "outputs": [
    {
     "name": "stdout",
     "output_type": "stream",
     "text": [
      "[[2 3 4]\n",
      " [3 5 3]]\n"
     ]
    }
   ],
   "source": [
    "print(arr12)"
   ]
  },
  {
   "cell_type": "code",
   "execution_count": 72,
   "id": "088c5de3",
   "metadata": {},
   "outputs": [
    {
     "name": "stdout",
     "output_type": "stream",
     "text": [
      "20\n",
      "[3.         3.66666667]\n",
      "[2.5 4.  3.5]\n",
      "\n",
      "[2.5 4.  3.5]\n",
      "[ 2  5  9 12 17 20]\n"
     ]
    }
   ],
   "source": [
    "print(arr12.sum())\n",
    "print(arr12.mean(axis=1)) # Column wise\n",
    "print(arr12.mean(axis=0)) # Row wise\n",
    "print()\n",
    "print(np.mean(arr12,axis=0))\n",
    "print(arr12.cumsum())\n"
   ]
  },
  {
   "cell_type": "code",
   "execution_count": 75,
   "id": "128d5465",
   "metadata": {},
   "outputs": [
    {
     "name": "stdout",
     "output_type": "stream",
     "text": [
      "[[0 1 2]\n",
      " [3 4 5]\n",
      " [6 7 8]]\n",
      "\n",
      "[[ 0  1  2]\n",
      " [ 3  5  7]\n",
      " [ 9 12 15]]\n",
      "[[ 0  1  3]\n",
      " [ 3  7 12]\n",
      " [ 6 13 21]]\n"
     ]
    }
   ],
   "source": [
    "arr13 = np.array([[0, 1, 2], [3, 4, 5], [6, 7, 8]])\n",
    "print(arr13)\n",
    "print()\n",
    "#for each col\n",
    "print(arr13.cumsum(axis=0))\n",
    "#for each row\n",
    "print(arr13.cumsum(axis=1))\n",
    "\n"
   ]
  },
  {
   "cell_type": "code",
   "execution_count": 76,
   "id": "418a8c09",
   "metadata": {},
   "outputs": [
    {
     "name": "stdout",
     "output_type": "stream",
     "text": [
      "[[0 2 1]\n",
      " [5 3 5]\n",
      " [6 7 8]]\n",
      "[0 1 0]\n",
      "[1 0 2]\n",
      "[2 5 8]\n"
     ]
    }
   ],
   "source": [
    "#similarly we have std, var, min, max, argmin, argmax, cumprod\n",
    "arr14 = np.array([[0, 2, 1], [5, 3, 5], [6, 7, 8]])\n",
    "print(arr14)\n",
    "print(arr14.argmin(axis=1))\n",
    "print(arr14.argmax(axis=1))\n",
    "print(arr14.max(axis=1))\n"
   ]
  },
  {
   "cell_type": "code",
   "execution_count": 77,
   "id": "a79aeeae",
   "metadata": {},
   "outputs": [
    {
     "data": {
      "text/plain": [
       "array([[2, 4, 3],\n",
       "       [3, 2, 1],\n",
       "       [5, 2, 2]])"
      ]
     },
     "execution_count": 77,
     "metadata": {},
     "output_type": "execute_result"
    }
   ],
   "source": [
    "#boolean arrays\n",
    "arr15 = np.random.randn(100)\n",
    "(arr15 > 0).sum() #count of positive values as True has value 1 and False has 0\n",
    "(arr15 > 0).any()\n",
    "(arr15 > 0).all()\n",
    "\n",
    "#sorting (with copy, w/o copy)\n",
    "arr14.sort(axis=1)\n",
    "#in place sorting: NO COPY made\n",
    "#similar to the sort method of python list (as against sorted() available for any python iterable which makes copy)\n",
    "arr14\n",
    "arr15 = np.array([[2,4,3],[3,2,1],[5,2,2]]); arr15\n",
    "#COPY made\n",
    "np.sort(arr15,axis=1)\n",
    "arr15"
   ]
  },
  {
   "cell_type": "code",
   "execution_count": null,
   "id": "f491af8e",
   "metadata": {},
   "outputs": [],
   "source": []
  }
 ],
 "metadata": {
  "kernelspec": {
   "display_name": "Python 3 (ipykernel)",
   "language": "python",
   "name": "python3"
  },
  "language_info": {
   "codemirror_mode": {
    "name": "ipython",
    "version": 3
   },
   "file_extension": ".py",
   "mimetype": "text/x-python",
   "name": "python",
   "nbconvert_exporter": "python",
   "pygments_lexer": "ipython3",
   "version": "3.8.11"
  }
 },
 "nbformat": 4,
 "nbformat_minor": 5
}
