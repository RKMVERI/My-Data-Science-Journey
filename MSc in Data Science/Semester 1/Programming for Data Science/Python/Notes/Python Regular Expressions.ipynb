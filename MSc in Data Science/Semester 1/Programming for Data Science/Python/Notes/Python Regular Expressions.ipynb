{
 "cells": [
  {
   "cell_type": "code",
   "execution_count": 1,
   "metadata": {
    "collapsed": true
   },
   "outputs": [],
   "source": [
    "import re"
   ]
  },
  {
   "cell_type": "code",
   "execution_count": 2,
   "metadata": {
    "collapsed": true
   },
   "outputs": [],
   "source": [
    "#basic methods - \n",
    "#re.match(patt,str) \n",
    "#re.search(patt,str)\n",
    "#re.findall(patt,str)\n",
    "#re.split(patt,str) \n",
    "#re.sub(patt,replace,str)\n",
    "#re.subn(patt,replace,str)"
   ]
  },
  {
   "cell_type": "code",
   "execution_count": 3,
   "metadata": {},
   "outputs": [
    {
     "name": "stdout",
     "output_type": "stream",
     "text": [
      "None\n",
      "<_sre.SRE_Match object; span=(0, 2), match='aa'>\n",
      "(0, 2)\n",
      "<_sre.SRE_Match object; span=(0, 2), match='aa'>\n",
      "(0, 2)\n"
     ]
    }
   ],
   "source": [
    "#match at the start of the string\n",
    "m1 = re.match('aa','this is aa match with aall'); print(m1)\n",
    "m2 = re.match('aa','aa this is aa match with aall'); print(m2)\n",
    "print(m2.span())\n",
    "m2 = re.match('aa','aaaa this is aa match with aall'); print(m2)\n",
    "print(m2.span())"
   ]
  },
  {
   "cell_type": "code",
   "execution_count": 4,
   "metadata": {},
   "outputs": [
    {
     "name": "stdout",
     "output_type": "stream",
     "text": [
      "<_sre.SRE_Match object; span=(8, 10), match='aa'>\n",
      "None\n",
      "None\n",
      "<_sre.SRE_Match object; span=(26, 28), match='aa'>\n",
      "None\n",
      "None\n",
      "<_sre.SRE_Match object; span=(11, 12), match='1'>\n",
      "<_sre.SRE_Match object; span=(8, 9), match='a'>\n",
      "<_sre.SRE_Match object; span=(8, 9), match='m'>\n",
      "<_sre.SRE_Match object; span=(8, 9), match='m'>\n",
      "<_sre.SRE_Match object; span=(10, 12), match='aa'>\n",
      "<_sre.SRE_Match object; span=(10, 13), match='aaa'>\n",
      "None\n",
      "None\n",
      "<_sre.SRE_Match object; span=(15, 19), match='abab'>\n",
      "<_sre.SRE_Match object; span=(12, 15), match='abb'>\n",
      "<_sre.SRE_Match object; span=(12, 21), match='abbbbbbbb'>\n",
      "<_sre.SRE_Match object; span=(13, 21), match='bbbbbbbb'>\n",
      "<_sre.SRE_Match object; span=(24, 29), match='ab we'>\n",
      "('ab', 'we')\n"
     ]
    }
   ],
   "source": [
    "#first match anywhere\n",
    "s1 = re.search('aa','this is aa match with aall'); print(s1) #first match\n",
    "s2 = re.search(\"^aa\",'this is aa match with aall'); print(s2) #^ matches at start\n",
    "s3 = re.search(\"aa$\",'this is aa match with aall'); print(s3) #$ matches at end\n",
    "s4 = re.search(\"aa$\",'this is aa match with aallaa'); print(s4) #$ matches at end\n",
    "s5 = re.search(\"^\\d\",'this is aa match with aallaa'); print(s5) #^ matches digits at start\n",
    "s6 = re.search(\"\\d\",'this is aa match with aallaa'); print(s6) # matches digits anywhere\n",
    "s7 = re.search(\"\\d\",'this is aa 1match with 2 aallaa'); print(s7) # matches digits anywhere\n",
    "s8 = re.search(\"[am]\",'this is aa match with aallaa'); print(s8) # matches any element from a group anywhere\n",
    "s9 = re.search(\"[am]\",'this is m aa match with aallaa'); print(s9) #  matches any from a set of characters anywhere\n",
    "s10 = re.search(\"[am]\",'this is m aa match with aallaa'); print(s10) #  matches any from a set of characters anywhere \n",
    "s11 = re.search(\"a{2}\",'this is m aa match with aallaa'); print(s11) #  matches an expression n no. of times \n",
    "s12 = re.search(\"a{3}\",'this is m aaa match with aallaa'); print(s12) #  matches an expression n no. of times \n",
    "s13 = re.search(\"a{3}\",'this is m aa match with aallaa'); print(s13) #  matches an expression n no. of times \n",
    "s14 = re.search(\"ab{2}\",'this is aba ab'); print(s14) #  matches an expression n no. of times \n",
    "s15 = re.search(\"(ab){2}\",'this is aba ab abab wewe'); print(s15) #  matches a group n no. of times contigously\n",
    "s16 = re.search(\"ab{2}\",'this is aba abb abab wewe'); print(s16) #  CAREFUL here!!! note the match\n",
    "s17 = re.search(\"ab{2,}\",'this is aba abbbbbbbb abab wewe'); print(s17) #  CAREFUL here!!! note the match\n",
    "s18 = re.search(\"b{2,}\",'this is aba abbbbbbbb abab wewe'); print(s18) #  CAREFUL here!!! note the match\n",
    "s19 = re.search(\"(ab)\\W*(we)\",'this is aba abbbbbbbb abab wewe'); print(s19); print(s19.groups())"
   ]
  },
  {
   "cell_type": "code",
   "execution_count": 5,
   "metadata": {},
   "outputs": [
    {
     "name": "stdout",
     "output_type": "stream",
     "text": [
      "['ab', 'ab', 'ab', 'ab']\n",
      "4\n",
      "['an', 'an']\n",
      "['an', 'an', 'a', 'an', 'a', 'a', 'an', 'a', 'a', 'a']\n",
      "['an', 'an', 'an', 'an']\n",
      "['an', 'an', 'a', 'an', 'a', 'a', 'an', 'a', 'a', 'a']\n",
      "['ann', 'an', 'an', 'an']\n",
      "['ann']\n",
      "['am n']\n"
     ]
    }
   ],
   "source": [
    "#Return a list of all non-overlapping matches in the string\n",
    "fa1 = re.findall(\"ab\",'this is aba abbbbbbbb abab wewe'); print(fa1) ; print(fa1.count('ab'))\n",
    "fa2 = re.findall(\"an\",'banana'); print(fa2)\n",
    "fa3 = re.findall(\"an*\",'banana panama panam name shame'); print(fa3) #matches 1 'a' and 0 or more 'n' together\n",
    "fa4 = re.findall(\"an+\",'banana panama panam name shame'); print(fa4) #matches 1 'a' and 1 or more 'n' together\n",
    "fa5 = re.findall(\"an?\",'bannana panama panam name shame'); print(fa5) #matches 1 'a' and 0 or 1 'n' together\n",
    "fa6 = re.findall(\"an+\",'bannana panama panam name shame'); print(fa6) #matches 1 'a' and 1 or more 'n' together\n",
    "fa7 = re.findall(\"a.n\",'bannana panama panam name shame'); print(fa7) #matches 1 'a' and 1 'n' with a single character in between\n",
    "fa8 = re.findall(\"a..n\",'bannana panama panam name shame'); print(fa8) #matches 1 'a' and 1 'n' with two characters in between"
   ]
  },
  {
   "cell_type": "code",
   "execution_count": 6,
   "metadata": {},
   "outputs": [
    {
     "data": {
      "text/plain": [
       "'as23\\n21'"
      ]
     },
     "execution_count": 6,
     "metadata": {},
     "output_type": "execute_result"
    }
   ],
   "source": [
    "#normal string vs raw string\n",
    "s1 = 'as23\\n21';s1"
   ]
  },
  {
   "cell_type": "code",
   "execution_count": 7,
   "metadata": {},
   "outputs": [
    {
     "name": "stdout",
     "output_type": "stream",
     "text": [
      "as23\n",
      "21\n"
     ]
    }
   ],
   "source": [
    "print(s1)"
   ]
  },
  {
   "cell_type": "code",
   "execution_count": 8,
   "metadata": {},
   "outputs": [
    {
     "data": {
      "text/plain": [
       "'as23\\\\n21'"
      ]
     },
     "execution_count": 8,
     "metadata": {},
     "output_type": "execute_result"
    }
   ],
   "source": [
    "#Usually patterns will be expressed in Python code using this raw string notation.\n",
    "s1 = r'as23\\n21'; s1"
   ]
  },
  {
   "cell_type": "code",
   "execution_count": 9,
   "metadata": {},
   "outputs": [
    {
     "name": "stdout",
     "output_type": "stream",
     "text": [
      "as23\\n21\n"
     ]
    }
   ],
   "source": [
    "print(s1)"
   ]
  },
  {
   "cell_type": "code",
   "execution_count": 10,
   "metadata": {},
   "outputs": [
    {
     "name": "stdout",
     "output_type": "stream",
     "text": [
      "['python']\n",
      "['python', 'python']\n",
      "['python', 'pythonic', 'pythonista']\n"
     ]
    }
   ],
   "source": [
    "#\\b is defined as the boundary between a \\w and a \\W character (or vice versa) \n",
    "#\\w - Matches Unicode word characters; this includes most characters that can be part of a word\n",
    "#in any language, as well as numbers and the underscore ==> [a-zA-Z0-9_]\n",
    "#\\w is often useful for denoting word boundaries\n",
    "#\\W - opposite of \\w\n",
    "#notice the use of 'r' to denote the raw version of pattern string to be used to enable use of \\b\n",
    "l1 = ['foo', 'foo.', '(foo)', 'bar foo baz', 'foobar' ,'foo3']\n",
    "[re.findall(r'\\bfoo\\b',i) for i in l1]\n",
    "fa9 = re.findall(r\"\\bpython\\b\",'learning python is easy but learing it in the pythonic way takes time'); print(fa9)\n",
    "fa10 = re.findall(r\"\\bpython\",'learning python is easy but learing it in the pythonic way takes time'); print(fa10)\n",
    "fa11 = re.findall(r\"\\bpython\\w*\",'learning python is easy but \\\n",
    "                  learing it in the pythonic way takes time in order to become pythonista !!!'); print(fa11)"
   ]
  },
  {
   "cell_type": "code",
   "execution_count": 11,
   "metadata": {},
   "outputs": [
    {
     "name": "stdout",
     "output_type": "stream",
     "text": [
      "no groups to be printed\n",
      "no groups to be printed\n",
      "no groups to be printed\n",
      "no groups to be printed\n",
      "<_sre.SRE_Match object; span=(1, 12), match='ello Hermit'>\n",
      "('ello', 'Hermit')\n",
      "<_sre.SRE_Match object; span=(1, 10), match='ell Heels'>\n",
      "('ell', 'Heels')\n",
      "None\n",
      "no groups to be printed\n",
      "None\n",
      "no groups to be printed\n"
     ]
    }
   ],
   "source": [
    "Hlist = ['Hello Hermit', 'Hell Heels', 'Heaven hat', 'Hollow fire']\n",
    "\n",
    "#following will give error as match searchs only the beginning of the word\n",
    "for element in Hlist:\n",
    "    g = re.match(\"(e\\w+)\\W(H\\w+)\", element)\n",
    "    try:\n",
    "        print(g.groups())\n",
    "    except(AttributeError):\n",
    "        print(\"no groups to be printed\")\n",
    "\n",
    "for element in Hlist:\n",
    "    g = re.search(\"(e\\w+)\\W(H\\w+)\", element)\n",
    "    print(g)\n",
    "    try:\n",
    "        print(g.groups())\n",
    "    except(AttributeError):\n",
    "        print(\"no groups to be printed\")"
   ]
  },
  {
   "cell_type": "code",
   "execution_count": 12,
   "metadata": {},
   "outputs": [
    {
     "name": "stdout",
     "output_type": "stream",
     "text": [
      "['this is ', ' string with ', 'n ex', 'mple']\n"
     ]
    }
   ],
   "source": [
    "spl1 = re.split(\"a\", 'this is a string with an example'); print(spl1)"
   ]
  },
  {
   "cell_type": "code",
   "execution_count": 13,
   "metadata": {},
   "outputs": [
    {
     "name": "stdout",
     "output_type": "stream",
     "text": [
      "this is  bb  string with  bb n ex bb mple\n"
     ]
    }
   ],
   "source": [
    "#Return the string obtained by replacing the leftmost\n",
    "#non-overlapping occurrences of the pattern in string by the\n",
    "#replacement repl\n",
    "sub1 = re.sub('a',' bb ','this is a string with an example'); print(sub1)"
   ]
  },
  {
   "cell_type": "code",
   "execution_count": 14,
   "metadata": {},
   "outputs": [
    {
     "name": "stdout",
     "output_type": "stream",
     "text": [
      "this is  bb  string with  bb n ex bb mple\n",
      "3\n"
     ]
    }
   ],
   "source": [
    "#substitutes and returns the no. of substitution\n",
    "sub2,count = re.subn('a',' bb ','this is a string with an example'); print(sub2); print(count)"
   ]
  },
  {
   "cell_type": "code",
   "execution_count": 15,
   "metadata": {
    "collapsed": true
   },
   "outputs": [],
   "source": [
    "import sys"
   ]
  },
  {
   "cell_type": "code",
   "execution_count": 16,
   "metadata": {},
   "outputs": [
    {
     "data": {
      "text/plain": [
       "'3.6.3 |Anaconda, Inc.| (default, Oct  6 2017, 12:04:38) \\n[GCC 4.2.1 Compatible Clang 4.0.1 (tags/RELEASE_401/final)]'"
      ]
     },
     "execution_count": 16,
     "metadata": {},
     "output_type": "execute_result"
    }
   ],
   "source": [
    "sys.version"
   ]
  },
  {
   "cell_type": "code",
   "execution_count": 17,
   "metadata": {},
   "outputs": [
    {
     "name": "stdout",
     "output_type": "stream",
     "text": [
      "3\n",
      "/Users/sudeepmallick/anaconda3/lib/python3.6/site-packages/ipykernel_launcher.py\n",
      "-f\n",
      "/Users/sudeepmallick/Library/Jupyter/runtime/kernel-9fd5ed6d-8cf5-45b3-88bc-454fd9527cdb.json\n"
     ]
    }
   ],
   "source": [
    "#put the following in a python script and pass 2 arguments while executing the script from a terminal like:\n",
    "#python my_script.py ab 12\n",
    "import sys\n",
    "print(len(sys.argv))\n",
    "print(sys.argv[0])\n",
    "print(sys.argv[1])\n",
    "print(sys.argv[2])"
   ]
  },
  {
   "cell_type": "code",
   "execution_count": 18,
   "metadata": {},
   "outputs": [
    {
     "name": "stdout",
     "output_type": "stream",
     "text": [
      "['', '/Users/sudeepmallick/anaconda3/lib/python36.zip', '/Users/sudeepmallick/anaconda3/lib/python3.6', '/Users/sudeepmallick/anaconda3/lib/python3.6/lib-dynload', '/Users/sudeepmallick/.local/lib/python3.6/site-packages', '/Users/sudeepmallick/anaconda3/lib/python3.6/site-packages', '/Users/sudeepmallick/anaconda3/lib/python3.6/site-packages/aeosa', '/Users/sudeepmallick/anaconda3/lib/python3.6/site-packages/IPython/extensions', '/Users/sudeepmallick/.ipython']\n"
     ]
    }
   ],
   "source": [
    "print(sys.path)"
   ]
  },
  {
   "cell_type": "code",
   "execution_count": 19,
   "metadata": {},
   "outputs": [
    {
     "name": "stdout",
     "output_type": "stream",
     "text": [
      "<class 'dict'>\n",
      "True\n"
     ]
    }
   ],
   "source": [
    "#print(sys.modules)\n",
    "print(type(sys.modules))\n",
    "print('re' in sys.modules.keys())"
   ]
  },
  {
   "cell_type": "code",
   "execution_count": 20,
   "metadata": {},
   "outputs": [],
   "source": [
    "import os"
   ]
  },
  {
   "cell_type": "code",
   "execution_count": 21,
   "metadata": {},
   "outputs": [
    {
     "name": "stdout",
     "output_type": "stream",
     "text": [
      "/Users/sudeepmallick/Documents/BDA21-23/PDS2021/Python\n"
     ]
    }
   ],
   "source": [
    "print(os.getcwd())"
   ]
  },
  {
   "cell_type": "code",
   "execution_count": 22,
   "metadata": {},
   "outputs": [
    {
     "name": "stdout",
     "output_type": "stream",
     "text": [
      "/Users/sudeepmallick/Documents/BDA21-23/PDS2021\n"
     ]
    }
   ],
   "source": [
    "os.chdir('..')\n",
    "print(os.getcwd())"
   ]
  },
  {
   "cell_type": "code",
   "execution_count": 23,
   "metadata": {},
   "outputs": [
    {
     "data": {
      "text/plain": [
       "'/Users/sudeepmallick/Documents/BDA21-23/PDS2021/..'"
      ]
     },
     "execution_count": 23,
     "metadata": {},
     "output_type": "execute_result"
    }
   ],
   "source": [
    "os.path.join(os.getcwd(),'..')"
   ]
  },
  {
   "cell_type": "code",
   "execution_count": 24,
   "metadata": {},
   "outputs": [
    {
     "name": "stdout",
     "output_type": "stream",
     "text": [
      "/Users/sudeepmallick/Documents/BDA21-23/PDS2021/Python\n"
     ]
    }
   ],
   "source": [
    "os.chdir(os.path.join(os.getcwd(),'Python'))\n",
    "print(os.getcwd())"
   ]
  },
  {
   "cell_type": "code",
   "execution_count": 25,
   "metadata": {
    "collapsed": true
   },
   "outputs": [],
   "source": [
    "#CHECK other functions of os module - os.makedirs, os.rmdir, os.rename"
   ]
  },
  {
   "cell_type": "code",
   "execution_count": 26,
   "metadata": {},
   "outputs": [
    {
     "data": {
      "text/plain": [
       "'/Users/sudeepmallick/Documents/BDA21-23/PDS2021/Python/../..'"
      ]
     },
     "execution_count": 26,
     "metadata": {},
     "output_type": "execute_result"
    }
   ],
   "source": [
    "os.path.join(os.getcwd(),'..','..')"
   ]
  },
  {
   "cell_type": "code",
   "execution_count": 27,
   "metadata": {},
   "outputs": [
    {
     "data": {
      "text/plain": [
       "['PDS2021', '.DS_Store', 'xCDS 2020']"
      ]
     },
     "execution_count": 27,
     "metadata": {},
     "output_type": "execute_result"
    }
   ],
   "source": [
    "os.listdir(os.path.join(os.getcwd(),'..','..'))"
   ]
  },
  {
   "cell_type": "code",
   "execution_count": 28,
   "metadata": {},
   "outputs": [
    {
     "name": "stdout",
     "output_type": "stream",
     "text": [
      "some_filename.txt does not exist\n"
     ]
    }
   ],
   "source": [
    "try:\n",
    "    name = 'some_filename.txt'\n",
    "    f = open(name)\n",
    "    text = f.read()\n",
    "    f.close()   \n",
    "except IOError:\n",
    "    print(name + ' does not exist')"
   ]
  },
  {
   "cell_type": "code",
   "execution_count": 29,
   "metadata": {
    "collapsed": true
   },
   "outputs": [],
   "source": [
    "os.rename?"
   ]
  },
  {
   "cell_type": "code",
   "execution_count": 30,
   "metadata": {},
   "outputs": [
    {
     "data": {
      "text/plain": [
       "False"
      ]
     },
     "execution_count": 30,
     "metadata": {},
     "output_type": "execute_result"
    }
   ],
   "source": [
    "os.path.exists('somedir')"
   ]
  },
  {
   "cell_type": "code",
   "execution_count": 31,
   "metadata": {},
   "outputs": [
    {
     "name": "stdout",
     "output_type": "stream",
     "text": [
      "True\n",
      "Python\n"
     ]
    }
   ],
   "source": [
    "print(os.path.exists('/Users/sudeepmallick/Documents/BDA21-23/PDS2021/Python'))\n",
    "print(os.path.basename('/Users/sudeepmallick/Documents/BDA21-23/PDS2021/Python'))"
   ]
  },
  {
   "cell_type": "code",
   "execution_count": 32,
   "metadata": {},
   "outputs": [
    {
     "data": {
      "text/plain": [
       "191020"
      ]
     },
     "execution_count": 32,
     "metadata": {},
     "output_type": "execute_result"
    }
   ],
   "source": [
    "os.path.getsize('/Users/sudeepmallick/Documents/BDA21-23/PDS2021/Python/Assign 4.pdf')"
   ]
  },
  {
   "cell_type": "code",
   "execution_count": 33,
   "metadata": {
    "collapsed": true
   },
   "outputs": [],
   "source": [
    "import json"
   ]
  },
  {
   "cell_type": "code",
   "execution_count": 34,
   "metadata": {},
   "outputs": [
    {
     "name": "stdout",
     "output_type": "stream",
     "text": [
      "{\r\n",
      "    \"quiz\": {\r\n",
      "        \"sport\": {\r\n",
      "            \"q1\": {\r\n",
      "                \"question\": \"Which one is correct team name in NBA?\",\r\n",
      "                \"options\": [\r\n",
      "                    \"New York Bulls\",\r\n",
      "                    \"Los Angeles Kings\",\r\n",
      "                    \"Golden State Warriros\",\r\n",
      "                    \"Huston Rocket\"\r\n",
      "                ],\r\n",
      "                \"answer\": \"Huston Rocket\"\r\n",
      "            }\r\n",
      "        },\r\n",
      "        \"maths\": {\r\n",
      "            \"q1\": {\r\n",
      "                \"question\": \"5 + 7 = ?\",\r\n",
      "                \"options\": [\r\n",
      "                    \"10\",\r\n",
      "                    \"11\",\r\n",
      "                    \"12\",\r\n",
      "                    \"13\"\r\n",
      "                ],\r\n",
      "                \"answer\": \"12\"\r\n",
      "            },\r\n",
      "            \"q2\": {\r\n",
      "                \"question\": \"12 - 8 = ?\",\r\n",
      "                \"options\": [\r\n",
      "                    \"1\",\r\n",
      "                    \"2\",\r\n",
      "                    \"3\",\r\n",
      "                    \"4\"\r\n",
      "                ],\r\n",
      "                \"answer\": \"4\"\r\n",
      "            }\r\n",
      "        }\r\n",
      "    }\r\n",
      "}"
     ]
    }
   ],
   "source": [
    "!cat example_2.json"
   ]
  },
  {
   "cell_type": "code",
   "execution_count": 35,
   "metadata": {},
   "outputs": [
    {
     "name": "stdout",
     "output_type": "stream",
     "text": [
      "<class 'dict'>\n",
      "{'quiz': {'sport': {'q1': {'question': 'Which one is correct team name in NBA?', 'options': ['New York Bulls', 'Los Angeles Kings', 'Golden State Warriros', 'Huston Rocket'], 'answer': 'Huston Rocket'}}, 'maths': {'q1': {'question': '5 + 7 = ?', 'options': ['10', '11', '12', '13'], 'answer': '12'}, 'q2': {'question': '12 - 8 = ?', 'options': ['1', '2', '3', '4'], 'answer': '4'}}}}\n"
     ]
    }
   ],
   "source": [
    "json_file = open('example_2.json')\n",
    "json_data = json.load(json_file)\n",
    "print(type(json_data))\n",
    "print(json_data)"
   ]
  },
  {
   "cell_type": "code",
   "execution_count": 36,
   "metadata": {},
   "outputs": [
    {
     "data": {
      "text/plain": [
       "'Which one is correct team name in NBA?'"
      ]
     },
     "execution_count": 36,
     "metadata": {},
     "output_type": "execute_result"
    }
   ],
   "source": [
    "json_data['quiz']['sport']['q1']['question']"
   ]
  },
  {
   "cell_type": "code",
   "execution_count": 37,
   "metadata": {},
   "outputs": [
    {
     "data": {
      "text/plain": [
       "['Los Angeles Kings', 'Golden State Warriros', 'Huston Rocket']"
      ]
     },
     "execution_count": 37,
     "metadata": {},
     "output_type": "execute_result"
    }
   ],
   "source": [
    "json_data['quiz']['sport']['q1']['options'][1:]"
   ]
  },
  {
   "cell_type": "code",
   "execution_count": 38,
   "metadata": {},
   "outputs": [],
   "source": [
    "d1 = {'name':'ravi','state':'bengal','age': 21}\n",
    "with open('json_dump_file.txt','w') as to_file:\n",
    "    json.dump(d1,to_file)"
   ]
  },
  {
   "cell_type": "code",
   "execution_count": 39,
   "metadata": {},
   "outputs": [
    {
     "name": "stdout",
     "output_type": "stream",
     "text": [
      "{\"name\": \"ravi\", \"state\": \"bengal\", \"age\": 21}"
     ]
    }
   ],
   "source": [
    "!cat 'json_dump_file.txt'"
   ]
  },
  {
   "cell_type": "code",
   "execution_count": 40,
   "metadata": {},
   "outputs": [],
   "source": [
    "data = {}\n",
    "data['people'] = []\n",
    "data['people'].append({\n",
    "    'name': 'Scott',\n",
    "    'website': 'stackabuse.com',\n",
    "    'from': 'Nebraska'\n",
    "})\n",
    "data['people'].append({\n",
    "    'name': 'Larry',\n",
    "    'website': 'google.com',\n",
    "    'from': 'Michigan'\n",
    "})\n",
    "data['people'].append({\n",
    "    'name': 'Tim',\n",
    "    'website': 'apple.com',\n",
    "    'from': 'Alabama'\n",
    "})\n",
    "\n",
    "with open('data.txt', 'w') as outfile:\n",
    "    json.dump(data, outfile)"
   ]
  },
  {
   "cell_type": "code",
   "execution_count": 41,
   "metadata": {},
   "outputs": [
    {
     "name": "stdout",
     "output_type": "stream",
     "text": [
      "{\"people\": [{\"name\": \"Scott\", \"website\": \"stackabuse.com\", \"from\": \"Nebraska\"}, {\"name\": \"Larry\", \"website\": \"google.com\", \"from\": \"Michigan\"}, {\"name\": \"Tim\", \"website\": \"apple.com\", \"from\": \"Alabama\"}]}"
     ]
    }
   ],
   "source": [
    "!cat data.txt"
   ]
  },
  {
   "cell_type": "code",
   "execution_count": 42,
   "metadata": {},
   "outputs": [
    {
     "name": "stdout",
     "output_type": "stream",
     "text": [
      "{'people': [{'name': 'Scott', 'website': 'stackabuse.com', 'from': 'Nebraska'}, {'name': 'Larry', 'website': 'google.com', 'from': 'Michigan'}, {'name': 'Tim', 'website': 'apple.com', 'from': 'Alabama'}]}\n"
     ]
    }
   ],
   "source": [
    "json_file = open('data.txt')\n",
    "json_data = json.load(json_file)\n",
    "print(json_data)"
   ]
  },
  {
   "cell_type": "code",
   "execution_count": 43,
   "metadata": {},
   "outputs": [
    {
     "name": "stdout",
     "output_type": "stream",
     "text": [
      "[{\"name\": \"Scott\", \"website\": \"stackabuse.com\", \"from\": \"Nebraska\"}, {\"name\": \"Larry\", \"website\": \"google.com\", \"from\": \"Michigan\"}, {\"name\": \"Tim\", \"website\": \"apple.com\", \"from\": \"Alabama\"}]"
     ]
    }
   ],
   "source": [
    "l1 = [{\"name\": \"Scott\", \"website\": \"stackabuse.com\", \"from\": \"Nebraska\"}, {\"name\": \"Larry\", \"website\": \"google.com\", \"from\": \"Michigan\"}, {\"name\": \"Tim\", \"website\": \"apple.com\", \"from\": \"Alabama\"}]\n",
    "with open('data.txt', 'w') as outfile:\n",
    "    json.dump(l1, outfile)\n",
    "!cat data.txt"
   ]
  },
  {
   "cell_type": "code",
   "execution_count": 44,
   "metadata": {},
   "outputs": [
    {
     "name": "stdout",
     "output_type": "stream",
     "text": [
      "{'name': 'Larry', 'website': 'google.com', 'from': 'Michigan'}\n"
     ]
    }
   ],
   "source": [
    "json_file = open('data.txt')\n",
    "json_data = json.load(json_file)\n",
    "print(json_data[1])"
   ]
  },
  {
   "cell_type": "code",
   "execution_count": null,
   "metadata": {
    "collapsed": true
   },
   "outputs": [],
   "source": []
  }
 ],
 "metadata": {
  "kernelspec": {
   "display_name": "Python 3",
   "language": "python",
   "name": "python3"
  },
  "language_info": {
   "codemirror_mode": {
    "name": "ipython",
    "version": 3
   },
   "file_extension": ".py",
   "mimetype": "text/x-python",
   "name": "python",
   "nbconvert_exporter": "python",
   "pygments_lexer": "ipython3",
   "version": "3.6.3"
  }
 },
 "nbformat": 4,
 "nbformat_minor": 2
}
