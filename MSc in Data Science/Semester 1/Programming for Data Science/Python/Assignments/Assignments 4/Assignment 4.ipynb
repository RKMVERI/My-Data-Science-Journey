{
 "cells": [
  {
   "cell_type": "code",
   "execution_count": null,
   "id": "4fae19ee",
   "metadata": {},
   "outputs": [],
   "source": [
    "# Assignmet 4"
   ]
  },
  {
   "cell_type": "code",
   "execution_count": null,
   "id": "2e2013cf",
   "metadata": {},
   "outputs": [],
   "source": [
    "'''\n",
    "Q1.\n",
    " create a function f1 which accepts 2 positional arguments and 2 key word arguments (with default values)\n",
    " which are all numbers and return the sum\n",
    " \n",
    "'''"
   ]
  },
  {
   "cell_type": "code",
   "execution_count": 9,
   "id": "cb5b7677",
   "metadata": {},
   "outputs": [],
   "source": [
    "def f1 (a,b,c=3,d=4) :\n",
    "    sum=a+b+c+d\n",
    "    return(sum)"
   ]
  },
  {
   "cell_type": "code",
   "execution_count": 10,
   "id": "ecffe195",
   "metadata": {},
   "outputs": [
    {
     "data": {
      "text/plain": [
       "10"
      ]
     },
     "execution_count": 10,
     "metadata": {},
     "output_type": "execute_result"
    }
   ],
   "source": [
    "f1(1,2)"
   ]
  },
  {
   "cell_type": "code",
   "execution_count": 11,
   "id": "de65cd06",
   "metadata": {},
   "outputs": [
    {
     "data": {
      "text/plain": [
       "3"
      ]
     },
     "execution_count": 11,
     "metadata": {},
     "output_type": "execute_result"
    }
   ],
   "source": [
    "f1(1,2,c=5,d=-5)"
   ]
  },
  {
   "cell_type": "code",
   "execution_count": 76,
   "id": "fce007b0",
   "metadata": {},
   "outputs": [
    {
     "data": {
      "text/plain": [
       "'\\ncreate a function f2 which accepts 3 positional arguments and 2 key word arguments (with default values)\\n which are all numbers and return the sum and difference of the alternate numbers i.e. v-w+xy+z\\n'"
      ]
     },
     "execution_count": 76,
     "metadata": {},
     "output_type": "execute_result"
    }
   ],
   "source": [
    "'''\n",
    "create a function f2 which accepts 3 positional arguments and 2 key word arguments (with default values)\n",
    " which are all numbers and return the sum and difference of the alternate numbers i.e. v-w+xy+z\n",
    "'''"
   ]
  },
  {
   "cell_type": "code",
   "execution_count": 3,
   "id": "26e22192",
   "metadata": {},
   "outputs": [],
   "source": [
    "def f2(x,y,z,v=5,w=4):\n",
    "    return(v-w+x*y+z)\n",
    "        "
   ]
  },
  {
   "cell_type": "code",
   "execution_count": 4,
   "id": "89d01b53",
   "metadata": {},
   "outputs": [
    {
     "data": {
      "text/plain": [
       "6"
      ]
     },
     "execution_count": 4,
     "metadata": {},
     "output_type": "execute_result"
    }
   ],
   "source": [
    "f2(1,2,3)"
   ]
  },
  {
   "cell_type": "code",
   "execution_count": 79,
   "id": "acf86a60",
   "metadata": {},
   "outputs": [
    {
     "data": {
      "text/plain": [
       "'\\n create a function f3 which accepts 2 keyword arguments (with default values) and returns a list of the length of the\\n second argument with values all equal to the first argument (Hint: use list * operator)\\n \\n'"
      ]
     },
     "execution_count": 79,
     "metadata": {},
     "output_type": "execute_result"
    }
   ],
   "source": [
    "'''\n",
    " create a function f3 which accepts 2 keyword arguments (with default values) and returns a list of the length of the\n",
    " second argument with values all equal to the first argument (Hint: use list * operator)\n",
    " \n",
    "'''"
   ]
  },
  {
   "cell_type": "code",
   "execution_count": 15,
   "id": "1f04fa91",
   "metadata": {},
   "outputs": [
    {
     "data": {
      "text/plain": [
       "[2, 2, 2, 2, 2]"
      ]
     },
     "execution_count": 15,
     "metadata": {},
     "output_type": "execute_result"
    }
   ],
   "source": [
    "def f3 (a=2,b=5) :\n",
    "    s=[a]*b\n",
    "    return(s)\n",
    "f3()"
   ]
  },
  {
   "cell_type": "code",
   "execution_count": 16,
   "id": "a5b1f637",
   "metadata": {},
   "outputs": [
    {
     "data": {
      "text/plain": [
       "[2, 2, 2, 2, 2]"
      ]
     },
     "execution_count": 16,
     "metadata": {},
     "output_type": "execute_result"
    }
   ],
   "source": [
    "f3()"
   ]
  },
  {
   "cell_type": "code",
   "execution_count": 82,
   "id": "a64e8a11",
   "metadata": {},
   "outputs": [
    {
     "data": {
      "text/plain": [
       "\"\\n    create a function f4 which accepts 1 keyword argument (with default value) and returns a dictionary whose keys are\\n alphabets (a,b,c...) and values are numbers from 0 to the n-1 where n is the parameter value so {'a',:0,'b':1 ...}\\n \""
      ]
     },
     "execution_count": 82,
     "metadata": {},
     "output_type": "execute_result"
    }
   ],
   "source": [
    "'''\n",
    "    create a function f4 which accepts 1 keyword argument (with default value) and returns a dictionary whose keys are\n",
    " alphabets (a,b,c...) and values are numbers from 0 to the n-1 where n is the parameter value so {'a',:0,'b':1 ...}\n",
    " '''"
   ]
  },
  {
   "cell_type": "code",
   "execution_count": 5,
   "id": "3712fc30",
   "metadata": {},
   "outputs": [],
   "source": [
    "def f4 (n=26):\n",
    "    d={}\n",
    "    for i in range(0,n):\n",
    "        import string\n",
    "        a = string.ascii_lowercase[i]\n",
    "        d[a]=i\n",
    "        \n",
    "    print(d)"
   ]
  },
  {
   "cell_type": "code",
   "execution_count": 6,
   "id": "6e24bb9c",
   "metadata": {},
   "outputs": [
    {
     "name": "stdout",
     "output_type": "stream",
     "text": [
      "{'a': 0, 'b': 1, 'c': 2, 'd': 3, 'e': 4, 'f': 5, 'g': 6, 'h': 7, 'i': 8, 'j': 9, 'k': 10, 'l': 11, 'm': 12, 'n': 13, 'o': 14, 'p': 15, 'q': 16, 'r': 17, 's': 18, 't': 19, 'u': 20, 'v': 21, 'w': 22, 'x': 23, 'y': 24, 'z': 25}\n"
     ]
    }
   ],
   "source": [
    "f4()"
   ]
  },
  {
   "cell_type": "code",
   "execution_count": 85,
   "id": "847a0dec",
   "metadata": {},
   "outputs": [
    {
     "data": {
      "text/plain": [
       "'\\ncreate a function f5 which accepts a list of 2 functions and unknown number of positional arguments. It takes the\\n list of functions and calls each of first function in the list and passes the positional arguments of f5 to it.\\n The value returned is passed to the second function in the list. The first function in the list are either f1 or f2\\n the second function in the list are either f3 or f4. Compare the results of execution of the following:\\n l1=[f1,f3]\\n f5(l1,2,3,4)\\n l2=[f2,f3]\\n f5(l2,2,3,4)\\n l3=[f1,f4]\\n f5(l3,2,3,4)\\n l4=[f2,f4]\\n f5(l4,2,3,4)\\n '"
      ]
     },
     "execution_count": 85,
     "metadata": {},
     "output_type": "execute_result"
    }
   ],
   "source": [
    "'''\n",
    "create a function f5 which accepts a list of 2 functions and unknown number of positional arguments. It takes the\n",
    " list of functions and calls each of first function in the list and passes the positional arguments of f5 to it.\n",
    " The value returned is passed to the second function in the list. The first function in the list are either f1 or f2\n",
    " the second function in the list are either f3 or f4. Compare the results of execution of the following:\n",
    " l1=[f1,f3]\n",
    " f5(l1,2,3,4)\n",
    " l2=[f2,f3]\n",
    " f5(l2,2,3,4)\n",
    " l3=[f1,f4]\n",
    " f5(l3,2,3,4)\n",
    " l4=[f2,f4]\n",
    " f5(l4,2,3,4)\n",
    " '''"
   ]
  },
  {
   "cell_type": "code",
   "execution_count": 30,
   "id": "9864fc0f",
   "metadata": {},
   "outputs": [],
   "source": [
    "def f5 (l,*args):\n",
    "    a,b,c=args\n",
    "    x1 = l[0](a,b,c)\n",
    "    x2= l[1](x1)\n",
    "    return(x2)"
   ]
  },
  {
   "cell_type": "code",
   "execution_count": 31,
   "id": "4e836ebd",
   "metadata": {},
   "outputs": [
    {
     "ename": "TypeError",
     "evalue": "f2() missing 2 required positional arguments: 'y' and 'z'",
     "output_type": "error",
     "traceback": [
      "\u001b[1;31m---------------------------------------------------------------------------\u001b[0m",
      "\u001b[1;31mTypeError\u001b[0m                                 Traceback (most recent call last)",
      "\u001b[1;32m~\\AppData\\Local\\Temp/ipykernel_9192/2238826202.py\u001b[0m in \u001b[0;36m<module>\u001b[1;34m\u001b[0m\n\u001b[0;32m      1\u001b[0m \u001b[0ml1\u001b[0m\u001b[1;33m=\u001b[0m\u001b[1;33m[\u001b[0m\u001b[0mf1\u001b[0m\u001b[1;33m,\u001b[0m\u001b[0mf2\u001b[0m\u001b[1;33m]\u001b[0m\u001b[1;33m\u001b[0m\u001b[1;33m\u001b[0m\u001b[0m\n\u001b[1;32m----> 2\u001b[1;33m \u001b[0mf5\u001b[0m\u001b[1;33m(\u001b[0m\u001b[0ml1\u001b[0m\u001b[1;33m,\u001b[0m\u001b[1;36m2\u001b[0m\u001b[1;33m,\u001b[0m\u001b[1;36m3\u001b[0m\u001b[1;33m,\u001b[0m\u001b[1;36m4\u001b[0m\u001b[1;33m)\u001b[0m\u001b[1;33m\u001b[0m\u001b[1;33m\u001b[0m\u001b[0m\n\u001b[0m",
      "\u001b[1;32m~\\AppData\\Local\\Temp/ipykernel_9192/130285835.py\u001b[0m in \u001b[0;36mf5\u001b[1;34m(l, *args)\u001b[0m\n\u001b[0;32m      2\u001b[0m     \u001b[0ma\u001b[0m\u001b[1;33m,\u001b[0m\u001b[0mb\u001b[0m\u001b[1;33m,\u001b[0m\u001b[0mc\u001b[0m\u001b[1;33m=\u001b[0m\u001b[0margs\u001b[0m\u001b[1;33m\u001b[0m\u001b[1;33m\u001b[0m\u001b[0m\n\u001b[0;32m      3\u001b[0m     \u001b[0mx1\u001b[0m \u001b[1;33m=\u001b[0m \u001b[0ml\u001b[0m\u001b[1;33m[\u001b[0m\u001b[1;36m0\u001b[0m\u001b[1;33m]\u001b[0m\u001b[1;33m(\u001b[0m\u001b[0ma\u001b[0m\u001b[1;33m,\u001b[0m\u001b[0mb\u001b[0m\u001b[1;33m,\u001b[0m\u001b[0mc\u001b[0m\u001b[1;33m)\u001b[0m\u001b[1;33m\u001b[0m\u001b[1;33m\u001b[0m\u001b[0m\n\u001b[1;32m----> 4\u001b[1;33m     \u001b[0mx2\u001b[0m\u001b[1;33m=\u001b[0m \u001b[0ml\u001b[0m\u001b[1;33m[\u001b[0m\u001b[1;36m1\u001b[0m\u001b[1;33m]\u001b[0m\u001b[1;33m(\u001b[0m\u001b[0mx1\u001b[0m\u001b[1;33m)\u001b[0m\u001b[1;33m\u001b[0m\u001b[1;33m\u001b[0m\u001b[0m\n\u001b[0m\u001b[0;32m      5\u001b[0m     \u001b[1;32mreturn\u001b[0m\u001b[1;33m(\u001b[0m\u001b[0mx2\u001b[0m\u001b[1;33m)\u001b[0m\u001b[1;33m\u001b[0m\u001b[1;33m\u001b[0m\u001b[0m\n",
      "\u001b[1;31mTypeError\u001b[0m: f2() missing 2 required positional arguments: 'y' and 'z'"
     ]
    }
   ],
   "source": [
    "l1=[f1,f2]\n",
    "f5(l1,2,3,4)"
   ]
  },
  {
   "cell_type": "code",
   "execution_count": 26,
   "id": "f47575b2",
   "metadata": {},
   "outputs": [
    {
     "data": {
      "text/plain": [
       "[11, 11, 11, 11, 11]"
      ]
     },
     "execution_count": 26,
     "metadata": {},
     "output_type": "execute_result"
    }
   ],
   "source": [
    " l2=[f2,f3]\n",
    " f5(l2,2,3,4)"
   ]
  },
  {
   "cell_type": "code",
   "execution_count": 27,
   "id": "56f9a053",
   "metadata": {},
   "outputs": [
    {
     "name": "stdout",
     "output_type": "stream",
     "text": [
      "{'a': 0, 'b': 1, 'c': 2, 'd': 3, 'e': 4, 'f': 5, 'g': 6, 'h': 7, 'i': 8, 'j': 9, 'k': 10, 'l': 11, 'm': 12}\n"
     ]
    }
   ],
   "source": [
    "l3=[f1,f4]\n",
    "f5(l3,2,3,4)"
   ]
  },
  {
   "cell_type": "code",
   "execution_count": 32,
   "id": "131cca29",
   "metadata": {},
   "outputs": [
    {
     "name": "stdout",
     "output_type": "stream",
     "text": [
      "{'a': 0, 'b': 1, 'c': 2, 'd': 3, 'e': 4, 'f': 5, 'g': 6, 'h': 7, 'i': 8, 'j': 9, 'k': 10}\n"
     ]
    }
   ],
   "source": [
    " l4=[f2,f4]\n",
    " f5(l4,2,3,4)"
   ]
  },
  {
   "cell_type": "code",
   "execution_count": null,
   "id": "cd9a6668",
   "metadata": {},
   "outputs": [],
   "source": [
    "\n"
   ]
  },
  {
   "cell_type": "code",
   "execution_count": null,
   "id": "474ba663",
   "metadata": {},
   "outputs": [],
   "source": [
    "'''\n",
    "Q2.\n",
    " 1. define a function singleStringPrint to receive a single argument which needs to be printed - if\n",
    "the argument received is a number (int or float) print using the .format style for float, if the argument is a string then\n",
    "print using the .format style for string.\n",
    "\n",
    "\n",
    "'''"
   ]
  },
  {
   "cell_type": "code",
   "execution_count": 99,
   "id": "0c6e7b90",
   "metadata": {},
   "outputs": [],
   "source": [
    "def singleStringPrint(v):\n",
    "    if type(v)==int:\n",
    "        print(\"{0} is an integer\".format(v))\n",
    "    if type(v)==float:\n",
    "        print(\"{0:.4f} is a floating point number\".format(v))\n",
    "    if type(v)==str:\n",
    "        print(\"{0:s} is a string\".format(v))"
   ]
  },
  {
   "cell_type": "code",
   "execution_count": 100,
   "id": "a2ef213f",
   "metadata": {},
   "outputs": [
    {
     "name": "stdout",
     "output_type": "stream",
     "text": [
      "s is a string\n"
     ]
    }
   ],
   "source": [
    "singleStringPrint(\"s\")"
   ]
  },
  {
   "cell_type": "code",
   "execution_count": 101,
   "id": "da5a845b",
   "metadata": {},
   "outputs": [
    {
     "name": "stdout",
     "output_type": "stream",
     "text": [
      "0.5000 is a floating point number\n"
     ]
    }
   ],
   "source": [
    "singleStringPrint(.5)"
   ]
  },
  {
   "cell_type": "code",
   "execution_count": 186,
   "id": "6dcc63cc",
   "metadata": {},
   "outputs": [
    {
     "name": "stdout",
     "output_type": "stream",
     "text": [
      "1 is an integer\n"
     ]
    }
   ],
   "source": [
    "singleStringPrint(1)"
   ]
  },
  {
   "cell_type": "code",
   "execution_count": null,
   "id": "fbbcb581",
   "metadata": {},
   "outputs": [],
   "source": [
    "'''\n",
    "# 2. define a function singleNumericPrint to receive a single argument which needs to be printed -\n",
    "if the argument received is a number (int or float) print using the .format style for float, if the argument is a string then\n",
    "print using the .format style for float after converting to a float (use try/except block to handle error conditions\n",
    "gracefully)\n",
    "\n",
    "'''"
   ]
  },
  {
   "cell_type": "code",
   "execution_count": 118,
   "id": "3e517eff",
   "metadata": {},
   "outputs": [],
   "source": [
    "def singleNumericPrint(n):\n",
    "    if n== float or int:\n",
    "        print(\"{0:.4f} is a number\".format(n))\n",
    "    if n==str:\n",
    "        try:\n",
    "            a = float(n)\n",
    "        except:\n",
    "            print(\"{0:s} is a string\".format(n))\n",
    "        else:\n",
    "            print(\"{0:.4f} is a number\".format(a))\n",
    " #not working properly   "
   ]
  },
  {
   "cell_type": "code",
   "execution_count": 120,
   "id": "e748ad87",
   "metadata": {},
   "outputs": [
    {
     "ename": "ValueError",
     "evalue": "Unknown format code 'f' for object of type 'str'",
     "output_type": "error",
     "traceback": [
      "\u001b[1;31m---------------------------------------------------------------------------\u001b[0m",
      "\u001b[1;31mValueError\u001b[0m                                Traceback (most recent call last)",
      "\u001b[1;32m~\\AppData\\Local\\Temp/ipykernel_9192/158533503.py\u001b[0m in \u001b[0;36m<module>\u001b[1;34m\u001b[0m\n\u001b[1;32m----> 1\u001b[1;33m \u001b[0msingleNumericPrint\u001b[0m\u001b[1;33m(\u001b[0m\u001b[1;34m\"j\"\u001b[0m\u001b[1;33m)\u001b[0m\u001b[1;33m\u001b[0m\u001b[1;33m\u001b[0m\u001b[0m\n\u001b[0m",
      "\u001b[1;32m~\\AppData\\Local\\Temp/ipykernel_9192/3707761285.py\u001b[0m in \u001b[0;36msingleNumericPrint\u001b[1;34m(n)\u001b[0m\n\u001b[0;32m      1\u001b[0m \u001b[1;32mdef\u001b[0m \u001b[0msingleNumericPrint\u001b[0m\u001b[1;33m(\u001b[0m\u001b[0mn\u001b[0m\u001b[1;33m)\u001b[0m\u001b[1;33m:\u001b[0m\u001b[1;33m\u001b[0m\u001b[1;33m\u001b[0m\u001b[0m\n\u001b[0;32m      2\u001b[0m     \u001b[1;32mif\u001b[0m \u001b[0mn\u001b[0m\u001b[1;33m==\u001b[0m \u001b[0mfloat\u001b[0m \u001b[1;32mor\u001b[0m \u001b[0mint\u001b[0m\u001b[1;33m:\u001b[0m\u001b[1;33m\u001b[0m\u001b[1;33m\u001b[0m\u001b[0m\n\u001b[1;32m----> 3\u001b[1;33m         \u001b[0mprint\u001b[0m\u001b[1;33m(\u001b[0m\u001b[1;34m\"{0:.4f} is a number\"\u001b[0m\u001b[1;33m.\u001b[0m\u001b[0mformat\u001b[0m\u001b[1;33m(\u001b[0m\u001b[0mn\u001b[0m\u001b[1;33m)\u001b[0m\u001b[1;33m)\u001b[0m\u001b[1;33m\u001b[0m\u001b[1;33m\u001b[0m\u001b[0m\n\u001b[0m\u001b[0;32m      4\u001b[0m     \u001b[1;32mif\u001b[0m \u001b[0mn\u001b[0m\u001b[1;33m==\u001b[0m\u001b[0mstr\u001b[0m\u001b[1;33m:\u001b[0m\u001b[1;33m\u001b[0m\u001b[1;33m\u001b[0m\u001b[0m\n\u001b[0;32m      5\u001b[0m         \u001b[1;32mtry\u001b[0m\u001b[1;33m:\u001b[0m\u001b[1;33m\u001b[0m\u001b[1;33m\u001b[0m\u001b[0m\n",
      "\u001b[1;31mValueError\u001b[0m: Unknown format code 'f' for object of type 'str'"
     ]
    }
   ],
   "source": [
    "singleNumericPrint(\"j\")"
   ]
  },
  {
   "cell_type": "code",
   "execution_count": 95,
   "id": "79380455",
   "metadata": {},
   "outputs": [],
   "source": [
    "def singleNumericPrint1(x):\n",
    "    if isinstance(x, float) or isinstance(x, int):\n",
    "        print(\"The is a number: {0:1.8f}\".format(x))\n",
    "    elif isinstance(x, str):\n",
    "        try:\n",
    "            y = float(x)\n",
    "        except:\n",
    "            print(\"{} was a string not printable as a number\".format(x))\n",
    "        else:\n",
    "            print(\"The is a number: {0:1.8f}\".format(y))"
   ]
  },
  {
   "cell_type": "code",
   "execution_count": 96,
   "id": "87087ab8",
   "metadata": {},
   "outputs": [
    {
     "name": "stdout",
     "output_type": "stream",
     "text": [
      "s was a string not printable as a number\n"
     ]
    }
   ],
   "source": [
    "singleNumericPrint1(\"s\")"
   ]
  },
  {
   "cell_type": "code",
   "execution_count": null,
   "id": "2abf64ac",
   "metadata": {},
   "outputs": [],
   "source": []
  },
  {
   "cell_type": "code",
   "execution_count": null,
   "id": "0e9a66d3",
   "metadata": {},
   "outputs": [],
   "source": []
  },
  {
   "cell_type": "code",
   "execution_count": null,
   "id": "3fa96132",
   "metadata": {},
   "outputs": [],
   "source": [
    "'''\n",
    "# 3. define a function multiplePrint to receive multiple arguments to be printed (using args and\n",
    "kwargs), it will also accept a keyword parameter called inputtype whose default value is \"string\". The inputtype\n",
    "parameter would be used to decide to call the singleXXXPrint functions. If the value passed is \"string\" call\n",
    "singleStringPrint function irrespective of the data type of the values to be printed. If is it is anything else call the\n",
    "singleNumericPrint.\n",
    "# (you may limit yourself to int, float and str type parameters)\n",
    "'''"
   ]
  },
  {
   "cell_type": "code",
   "execution_count": 115,
   "id": "ef80bebc",
   "metadata": {},
   "outputs": [],
   "source": [
    "def multiplePrint(*args, inputtype = \"string\", **kwargs):\n",
    "    if inputtype == \"string\":\n",
    "        for x in args:\n",
    "            singleStringPrint(x)\n",
    "        for k,v in kwargs.items():\n",
    "            singleStringPrint(v)\n",
    "    else:\n",
    "        for x in args:\n",
    "            singleNumericPrint1(x)\n",
    "        for k,v in kwargs.items():\n",
    "            singleNumericPrint1(v)\n",
    "    "
   ]
  },
  {
   "cell_type": "code",
   "execution_count": 117,
   "id": "71b939f3",
   "metadata": {},
   "outputs": [
    {
     "name": "stdout",
     "output_type": "stream",
     "text": [
      "0 is an integer\n"
     ]
    }
   ],
   "source": [
    "multiplePrint(0)"
   ]
  },
  {
   "cell_type": "code",
   "execution_count": null,
   "id": "af80b693",
   "metadata": {},
   "outputs": [],
   "source": []
  },
  {
   "cell_type": "code",
   "execution_count": null,
   "id": "72a8beed",
   "metadata": {},
   "outputs": [],
   "source": []
  },
  {
   "cell_type": "code",
   "execution_count": null,
   "id": "027f850e",
   "metadata": {},
   "outputs": [],
   "source": []
  },
  {
   "cell_type": "code",
   "execution_count": null,
   "id": "d101ef07",
   "metadata": {},
   "outputs": [],
   "source": []
  },
  {
   "cell_type": "code",
   "execution_count": null,
   "id": "a58d8f6d",
   "metadata": {},
   "outputs": [],
   "source": []
  },
  {
   "cell_type": "code",
   "execution_count": null,
   "id": "c7eb9531",
   "metadata": {},
   "outputs": [],
   "source": []
  },
  {
   "cell_type": "code",
   "execution_count": null,
   "id": "0ed391c4",
   "metadata": {},
   "outputs": [],
   "source": [
    "'''\n",
    "Q3.\n",
    "Write a simple word count program by reading any text file.\n",
    "'''\n"
   ]
  },
  {
   "cell_type": "code",
   "execution_count": 43,
   "id": "41bf7fd2",
   "metadata": {},
   "outputs": [
    {
     "data": {
      "text/plain": [
       "'C:\\\\Users\\\\Ujjwa\\\\OneDrive\\\\Desktop\\\\BDA\\\\Python'"
      ]
     },
     "execution_count": 43,
     "metadata": {},
     "output_type": "execute_result"
    }
   ],
   "source": [
    "pwd"
   ]
  },
  {
   "cell_type": "code",
   "execution_count": 55,
   "id": "d3424c9b",
   "metadata": {},
   "outputs": [
    {
     "name": "stdout",
     "output_type": "stream",
     "text": [
      "Quod equidem non reprehendo;\n",
      "\n",
      "total number of words: 542\n"
     ]
    }
   ],
   "source": [
    "text=open('/Users/Ujjwa/OneDrive/Desktop/BDA/Python/sample3.txt')\n",
    "number_of_words = 0\n",
    "for line in text:\n",
    "    print(line)\n",
    "    data = text.read()\n",
    "    lines = data.split()\n",
    "    number_of_words += len(lines)\n",
    "print(\"total number of words:\",number_of_words)"
   ]
  },
  {
   "cell_type": "code",
   "execution_count": null,
   "id": "cbdf4e12",
   "metadata": {},
   "outputs": [],
   "source": []
  },
  {
   "cell_type": "code",
   "execution_count": null,
   "id": "0f42e8f9",
   "metadata": {},
   "outputs": [],
   "source": []
  }
 ],
 "metadata": {
  "kernelspec": {
   "display_name": "Python 3 (ipykernel)",
   "language": "python",
   "name": "python3"
  },
  "language_info": {
   "codemirror_mode": {
    "name": "ipython",
    "version": 3
   },
   "file_extension": ".py",
   "mimetype": "text/x-python",
   "name": "python",
   "nbconvert_exporter": "python",
   "pygments_lexer": "ipython3",
   "version": "3.8.11"
  }
 },
 "nbformat": 4,
 "nbformat_minor": 5
}
