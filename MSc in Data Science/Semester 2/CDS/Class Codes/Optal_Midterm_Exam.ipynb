{
 "cells": [
  {
   "cell_type": "code",
   "execution_count": 1,
   "id": "6e34c176-7b22-47b2-b5d1-5a583cc8f64f",
   "metadata": {},
   "outputs": [],
   "source": [
    "import numpy as np\n",
    "import matplotlib.pyplot as plt\n",
    "import jax\n",
    "from jax import jacfwd, jacrev"
   ]
  },
  {
   "cell_type": "markdown",
   "id": "b5aea982-9d84-4bc0-b8d3-1e542e0f633c",
   "metadata": {},
   "source": [
    "### Question 1"
   ]
  },
  {
   "cell_type": "code",
   "execution_count": 2,
   "id": "2e9ee4b5-e9ee-4b12-8cba-31db94f6d08e",
   "metadata": {},
   "outputs": [],
   "source": [
    "def f1(x):\n",
    "   \n",
    "    return (x[1]-x[0]**2)**2 + (np.exp(x[0]**2))"
   ]
  },
  {
   "cell_type": "code",
   "execution_count": 3,
   "id": "1f915eb6-2091-4093-b2b3-4c87946a8c1f",
   "metadata": {},
   "outputs": [
    {
     "data": {
      "text/plain": [
       "3.718281828459045"
      ]
     },
     "execution_count": 3,
     "metadata": {},
     "output_type": "execute_result"
    }
   ],
   "source": [
    "f1((1,2))"
   ]
  },
  {
   "cell_type": "code",
   "execution_count": 4,
   "id": "de8e90fa-25d2-4dd1-ac92-0833f5e361b0",
   "metadata": {},
   "outputs": [
    {
     "data": {
      "text/plain": [
       "0.6180339887498948"
      ]
     },
     "execution_count": 4,
     "metadata": {},
     "output_type": "execute_result"
    }
   ],
   "source": [
    "2/(1+np.sqrt(5))"
   ]
  },
  {
   "cell_type": "code",
   "execution_count": 5,
   "id": "3af5fae8-6ea1-4d00-9a4d-b94c2b73d70d",
   "metadata": {},
   "outputs": [],
   "source": [
    "def Golden_Section(f,x1,x2,e=0.2):\n",
    "    x1=np.array(x1)\n",
    "    x2=np.array(x2)\n",
    "    gr=(1+np.sqrt(5))/2\n",
    "    a=x1+(x2-x1)/gr\n",
    "    b=x2-(x2-x1)/gr\n",
    "    l=[(a+b)/2]\n",
    "    length=[np.linalg.norm(x1-x2)]\n",
    "    intera=[x1]\n",
    "    interb=[x2]\n",
    "    \n",
    "    \n",
    "#     length=[np.linalg.norm(a-b)]\n",
    "#     intera=[a]\n",
    "#     interb=[b]\n",
    "    while np.linalg.norm(a-b)>e:\n",
    "        if f(a)>f(b):\n",
    "            x2=a\n",
    "        else:\n",
    "            x1=b\n",
    "            \n",
    "        length.append(np.linalg.norm(a-b))\n",
    "        intera.append(a)\n",
    "        interb.append(b)\n",
    "        a=x1+(x2-x1)/gr\n",
    "        b=x2-(x2-x1)/gr\n",
    "        l.append((a+b)/2)\n",
    "        \n",
    "    return l,length,intera,interb"
   ]
  },
  {
   "cell_type": "code",
   "execution_count": 6,
   "id": "e6f9904f-1419-44db-bcd1-c6e7c441b903",
   "metadata": {},
   "outputs": [],
   "source": [
    "L,Length,A,B=Golden_Section(f1,(0,1),(1,2))"
   ]
  },
  {
   "cell_type": "code",
   "execution_count": 7,
   "id": "f334a0cd-1a60-4cde-8ba0-46fdf497eaad",
   "metadata": {},
   "outputs": [
    {
     "data": {
      "text/plain": [
       "[array([0.5, 1.5]),\n",
       " array([0.30901699, 1.30901699]),\n",
       " array([0.19098301, 1.19098301])]"
      ]
     },
     "execution_count": 7,
     "metadata": {},
     "output_type": "execute_result"
    }
   ],
   "source": [
    "L"
   ]
  },
  {
   "cell_type": "code",
   "execution_count": 8,
   "id": "6dbaeee0-9269-45d4-930d-153423abf764",
   "metadata": {},
   "outputs": [
    {
     "data": {
      "text/plain": [
       "[1.4142135623730951, 0.33385053542218923, 0.20633097805326353]"
      ]
     },
     "execution_count": 8,
     "metadata": {},
     "output_type": "execute_result"
    }
   ],
   "source": [
    "#The Step Lengths\n",
    "\n",
    "Length"
   ]
  },
  {
   "cell_type": "code",
   "execution_count": 9,
   "id": "a54f520c-a15c-4c0b-b849-19f8d2316835",
   "metadata": {},
   "outputs": [
    {
     "data": {
      "text/plain": [
       "[array([0, 1]),\n",
       " array([0.61803399, 1.61803399]),\n",
       " array([0.38196601, 1.38196601])]"
      ]
     },
     "execution_count": 9,
     "metadata": {},
     "output_type": "execute_result"
    }
   ],
   "source": [
    "#X1\n",
    "\n",
    "A"
   ]
  },
  {
   "cell_type": "code",
   "execution_count": 10,
   "id": "ad19bf1d-7bab-415e-b195-c352c58ea71b",
   "metadata": {},
   "outputs": [
    {
     "data": {
      "text/plain": [
       "[array([1, 2]),\n",
       " array([0.38196601, 1.38196601]),\n",
       " array([0.23606798, 1.23606798])]"
      ]
     },
     "execution_count": 10,
     "metadata": {},
     "output_type": "execute_result"
    }
   ],
   "source": [
    "#X2\n",
    "\n",
    "B"
   ]
  },
  {
   "cell_type": "code",
   "execution_count": 11,
   "id": "4e2cdf55-7ed9-4c7a-853f-e1108a91e372",
   "metadata": {},
   "outputs": [
    {
     "data": {
      "text/plain": [
       "[2.0, 2.993026330252599, 2.684942244111319]"
      ]
     },
     "execution_count": 11,
     "metadata": {},
     "output_type": "execute_result"
    }
   ],
   "source": [
    "#Functioanl Values of X1\n",
    "\n",
    "[f1(a) for a in A]"
   ]
  },
  {
   "cell_type": "code",
   "execution_count": 12,
   "id": "a3d53101-c064-4ed8-865d-0c9e63d3c616",
   "metadata": {},
   "outputs": [
    {
     "data": {
      "text/plain": [
       "[3.718281828459045, 2.684942244111319, 2.450512401465571]"
      ]
     },
     "execution_count": 12,
     "metadata": {},
     "output_type": "execute_result"
    }
   ],
   "source": [
    "#Functional Values of X2\n",
    "\n",
    "[f1(b) for b in B]"
   ]
  },
  {
   "cell_type": "code",
   "execution_count": null,
   "id": "06ce399d-c447-47b3-a673-71b1fc13923a",
   "metadata": {},
   "outputs": [],
   "source": []
  },
  {
   "cell_type": "code",
   "execution_count": null,
   "id": "ba122e44-b289-4363-997b-592c547101ce",
   "metadata": {},
   "outputs": [],
   "source": []
  }
 ],
 "metadata": {
  "kernelspec": {
   "display_name": "Python 3 (ipykernel)",
   "language": "python",
   "name": "python3"
  },
  "language_info": {
   "codemirror_mode": {
    "name": "ipython",
    "version": 3
   },
   "file_extension": ".py",
   "mimetype": "text/x-python",
   "name": "python",
   "nbconvert_exporter": "python",
   "pygments_lexer": "ipython3",
   "version": "3.9.7"
  }
 },
 "nbformat": 4,
 "nbformat_minor": 5
}
