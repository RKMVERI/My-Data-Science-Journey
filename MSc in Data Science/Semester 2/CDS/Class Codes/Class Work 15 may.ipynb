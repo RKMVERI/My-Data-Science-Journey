{
 "cells": [
  {
   "cell_type": "code",
   "execution_count": 1,
   "id": "6c08d66d",
   "metadata": {},
   "outputs": [],
   "source": [
    "import numpy as np\n",
    "import pandas as pd\n",
    "import matplotlib.pyplot as plt"
   ]
  },
  {
   "cell_type": "code",
   "execution_count": 7,
   "id": "63a670cd",
   "metadata": {},
   "outputs": [],
   "source": [
    "X = 2 * np.random.rand(100,1)\n",
    "y = 3 * X + np.random.rand(100,1)"
   ]
  },
  {
   "cell_type": "code",
   "execution_count": 8,
   "id": "129de35d",
   "metadata": {},
   "outputs": [
    {
     "data": {
      "text/plain": [
       "<matplotlib.collections.PathCollection at 0x28c4688b490>"
      ]
     },
     "execution_count": 8,
     "metadata": {},
     "output_type": "execute_result"
    },
    {
     "data": {
      "image/png": "[encoded data removed]",
      "text/plain": [
       "<Figure size 432x288 with 1 Axes>"
      ]
     },
     "metadata": {
      "needs_background": "light"
     },
     "output_type": "display_data"
    }
   ],
   "source": [
    "plt.scatter(X,y)"
   ]
  },
  {
   "cell_type": "code",
   "execution_count": 94,
   "id": "4fa59920",
   "metadata": {},
   "outputs": [],
   "source": [
    "X_b = np.c_[np.zeros((100,1)),X]  # add x0 = 1 to each instance"
   ]
  },
  {
   "cell_type": "code",
   "execution_count": 95,
   "id": "971ec0ad",
   "metadata": {},
   "outputs": [
    {
     "data": {
      "text/plain": [
       "array([[0.        , 0.23996524],\n",
       "       [0.        , 1.49708278],\n",
       "       [0.        , 1.52571581],\n",
       "       [0.        , 1.00253639],\n",
       "       [0.        , 1.77285261],\n",
       "       [0.        , 0.92592719],\n",
       "       [0.        , 0.16917149],\n",
       "       [0.        , 1.39233789],\n",
       "       [0.        , 1.75956475],\n",
       "       [0.        , 1.25387068],\n",
       "       [0.        , 1.47034265],\n",
       "       [0.        , 0.0610067 ],\n",
       "       [0.        , 0.0120578 ],\n",
       "       [0.        , 0.7688206 ],\n",
       "       [0.        , 1.45232427],\n",
       "       [0.        , 1.45812522],\n",
       "       [0.        , 0.82763241],\n",
       "       [0.        , 0.75143553],\n",
       "       [0.        , 1.27444887],\n",
       "       [0.        , 1.14698184],\n",
       "       [0.        , 0.21404186],\n",
       "       [0.        , 1.61126846],\n",
       "       [0.        , 1.67542095],\n",
       "       [0.        , 0.19706068],\n",
       "       [0.        , 1.34532529],\n",
       "       [0.        , 0.893255  ],\n",
       "       [0.        , 1.81243381],\n",
       "       [0.        , 0.47910043],\n",
       "       [0.        , 0.85012751],\n",
       "       [0.        , 1.49946693],\n",
       "       [0.        , 0.63115033],\n",
       "       [0.        , 0.23291972],\n",
       "       [0.        , 0.80712083],\n",
       "       [0.        , 1.85853083],\n",
       "       [0.        , 0.46740235],\n",
       "       [0.        , 1.71012092],\n",
       "       [0.        , 0.28292318],\n",
       "       [0.        , 1.96494569],\n",
       "       [0.        , 0.45363264],\n",
       "       [0.        , 1.66667938],\n",
       "       [0.        , 1.02764008],\n",
       "       [0.        , 1.07515534],\n",
       "       [0.        , 1.82630352],\n",
       "       [0.        , 0.75928903],\n",
       "       [0.        , 0.85347498],\n",
       "       [0.        , 1.44973292],\n",
       "       [0.        , 1.31033055],\n",
       "       [0.        , 1.41408996],\n",
       "       [0.        , 1.44992776],\n",
       "       [0.        , 1.21280648],\n",
       "       [0.        , 1.85380866],\n",
       "       [0.        , 0.32961412],\n",
       "       [0.        , 1.54108607],\n",
       "       [0.        , 0.05480623],\n",
       "       [0.        , 1.97608803],\n",
       "       [0.        , 1.20627704],\n",
       "       [0.        , 0.63329372],\n",
       "       [0.        , 1.15630514],\n",
       "       [0.        , 1.009255  ],\n",
       "       [0.        , 0.33508016],\n",
       "       [0.        , 1.65902414],\n",
       "       [0.        , 1.20836272],\n",
       "       [0.        , 1.59044064],\n",
       "       [0.        , 0.51464563],\n",
       "       [0.        , 0.64339699],\n",
       "       [0.        , 0.81541903],\n",
       "       [0.        , 0.03191917],\n",
       "       [0.        , 0.83805318],\n",
       "       [0.        , 0.30900251],\n",
       "       [0.        , 1.54261502],\n",
       "       [0.        , 1.1008788 ],\n",
       "       [0.        , 1.0582695 ],\n",
       "       [0.        , 0.32223689],\n",
       "       [0.        , 0.7818166 ],\n",
       "       [0.        , 0.62333786],\n",
       "       [0.        , 0.50104763],\n",
       "       [0.        , 0.35025437],\n",
       "       [0.        , 1.18769945],\n",
       "       [0.        , 1.74501579],\n",
       "       [0.        , 1.57360311],\n",
       "       [0.        , 1.00239074],\n",
       "       [0.        , 0.35709544],\n",
       "       [0.        , 1.68467334],\n",
       "       [0.        , 0.5598919 ],\n",
       "       [0.        , 0.65121641],\n",
       "       [0.        , 1.37240168],\n",
       "       [0.        , 1.11761968],\n",
       "       [0.        , 0.05778846],\n",
       "       [0.        , 1.80087387],\n",
       "       [0.        , 1.39261735],\n",
       "       [0.        , 1.90580571],\n",
       "       [0.        , 1.55026995],\n",
       "       [0.        , 1.37423985],\n",
       "       [0.        , 1.09324523],\n",
       "       [0.        , 0.28412079],\n",
       "       [0.        , 0.41181077],\n",
       "       [0.        , 1.27706232],\n",
       "       [0.        , 1.62563681],\n",
       "       [0.        , 0.42277459],\n",
       "       [0.        , 1.53995602]])"
      ]
     },
     "execution_count": 95,
     "metadata": {},
     "output_type": "execute_result"
    }
   ],
   "source": [
    "X_b"
   ]
  },
  {
   "cell_type": "code",
   "execution_count": 96,
   "id": "2b198963",
   "metadata": {},
   "outputs": [],
   "source": [
    "l = 0.001 # Learning Rate\n",
    "n_iterations = 1000\n",
    "m = 100\n",
    "iterations = []\n",
    "weights = []\n",
    "wt = np.random.randn(2,1) # Random initialization\n",
    "for i in range(n_iterations):\n",
    "    gradients = 2/m * X_b.T.dot(X_b.dot(wt) - y)\n",
    "    wt = wt - l * gradients\n",
    "    weights.append(wt)\n",
    "    iterations.append(i)"
   ]
  },
  {
   "cell_type": "code",
   "execution_count": 97,
   "id": "ea29d7f5",
   "metadata": {},
   "outputs": [],
   "source": [
    "wtgs = np.array(weights)\n",
    "iters = np.array(iterations)\n",
    "wt = np.squeeze(wtgs)"
   ]
  },
  {
   "cell_type": "code",
   "execution_count": 105,
   "id": "fd05cded",
   "metadata": {},
   "outputs": [
    {
     "data": {
      "text/plain": [
       "[<matplotlib.lines.Line2D at 0x28c47959a90>,\n",
       " <matplotlib.lines.Line2D at 0x28c47959190>]"
      ]
     },
     "execution_count": 105,
     "metadata": {},
     "output_type": "execute_result"
    },
    {
     "data": {
      "image/png": "[encoded data removed]",
      "text/plain": [
       "<Figure size 432x288 with 1 Axes>"
      ]
     },
     "metadata": {
      "needs_background": "light"
     },
     "output_type": "display_data"
    }
   ],
   "source": [
    "plt.plot(iters, wt)"
   ]
  },
  {
   "cell_type": "code",
   "execution_count": 99,
   "id": "fbbde1e7",
   "metadata": {},
   "outputs": [
    {
     "data": {
      "text/plain": [
       "array([[0.56198434, 0.71293879],\n",
       "       [0.56198434, 0.72033388],\n",
       "       [0.56198434, 0.72770852],\n",
       "       ...,\n",
       "       [0.56198434, 3.21788247],\n",
       "       [0.56198434, 3.21835002],\n",
       "       [0.56198434, 3.21881627]])"
      ]
     },
     "execution_count": 99,
     "metadata": {},
     "output_type": "execute_result"
    }
   ],
   "source": [
    "wt"
   ]
  },
  {
   "cell_type": "code",
   "execution_count": 103,
   "id": "e1e8f206",
   "metadata": {},
   "outputs": [
    {
     "data": {
      "text/plain": [
       "array([  0,   1,   2,   3,   4,   5,   6,   7,   8,   9,  10,  11,  12,\n",
       "        13,  14,  15,  16,  17,  18,  19,  20,  21,  22,  23,  24,  25,\n",
       "        26,  27,  28,  29,  30,  31,  32,  33,  34,  35,  36,  37,  38,\n",
       "        39,  40,  41,  42,  43,  44,  45,  46,  47,  48,  49,  50,  51,\n",
       "        52,  53,  54,  55,  56,  57,  58,  59,  60,  61,  62,  63,  64,\n",
       "        65,  66,  67,  68,  69,  70,  71,  72,  73,  74,  75,  76,  77,\n",
       "        78,  79,  80,  81,  82,  83,  84,  85,  86,  87,  88,  89,  90,\n",
       "        91,  92,  93,  94,  95,  96,  97,  98,  99, 100, 101, 102, 103,\n",
       "       104, 105, 106, 107, 108, 109, 110, 111, 112, 113, 114, 115, 116,\n",
       "       117, 118, 119, 120, 121, 122, 123, 124, 125, 126, 127, 128, 129,\n",
       "       130, 131, 132, 133, 134, 135, 136, 137, 138, 139, 140, 141, 142,\n",
       "       143, 144, 145, 146, 147, 148, 149, 150, 151, 152, 153, 154, 155,\n",
       "       156, 157, 158, 159, 160, 161, 162, 163, 164, 165, 166, 167, 168,\n",
       "       169, 170, 171, 172, 173, 174, 175, 176, 177, 178, 179, 180, 181,\n",
       "       182, 183, 184, 185, 186, 187, 188, 189, 190, 191, 192, 193, 194,\n",
       "       195, 196, 197, 198, 199, 200, 201, 202, 203, 204, 205, 206, 207,\n",
       "       208, 209, 210, 211, 212, 213, 214, 215, 216, 217, 218, 219, 220,\n",
       "       221, 222, 223, 224, 225, 226, 227, 228, 229, 230, 231, 232, 233,\n",
       "       234, 235, 236, 237, 238, 239, 240, 241, 242, 243, 244, 245, 246,\n",
       "       247, 248, 249, 250, 251, 252, 253, 254, 255, 256, 257, 258, 259,\n",
       "       260, 261, 262, 263, 264, 265, 266, 267, 268, 269, 270, 271, 272,\n",
       "       273, 274, 275, 276, 277, 278, 279, 280, 281, 282, 283, 284, 285,\n",
       "       286, 287, 288, 289, 290, 291, 292, 293, 294, 295, 296, 297, 298,\n",
       "       299, 300, 301, 302, 303, 304, 305, 306, 307, 308, 309, 310, 311,\n",
       "       312, 313, 314, 315, 316, 317, 318, 319, 320, 321, 322, 323, 324,\n",
       "       325, 326, 327, 328, 329, 330, 331, 332, 333, 334, 335, 336, 337,\n",
       "       338, 339, 340, 341, 342, 343, 344, 345, 346, 347, 348, 349, 350,\n",
       "       351, 352, 353, 354, 355, 356, 357, 358, 359, 360, 361, 362, 363,\n",
       "       364, 365, 366, 367, 368, 369, 370, 371, 372, 373, 374, 375, 376,\n",
       "       377, 378, 379, 380, 381, 382, 383, 384, 385, 386, 387, 388, 389,\n",
       "       390, 391, 392, 393, 394, 395, 396, 397, 398, 399, 400, 401, 402,\n",
       "       403, 404, 405, 406, 407, 408, 409, 410, 411, 412, 413, 414, 415,\n",
       "       416, 417, 418, 419, 420, 421, 422, 423, 424, 425, 426, 427, 428,\n",
       "       429, 430, 431, 432, 433, 434, 435, 436, 437, 438, 439, 440, 441,\n",
       "       442, 443, 444, 445, 446, 447, 448, 449, 450, 451, 452, 453, 454,\n",
       "       455, 456, 457, 458, 459, 460, 461, 462, 463, 464, 465, 466, 467,\n",
       "       468, 469, 470, 471, 472, 473, 474, 475, 476, 477, 478, 479, 480,\n",
       "       481, 482, 483, 484, 485, 486, 487, 488, 489, 490, 491, 492, 493,\n",
       "       494, 495, 496, 497, 498, 499, 500, 501, 502, 503, 504, 505, 506,\n",
       "       507, 508, 509, 510, 511, 512, 513, 514, 515, 516, 517, 518, 519,\n",
       "       520, 521, 522, 523, 524, 525, 526, 527, 528, 529, 530, 531, 532,\n",
       "       533, 534, 535, 536, 537, 538, 539, 540, 541, 542, 543, 544, 545,\n",
       "       546, 547, 548, 549, 550, 551, 552, 553, 554, 555, 556, 557, 558,\n",
       "       559, 560, 561, 562, 563, 564, 565, 566, 567, 568, 569, 570, 571,\n",
       "       572, 573, 574, 575, 576, 577, 578, 579, 580, 581, 582, 583, 584,\n",
       "       585, 586, 587, 588, 589, 590, 591, 592, 593, 594, 595, 596, 597,\n",
       "       598, 599, 600, 601, 602, 603, 604, 605, 606, 607, 608, 609, 610,\n",
       "       611, 612, 613, 614, 615, 616, 617, 618, 619, 620, 621, 622, 623,\n",
       "       624, 625, 626, 627, 628, 629, 630, 631, 632, 633, 634, 635, 636,\n",
       "       637, 638, 639, 640, 641, 642, 643, 644, 645, 646, 647, 648, 649,\n",
       "       650, 651, 652, 653, 654, 655, 656, 657, 658, 659, 660, 661, 662,\n",
       "       663, 664, 665, 666, 667, 668, 669, 670, 671, 672, 673, 674, 675,\n",
       "       676, 677, 678, 679, 680, 681, 682, 683, 684, 685, 686, 687, 688,\n",
       "       689, 690, 691, 692, 693, 694, 695, 696, 697, 698, 699, 700, 701,\n",
       "       702, 703, 704, 705, 706, 707, 708, 709, 710, 711, 712, 713, 714,\n",
       "       715, 716, 717, 718, 719, 720, 721, 722, 723, 724, 725, 726, 727,\n",
       "       728, 729, 730, 731, 732, 733, 734, 735, 736, 737, 738, 739, 740,\n",
       "       741, 742, 743, 744, 745, 746, 747, 748, 749, 750, 751, 752, 753,\n",
       "       754, 755, 756, 757, 758, 759, 760, 761, 762, 763, 764, 765, 766,\n",
       "       767, 768, 769, 770, 771, 772, 773, 774, 775, 776, 777, 778, 779,\n",
       "       780, 781, 782, 783, 784, 785, 786, 787, 788, 789, 790, 791, 792,\n",
       "       793, 794, 795, 796, 797, 798, 799, 800, 801, 802, 803, 804, 805,\n",
       "       806, 807, 808, 809, 810, 811, 812, 813, 814, 815, 816, 817, 818,\n",
       "       819, 820, 821, 822, 823, 824, 825, 826, 827, 828, 829, 830, 831,\n",
       "       832, 833, 834, 835, 836, 837, 838, 839, 840, 841, 842, 843, 844,\n",
       "       845, 846, 847, 848, 849, 850, 851, 852, 853, 854, 855, 856, 857,\n",
       "       858, 859, 860, 861, 862, 863, 864, 865, 866, 867, 868, 869, 870,\n",
       "       871, 872, 873, 874, 875, 876, 877, 878, 879, 880, 881, 882, 883,\n",
       "       884, 885, 886, 887, 888, 889, 890, 891, 892, 893, 894, 895, 896,\n",
       "       897, 898, 899, 900, 901, 902, 903, 904, 905, 906, 907, 908, 909,\n",
       "       910, 911, 912, 913, 914, 915, 916, 917, 918, 919, 920, 921, 922,\n",
       "       923, 924, 925, 926, 927, 928, 929, 930, 931, 932, 933, 934, 935,\n",
       "       936, 937, 938, 939, 940, 941, 942, 943, 944, 945, 946, 947, 948,\n",
       "       949, 950, 951, 952, 953, 954, 955, 956, 957, 958, 959, 960, 961,\n",
       "       962, 963, 964, 965, 966, 967, 968, 969, 970, 971, 972, 973, 974,\n",
       "       975, 976, 977, 978, 979, 980, 981, 982, 983, 984, 985, 986, 987,\n",
       "       988, 989, 990, 991, 992, 993, 994, 995, 996, 997, 998, 999])"
      ]
     },
     "execution_count": 103,
     "metadata": {},
     "output_type": "execute_result"
    }
   ],
   "source": [
    "iters"
   ]
  },
  {
   "cell_type": "code",
   "execution_count": null,
   "id": "4df60624",
   "metadata": {},
   "outputs": [],
   "source": []
  }
 ],
 "metadata": {
  "kernelspec": {
   "display_name": "Python 3 (ipykernel)",
   "language": "python",
   "name": "python3"
  },
  "language_info": {
   "codemirror_mode": {
    "name": "ipython",
    "version": 3
   },
   "file_extension": ".py",
   "mimetype": "text/x-python",
   "name": "python",
   "nbconvert_exporter": "python",
   "pygments_lexer": "ipython3",
   "version": "3.9.7"
  }
 },
 "nbformat": 4,
 "nbformat_minor": 5
}
