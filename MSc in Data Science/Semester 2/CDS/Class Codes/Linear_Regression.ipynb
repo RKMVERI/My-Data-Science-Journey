{
 "cells": [
  {
   "cell_type": "code",
   "execution_count": 1,
   "id": "8fb055bd",
   "metadata": {},
   "outputs": [],
   "source": [
    "import numpy as np\n",
    "\n",
    "# Needed for plotting\n",
    "import matplotlib.colors\n",
    "import matplotlib.pyplot as plt\n",
    "from mpl_toolkits.mplot3d import Axes3D\n",
    "\n",
    "# Needed for generating training and testing datasets\n",
    "from sklearn.model_selection import train_test_split\n",
    "import statsmodels.api as sm\n",
    "from sklearn.metrics import r2_score\n",
    "\n",
    "np.random.seed(1234)"
   ]
  },
  {
   "cell_type": "markdown",
   "id": "e19bc74f",
   "metadata": {},
   "source": [
    "### Setup Dataset"
   ]
  },
  {
   "cell_type": "code",
   "execution_count": 2,
   "id": "62ed1af7",
   "metadata": {},
   "outputs": [],
   "source": [
    "nsample = 10000\n",
    "sig = 0.5\n",
    "x = np.linspace(0, 20, nsample)\n",
    "\n",
    "X = np.column_stack((x, np.ones(nsample)))\n",
    "beta = [5, 3]\n",
    "\n",
    "#X = np.column_stack((x, x np.ones(nsample))) # ---> Multicollinearity: OLS breaks down without pseudo inverse\n",
    "#beta = [5, 2, 3]\n",
    "\n",
    "#X = np.column_stack((x, x**2, np.ones(nsample))) # ---> Batch Gradient Descent breaks down\n",
    "#beta = [5, 2, 3]\n",
    "\n",
    "#X = np.column_stack((x, x**2, np.sin(x), np.ones(nsample)))\n",
    "#beta = [5, 2, 7, 3]\n",
    "\n",
    "\n",
    "y_true = np.dot(X, beta)\n",
    "y = y_true + sig * np.random.normal(size=nsample)"
   ]
  },
  {
   "cell_type": "code",
   "execution_count": 5,
   "id": "beded8bd",
   "metadata": {},
   "outputs": [
    {
     "data": {
      "text/plain": [
       "array([[0.00000000e+00, 1.00000000e+00],\n",
       "       [2.00020002e-03, 1.00000000e+00],\n",
       "       [4.00040004e-03, 1.00000000e+00],\n",
       "       ...,\n",
       "       [1.99959996e+01, 1.00000000e+00],\n",
       "       [1.99979998e+01, 1.00000000e+00],\n",
       "       [2.00000000e+01, 1.00000000e+00]])"
      ]
     },
     "execution_count": 5,
     "metadata": {},
     "output_type": "execute_result"
    }
   ],
   "source": [
    "X"
   ]
  },
  {
   "cell_type": "markdown",
   "id": "8c38fe74",
   "metadata": {},
   "source": [
    "### Train Test Split"
   ]
  },
  {
   "cell_type": "code",
   "execution_count": 3,
   "id": "e24f7d06",
   "metadata": {},
   "outputs": [
    {
     "name": "stdout",
     "output_type": "stream",
     "text": [
      "X_train:(9000, 2)\n",
      "y_train:(9000,)\n"
     ]
    }
   ],
   "source": [
    "# split the dataset into train and test sets\n",
    "X_train, X_test, y_train,y_test = train_test_split(X, y, test_size=0.1, shuffle=False)\n",
    "# print train and test set shapes\n",
    "print(f\"X_train:{X_train.shape}\\ny_train:{y_train.shape}\")"
   ]
  },
  {
   "cell_type": "markdown",
   "id": "fd154487",
   "metadata": {},
   "source": [
    "## Ordinary Least Squares"
   ]
  },
  {
   "cell_type": "code",
   "execution_count": 4,
   "id": "4bd72f62",
   "metadata": {},
   "outputs": [],
   "source": [
    "%matplotlib inline"
   ]
  },
  {
   "cell_type": "code",
   "execution_count": 5,
   "id": "1ba24da9",
   "metadata": {},
   "outputs": [
    {
     "name": "stdout",
     "output_type": "stream",
     "text": [
      "                            OLS Regression Results                            \n",
      "==============================================================================\n",
      "Dep. Variable:                      y   R-squared:                       1.000\n",
      "Model:                            OLS   Adj. R-squared:                  1.000\n",
      "Method:                 Least Squares   F-statistic:                 2.450e+07\n",
      "Date:                Fri, 11 Mar 2022   Prob (F-statistic):               0.00\n",
      "Time:                        17:34:36   Log-Likelihood:                -6493.9\n",
      "No. Observations:                9000   AIC:                         1.299e+04\n",
      "Df Residuals:                    8998   BIC:                         1.301e+04\n",
      "Df Model:                           1                                         \n",
      "Covariance Type:            nonrobust                                         \n",
      "==============================================================================\n",
      "                 coef    std err          t      P>|t|      [0.025      0.975]\n",
      "------------------------------------------------------------------------------\n",
      "x1             4.9991      0.001   4949.540      0.000       4.997       5.001\n",
      "const          3.0166      0.010    287.395      0.000       2.996       3.037\n",
      "==============================================================================\n",
      "Omnibus:                        4.824   Durbin-Watson:                   1.993\n",
      "Prob(Omnibus):                  0.090   Jarque-Bera (JB):                4.773\n",
      "Skew:                          -0.043   Prob(JB):                       0.0920\n",
      "Kurtosis:                       2.927   Cond. No.                         20.9\n",
      "==============================================================================\n",
      "\n",
      "Notes:\n",
      "[1] Standard Errors assume that the covariance matrix of the errors is correctly specified.\n"
     ]
    }
   ],
   "source": [
    "res = sm.OLS(y_train, X_train).fit()\n",
    "print(res.summary())"
   ]
  },
  {
   "cell_type": "code",
   "execution_count": 6,
   "id": "b77ae74d",
   "metadata": {},
   "outputs": [
    {
     "name": "stdout",
     "output_type": "stream",
     "text": [
      "Analytically computing the parameters:\n",
      "[4.99908254 3.01664684]\n"
     ]
    }
   ],
   "source": [
    "print(\"Analytically computing the parameters:\")\n",
    "print(np.linalg.inv(X_train.T@X_train)@X_train.T@y_train)"
   ]
  },
  {
   "cell_type": "code",
   "execution_count": 7,
   "id": "8ac73ac7",
   "metadata": {},
   "outputs": [
    {
     "name": "stdout",
     "output_type": "stream",
     "text": [
      "Parameters:  [4.99908254 3.01664684]\n",
      "Standard errors:  [0.00101001 0.0104965 ]\n",
      "R_squared value:  0.9996328388279154\n",
      "Testing Accuracy:0.9706191582176014\n"
     ]
    }
   ],
   "source": [
    "print(\"Parameters: \", res.params)\n",
    "print(\"Standard errors: \", res.bse)\n",
    "print(\"R_squared value: \", res.rsquared)\n",
    "print(\"Testing Accuracy:{}\".format(r2_score(res.predict(X_test), y_test)))"
   ]
  },
  {
   "cell_type": "code",
   "execution_count": 8,
   "id": "f71187e5",
   "metadata": {},
   "outputs": [
    {
     "data": {
      "text/plain": [
       "<matplotlib.legend.Legend at 0x7fd4b0357340>"
      ]
     },
     "execution_count": 8,
     "metadata": {},
     "output_type": "execute_result"
    },
    {
     "data": {
      "image/png": "[encoded data removed]",
      "text/plain": [
       "<Figure size 576x432 with 1 Axes>"
      ]
     },
     "metadata": {
      "needs_background": "light"
     },
     "output_type": "display_data"
    }
   ],
   "source": [
    "pred_ols = res.get_prediction()\n",
    "iv_l = pred_ols.summary_frame()[\"obs_ci_lower\"]\n",
    "iv_u = pred_ols.summary_frame()[\"obs_ci_upper\"]\n",
    "\n",
    "fig, ax = plt.subplots(figsize=(8, 6))\n",
    "\n",
    "ax.plot(x, y, \"o\", label=\"data\")\n",
    "ax.plot(x, y_true, \"b-\", label=\"True\")\n",
    "ax.plot(X_train[:, 0], res.fittedvalues, \"r--.\", label=\"OLS\")\n",
    "ax.plot(X_train[:, 0], iv_u, \"r--\")\n",
    "ax.plot(X_train[:, 0], iv_l, \"r--\")\n",
    "ax.legend(loc=\"best\")"
   ]
  },
  {
   "cell_type": "markdown",
   "id": "3369aa8c",
   "metadata": {},
   "source": [
    "## Gradient Descent"
   ]
  },
  {
   "cell_type": "code",
   "execution_count": 9,
   "id": "0352803a",
   "metadata": {},
   "outputs": [],
   "source": [
    "import numpy as np\n",
    "import matplotlib.pyplot as plt\n",
    "\n",
    "class Regressor():\n",
    "    def __init__(self, learning_rate=0.01, tol=0.01, seed=None,normalize=False):\n",
    "        self.W = None\n",
    "        self.b = None\n",
    "        self.__lr = learning_rate\n",
    "        self.__tol = tol\n",
    "        self.__length = None\n",
    "        self.__normalize = normalize\n",
    "        self.__m = None\n",
    "        self.__costs = []\n",
    "        self.__iterations = []\n",
    "        self.__ws = []\n",
    "        self.__bs = []\n",
    "        np.random.seed(seed if seed is not None else np.random.randint(100))\n",
    "\n",
    "    def __initialize_weights_and_bias(self):\n",
    "        self.W = np.random.randn(self.__length) #(n,1)\n",
    "        self.b = 0\n",
    "        self.__ws.append(self.W)\n",
    "        self.__bs.append(self.b)\n",
    "\n",
    "    def __computeCost(self,h,Y):\n",
    "        loss = np.square(h-Y)\n",
    "        cost = np.sum(loss)/(2*self.__m)\n",
    "        return cost\n",
    "\n",
    "    def __optimize(self,X,Y):\n",
    "        h = np.dot(X,self.W)+self.b\n",
    "        dW = np.dot( X.T, (h-Y) ) / self.__m\n",
    "        db = np.sum( h-Y )  / self.__m\n",
    "        self.W = self.W - self.__lr*dW\n",
    "        self.b = self.b - self.__lr*db\n",
    "\n",
    "    def __normalizeX(self,X):return (X-self.__mean) / (self.__std)\n",
    "\n",
    "    def fit(self, X, y, verbose=True):\n",
    "        if self.__normalize:\n",
    "            self.__mean, self.__std = X.mean(axis=0), X.std(axis=0)\n",
    "            X = self.__normalizeX(X)\n",
    "        self.__m,self.__length = X.shape\n",
    "        self.__initialize_weights_and_bias()\n",
    "        last_cost,i = float('inf'),0\n",
    "        while True:\n",
    "            h = np.dot(X,self.W)+self.b\n",
    "            cost = self.__computeCost(h,y)\n",
    "            if verbose: print(f\"Iteration: {i}, Cost: {cost:.3f}\")\n",
    "            self.__optimize(X,y)\n",
    "            if last_cost-cost < self.__tol: break\n",
    "            else: last_cost,i = cost,i+1\n",
    "            self.__costs.append(cost)\n",
    "            self.__iterations.append(i)\n",
    "\n",
    "    def predict(self,X):\n",
    "\n",
    "        if self.__normalize: X = self.__normalizeX(X)\n",
    "        return np.dot(X,self.W)+self.b\n",
    "    \n",
    "    def seq_fit(self, X, y, verbose=True):\n",
    "        if self.__normalize:\n",
    "            self.__mean, self.__std = X.mean(axis=0), X.std(axis=0)\n",
    "            X = self.__normalizeX(X)\n",
    "        self.__m,self.__length = X.shape\n",
    "        self.__initialize_weights_and_bias()\n",
    "        last_cost,j = float('inf'),0\n",
    "        while True:\n",
    "            cost=0\n",
    "            for i in range(len(X)):\n",
    "                h = np.dot(X[i],self.W)+self.b\n",
    "                cost += self.__computeCost(h,y[i])\n",
    "                self.__optimize(X[i],y[i])\n",
    "\n",
    "            if verbose: print(f\"Iteration: {j}, Cost: {cost:.3f}\")\n",
    "            if last_cost-cost < self.__tol: break\n",
    "            else: last_cost,j = cost,j+1\n",
    "            self.__costs.append(cost)\n",
    "            self.__iterations.append(j)     \n",
    "\n",
    "    def plot(self,figsize=(7,5)):\n",
    "        plt.figure(figsize=figsize)\n",
    "        plt.plot(self.__iterations,self.__costs)\n",
    "        plt.xlabel('Iterations')\n",
    "        plt.ylabel('Cost')\n",
    "        plt.title(\"Iterations vs Cost\")\n",
    "        plt.show()\n",
    "\n",
    "    def score(self,X,y):\n",
    "        return 1-(np.sum(((y-self.predict(X))**2))/np.sum((y-np.mean(y))**2))"
   ]
  },
  {
   "cell_type": "markdown",
   "id": "c7f2c03c",
   "metadata": {},
   "source": [
    "### Batch Gradient Descent"
   ]
  },
  {
   "cell_type": "code",
   "execution_count": 10,
   "id": "5ecb0de6",
   "metadata": {
    "scrolled": true
   },
   "outputs": [
    {
     "name": "stdout",
     "output_type": "stream",
     "text": [
      "X_train:(9000, 2)\n",
      "y_train:(9000,)\n",
      "Iteration: 0, Cost: 1880.591\n",
      "Iteration: 1, Cost: 17.336\n",
      "Iteration: 2, Cost: 0.481\n",
      "Iteration: 3, Cost: 0.327\n",
      "Iteration: 4, Cost: 0.324\n",
      "Train Score: 0.9990860578023572\n",
      "Test Score:  0.90842562256362\n"
     ]
    },
    {
     "data": {
      "image/png": "[encoded data removed]",
      "text/plain": [
       "<Figure size 504x360 with 1 Axes>"
      ]
     },
     "metadata": {
      "needs_background": "light"
     },
     "output_type": "display_data"
    }
   ],
   "source": [
    "print(f\"X_train:{X_train.shape}\\ny_train:{y_train.shape}\")\n",
    "\n",
    "batch_regressor = Regressor(normalize=False)\n",
    "batch_regressor.fit(X_train,y_train)\n",
    "\n",
    "train_score = r2_score(batch_regressor.predict(X_train),y_train)\n",
    "test_score = r2_score(batch_regressor.predict(X_test),y_test)\n",
    "\n",
    "print(\"Train Score:\", train_score)\n",
    "print(\"Test Score: \",test_score)\n",
    "batch_regressor.plot()"
   ]
  },
  {
   "cell_type": "markdown",
   "id": "115f42ef",
   "metadata": {},
   "source": [
    "### Sequential Gradient Descent"
   ]
  },
  {
   "cell_type": "code",
   "execution_count": 11,
   "id": "3c33af4f",
   "metadata": {
    "scrolled": true
   },
   "outputs": [
    {
     "name": "stdout",
     "output_type": "stream",
     "text": [
      "X_train:(9000, 2)\n",
      "y_train:(9000,)\n",
      "Iteration: 0, Cost: 472.460\n",
      "Iteration: 1, Cost: 53.314\n",
      "Iteration: 2, Cost: 6.211\n",
      "Iteration: 3, Cost: 0.870\n",
      "Iteration: 4, Cost: 0.248\n",
      "Iteration: 5, Cost: 0.170\n",
      "Iteration: 6, Cost: 0.159\n",
      "Iteration: 7, Cost: 0.156\n",
      "Train Score: 0.9995421939070451\n",
      "Test Score:  0.9662636015440792\n"
     ]
    },
    {
     "data": {
      "image/png": "[encoded data removed]",
      "text/plain": [
       "<Figure size 504x360 with 1 Axes>"
      ]
     },
     "metadata": {
      "needs_background": "light"
     },
     "output_type": "display_data"
    }
   ],
   "source": [
    "print(f\"X_train:{X_train.shape}\\ny_train:{y_train.shape}\")\n",
    "\n",
    "seq_regressor = Regressor(normalize=False)\n",
    "seq_regressor.seq_fit(X_train,y_train)\n",
    "\n",
    "train_score = r2_score(seq_regressor.predict(X_train),y_train)\n",
    "test_score = r2_score(seq_regressor.predict(X_test),y_test)\n",
    "\n",
    "print(\"Train Score:\", train_score)\n",
    "print(\"Test Score: \",test_score)\n",
    "seq_regressor.plot()"
   ]
  },
  {
   "cell_type": "code",
   "execution_count": 12,
   "id": "705e1614",
   "metadata": {},
   "outputs": [
    {
     "data": {
      "text/plain": [
       "<matplotlib.legend.Legend at 0x7fd4b0897280>"
      ]
     },
     "execution_count": 12,
     "metadata": {},
     "output_type": "execute_result"
    },
    {
     "data": {
      "image/png": "[encoded data removed]",
      "text/plain": [
       "<Figure size 576x432 with 1 Axes>"
      ]
     },
     "metadata": {
      "needs_background": "light"
     },
     "output_type": "display_data"
    }
   ],
   "source": [
    "fig, ax = plt.subplots(figsize=(8, 6))\n",
    "\n",
    "ax.plot(x, y, \"o\", label=\"data\")\n",
    "ax.plot(x, y_true, \"b-\", label=\"True\")\n",
    "ax.plot(X_train[:, 0], seq_regressor.predict(X_train), \"r--.\", label=\"OLS\")\n",
    "ax.legend(loc=\"best\")"
   ]
  }
 ],
 "metadata": {
  "kernelspec": {
   "display_name": "Python 3 (ipykernel)",
   "language": "python",
   "name": "python3"
  },
  "language_info": {
   "codemirror_mode": {
    "name": "ipython",
    "version": 3
   },
   "file_extension": ".py",
   "mimetype": "text/x-python",
   "name": "python",
   "nbconvert_exporter": "python",
   "pygments_lexer": "ipython3",
   "version": "3.9.7"
  }
 },
 "nbformat": 4,
 "nbformat_minor": 5
}
