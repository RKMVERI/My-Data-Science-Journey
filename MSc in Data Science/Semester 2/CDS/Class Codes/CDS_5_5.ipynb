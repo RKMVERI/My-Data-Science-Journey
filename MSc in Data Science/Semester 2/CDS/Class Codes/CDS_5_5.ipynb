{
 "cells": [
  {
   "cell_type": "code",
   "execution_count": 1,
   "id": "e9669aaf",
   "metadata": {},
   "outputs": [],
   "source": [
    "import numpy as np\n",
    "import pandas as pd\n",
    "import matplotlib.pyplot as plt"
   ]
  },
  {
   "cell_type": "code",
   "execution_count": 2,
   "id": "e6319fd4",
   "metadata": {},
   "outputs": [
    {
     "data": {
      "text/plain": [
       "array([0, 0, 2, 2, 3, 0, 3, 2, 3, 1])"
      ]
     },
     "execution_count": 2,
     "metadata": {},
     "output_type": "execute_result"
    }
   ],
   "source": [
    "y = np.random.randint(0, 4, 10)#.reshape(10, 1)\n",
    "y"
   ]
  },
  {
   "cell_type": "code",
   "execution_count": 3,
   "id": "49949ebe",
   "metadata": {},
   "outputs": [
    {
     "data": {
      "text/plain": [
       "array([[ 9,  6,  4, 21,  3],\n",
       "       [15, 14, 15, 28,  1],\n",
       "       [26,  2, 11,  4, 17],\n",
       "       [26, 14,  7, 28, 22],\n",
       "       [11, 16,  5, 10, 27],\n",
       "       [25, 24,  3, 14, 27],\n",
       "       [16, 24,  9,  7, 10],\n",
       "       [16, 26, 19, 18,  5],\n",
       "       [10, 13, 28, 23, 12],\n",
       "       [29,  7,  5, 26,  2]])"
      ]
     },
     "execution_count": 3,
     "metadata": {},
     "output_type": "execute_result"
    }
   ],
   "source": [
    "X = np.random.randint(0, 30, 50).reshape(10, 5)\n",
    "X"
   ]
  },
  {
   "cell_type": "code",
   "execution_count": 28,
   "id": "37a2f5bf",
   "metadata": {},
   "outputs": [],
   "source": [
    "def one_hot(y, k):\n",
    "    y_hot = np.zeros((len(y), k))\n",
    "    # print(y_hot)\n",
    "    y_hot[np.arange(len(y)), y] = 1\n",
    "    return y_hot\n",
    "\n",
    "def softmax(z):\n",
    "    y_hat = np.array(np.exp(z - np.max(z)))\n",
    "    for i in range(len(z)):\n",
    "        y_hat[i] /= np.sum(y_hat[i])\n",
    "    return y_hat\n",
    "\n",
    "def logistic_fit(X, y, lr, k, epochs):\n",
    "    n, m = X.shape\n",
    "    w = np.random.random((m, k))\n",
    "    losses = []\n",
    "    for epoch in range(epochs):\n",
    "        z  = X @ w\n",
    "        y_hat = softmax(z)\n",
    "        y_hot = one_hot(y, k)\n",
    "        w_grad = (1/n)*np.dot(X.T, (y_hat - y_hot))\n",
    "        w = w - lr*w_grad\n",
    "        loss = - np.mean(np.log(y_hat[np.arange(len(y)), y]))\n",
    "        print(loss)\n",
    "        losses.append(loss)\n",
    "    return w, losses\n",
    "        \n",
    "def predict(X, w):\n",
    "    z = X @ w\n",
    "    print(z)\n",
    "    y_hat = softmax(z)\n",
    "    print(y_hat)\n",
    "    return np.argmax(y_hat, axis = 1)\n",
    "\n",
    "def accuracy(y, y_hat):\n",
    "    return np.sum(y == y_hat)/len(y)"
   ]
  },
  {
   "cell_type": "code",
   "execution_count": 5,
   "id": "1c8d9167",
   "metadata": {},
   "outputs": [
    {
     "name": "stdout",
     "output_type": "stream",
     "text": [
      "[[0. 0. 0. 0.]\n",
      " [0. 0. 0. 0.]\n",
      " [0. 0. 0. 0.]\n",
      " [0. 0. 0. 0.]\n",
      " [0. 0. 0. 0.]\n",
      " [0. 0. 0. 0.]\n",
      " [0. 0. 0. 0.]\n",
      " [0. 0. 0. 0.]\n",
      " [0. 0. 0. 0.]\n",
      " [0. 0. 0. 0.]]\n"
     ]
    },
    {
     "data": {
      "text/plain": [
       "array([[1., 0., 0., 0.],\n",
       "       [1., 0., 0., 0.],\n",
       "       [0., 0., 1., 0.],\n",
       "       [0., 0., 1., 0.],\n",
       "       [0., 0., 0., 1.],\n",
       "       [1., 0., 0., 0.],\n",
       "       [0., 0., 0., 1.],\n",
       "       [0., 0., 1., 0.],\n",
       "       [0., 0., 0., 1.],\n",
       "       [0., 1., 0., 0.]])"
      ]
     },
     "execution_count": 5,
     "metadata": {},
     "output_type": "execute_result"
    }
   ],
   "source": [
    "hot = one_hot(y, 4)\n",
    "hot"
   ]
  },
  {
   "cell_type": "code",
   "execution_count": 13,
   "id": "48eee5d1",
   "metadata": {},
   "outputs": [
    {
     "data": {
      "text/plain": [
       "array([[0.70781827, 0.58135887, 0.49633192, 0.99216424],\n",
       "       [0.19169131, 0.45507739, 0.27696155, 0.41809357],\n",
       "       [0.30306444, 0.95490351, 0.2059597 , 0.44826661],\n",
       "       [0.23508036, 0.01559357, 0.87525341, 0.27167515],\n",
       "       [0.15267109, 0.42828903, 0.43744309, 0.36509173],\n",
       "       [0.30534616, 0.60289114, 0.87454258, 0.41551425],\n",
       "       [0.16220105, 0.70947109, 0.78440148, 0.40802449],\n",
       "       [0.8174975 , 0.07373479, 0.03926984, 0.55311643],\n",
       "       [0.04214161, 0.35819401, 0.50888022, 0.91387604],\n",
       "       [0.76412868, 0.44540852, 0.40532517, 0.96482753]])"
      ]
     },
     "execution_count": 13,
     "metadata": {},
     "output_type": "execute_result"
    }
   ],
   "source": [
    "w = np.random.random(40).reshape(10, 4)\n",
    "w"
   ]
  },
  {
   "cell_type": "code",
   "execution_count": 14,
   "id": "df3a75d4",
   "metadata": {},
   "outputs": [
    {
     "data": {
      "text/plain": [
       "array([[ 70.8068598 ,  51.64338921,  34.3581786 ,  70.51457062,\n",
       "         32.74893016],\n",
       "       [ 86.10485368,  60.02815788,  43.75748406,  68.04291095,\n",
       "         59.26996668],\n",
       "       [ 93.43036308,  76.80840217,  43.42393689,  88.56722188,\n",
       "         74.90403726],\n",
       "       [100.82024626,  75.12788672,  64.73882014, 110.32708845,\n",
       "         57.81032795]])"
      ]
     },
     "execution_count": 14,
     "metadata": {},
     "output_type": "execute_result"
    }
   ],
   "source": [
    "z = w.T @ X\n",
    "z"
   ]
  },
  {
   "cell_type": "code",
   "execution_count": 15,
   "id": "f857a016",
   "metadata": {},
   "outputs": [
    {
     "data": {
      "text/plain": [
       "array([[5.72556468e-01, 2.72413607e-09, 8.47924549e-17, 4.27443529e-01,\n",
       "        1.69617045e-17],\n",
       "       [9.99999986e-01, 4.73189283e-12, 4.06229112e-19, 1.43152169e-08,\n",
       "        2.21695382e-12],\n",
       "       [9.92332992e-01, 5.99558449e-08, 1.90170206e-22, 7.66693958e-03,\n",
       "        8.92845584e-09],\n",
       "       [7.43359011e-05, 5.16593139e-16, 1.58940416e-20, 9.99925664e-01,\n",
       "        1.55678422e-23]])"
      ]
     },
     "execution_count": 15,
     "metadata": {},
     "output_type": "execute_result"
    }
   ],
   "source": [
    "t = softmax(z)\n",
    "t"
   ]
  },
  {
   "cell_type": "code",
   "execution_count": 16,
   "id": "17ed76ae",
   "metadata": {},
   "outputs": [
    {
     "data": {
      "text/plain": [
       "1.0"
      ]
     },
     "execution_count": 16,
     "metadata": {},
     "output_type": "execute_result"
    }
   ],
   "source": [
    "t[0].sum()"
   ]
  },
  {
   "cell_type": "code",
   "execution_count": 17,
   "id": "6d8ab474",
   "metadata": {},
   "outputs": [
    {
     "data": {
      "text/plain": [
       "4.0"
      ]
     },
     "execution_count": 17,
     "metadata": {},
     "output_type": "execute_result"
    }
   ],
   "source": [
    "t.sum()"
   ]
  },
  {
   "cell_type": "code",
   "execution_count": 22,
   "id": "1ce947ec",
   "metadata": {
    "scrolled": true
   },
   "outputs": [
    {
     "name": "stdout",
     "output_type": "stream",
     "text": [
      "15.359976165413446\n",
      "10.841459955512482\n",
      "7.24085647286257\n",
      "5.8562573330901975\n",
      "4.044479028716496\n",
      "3.5403641310718195\n",
      "2.949676827660027\n",
      "2.7013538095754726\n",
      "2.3545603942794964\n",
      "2.5110178451764247\n",
      "1.7384166960818388\n",
      "1.9338813384565594\n",
      "1.6226886749588723\n",
      "2.060075334731478\n",
      "1.1768078247007163\n",
      "1.2074672833592552\n",
      "1.5575682578998467\n",
      "1.5580461449036915\n",
      "0.8979292255210283\n",
      "1.0590815838472918\n",
      "1.2473061231282583\n",
      "1.2485806929873227\n",
      "0.9542427528760127\n",
      "1.0623829280871178\n",
      "1.1915172515825696\n",
      "0.9300798098386063\n",
      "1.0013781036693996\n",
      "1.0346521567557225\n",
      "1.0325849629636727\n",
      "0.8656396912643398\n",
      "1.0550964732674513\n",
      "0.863647088581938\n",
      "0.9800389220155739\n",
      "0.8694482434654356\n",
      "1.0126219121545326\n",
      "0.7934428747178593\n",
      "0.9748193050409212\n",
      "0.8062138783335928\n",
      "0.9777992361838892\n",
      "0.7656082579414543\n",
      "0.9592120627932079\n",
      "0.7589118364855011\n",
      "0.9547339808370652\n",
      "0.7365760718899252\n",
      "0.9410810028089255\n",
      "0.7267405075138109\n",
      "0.935564743841583\n",
      "0.710701702233109\n",
      "0.9238455551392241\n",
      "0.7020518515638873\n",
      "0.9183763739200191\n",
      "0.6893063541448854\n",
      "0.9078814844332175\n",
      "0.6821155778282715\n",
      "0.9027139938536106\n",
      "0.6715838610312358\n",
      "0.8931430332003216\n",
      "0.665621453406495\n",
      "0.8883389627574141\n",
      "0.6566894872043552\n",
      "0.8795204291214377\n",
      "0.6516960829075562\n",
      "0.8750665324912947\n",
      "0.6439648346768415\n",
      "0.8668873412259845\n",
      "0.6397180879114103\n",
      "0.8627374377693002\n",
      "0.6329181035414184\n",
      "0.8551176303696628\n",
      "0.6292397248246601\n",
      "0.8512128906873582\n",
      "0.623185904692688\n",
      "0.8440938979447056\n",
      "0.6199361637633944\n",
      "0.8403738598362492\n",
      "0.6144993398964002\n",
      "0.8337113063935696\n",
      "0.611569786134887\n",
      "0.8301201239162455\n",
      "0.6066576486667375\n",
      "0.8238785144026506\n",
      "0.6039648806662173\n",
      "0.8203684756239064\n",
      "0.5995089259358543\n",
      "0.8145170873370168\n",
      "0.5969898055300625\n",
      "0.8110503910106633\n",
      "0.5929364520893441\n",
      "0.8055602680003178\n",
      "0.5905444424026361\n",
      "0.8021095547417803\n",
      "0.5868491486073499\n",
      "0.7969515929384106\n",
      "0.5845513520064622\n",
      "0.7934995146664616\n",
      "0.5811749375565788\n",
      "0.7886435699973633\n",
      "0.5789495115885391\n",
      "0.7851816207497287\n",
      "0.5758560896148122\n"
     ]
    }
   ],
   "source": [
    "w_hat, los = logistic_fit(X, y, 0.01, 4, 100)"
   ]
  },
  {
   "cell_type": "code",
   "execution_count": 23,
   "id": "e152d3dd",
   "metadata": {
    "scrolled": false
   },
   "outputs": [
    {
     "data": {
      "text/plain": [
       "array([[0.40161623, 0.75733513, 0.60826676, 0.21069792],\n",
       "       [0.71985203, 0.44878553, 0.45678995, 0.7000735 ],\n",
       "       [0.06300209, 0.08740601, 0.41377222, 0.55625224],\n",
       "       [1.06903149, 0.86690716, 0.77628075, 0.67399188],\n",
       "       [0.34006732, 0.11603823, 0.34043956, 0.61346902]])"
      ]
     },
     "execution_count": 23,
     "metadata": {},
     "output_type": "execute_result"
    }
   ],
   "source": [
    "w_hat"
   ]
  },
  {
   "cell_type": "code",
   "execution_count": 29,
   "id": "03758492",
   "metadata": {
    "scrolled": false
   },
   "outputs": [
    {
     "name": "stdout",
     "output_type": "stream",
     "text": [
      "[[31.65552998 28.41151842 27.1934439  24.31596773]\n",
      " [47.32015242 43.34355316 43.80194469 40.79052301]\n",
      " [22.63201949 26.99002908 30.17260552 26.12200841]\n",
      " [58.37532801 53.41179433 54.33193191 51.54103156]\n",
      " [36.12255413 27.75038863 33.02311025 39.60369654]\n",
      " [51.65411945 45.23618132 47.47074305 49.73751842]\n",
      " [35.15322096 30.90360118 33.25753786 36.03183415]\n",
      " [47.28195573 41.63101992 45.1457305  47.34106914]\n",
      " [43.80682942 37.18625474 45.54629121 49.64643887]\n",
      " [45.47579889 48.31291019 43.77030543 32.54274226]]\n",
      "[[9.51298552e-01 3.71073990e-02 1.09763380e-02 6.17711164e-04]\n",
      " [9.52506708e-01 1.78588269e-02 2.82442368e-02 1.39022797e-03]\n",
      " [5.01298294e-04 3.91521616e-02 9.43911182e-01 1.64353577e-02]\n",
      " [9.75036886e-01 6.81374314e-03 1.71000126e-02 1.04935832e-03]\n",
      " [2.98132520e-02 6.89325063e-06 1.34381034e-03 9.68836044e-01]\n",
      " [8.59117539e-01 1.40209510e-03 1.30989143e-02 1.26381451e-01]\n",
      " [2.79951766e-01 3.99481610e-03 4.20531470e-02 6.74000271e-01]\n",
      " [4.58188139e-01 1.61017694e-03 5.41119283e-02 4.86089756e-01]\n",
      " [2.85436423e-03 3.80391095e-06 1.62535432e-02 9.80888289e-01]\n",
      " [5.48002867e-02 9.35243316e-01 9.95626472e-03 1.32442602e-07]]\n"
     ]
    },
    {
     "data": {
      "text/plain": [
       "array([0, 0, 2, 0, 3, 0, 3, 3, 3, 1], dtype=int64)"
      ]
     },
     "execution_count": 29,
     "metadata": {},
     "output_type": "execute_result"
    }
   ],
   "source": [
    "y_pred = predict(X, w_hat)\n",
    "y_pred"
   ]
  },
  {
   "cell_type": "code",
   "execution_count": 31,
   "id": "3107bb6e",
   "metadata": {},
   "outputs": [
    {
     "data": {
      "text/plain": [
       "0.8"
      ]
     },
     "execution_count": 31,
     "metadata": {},
     "output_type": "execute_result"
    }
   ],
   "source": [
    "accuracy(y, y_pred)"
   ]
  },
  {
   "cell_type": "code",
   "execution_count": 32,
   "id": "df3ea0f3",
   "metadata": {},
   "outputs": [
    {
     "data": {
      "text/plain": [
       "[<matplotlib.lines.Line2D at 0x2c80cd92e80>]"
      ]
     },
     "execution_count": 32,
     "metadata": {},
     "output_type": "execute_result"
    },
    {
     "data": {
      "image/png": "[encoded data removed]",
      "text/plain": [
       "<Figure size 432x288 with 1 Axes>"
      ]
     },
     "metadata": {
      "needs_background": "light"
     },
     "output_type": "display_data"
    }
   ],
   "source": [
    "plt.plot(range(100), los)"
   ]
  },
  {
   "cell_type": "code",
   "execution_count": null,
   "id": "e1933be2",
   "metadata": {},
   "outputs": [],
   "source": []
  },
  {
   "cell_type": "code",
   "execution_count": null,
   "id": "fdd89240",
   "metadata": {},
   "outputs": [],
   "source": []
  }
 ],
 "metadata": {
  "kernelspec": {
   "display_name": "Python 3 (ipykernel)",
   "language": "python",
   "name": "python3"
  },
  "language_info": {
   "codemirror_mode": {
    "name": "ipython",
    "version": 3
   },
   "file_extension": ".py",
   "mimetype": "text/x-python",
   "name": "python",
   "nbconvert_exporter": "python",
   "pygments_lexer": "ipython3",
   "version": "3.9.7"
  }
 },
 "nbformat": 4,
 "nbformat_minor": 5
}
