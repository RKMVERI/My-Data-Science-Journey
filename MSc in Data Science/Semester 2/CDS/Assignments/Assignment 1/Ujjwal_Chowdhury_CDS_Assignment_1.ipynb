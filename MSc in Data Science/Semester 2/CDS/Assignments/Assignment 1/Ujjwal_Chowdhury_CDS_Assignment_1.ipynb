{
 "cells": [
  {
   "cell_type": "markdown",
   "id": "d304f139",
   "metadata": {},
   "source": [
    "# Assignment 1\n",
    "### Assignment on line search"
   ]
  },
  {
   "cell_type": "code",
   "execution_count": 1,
   "id": "b26fa64b",
   "metadata": {},
   "outputs": [],
   "source": [
    "import numpy as np\n",
    "import pandas as pd\n",
    "import matplotlib.pyplot as plt\n",
    "plt.style.use('fivethirtyeight')\n",
    "import math\n",
    "from scipy.constants import golden"
   ]
  },
  {
   "cell_type": "markdown",
   "id": "30517d1c",
   "metadata": {},
   "source": [
    "### 1. Write Python codes of two line search algorithms: Fibonacci search and Golden Section for the\n",
    "### problem given in example 8.1.2 (same as in 8.1.3) in Nonlinear Programming, Bazaraa et al.\n",
    "#### a. [10 marks] Generate and print the values given in Table 8.1 (for Golden section method) and Table 8.2 (for Fibonacci method) and check if you get the same results as in the book.\n",
    "\n",
    "#### b. [5 marks] Check if the two search methods are asymptotically identical (run the code for 20 iterations and plot iteration number vs. interval length for the two methods)\n",
    "\n",
    "#### c. [5 marks] Next use the scipy.optimize.minimize_scalar function and verify your results of Golden section method.\n"
   ]
  },
  {
   "cell_type": "code",
   "execution_count": 29,
   "id": "f4c0cb04",
   "metadata": {},
   "outputs": [],
   "source": [
    "# Function in 8.1\n",
    "def f(x):\n",
    "    return x**2 + 2*x"
   ]
  },
  {
   "cell_type": "code",
   "execution_count": 30,
   "id": "51f7b383",
   "metadata": {},
   "outputs": [],
   "source": [
    "start_left = -3\n",
    "start_right = 5\n",
    "n = 8"
   ]
  },
  {
   "cell_type": "markdown",
   "id": "683df0e9",
   "metadata": {},
   "source": [
    "### Implementing Fibonacci Search"
   ]
  },
  {
   "cell_type": "code",
   "execution_count": 31,
   "id": "51b7c7c0",
   "metadata": {},
   "outputs": [],
   "source": [
    "def fibonacci_search(func, left, right, n_iterations, epsilon = 0.01):\n",
    "    \n",
    "    a = []\n",
    "    b = []\n",
    "    l = []\n",
    "    m = []\n",
    "    fl = []\n",
    "    fm = []\n",
    "    o_index = []\n",
    "    \n",
    "    s = (1-math.sqrt(5))/(1+math.sqrt(5))\n",
    "    p = 1/(golden*(1-s**(n_iterations+1))/(1-s**n_iterations))\n",
    "    \n",
    "    d = p*right + (1-p)*left\n",
    "    fd = func(d)\n",
    "    \n",
    "    for i in range(0, n_iterations-1):\n",
    "        \n",
    "        if(i==n_iterations-1):\n",
    "            c = epsilon*left + (1-epsilon)*d\n",
    "        else:\n",
    "            c = p*left + (1-p)*right\n",
    "            \n",
    "        fc = func(c)    \n",
    "            \n",
    "        a.append(left)\n",
    "        b.append(right)\n",
    "        l.append(c)\n",
    "        m.append(d)\n",
    "        fl.append(fc)\n",
    "        fm.append(fd)\n",
    "        o_index.append(i+1)   \n",
    "        \n",
    "        if(fc<fd):\n",
    "            right, d, fd = d, c, fc\n",
    "        else:\n",
    "            left, right = right, c\n",
    "            \n",
    "        p = 1/(golden*(1-s**(n_iterations-i+1))/(1-s**(n_iterations-i)))   \n",
    "        \n",
    "    comp_table_pd = pd.DataFrame(list(zip(a, b, l, m, fl, fm)), index = o_index, columns = ['a', 'b', 'l', 'm', 'f_l', 'f_m'])\n",
    "    \n",
    "    if(left< right):\n",
    "        return (left, right, comp_table_pd)\n",
    "    else:\n",
    "        return (right, left, comp_table_pd)"
   ]
  },
  {
   "cell_type": "code",
   "execution_count": 32,
   "id": "8b0663f2",
   "metadata": {},
   "outputs": [],
   "source": [
    "n = 20\n",
    "interval_left_fs, interval_right_fs, comp_tab_fs = fibonacci_search(f, start_left, start_right, n)"
   ]
  },
  {
   "cell_type": "code",
   "execution_count": 33,
   "id": "ee380f0a",
   "metadata": {},
   "outputs": [
    {
     "name": "stdout",
     "output_type": "stream",
     "text": [
      "-0.9998870723231915\n"
     ]
    }
   ],
   "source": [
    "optima_fs = (interval_left_fs + interval_right_fs)/2\n",
    "print(optima_fs)"
   ]
  },
  {
   "cell_type": "code",
   "execution_count": 54,
   "id": "13688eb6",
   "metadata": {},
   "outputs": [
    {
     "data": {
      "text/html": [
       "<div>\n",
       "<style scoped>\n",
       "    .dataframe tbody tr th:only-of-type {\n",
       "        vertical-align: middle;\n",
       "    }\n",
       "\n",
       "    .dataframe tbody tr th {\n",
       "        vertical-align: top;\n",
       "    }\n",
       "\n",
       "    .dataframe thead th {\n",
       "        text-align: right;\n",
       "    }\n",
       "</style>\n",
       "<table border=\"1\" class=\"dataframe\">\n",
       "  <thead>\n",
       "    <tr style=\"text-align: right;\">\n",
       "      <th></th>\n",
       "      <th>a</th>\n",
       "      <th>b</th>\n",
       "      <th>l</th>\n",
       "      <th>m</th>\n",
       "      <th>f_l</th>\n",
       "      <th>f_m</th>\n",
       "    </tr>\n",
       "  </thead>\n",
       "  <tbody>\n",
       "    <tr>\n",
       "      <th>1</th>\n",
       "      <td>-3.000000</td>\n",
       "      <td>5.000000</td>\n",
       "      <td>0.055728</td>\n",
       "      <td>1.944272</td>\n",
       "      <td>0.114562</td>\n",
       "      <td>7.668737</td>\n",
       "    </tr>\n",
       "    <tr>\n",
       "      <th>2</th>\n",
       "      <td>-3.000000</td>\n",
       "      <td>1.944272</td>\n",
       "      <td>-1.111456</td>\n",
       "      <td>0.055728</td>\n",
       "      <td>-0.987578</td>\n",
       "      <td>0.114562</td>\n",
       "    </tr>\n",
       "    <tr>\n",
       "      <th>3</th>\n",
       "      <td>-3.000000</td>\n",
       "      <td>0.055728</td>\n",
       "      <td>-1.832816</td>\n",
       "      <td>-1.111456</td>\n",
       "      <td>-0.306418</td>\n",
       "      <td>-0.987578</td>\n",
       "    </tr>\n",
       "    <tr>\n",
       "      <th>4</th>\n",
       "      <td>0.055728</td>\n",
       "      <td>-1.832816</td>\n",
       "      <td>-0.665631</td>\n",
       "      <td>-1.111456</td>\n",
       "      <td>-0.888198</td>\n",
       "      <td>-0.987578</td>\n",
       "    </tr>\n",
       "    <tr>\n",
       "      <th>5</th>\n",
       "      <td>-1.832816</td>\n",
       "      <td>-0.665631</td>\n",
       "      <td>-1.386991</td>\n",
       "      <td>-1.111456</td>\n",
       "      <td>-0.850238</td>\n",
       "      <td>-0.987578</td>\n",
       "    </tr>\n",
       "    <tr>\n",
       "      <th>6</th>\n",
       "      <td>-0.665631</td>\n",
       "      <td>-1.386991</td>\n",
       "      <td>-0.941166</td>\n",
       "      <td>-1.111456</td>\n",
       "      <td>-0.996539</td>\n",
       "      <td>-0.987578</td>\n",
       "    </tr>\n",
       "    <tr>\n",
       "      <th>7</th>\n",
       "      <td>-0.665631</td>\n",
       "      <td>-1.111456</td>\n",
       "      <td>-0.835921</td>\n",
       "      <td>-0.941166</td>\n",
       "      <td>-0.973078</td>\n",
       "      <td>-0.996539</td>\n",
       "    </tr>\n",
       "    <tr>\n",
       "      <th>8</th>\n",
       "      <td>-1.111456</td>\n",
       "      <td>-0.835921</td>\n",
       "      <td>-1.006211</td>\n",
       "      <td>-0.941166</td>\n",
       "      <td>-0.999961</td>\n",
       "      <td>-0.996539</td>\n",
       "    </tr>\n",
       "    <tr>\n",
       "      <th>9</th>\n",
       "      <td>-1.111456</td>\n",
       "      <td>-0.941166</td>\n",
       "      <td>-1.046412</td>\n",
       "      <td>-1.006211</td>\n",
       "      <td>-0.997846</td>\n",
       "      <td>-0.999961</td>\n",
       "    </tr>\n",
       "    <tr>\n",
       "      <th>10</th>\n",
       "      <td>-0.941166</td>\n",
       "      <td>-1.046412</td>\n",
       "      <td>-0.981367</td>\n",
       "      <td>-1.006211</td>\n",
       "      <td>-0.999653</td>\n",
       "      <td>-0.999961</td>\n",
       "    </tr>\n",
       "    <tr>\n",
       "      <th>11</th>\n",
       "      <td>-1.046412</td>\n",
       "      <td>-0.981367</td>\n",
       "      <td>-1.021569</td>\n",
       "      <td>-1.006211</td>\n",
       "      <td>-0.999535</td>\n",
       "      <td>-0.999961</td>\n",
       "    </tr>\n",
       "    <tr>\n",
       "      <th>12</th>\n",
       "      <td>-0.981367</td>\n",
       "      <td>-1.021569</td>\n",
       "      <td>-0.996725</td>\n",
       "      <td>-1.006211</td>\n",
       "      <td>-0.999989</td>\n",
       "      <td>-0.999961</td>\n",
       "    </tr>\n",
       "    <tr>\n",
       "      <th>13</th>\n",
       "      <td>-0.981367</td>\n",
       "      <td>-1.006211</td>\n",
       "      <td>-0.990853</td>\n",
       "      <td>-0.996725</td>\n",
       "      <td>-0.999916</td>\n",
       "      <td>-0.999989</td>\n",
       "    </tr>\n",
       "    <tr>\n",
       "      <th>14</th>\n",
       "      <td>-1.006211</td>\n",
       "      <td>-0.990853</td>\n",
       "      <td>-1.000339</td>\n",
       "      <td>-0.996725</td>\n",
       "      <td>-1.000000</td>\n",
       "      <td>-0.999989</td>\n",
       "    </tr>\n",
       "    <tr>\n",
       "      <th>15</th>\n",
       "      <td>-1.006211</td>\n",
       "      <td>-0.996725</td>\n",
       "      <td>-1.002597</td>\n",
       "      <td>-1.000339</td>\n",
       "      <td>-0.999993</td>\n",
       "      <td>-1.000000</td>\n",
       "    </tr>\n",
       "    <tr>\n",
       "      <th>16</th>\n",
       "      <td>-0.996725</td>\n",
       "      <td>-1.002597</td>\n",
       "      <td>-0.998984</td>\n",
       "      <td>-1.000339</td>\n",
       "      <td>-0.999999</td>\n",
       "      <td>-1.000000</td>\n",
       "    </tr>\n",
       "    <tr>\n",
       "      <th>17</th>\n",
       "      <td>-1.002597</td>\n",
       "      <td>-0.998984</td>\n",
       "      <td>-1.001242</td>\n",
       "      <td>-1.000339</td>\n",
       "      <td>-0.999998</td>\n",
       "      <td>-1.000000</td>\n",
       "    </tr>\n",
       "    <tr>\n",
       "      <th>18</th>\n",
       "      <td>-0.998984</td>\n",
       "      <td>-1.001242</td>\n",
       "      <td>-0.999887</td>\n",
       "      <td>-1.000339</td>\n",
       "      <td>-1.000000</td>\n",
       "      <td>-1.000000</td>\n",
       "    </tr>\n",
       "    <tr>\n",
       "      <th>19</th>\n",
       "      <td>-0.998984</td>\n",
       "      <td>-1.000339</td>\n",
       "      <td>-0.999435</td>\n",
       "      <td>-0.999887</td>\n",
       "      <td>-1.000000</td>\n",
       "      <td>-1.000000</td>\n",
       "    </tr>\n",
       "  </tbody>\n",
       "</table>\n",
       "</div>"
      ],
      "text/plain": [
       "           a         b         l         m       f_l       f_m\n",
       "1  -3.000000  5.000000  0.055728  1.944272  0.114562  7.668737\n",
       "2  -3.000000  1.944272 -1.111456  0.055728 -0.987578  0.114562\n",
       "3  -3.000000  0.055728 -1.832816 -1.111456 -0.306418 -0.987578\n",
       "4   0.055728 -1.832816 -0.665631 -1.111456 -0.888198 -0.987578\n",
       "5  -1.832816 -0.665631 -1.386991 -1.111456 -0.850238 -0.987578\n",
       "6  -0.665631 -1.386991 -0.941166 -1.111456 -0.996539 -0.987578\n",
       "7  -0.665631 -1.111456 -0.835921 -0.941166 -0.973078 -0.996539\n",
       "8  -1.111456 -0.835921 -1.006211 -0.941166 -0.999961 -0.996539\n",
       "9  -1.111456 -0.941166 -1.046412 -1.006211 -0.997846 -0.999961\n",
       "10 -0.941166 -1.046412 -0.981367 -1.006211 -0.999653 -0.999961\n",
       "11 -1.046412 -0.981367 -1.021569 -1.006211 -0.999535 -0.999961\n",
       "12 -0.981367 -1.021569 -0.996725 -1.006211 -0.999989 -0.999961\n",
       "13 -0.981367 -1.006211 -0.990853 -0.996725 -0.999916 -0.999989\n",
       "14 -1.006211 -0.990853 -1.000339 -0.996725 -1.000000 -0.999989\n",
       "15 -1.006211 -0.996725 -1.002597 -1.000339 -0.999993 -1.000000\n",
       "16 -0.996725 -1.002597 -0.998984 -1.000339 -0.999999 -1.000000\n",
       "17 -1.002597 -0.998984 -1.001242 -1.000339 -0.999998 -1.000000\n",
       "18 -0.998984 -1.001242 -0.999887 -1.000339 -1.000000 -1.000000\n",
       "19 -0.998984 -1.000339 -0.999435 -0.999887 -1.000000 -1.000000"
      ]
     },
     "execution_count": 54,
     "metadata": {},
     "output_type": "execute_result"
    }
   ],
   "source": [
    "comp_tab_fs"
   ]
  },
  {
   "cell_type": "code",
   "execution_count": 61,
   "id": "ad9279a9",
   "metadata": {},
   "outputs": [],
   "source": [
    "comp_tab_fs.to_csv('Fibo_Table.csv')"
   ]
  },
  {
   "cell_type": "code",
   "execution_count": 37,
   "id": "786cdc5e",
   "metadata": {},
   "outputs": [
    {
     "data": {
      "text/plain": [
       "1     8.000000\n",
       "2     4.944272\n",
       "3     3.055728\n",
       "4     1.888544\n",
       "5     1.167184\n",
       "6     0.721360\n",
       "7     0.445825\n",
       "8     0.275535\n",
       "9     0.170290\n",
       "10    0.105245\n",
       "11    0.065044\n",
       "12    0.040201\n",
       "13    0.024843\n",
       "14    0.015358\n",
       "15    0.009486\n",
       "16    0.005872\n",
       "17    0.003614\n",
       "18    0.002258\n",
       "19    0.001355\n",
       "dtype: float64"
      ]
     },
     "execution_count": 37,
     "metadata": {},
     "output_type": "execute_result"
    }
   ],
   "source": [
    "inter_len_fs = np.abs(comp_tab_fs['a']-comp_tab_fs['b'])\n",
    "inter_len_fs"
   ]
  },
  {
   "cell_type": "code",
   "execution_count": 58,
   "id": "c181a8c2",
   "metadata": {},
   "outputs": [
    {
     "data": {
      "image/png": "[encoded data removed]",
      "text/plain": [
       "<Figure size 1080x1080 with 1 Axes>"
      ]
     },
     "metadata": {},
     "output_type": "display_data"
    }
   ],
   "source": [
    "plt.figure(figsize=(15,15))\n",
    "plt.plot(inter_len_fs)\n",
    "plt.xlabel(\"Number of Iterations\")\n",
    "plt.ylabel(\"Interval Length\")\n",
    "plt.title('Fibonacci Search')\n",
    "plt.show()"
   ]
  },
  {
   "cell_type": "markdown",
   "id": "dcfa8c14",
   "metadata": {},
   "source": [
    "### Implementing Golden Search"
   ]
  },
  {
   "cell_type": "code",
   "execution_count": 10,
   "id": "048b6678",
   "metadata": {},
   "outputs": [],
   "source": [
    "def golden_search(func, left, right, n_iterations): \n",
    "    \n",
    "    a = []\n",
    "    b = []\n",
    "    l = []\n",
    "    m = []\n",
    "    fl = []\n",
    "    fm = []\n",
    "    o_index = []\n",
    "    \n",
    "    p = golden-1\n",
    "    d = p * right + (1 - p)*left\n",
    "    fd = func(d)\n",
    "    \n",
    "    for i in range(0, n_iterations-1):\n",
    "        \n",
    "        c = p*left + (1-p)*right\n",
    "        fc = func(c)\n",
    "        \n",
    "        a.append(left)\n",
    "        b.append(right)\n",
    "        l.append(c)\n",
    "        m.append(d)\n",
    "        fl.append(fc)\n",
    "        fm.append(fd)\n",
    "        o_index.append(i+1)\n",
    "        \n",
    "        if(fc<fd):\n",
    "            right, d, fd = d, c, fc\n",
    "        else:\n",
    "            left, right = right, c\n",
    "    \n",
    "    comp_table_pd = pd.DataFrame(list(zip(a, b, l, m, fl, fm)), index = o_index, columns = ['a', 'b', 'l', 'm', 'f_l', 'f_m'])\n",
    "    \n",
    "    if(left< right):\n",
    "        return (left, right, comp_table_pd)\n",
    "    else:\n",
    "        return (right, left, comp_table_pd)"
   ]
  },
  {
   "cell_type": "code",
   "execution_count": 40,
   "id": "fb33e2b6",
   "metadata": {},
   "outputs": [],
   "source": [
    "n = 20\n",
    "interval_left_gs, interval_right_gs, comp_tab_gs = golden_search(f, start_left, start_right, n)"
   ]
  },
  {
   "cell_type": "code",
   "execution_count": 41,
   "id": "6e3255aa",
   "metadata": {},
   "outputs": [
    {
     "name": "stdout",
     "output_type": "stream",
     "text": [
      "-0.9999182873019831\n"
     ]
    }
   ],
   "source": [
    "optima_gs = (interval_left_gs + interval_right_gs)/2\n",
    "print(optima_gs)"
   ]
  },
  {
   "cell_type": "code",
   "execution_count": 42,
   "id": "b66c9c01",
   "metadata": {
    "scrolled": true
   },
   "outputs": [
    {
     "data": {
      "text/html": [
       "<div>\n",
       "<style scoped>\n",
       "    .dataframe tbody tr th:only-of-type {\n",
       "        vertical-align: middle;\n",
       "    }\n",
       "\n",
       "    .dataframe tbody tr th {\n",
       "        vertical-align: top;\n",
       "    }\n",
       "\n",
       "    .dataframe thead th {\n",
       "        text-align: right;\n",
       "    }\n",
       "</style>\n",
       "<table border=\"1\" class=\"dataframe\">\n",
       "  <thead>\n",
       "    <tr style=\"text-align: right;\">\n",
       "      <th></th>\n",
       "      <th>a</th>\n",
       "      <th>b</th>\n",
       "      <th>l</th>\n",
       "      <th>m</th>\n",
       "      <th>f_l</th>\n",
       "      <th>f_m</th>\n",
       "    </tr>\n",
       "  </thead>\n",
       "  <tbody>\n",
       "    <tr>\n",
       "      <th>1</th>\n",
       "      <td>-3.000000</td>\n",
       "      <td>5.000000</td>\n",
       "      <td>0.055728</td>\n",
       "      <td>1.944272</td>\n",
       "      <td>0.114562</td>\n",
       "      <td>7.668737</td>\n",
       "    </tr>\n",
       "    <tr>\n",
       "      <th>2</th>\n",
       "      <td>-3.000000</td>\n",
       "      <td>1.944272</td>\n",
       "      <td>-1.111456</td>\n",
       "      <td>0.055728</td>\n",
       "      <td>-0.987578</td>\n",
       "      <td>0.114562</td>\n",
       "    </tr>\n",
       "    <tr>\n",
       "      <th>3</th>\n",
       "      <td>-3.000000</td>\n",
       "      <td>0.055728</td>\n",
       "      <td>-1.832816</td>\n",
       "      <td>-1.111456</td>\n",
       "      <td>-0.306418</td>\n",
       "      <td>-0.987578</td>\n",
       "    </tr>\n",
       "    <tr>\n",
       "      <th>4</th>\n",
       "      <td>0.055728</td>\n",
       "      <td>-1.832816</td>\n",
       "      <td>-0.665631</td>\n",
       "      <td>-1.111456</td>\n",
       "      <td>-0.888198</td>\n",
       "      <td>-0.987578</td>\n",
       "    </tr>\n",
       "    <tr>\n",
       "      <th>5</th>\n",
       "      <td>-1.832816</td>\n",
       "      <td>-0.665631</td>\n",
       "      <td>-1.386991</td>\n",
       "      <td>-1.111456</td>\n",
       "      <td>-0.850238</td>\n",
       "      <td>-0.987578</td>\n",
       "    </tr>\n",
       "    <tr>\n",
       "      <th>6</th>\n",
       "      <td>-0.665631</td>\n",
       "      <td>-1.386991</td>\n",
       "      <td>-0.941166</td>\n",
       "      <td>-1.111456</td>\n",
       "      <td>-0.996539</td>\n",
       "      <td>-0.987578</td>\n",
       "    </tr>\n",
       "    <tr>\n",
       "      <th>7</th>\n",
       "      <td>-0.665631</td>\n",
       "      <td>-1.111456</td>\n",
       "      <td>-0.835921</td>\n",
       "      <td>-0.941166</td>\n",
       "      <td>-0.973078</td>\n",
       "      <td>-0.996539</td>\n",
       "    </tr>\n",
       "    <tr>\n",
       "      <th>8</th>\n",
       "      <td>-1.111456</td>\n",
       "      <td>-0.835921</td>\n",
       "      <td>-1.006211</td>\n",
       "      <td>-0.941166</td>\n",
       "      <td>-0.999961</td>\n",
       "      <td>-0.996539</td>\n",
       "    </tr>\n",
       "    <tr>\n",
       "      <th>9</th>\n",
       "      <td>-1.111456</td>\n",
       "      <td>-0.941166</td>\n",
       "      <td>-1.046411</td>\n",
       "      <td>-1.006211</td>\n",
       "      <td>-0.997846</td>\n",
       "      <td>-0.999961</td>\n",
       "    </tr>\n",
       "    <tr>\n",
       "      <th>10</th>\n",
       "      <td>-0.941166</td>\n",
       "      <td>-1.046411</td>\n",
       "      <td>-0.981366</td>\n",
       "      <td>-1.006211</td>\n",
       "      <td>-0.999653</td>\n",
       "      <td>-0.999961</td>\n",
       "    </tr>\n",
       "    <tr>\n",
       "      <th>11</th>\n",
       "      <td>-1.046411</td>\n",
       "      <td>-0.981366</td>\n",
       "      <td>-1.021566</td>\n",
       "      <td>-1.006211</td>\n",
       "      <td>-0.999535</td>\n",
       "      <td>-0.999961</td>\n",
       "    </tr>\n",
       "    <tr>\n",
       "      <th>12</th>\n",
       "      <td>-0.981366</td>\n",
       "      <td>-1.021566</td>\n",
       "      <td>-0.996721</td>\n",
       "      <td>-1.006211</td>\n",
       "      <td>-0.999989</td>\n",
       "      <td>-0.999961</td>\n",
       "    </tr>\n",
       "    <tr>\n",
       "      <th>13</th>\n",
       "      <td>-0.981366</td>\n",
       "      <td>-1.006211</td>\n",
       "      <td>-0.990856</td>\n",
       "      <td>-0.996721</td>\n",
       "      <td>-0.999916</td>\n",
       "      <td>-0.999989</td>\n",
       "    </tr>\n",
       "    <tr>\n",
       "      <th>14</th>\n",
       "      <td>-1.006211</td>\n",
       "      <td>-0.990856</td>\n",
       "      <td>-1.000346</td>\n",
       "      <td>-0.996721</td>\n",
       "      <td>-1.000000</td>\n",
       "      <td>-0.999989</td>\n",
       "    </tr>\n",
       "    <tr>\n",
       "      <th>15</th>\n",
       "      <td>-1.006211</td>\n",
       "      <td>-0.996721</td>\n",
       "      <td>-1.002586</td>\n",
       "      <td>-1.000346</td>\n",
       "      <td>-0.999993</td>\n",
       "      <td>-1.000000</td>\n",
       "    </tr>\n",
       "    <tr>\n",
       "      <th>16</th>\n",
       "      <td>-0.996721</td>\n",
       "      <td>-1.002586</td>\n",
       "      <td>-0.998962</td>\n",
       "      <td>-1.000346</td>\n",
       "      <td>-0.999999</td>\n",
       "      <td>-1.000000</td>\n",
       "    </tr>\n",
       "    <tr>\n",
       "      <th>17</th>\n",
       "      <td>-1.002586</td>\n",
       "      <td>-0.998962</td>\n",
       "      <td>-1.001202</td>\n",
       "      <td>-1.000346</td>\n",
       "      <td>-0.999999</td>\n",
       "      <td>-1.000000</td>\n",
       "    </tr>\n",
       "    <tr>\n",
       "      <th>18</th>\n",
       "      <td>-0.998962</td>\n",
       "      <td>-1.001202</td>\n",
       "      <td>-0.999817</td>\n",
       "      <td>-1.000346</td>\n",
       "      <td>-1.000000</td>\n",
       "      <td>-1.000000</td>\n",
       "    </tr>\n",
       "    <tr>\n",
       "      <th>19</th>\n",
       "      <td>-0.998962</td>\n",
       "      <td>-1.000346</td>\n",
       "      <td>-0.999490</td>\n",
       "      <td>-0.999817</td>\n",
       "      <td>-1.000000</td>\n",
       "      <td>-1.000000</td>\n",
       "    </tr>\n",
       "  </tbody>\n",
       "</table>\n",
       "</div>"
      ],
      "text/plain": [
       "           a         b         l         m       f_l       f_m\n",
       "1  -3.000000  5.000000  0.055728  1.944272  0.114562  7.668737\n",
       "2  -3.000000  1.944272 -1.111456  0.055728 -0.987578  0.114562\n",
       "3  -3.000000  0.055728 -1.832816 -1.111456 -0.306418 -0.987578\n",
       "4   0.055728 -1.832816 -0.665631 -1.111456 -0.888198 -0.987578\n",
       "5  -1.832816 -0.665631 -1.386991 -1.111456 -0.850238 -0.987578\n",
       "6  -0.665631 -1.386991 -0.941166 -1.111456 -0.996539 -0.987578\n",
       "7  -0.665631 -1.111456 -0.835921 -0.941166 -0.973078 -0.996539\n",
       "8  -1.111456 -0.835921 -1.006211 -0.941166 -0.999961 -0.996539\n",
       "9  -1.111456 -0.941166 -1.046411 -1.006211 -0.997846 -0.999961\n",
       "10 -0.941166 -1.046411 -0.981366 -1.006211 -0.999653 -0.999961\n",
       "11 -1.046411 -0.981366 -1.021566 -1.006211 -0.999535 -0.999961\n",
       "12 -0.981366 -1.021566 -0.996721 -1.006211 -0.999989 -0.999961\n",
       "13 -0.981366 -1.006211 -0.990856 -0.996721 -0.999916 -0.999989\n",
       "14 -1.006211 -0.990856 -1.000346 -0.996721 -1.000000 -0.999989\n",
       "15 -1.006211 -0.996721 -1.002586 -1.000346 -0.999993 -1.000000\n",
       "16 -0.996721 -1.002586 -0.998962 -1.000346 -0.999999 -1.000000\n",
       "17 -1.002586 -0.998962 -1.001202 -1.000346 -0.999999 -1.000000\n",
       "18 -0.998962 -1.001202 -0.999817 -1.000346 -1.000000 -1.000000\n",
       "19 -0.998962 -1.000346 -0.999490 -0.999817 -1.000000 -1.000000"
      ]
     },
     "execution_count": 42,
     "metadata": {},
     "output_type": "execute_result"
    }
   ],
   "source": [
    "comp_tab_gs"
   ]
  },
  {
   "cell_type": "code",
   "execution_count": 62,
   "id": "964562d7",
   "metadata": {},
   "outputs": [],
   "source": [
    "comp_tab_gs.to_csv('Golden_Section_Table.csv')"
   ]
  },
  {
   "cell_type": "code",
   "execution_count": 43,
   "id": "9ff37988",
   "metadata": {},
   "outputs": [
    {
     "data": {
      "text/plain": [
       "1     8.000000\n",
       "2     4.944272\n",
       "3     3.055728\n",
       "4     1.888544\n",
       "5     1.167184\n",
       "6     0.721360\n",
       "7     0.445825\n",
       "8     0.275535\n",
       "9     0.170290\n",
       "10    0.105245\n",
       "11    0.065044\n",
       "12    0.040201\n",
       "13    0.024843\n",
       "14    0.015358\n",
       "15    0.009486\n",
       "16    0.005872\n",
       "17    0.003614\n",
       "18    0.002258\n",
       "19    0.001355\n",
       "dtype: float64"
      ]
     },
     "execution_count": 43,
     "metadata": {},
     "output_type": "execute_result"
    }
   ],
   "source": [
    "inter_len_gs = np.abs(comp_tab_fs['a']-comp_tab_fs['b'])\n",
    "inter_len_gs"
   ]
  },
  {
   "cell_type": "code",
   "execution_count": 57,
   "id": "bedf7722",
   "metadata": {},
   "outputs": [
    {
     "data": {
      "image/png": "[encoded data removed]",
      "text/plain": [
       "<Figure size 1080x1080 with 1 Axes>"
      ]
     },
     "metadata": {},
     "output_type": "display_data"
    }
   ],
   "source": [
    "plt.figure(figsize=(15,15))\n",
    "plt.plot(inter_len_gs)\n",
    "plt.xlabel(\"Number of Iterations\")\n",
    "plt.ylabel(\"Interval Length\")\n",
    "plt.title('Golden Section')\n",
    "plt.show()"
   ]
  },
  {
   "cell_type": "markdown",
   "id": "43822341",
   "metadata": {},
   "source": [
    "### Verification of Golden Section Method"
   ]
  },
  {
   "cell_type": "code",
   "execution_count": 16,
   "id": "c33360fc",
   "metadata": {},
   "outputs": [],
   "source": [
    "from scipy.optimize import minimize_scalar"
   ]
  },
  {
   "cell_type": "code",
   "execution_count": 17,
   "id": "3ffec6b9",
   "metadata": {},
   "outputs": [
    {
     "data": {
      "text/plain": [
       "-0.9999999987444217"
      ]
     },
     "execution_count": 17,
     "metadata": {},
     "output_type": "execute_result"
    }
   ],
   "source": [
    "opt_gs_ms = minimize_scalar(fun = f, bracket = (start_left, start_right), method = \"golden\")\n",
    "opt_gs_ms.x"
   ]
  },
  {
   "cell_type": "markdown",
   "id": "e98e7bdd",
   "metadata": {},
   "source": [
    "# Assignment 2"
   ]
  },
  {
   "cell_type": "code",
   "execution_count": 45,
   "id": "0b00dcd7",
   "metadata": {},
   "outputs": [],
   "source": [
    "from scipy.optimize import line_search"
   ]
  },
  {
   "cell_type": "code",
   "execution_count": 46,
   "id": "3cf9e9e6",
   "metadata": {},
   "outputs": [],
   "source": [
    "def f1(x):\n",
    "    return x[0]**2 + x[0]*x[1] + x[1]**2\n",
    "\n",
    "def g1(x):\n",
    "    a = 2*x[0] + x[1]\n",
    "    b = 2*x[1] + x[0]\n",
    "    return np.array([a,b])"
   ]
  },
  {
   "cell_type": "code",
   "execution_count": 47,
   "id": "2934f130",
   "metadata": {},
   "outputs": [],
   "source": [
    "x_initial = np.array([1,2])\n",
    "dir_initial = np.array([-1,-1])\n",
    "cond_1 = 0.0001\n",
    "cond_2 = 0.9\n",
    "max_step = 10\n",
    "max_iter = 10\n",
    "reduc_fact = 0.5"
   ]
  },
  {
   "cell_type": "code",
   "execution_count": 48,
   "id": "c763a890",
   "metadata": {},
   "outputs": [],
   "source": [
    "opt_ls = line_search(f = f1, myfprime = g1, xk = x_initial, pk = dir_initial, c1 = cond_1, c2 = cond_2, amax = max_step,\n",
    "                     maxiter = max_iter)"
   ]
  },
  {
   "cell_type": "code",
   "execution_count": 49,
   "id": "8155e125",
   "metadata": {},
   "outputs": [],
   "source": [
    "alpha = opt_ls[0]\n",
    "opt = x_initial + alpha*dir_initial"
   ]
  },
  {
   "cell_type": "code",
   "execution_count": 50,
   "id": "b5873680",
   "metadata": {},
   "outputs": [
    {
     "name": "stdout",
     "output_type": "stream",
     "text": [
      "The x co-ordinate of the optima is:  0.0\n",
      "The y co-ordinate of the optima is:  1.0\n"
     ]
    }
   ],
   "source": [
    "print(\"The x co-ordinate of the optima is: \", opt[0])\n",
    "print(\"The y co-ordinate of the optima is: \", opt[1])"
   ]
  },
  {
   "cell_type": "code",
   "execution_count": 51,
   "id": "b2f90f32",
   "metadata": {},
   "outputs": [
    {
     "data": {
      "text/plain": [
       "(1.0, 2, 1, 1.0, 7.0, array([1., 2.]))"
      ]
     },
     "execution_count": 51,
     "metadata": {},
     "output_type": "execute_result"
    }
   ],
   "source": [
    "opt_ls"
   ]
  },
  {
   "cell_type": "code",
   "execution_count": null,
   "id": "51b2fc45",
   "metadata": {},
   "outputs": [],
   "source": []
  },
  {
   "cell_type": "code",
   "execution_count": null,
   "id": "a3d2b3ab",
   "metadata": {},
   "outputs": [],
   "source": []
  },
  {
   "cell_type": "code",
   "execution_count": null,
   "id": "e3afae66",
   "metadata": {},
   "outputs": [],
   "source": []
  }
 ],
 "metadata": {
  "kernelspec": {
   "display_name": "Python 3 (ipykernel)",
   "language": "python",
   "name": "python3"
  },
  "language_info": {
   "codemirror_mode": {
    "name": "ipython",
    "version": 3
   },
   "file_extension": ".py",
   "mimetype": "text/x-python",
   "name": "python",
   "nbconvert_exporter": "python",
   "pygments_lexer": "ipython3",
   "version": "3.9.7"
  }
 },
 "nbformat": 4,
 "nbformat_minor": 5
}
