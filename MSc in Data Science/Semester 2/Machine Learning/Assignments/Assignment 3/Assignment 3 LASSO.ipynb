{
 "cells": [
  {
   "cell_type": "code",
   "execution_count": 1,
   "id": "f0a18980",
   "metadata": {},
   "outputs": [],
   "source": [
    "import numpy as np\n",
    "import pandas as pd \n",
    "import matplotlib.pyplot as plt"
   ]
  },
  {
   "cell_type": "markdown",
   "id": "11a9c87b",
   "metadata": {},
   "source": [
    "### Exporting Data File"
   ]
  },
  {
   "cell_type": "code",
   "execution_count": 2,
   "id": "84320e44",
   "metadata": {},
   "outputs": [],
   "source": [
    "data  = pd.read_csv(\"data3.csv\")\n",
    "y = data[\"y\"]\n",
    "x = data[\"x\"]"
   ]
  },
  {
   "cell_type": "markdown",
   "id": "3d89d12d",
   "metadata": {},
   "source": [
    "### Input Lambda Value"
   ]
  },
  {
   "cell_type": "code",
   "execution_count": 3,
   "id": "3bb74f13",
   "metadata": {},
   "outputs": [
    {
     "name": "stdout",
     "output_type": "stream",
     "text": [
      "Enter the  value of lambda: 0.1\n"
     ]
    }
   ],
   "source": [
    "lamda = float(input(\"Enter the  value of lambda: \"))"
   ]
  },
  {
   "cell_type": "code",
   "execution_count": 4,
   "id": "eef991d4",
   "metadata": {},
   "outputs": [],
   "source": [
    "def lasso(x,y,lam,deg = 2):\n",
    "    deg = deg+1\n",
    "    Y = np.array(y).reshape(len(y),1)\n",
    "    mat = np.zeros(shape=(deg,len(x)))\n",
    "    for i in range(len(x)):\n",
    "        a = []\n",
    "        for j in range(deg):\n",
    "            a.append(x[i]**j)\n",
    "        mat[:,i] = a\n",
    "    X = mat\n",
    "    X_T = mat.T\n",
    "    w = np.dot((np.linalg.inv(np.dot(X, X_T)+ lam*(np.eye(deg)))), np.dot(X,Y))\n",
    "    return w"
   ]
  },
  {
   "cell_type": "code",
   "execution_count": 5,
   "id": "c88c3af1",
   "metadata": {},
   "outputs": [],
   "source": [
    "def MSE(x,y, W, deg):\n",
    "    error = 0\n",
    "    for i in range(len(x)):\n",
    "        a = 0\n",
    "        for j in range(deg+1):\n",
    "            a = a+ (W[j]*(x[i]**j))\n",
    "        error = error + (y[i]-a)**2\n",
    "    return error"
   ]
  },
  {
   "cell_type": "markdown",
   "id": "cfb0be26",
   "metadata": {},
   "source": [
    "### Calculating Mean_square_error For Different Degrees"
   ]
  },
  {
   "cell_type": "code",
   "execution_count": 6,
   "id": "e0c61273",
   "metadata": {},
   "outputs": [
    {
     "data": {
      "text/html": [
       "<div>\n",
       "<style scoped>\n",
       "    .dataframe tbody tr th:only-of-type {\n",
       "        vertical-align: middle;\n",
       "    }\n",
       "\n",
       "    .dataframe tbody tr th {\n",
       "        vertical-align: top;\n",
       "    }\n",
       "\n",
       "    .dataframe thead th {\n",
       "        text-align: right;\n",
       "    }\n",
       "</style>\n",
       "<table border=\"1\" class=\"dataframe\">\n",
       "  <thead>\n",
       "    <tr style=\"text-align: right;\">\n",
       "      <th></th>\n",
       "      <th>Degree</th>\n",
       "      <th>Mean_square_error</th>\n",
       "    </tr>\n",
       "  </thead>\n",
       "  <tbody>\n",
       "    <tr>\n",
       "      <th>0</th>\n",
       "      <td>1</td>\n",
       "      <td>1442.93</td>\n",
       "    </tr>\n",
       "    <tr>\n",
       "      <th>1</th>\n",
       "      <td>2</td>\n",
       "      <td>1141.84</td>\n",
       "    </tr>\n",
       "    <tr>\n",
       "      <th>2</th>\n",
       "      <td>3</td>\n",
       "      <td>322.31</td>\n",
       "    </tr>\n",
       "    <tr>\n",
       "      <th>3</th>\n",
       "      <td>4</td>\n",
       "      <td>135.36</td>\n",
       "    </tr>\n",
       "    <tr>\n",
       "      <th>4</th>\n",
       "      <td>5</td>\n",
       "      <td>82.63</td>\n",
       "    </tr>\n",
       "    <tr>\n",
       "      <th>5</th>\n",
       "      <td>6</td>\n",
       "      <td>58.61</td>\n",
       "    </tr>\n",
       "    <tr>\n",
       "      <th>6</th>\n",
       "      <td>7</td>\n",
       "      <td>54.69</td>\n",
       "    </tr>\n",
       "    <tr>\n",
       "      <th>7</th>\n",
       "      <td>8</td>\n",
       "      <td>54.07</td>\n",
       "    </tr>\n",
       "    <tr>\n",
       "      <th>8</th>\n",
       "      <td>9</td>\n",
       "      <td>54.06</td>\n",
       "    </tr>\n",
       "    <tr>\n",
       "      <th>9</th>\n",
       "      <td>10</td>\n",
       "      <td>53.83</td>\n",
       "    </tr>\n",
       "  </tbody>\n",
       "</table>\n",
       "</div>"
      ],
      "text/plain": [
       "   Degree  Mean_square_error\n",
       "0       1            1442.93\n",
       "1       2            1141.84\n",
       "2       3             322.31\n",
       "3       4             135.36\n",
       "4       5              82.63\n",
       "5       6              58.61\n",
       "6       7              54.69\n",
       "7       8              54.07\n",
       "8       9              54.06\n",
       "9      10              53.83"
      ]
     },
     "execution_count": 6,
     "metadata": {},
     "output_type": "execute_result"
    }
   ],
   "source": [
    "error = []\n",
    "for i in range(1,11):\n",
    "    W = lasso(x,y,lamda,i)\n",
    "    e = MSE(x,y,W,i)\n",
    "    #print(float(e))\n",
    "    error.append(round(float(e),2))\n",
    "Mean_square_error = list(error)\n",
    "Degree = range(1,11)\n",
    "deg_err = pd.DataFrame(list(zip(Degree, Mean_square_error)), columns=[\"Degree\", \"Mean_square_error\"]); deg_err"
   ]
  },
  {
   "cell_type": "code",
   "execution_count": 7,
   "id": "4917cfe4",
   "metadata": {},
   "outputs": [],
   "source": [
    "K = deg_err.loc[deg_err['Mean_square_error'] ==np.min(deg_err['Mean_square_error']), 'Degree']"
   ]
  },
  {
   "cell_type": "markdown",
   "id": "932cc9bb",
   "metadata": {},
   "source": [
    "### Ploting The Best Fit Line"
   ]
  },
  {
   "cell_type": "code",
   "execution_count": 8,
   "id": "ed73b128",
   "metadata": {},
   "outputs": [
    {
     "data": {
      "text/plain": [
       "[<matplotlib.lines.Line2D at 0x7f4ab3ef6dd8>]"
      ]
     },
     "execution_count": 8,
     "metadata": {},
     "output_type": "execute_result"
    },
    {
     "name": "stderr",
     "output_type": "stream",
     "text": [
      "/usr/lib/python3/dist-packages/matplotlib/figure.py:2366: UserWarning: This figure includes Axes that are not compatible with tight_layout, so results might be incorrect.\n",
      "  warnings.warn(\"This figure includes Axes that are not compatible \"\n"
     ]
    },
    {
     "data": {
      "image/png": "[encoded data removed]",
      "text/plain": [
       "<Figure size 540x252 with 1 Axes>"
      ]
     },
     "metadata": {
      "needs_background": "light"
     },
     "output_type": "display_data"
    }
   ],
   "source": [
    "W = lasso(x,y,lamda, K.values[0])\n",
    "plt.rcParams[\"figure.figsize\"] = [7.50, 3.50]\n",
    "plt.rcParams[\"figure.autolayout\"] = True\n",
    "\n",
    "\n",
    "x = list(data[\"x\"])\n",
    "y = list(data[\"y\"])\n",
    "\n",
    "plt.plot(x, y, 'r*')\n",
    "\n",
    "x1 = np.linspace(2,28,100)\n",
    "y1 = [0]*100\n",
    "for i in range(len(x1)):\n",
    "    a = 0\n",
    "    for j in range(K.values[0]+1):\n",
    "        a = a+ (W[j]*(x1[i]**j))\n",
    "    y1[i] = a\n",
    "plt.plot(x1, y1)"
   ]
  },
  {
   "cell_type": "code",
   "execution_count": null,
   "id": "e8f0f359",
   "metadata": {},
   "outputs": [],
   "source": []
  }
 ],
 "metadata": {
  "kernelspec": {
   "display_name": "Python 3 (ipykernel)",
   "language": "python",
   "name": "python3"
  },
  "language_info": {
   "codemirror_mode": {
    "name": "ipython",
    "version": 3
   },
   "file_extension": ".py",
   "mimetype": "text/x-python",
   "name": "python",
   "nbconvert_exporter": "python",
   "pygments_lexer": "ipython3",
   "version": "3.9.7"
  }
 },
 "nbformat": 4,
 "nbformat_minor": 5
}
