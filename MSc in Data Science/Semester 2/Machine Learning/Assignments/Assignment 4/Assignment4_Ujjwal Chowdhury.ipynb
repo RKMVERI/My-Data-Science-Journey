{
 "cells": [
  {
   "cell_type": "markdown",
   "id": "ec0f3c1d",
   "metadata": {},
   "source": [
    "### Ujjwal Chowdhury\n",
    "\n",
    "\n",
    "#### Assignment-4"
   ]
  },
  {
   "cell_type": "markdown",
   "id": "2b8650f1",
   "metadata": {},
   "source": [
    "## Assignment-4 Problem Statement\n",
    "\n",
    "### Implement decision tree with the follows:\n",
    "\n",
    "#### Create an artificial dataset (using our python tool) with a minimum of four classes and in each class, there will be at least twenty points.\n",
    "\n",
    "#### Randomly divide the dataset into training, validation and test set as 2:1:1 \n",
    "#### Consider three impurity measurements for your decision tree\n",
    "#### 1) Misclassification errors\n",
    "#### 2)Entropy\n",
    "#### 3)Gini entropy\n",
    "##### So, have to build three decision trees, one for each impurity measurement\n",
    "##### Calculate the training, validation and test accuracy for each impurity measurement and plot them\n",
    "##### Finally, draw the decision boundary for each decision tree"
   ]
  },
  {
   "cell_type": "markdown",
   "id": "60e6b6af",
   "metadata": {},
   "source": [
    "## Importing necessary libraries"
   ]
  },
  {
   "cell_type": "code",
   "execution_count": 1,
   "id": "15a1cd79",
   "metadata": {},
   "outputs": [],
   "source": [
    "import numpy as np\n",
    "import pandas as pd\n",
    "import matplotlib.pyplot as plt\n",
    "import seaborn as sns"
   ]
  },
  {
   "cell_type": "markdown",
   "id": "ec784e74",
   "metadata": {},
   "source": [
    "## Setting Working Directory"
   ]
  },
  {
   "cell_type": "code",
   "execution_count": 2,
   "id": "71304824",
   "metadata": {},
   "outputs": [
    {
     "name": "stdout",
     "output_type": "stream",
     "text": [
      "C:\\Users\\Ujjwa\\OneDrive\\Desktop\\BDA\\Semester 2\\Machine Learning\\Class\\Assignments\\Assignment 4\n"
     ]
    }
   ],
   "source": [
    "%cd C:/Users/Ujjwa/OneDrive/Desktop/BDA/Semester 2/Machine Learning/Class/Assignments/Assignment 4"
   ]
  },
  {
   "cell_type": "markdown",
   "id": "e374af4d",
   "metadata": {},
   "source": [
    "## 1. Creating an artificial dataset"
   ]
  },
  {
   "cell_type": "markdown",
   "id": "1eb4141d",
   "metadata": {},
   "source": [
    "  ### 1.1 Running script.py to  open  a GUI for collecting inputes"
   ]
  },
  {
   "cell_type": "code",
   "execution_count": null,
   "id": "a8237a93",
   "metadata": {},
   "outputs": [],
   "source": [
    "# !python script.py"
   ]
  },
  {
   "cell_type": "markdown",
   "id": "6a33906f",
   "metadata": {},
   "source": [
    "### 1.2 Importing the data (.csv file) generated"
   ]
  },
  {
   "cell_type": "code",
   "execution_count": 3,
   "id": "3419ede3",
   "metadata": {},
   "outputs": [
    {
     "data": {
      "text/html": [
       "<div>\n",
       "<style scoped>\n",
       "    .dataframe tbody tr th:only-of-type {\n",
       "        vertical-align: middle;\n",
       "    }\n",
       "\n",
       "    .dataframe tbody tr th {\n",
       "        vertical-align: top;\n",
       "    }\n",
       "\n",
       "    .dataframe thead th {\n",
       "        text-align: right;\n",
       "    }\n",
       "</style>\n",
       "<table border=\"1\" class=\"dataframe\">\n",
       "  <thead>\n",
       "    <tr style=\"text-align: right;\">\n",
       "      <th></th>\n",
       "      <th>x</th>\n",
       "      <th>y</th>\n",
       "      <th>labels</th>\n",
       "    </tr>\n",
       "  </thead>\n",
       "  <tbody>\n",
       "    <tr>\n",
       "      <th>0</th>\n",
       "      <td>1.633065</td>\n",
       "      <td>5.048701</td>\n",
       "      <td>1.0</td>\n",
       "    </tr>\n",
       "    <tr>\n",
       "      <th>1</th>\n",
       "      <td>1.633065</td>\n",
       "      <td>5.048701</td>\n",
       "      <td>1.0</td>\n",
       "    </tr>\n",
       "    <tr>\n",
       "      <th>2</th>\n",
       "      <td>1.633065</td>\n",
       "      <td>5.048701</td>\n",
       "      <td>1.0</td>\n",
       "    </tr>\n",
       "    <tr>\n",
       "      <th>3</th>\n",
       "      <td>1.633065</td>\n",
       "      <td>5.048701</td>\n",
       "      <td>1.0</td>\n",
       "    </tr>\n",
       "    <tr>\n",
       "      <th>4</th>\n",
       "      <td>1.633065</td>\n",
       "      <td>5.048701</td>\n",
       "      <td>1.0</td>\n",
       "    </tr>\n",
       "  </tbody>\n",
       "</table>\n",
       "</div>"
      ],
      "text/plain": [
       "          x         y  labels\n",
       "0  1.633065  5.048701     1.0\n",
       "1  1.633065  5.048701     1.0\n",
       "2  1.633065  5.048701     1.0\n",
       "3  1.633065  5.048701     1.0\n",
       "4  1.633065  5.048701     1.0"
      ]
     },
     "execution_count": 3,
     "metadata": {},
     "output_type": "execute_result"
    }
   ],
   "source": [
    "data = pd.read_csv('annotated_points_np_192.csv')\n",
    "data.head()"
   ]
  },
  {
   "cell_type": "markdown",
   "id": "42fa6023",
   "metadata": {},
   "source": [
    "### 1.3 Dividing the dataframe into two np arrays as data point location and level set"
   ]
  },
  {
   "cell_type": "code",
   "execution_count": 4,
   "id": "3004fbb3",
   "metadata": {},
   "outputs": [],
   "source": [
    "X = data.iloc[:, :-1].values   # for x and y values\n",
    "Y = data.iloc[:, -1].values.reshape(-1,1)   # For labels"
   ]
  },
  {
   "cell_type": "markdown",
   "id": "1528e095",
   "metadata": {},
   "source": [
    "## 2. Randomly divide the dataset into training and test set as 4:1"
   ]
  },
  {
   "cell_type": "code",
   "execution_count": 5,
   "id": "df1e933a",
   "metadata": {
    "scrolled": false
   },
   "outputs": [],
   "source": [
    "# Importing train_test_split funcion from sklearn library\n",
    "from sklearn.model_selection import train_test_split\n",
    "\n",
    "X_train, X_test, Y_train, Y_test = train_test_split(X, Y, test_size=.2, random_state=1234)"
   ]
  },
  {
   "cell_type": "markdown",
   "id": "b14789e7",
   "metadata": {},
   "source": [
    "## Node Class"
   ]
  },
  {
   "cell_type": "code",
   "execution_count": 6,
   "id": "ab10773e",
   "metadata": {},
   "outputs": [],
   "source": [
    "class Node():\n",
    "    def __init__(self, feature_index=None, threshold=None, left=None, right=None, info_gain=None, value=None):\n",
    "        ''' constructor ''' \n",
    "        \n",
    "        # for decision node\n",
    "        self.feature_index = feature_index\n",
    "        self.threshold = threshold\n",
    "        self.left = left\n",
    "        self.right = right\n",
    "        self.info_gain = info_gain\n",
    "        \n",
    "        # for leaf node\n",
    "        self.value = value"
   ]
  },
  {
   "cell_type": "markdown",
   "id": "4d1f6a23",
   "metadata": {},
   "source": [
    "## Tree Class"
   ]
  },
  {
   "cell_type": "code",
   "execution_count": 7,
   "id": "257dbdd0",
   "metadata": {},
   "outputs": [],
   "source": [
    "class DecisionTreeClassifier():\n",
    "    def __init__(self, min_samples_split=2, max_depth=2):\n",
    "        ''' constructor '''\n",
    "        \n",
    "        # initialize the root of the tree \n",
    "        self.root = None\n",
    "        \n",
    "        # stopping conditions\n",
    "        self.min_samples_split = min_samples_split\n",
    "        self.max_depth = max_depth\n",
    "        \n",
    "    def build_tree(self, dataset, curr_depth=0):\n",
    "        ''' recursive function to build the tree ''' \n",
    "        \n",
    "        X, Y = dataset[:,:-1], dataset[:,-1]\n",
    "        num_samples, num_features = np.shape(X)\n",
    "        \n",
    "        # split until stopping conditions are met\n",
    "        if num_samples>=self.min_samples_split and curr_depth<=self.max_depth:\n",
    "            # find the best split\n",
    "            best_split = self.get_best_split(dataset, num_samples, num_features)\n",
    "            # check if information gain is positive\n",
    "            if best_split[\"info_gain\"]>0:\n",
    "                # recur left\n",
    "                left_subtree = self.build_tree(best_split[\"dataset_left\"], curr_depth+1)\n",
    "                # recur right\n",
    "                right_subtree = self.build_tree(best_split[\"dataset_right\"], curr_depth+1)\n",
    "                # return decision node\n",
    "                return Node(best_split[\"feature_index\"], best_split[\"threshold\"], \n",
    "                            left_subtree, right_subtree, best_split[\"info_gain\"])\n",
    "        \n",
    "        # compute leaf node\n",
    "        leaf_value = self.calculate_leaf_value(Y)\n",
    "        # return leaf node\n",
    "        return Node(value=leaf_value)\n",
    "    \n",
    "    def get_best_split(self, dataset, num_samples, num_features):\n",
    "        ''' function to find the best split '''\n",
    "        \n",
    "        # dictionary to store the best split\n",
    "        best_split = {}\n",
    "        max_info_gain = -float(\"inf\")\n",
    "        \n",
    "        # loop over all the features\n",
    "        for feature_index in range(num_features):\n",
    "            feature_values = dataset[:, feature_index]\n",
    "            possible_thresholds = np.unique(feature_values)\n",
    "            # loop over all the feature values present in the data\n",
    "            for threshold in possible_thresholds:\n",
    "                # get current split\n",
    "                dataset_left, dataset_right = self.split(dataset, feature_index, threshold)\n",
    "                # check if childs are not null\n",
    "                if len(dataset_left)>0 and len(dataset_right)>0:\n",
    "                    y, left_y, right_y = dataset[:, -1], dataset_left[:, -1], dataset_right[:, -1]\n",
    "                    # compute information gain\n",
    "                    curr_info_gain = self.information_gain(y, left_y, right_y, \"gini\")\n",
    "                    # update the best split if needed\n",
    "                    if curr_info_gain>max_info_gain:\n",
    "                        best_split[\"feature_index\"] = feature_index\n",
    "                        best_split[\"threshold\"] = threshold\n",
    "                        best_split[\"dataset_left\"] = dataset_left\n",
    "                        best_split[\"dataset_right\"] = dataset_right\n",
    "                        best_split[\"info_gain\"] = curr_info_gain\n",
    "                        max_info_gain = curr_info_gain\n",
    "                        \n",
    "        # return best split\n",
    "        return best_split\n",
    "    \n",
    "    def split(self, dataset, feature_index, threshold):\n",
    "        ''' function to split the data '''\n",
    "        \n",
    "        dataset_left = np.array([row for row in dataset if row[feature_index]<=threshold])\n",
    "        dataset_right = np.array([row for row in dataset if row[feature_index]>threshold])\n",
    "        return dataset_left, dataset_right\n",
    "    \n",
    "    def information_gain(self, parent, l_child, r_child, mode=\"entropy\"):\n",
    "        ''' function to compute information gain '''\n",
    "        \n",
    "        weight_l = len(l_child) / len(parent)\n",
    "        weight_r = len(r_child) / len(parent)\n",
    "        if mode==\"gini\":\n",
    "            gain = self.gini_index(parent) - (weight_l*self.gini_index(l_child) + weight_r*self.gini_index(r_child))\n",
    "        else:\n",
    "            gain = self.entropy(parent) - (weight_l*self.entropy(l_child) + weight_r*self.entropy(r_child))\n",
    "        return gain\n",
    "    \n",
    "    def entropy(self, y):\n",
    "        ''' function to compute entropy '''\n",
    "        \n",
    "        class_labels = np.unique(y)\n",
    "        entropy = 0\n",
    "        for cls in class_labels:\n",
    "            p_cls = len(y[y == cls]) / len(y)\n",
    "            entropy += -p_cls * np.log2(p_cls)\n",
    "        return entropy\n",
    "    \n",
    "    def gini_index(self, y):\n",
    "        ''' function to compute gini index '''\n",
    "        \n",
    "        class_labels = np.unique(y)\n",
    "        gini = 0\n",
    "        for cls in class_labels:\n",
    "            p_cls = len(y[y == cls]) / len(y)\n",
    "            gini += p_cls**2\n",
    "        return 1 - gini\n",
    "        \n",
    "    def calculate_leaf_value(self, Y):\n",
    "        ''' function to compute leaf node '''\n",
    "        \n",
    "        Y = list(Y)\n",
    "        return max(Y, key=Y.count)\n",
    "    \n",
    "    def print_tree(self, tree=None, indent=\" \"):\n",
    "        ''' function to print the tree '''\n",
    "        \n",
    "        if not tree:\n",
    "            tree = self.root\n",
    "\n",
    "        if tree.value is not None:\n",
    "            print(tree.value)\n",
    "\n",
    "        else:\n",
    "            print(\"X_\"+str(tree.feature_index), \"<=\", tree.threshold, \"?\", tree.info_gain)\n",
    "            print(\"%sleft:\" % (indent), end=\"\")\n",
    "            self.print_tree(tree.left, indent + indent)\n",
    "            print(\"%sright:\" % (indent), end=\"\")\n",
    "            self.print_tree(tree.right, indent + indent)\n",
    "    \n",
    "    def fit(self, X, Y):\n",
    "        ''' function to train the tree '''\n",
    "        \n",
    "        dataset = np.concatenate((X, Y), axis=1)\n",
    "        self.root = self.build_tree(dataset)\n",
    "    \n",
    "    def predict(self, X):\n",
    "        ''' function to predict new dataset '''\n",
    "        \n",
    "        preditions = [self.make_prediction(x, self.root) for x in X]\n",
    "        return preditions\n",
    "    \n",
    "    def make_prediction(self, x, tree):\n",
    "        ''' function to predict a single data point '''\n",
    "        \n",
    "        if tree.value!=None: return tree.value\n",
    "        feature_val = x[tree.feature_index]\n",
    "        if feature_val<=tree.threshold:\n",
    "            return self.make_prediction(x, tree.left)\n",
    "        else:\n",
    "            return self.make_prediction(x, tree.right)"
   ]
  },
  {
   "cell_type": "markdown",
   "id": "e817b5ea",
   "metadata": {},
   "source": [
    "## Training the model"
   ]
  },
  {
   "cell_type": "code",
   "execution_count": 11,
   "id": "ff840c38",
   "metadata": {},
   "outputs": [],
   "source": [
    "classifier = DecisionTreeClassifier(min_samples_split=3, max_depth=3)\n",
    "classifier.fit(X_train,Y_train)"
   ]
  },
  {
   "cell_type": "markdown",
   "id": "a3fc5530",
   "metadata": {},
   "source": [
    "## Prining the tree"
   ]
  },
  {
   "cell_type": "code",
   "execution_count": 12,
   "id": "0e3a010c",
   "metadata": {},
   "outputs": [
    {
     "name": "stdout",
     "output_type": "stream",
     "text": [
      "X_1 <= 16.899350649350648 ? 0.23271971410618353\n",
      " left:X_0 <= 9.375 ? 0.26646218426836743\n",
      "  left:X_1 <= 10.081168831168831 ? 0.30110349807319503\n",
      "    left:X_0 <= 8.10483870967742 ? 0.04996712689020377\n",
      "        left:1.0\n",
      "        right:2.0\n",
      "    right:X_0 <= 3.629032258064515 ? 0.30178326474622774\n",
      "        left:1.0\n",
      "        right:2.0\n",
      "  right:X_1 <= 12.516233766233764 ? 0.14059800664451805\n",
      "    left:X_0 <= 12.701612903225804 ? 0.03993842825643806\n",
      "        left:3.0\n",
      "        right:3.0\n",
      "    right:X_0 <= 12.58064516129032 ? 0.24489795918367352\n",
      "        left:2.0\n",
      "        right:3.0\n",
      " right:X_1 <= 18.27922077922078 ? 0.02556610664718767\n",
      "  left:4.0\n",
      "  right:4.0\n"
     ]
    }
   ],
   "source": [
    "classifier.print_tree()"
   ]
  },
  {
   "cell_type": "markdown",
   "id": "8c1d465d",
   "metadata": {},
   "source": [
    "## Testing"
   ]
  },
  {
   "cell_type": "code",
   "execution_count": 10,
   "id": "7c7f22e9",
   "metadata": {},
   "outputs": [
    {
     "name": "stdout",
     "output_type": "stream",
     "text": [
      "accuracy =  94.87179487179486 %\n"
     ]
    }
   ],
   "source": [
    "Y_pred = classifier.predict(X_test) \n",
    "from sklearn.metrics import accuracy_score\n",
    "acc= accuracy_score(Y_test, Y_pred)*100\n",
    "print('accuracy = ',acc,'%')"
   ]
  }
 ],
 "metadata": {
  "kernelspec": {
   "display_name": "Python 3 (ipykernel)",
   "language": "python",
   "name": "python3"
  },
  "language_info": {
   "codemirror_mode": {
    "name": "ipython",
    "version": 3
   },
   "file_extension": ".py",
   "mimetype": "text/x-python",
   "name": "python",
   "nbconvert_exporter": "python",
   "pygments_lexer": "ipython3",
   "version": "3.9.7"
  }
 },
 "nbformat": 4,
 "nbformat_minor": 5
}
